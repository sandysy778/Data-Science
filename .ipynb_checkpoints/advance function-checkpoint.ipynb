{
 "cells": [
  {
   "cell_type": "code",
   "execution_count": 1,
   "id": "36efd1ba",
   "metadata": {},
   "outputs": [],
   "source": [
    "def f1():\n",
    "    print(\"I am infunction f1\")\n",
    "    print(\"I am in function f1 2nd time\")"
   ]
  },
  {
   "cell_type": "code",
   "execution_count": 2,
   "id": "8b3b942a",
   "metadata": {},
   "outputs": [
    {
     "name": "stdout",
     "output_type": "stream",
     "text": [
      "I am infunction f1\n",
      "I am in function f1 2nd time\n"
     ]
    }
   ],
   "source": [
    "f1()"
   ]
  },
  {
   "cell_type": "code",
   "execution_count": 3,
   "id": "036db38b",
   "metadata": {},
   "outputs": [
    {
     "name": "stdout",
     "output_type": "stream",
     "text": [
      "start\n",
      "I am infunction f1\n",
      "I am in function f1 2nd time\n",
      "End\n"
     ]
    }
   ],
   "source": [
    "print('start')\n",
    "\n",
    "f1()\n",
    "\n",
    "print('End')"
   ]
  },
  {
   "cell_type": "code",
   "execution_count": 4,
   "id": "127a006f",
   "metadata": {},
   "outputs": [],
   "source": [
    "def f2():\n",
    "    \n",
    "    print('I am in function f2')\n",
    "    f1()"
   ]
  },
  {
   "cell_type": "code",
   "execution_count": 5,
   "id": "9ec96d6c",
   "metadata": {},
   "outputs": [
    {
     "name": "stdout",
     "output_type": "stream",
     "text": [
      "I am infunction f1\n",
      "I am in function f1 2nd time\n"
     ]
    }
   ],
   "source": [
    "f1()"
   ]
  },
  {
   "cell_type": "code",
   "execution_count": null,
   "id": "6036b295",
   "metadata": {},
   "outputs": [],
   "source": []
  },
  {
   "cell_type": "code",
   "execution_count": 16,
   "id": "f8e5afaf",
   "metadata": {},
   "outputs": [],
   "source": [
    "# getting sum of fir n numbers\n",
    "n= 10\n",
    "sum = 0\n",
    "#list(range(1, n+1))"
   ]
  },
  {
   "cell_type": "code",
   "execution_count": 17,
   "id": "8460e6ac",
   "metadata": {},
   "outputs": [
    {
     "name": "stdout",
     "output_type": "stream",
     "text": [
      "5050\n"
     ]
    }
   ],
   "source": [
    "n = 100\n",
    "\n",
    "sum = 0\n",
    "\n",
    "for i in range (1, n+1):\n",
    "    \n",
    "    sum = sum+i\n",
    "    \n",
    "print(sum)    "
   ]
  },
  {
   "cell_type": "code",
   "execution_count": 18,
   "id": "35e283d1",
   "metadata": {},
   "outputs": [
    {
     "data": {
      "text/plain": [
       "4950"
      ]
     },
     "execution_count": 18,
     "metadata": {},
     "output_type": "execute_result"
    }
   ],
   "source": [
    "5050-100"
   ]
  },
  {
   "cell_type": "code",
   "execution_count": 21,
   "id": "d1bcbfb4",
   "metadata": {},
   "outputs": [
    {
     "ename": "SyntaxError",
     "evalue": "invalid syntax (384875457.py, line 1)",
     "output_type": "error",
     "traceback": [
      "\u001b[1;36m  File \u001b[1;32m\"C:\\Users\\Yuvaraj\\AppData\\Local\\Temp\\ipykernel_9720\\384875457.py\"\u001b[1;36m, line \u001b[1;32m1\u001b[0m\n\u001b[1;33m    1st iteration:\u001b[0m\n\u001b[1;37m     ^\u001b[0m\n\u001b[1;31mSyntaxError\u001b[0m\u001b[1;31m:\u001b[0m invalid syntax\n"
     ]
    }
   ],
   "source": [
    "1st iteration:\n",
    "    sum = sum + i = 0 + 1 = 1\n",
    "    sum = 1\n",
    "    \n",
    "2nd iteration:\n",
    "    sum = sum + i = 1 + 2 = 3\n",
    "    \n",
    "3rd iteration:\n",
    "    sum = sum + i = 3 + 3 = 6\n",
    "    \n",
    "100th iteration:\n",
    "    sum = sum + i = 4950+100 \n",
    "    sum =5050"
   ]
  },
  {
   "cell_type": "code",
   "execution_count": null,
   "id": "8e6a3aa6",
   "metadata": {},
   "outputs": [],
   "source": [
    "1st iteration:\n",
    "    sum = sum + i = 0 + 1 = 1\n",
    "    sum = 1\n",
    "    \n",
    "2nd iteration:\n",
    "    sum = sum + i = 1 + 2 = 3\n",
    "    \n",
    "3rd iteration:\n",
    "    sum = sum + i = 3 + 3 = 6\n",
    "    \n",
    "100th iteration:\n",
    "    sum = sum + i = 4950+100 \n",
    "    sum =5050"
   ]
  },
  {
   "cell_type": "code",
   "execution_count": 22,
   "id": "04b3eb26",
   "metadata": {},
   "outputs": [],
   "source": [
    "n = 100"
   ]
  },
  {
   "cell_type": "code",
   "execution_count": 23,
   "id": "57271e0a",
   "metadata": {},
   "outputs": [],
   "source": [
    "def sum(n):\n",
    "    \n",
    "    if(n==1):\n",
    "        return 1\n",
    "    else:\n",
    "        return n + sum(n-1)"
   ]
  },
  {
   "cell_type": "markdown",
   "id": "81b09c6d",
   "metadata": {},
   "source": [
    "zip function "
   ]
  },
  {
   "cell_type": "code",
   "execution_count": 24,
   "id": "3b0f9787",
   "metadata": {},
   "outputs": [],
   "source": [
    "l1 = [1,2,3]\n",
    "l2 = ['a', 'b','c']\n",
    "l3 = [4,5,6,]"
   ]
  },
  {
   "cell_type": "code",
   "execution_count": 25,
   "id": "b6342755",
   "metadata": {},
   "outputs": [
    {
     "data": {
      "text/plain": [
       "[(1, 'a', 4), (2, 'b', 5), (3, 'c', 6)]"
      ]
     },
     "execution_count": 25,
     "metadata": {},
     "output_type": "execute_result"
    }
   ],
   "source": [
    "list(zip(l1,l2,l3))"
   ]
  },
  {
   "cell_type": "code",
   "execution_count": 26,
   "id": "b9a58037",
   "metadata": {},
   "outputs": [],
   "source": [
    "l1 = [1,2,3]\n",
    "l2 = ['a','b','c']"
   ]
  },
  {
   "cell_type": "code",
   "execution_count": 29,
   "id": "0425cefd",
   "metadata": {},
   "outputs": [
    {
     "data": {
      "text/plain": [
       "<zip at 0x25f29297800>"
      ]
     },
     "execution_count": 29,
     "metadata": {},
     "output_type": "execute_result"
    }
   ],
   "source": [
    "zip(l1, l2)"
   ]
  },
  {
   "cell_type": "code",
   "execution_count": 30,
   "id": "0cfb32f8",
   "metadata": {},
   "outputs": [
    {
     "data": {
      "text/plain": [
       "range(0, 5)"
      ]
     },
     "execution_count": 30,
     "metadata": {},
     "output_type": "execute_result"
    }
   ],
   "source": [
    "range(5)"
   ]
  },
  {
   "cell_type": "code",
   "execution_count": 31,
   "id": "7563f0f6",
   "metadata": {},
   "outputs": [
    {
     "data": {
      "text/plain": [
       "[0, 1, 2, 3, 4]"
      ]
     },
     "execution_count": 31,
     "metadata": {},
     "output_type": "execute_result"
    }
   ],
   "source": [
    "list(range(5))"
   ]
  },
  {
   "cell_type": "code",
   "execution_count": 32,
   "id": "638e9b2c",
   "metadata": {},
   "outputs": [
    {
     "name": "stdout",
     "output_type": "stream",
     "text": [
      "(1, 'a')\n",
      "(2, 'b')\n",
      "(3, 'c')\n"
     ]
    }
   ],
   "source": [
    "for i in zip(l1, l2):\n",
    "    print(i)"
   ]
  },
  {
   "cell_type": "markdown",
   "id": "d2b1ffe8",
   "metadata": {},
   "source": [
    "#Lmabda Function"
   ]
  },
  {
   "cell_type": "code",
   "execution_count": 33,
   "id": "7ff70cf3",
   "metadata": {},
   "outputs": [],
   "source": [
    "def square(n):\n",
    "    return n**2"
   ]
  },
  {
   "cell_type": "code",
   "execution_count": 34,
   "id": "b940a462",
   "metadata": {},
   "outputs": [
    {
     "data": {
      "text/plain": [
       "25"
      ]
     },
     "execution_count": 34,
     "metadata": {},
     "output_type": "execute_result"
    }
   ],
   "source": [
    "square(5)"
   ]
  },
  {
   "cell_type": "code",
   "execution_count": 36,
   "id": "99d8050b",
   "metadata": {},
   "outputs": [],
   "source": [
    "#syntax:\n",
    "#lambda parameter: expression\n",
    "\n",
    "square_l = lambda n:n**2"
   ]
  },
  {
   "cell_type": "code",
   "execution_count": 38,
   "id": "d0019b03",
   "metadata": {},
   "outputs": [
    {
     "data": {
      "text/plain": [
       "36"
      ]
     },
     "execution_count": 38,
     "metadata": {},
     "output_type": "execute_result"
    }
   ],
   "source": [
    "square_l(6)"
   ]
  },
  {
   "cell_type": "code",
   "execution_count": 39,
   "id": "1eded046",
   "metadata": {},
   "outputs": [],
   "source": [
    "sum_1 = lambda a,b : a+b"
   ]
  },
  {
   "cell_type": "code",
   "execution_count": 41,
   "id": "b583fa74",
   "metadata": {},
   "outputs": [
    {
     "ename": "TypeError",
     "evalue": "<lambda>() takes 1 positional argument but 2 were given",
     "output_type": "error",
     "traceback": [
      "\u001b[1;31m---------------------------------------------------------------------------\u001b[0m",
      "\u001b[1;31mTypeError\u001b[0m                                 Traceback (most recent call last)",
      "\u001b[1;32m~\\AppData\\Local\\Temp\\ipykernel_9720\\4007124480.py\u001b[0m in \u001b[0;36m<module>\u001b[1;34m\u001b[0m\n\u001b[1;32m----> 1\u001b[1;33m \u001b[0msquare_l\u001b[0m\u001b[1;33m(\u001b[0m\u001b[1;36m4\u001b[0m\u001b[1;33m,\u001b[0m\u001b[1;36m5\u001b[0m\u001b[1;33m)\u001b[0m\u001b[1;33m\u001b[0m\u001b[1;33m\u001b[0m\u001b[0m\n\u001b[0m",
      "\u001b[1;31mTypeError\u001b[0m: <lambda>() takes 1 positional argument but 2 were given"
     ]
    }
   ],
   "source": [
    "square_l(4,5)"
   ]
  },
  {
   "cell_type": "markdown",
   "id": "dcd945e0",
   "metadata": {},
   "source": [
    "Map function"
   ]
  },
  {
   "cell_type": "code",
   "execution_count": null,
   "id": "502c01c0",
   "metadata": {},
   "outputs": [],
   "source": [
    "#map(function, seqence)"
   ]
  },
  {
   "cell_type": "code",
   "execution_count": 43,
   "id": "f131f6f5",
   "metadata": {},
   "outputs": [],
   "source": [
    "def square(n):\n",
    "    return n**2"
   ]
  },
  {
   "cell_type": "code",
   "execution_count": 44,
   "id": "41138ddf",
   "metadata": {},
   "outputs": [],
   "source": [
    "l = [1,2,3,4,5]"
   ]
  },
  {
   "cell_type": "code",
   "execution_count": 47,
   "id": "49a36d9d",
   "metadata": {},
   "outputs": [
    {
     "data": {
      "text/plain": [
       "<map at 0x25f293a4430>"
      ]
     },
     "execution_count": 47,
     "metadata": {},
     "output_type": "execute_result"
    }
   ],
   "source": [
    "map(square,l)"
   ]
  },
  {
   "cell_type": "code",
   "execution_count": 48,
   "id": "67ecc7bd",
   "metadata": {},
   "outputs": [
    {
     "data": {
      "text/plain": [
       "[1, 4, 9, 16, 25]"
      ]
     },
     "execution_count": 48,
     "metadata": {},
     "output_type": "execute_result"
    }
   ],
   "source": [
    "list(map(square, l))"
   ]
  },
  {
   "cell_type": "code",
   "execution_count": 50,
   "id": "2476bc48",
   "metadata": {},
   "outputs": [
    {
     "data": {
      "text/plain": [
       "[1, 4, 9, 16, 25]"
      ]
     },
     "execution_count": 50,
     "metadata": {},
     "output_type": "execute_result"
    }
   ],
   "source": [
    "k = lambda n: n**2\n",
    "list(map(k, l))"
   ]
  },
  {
   "cell_type": "code",
   "execution_count": 53,
   "id": "cfc78580",
   "metadata": {},
   "outputs": [
    {
     "data": {
      "text/plain": [
       "[1, 8, 27, 64, 125]"
      ]
     },
     "execution_count": 53,
     "metadata": {},
     "output_type": "execute_result"
    }
   ],
   "source": [
    "list(map(lambda n: n**3, l))"
   ]
  },
  {
   "cell_type": "code",
   "execution_count": 54,
   "id": "c104d2a2",
   "metadata": {},
   "outputs": [
    {
     "data": {
      "text/plain": [
       "[1, 8, 27, 64, 125]"
      ]
     },
     "execution_count": 54,
     "metadata": {},
     "output_type": "execute_result"
    }
   ],
   "source": [
    "list(map(lambda n: n**3, l))"
   ]
  },
  {
   "cell_type": "markdown",
   "id": "ec38fac1",
   "metadata": {},
   "source": [
    "Filter Function"
   ]
  },
  {
   "cell_type": "code",
   "execution_count": 55,
   "id": "4081d9cf",
   "metadata": {},
   "outputs": [],
   "source": [
    "#filter(function, sequence)"
   ]
  },
  {
   "cell_type": "code",
   "execution_count": 56,
   "id": "68d1972c",
   "metadata": {},
   "outputs": [
    {
     "data": {
      "text/plain": [
       "[1, 2, 3, 4, 5, 6]"
      ]
     },
     "execution_count": 56,
     "metadata": {},
     "output_type": "execute_result"
    }
   ],
   "source": [
    "l = [1,2,3,4,5,6]\n",
    "l"
   ]
  },
  {
   "cell_type": "code",
   "execution_count": 62,
   "id": "2441dfa1",
   "metadata": {},
   "outputs": [],
   "source": [
    "def isEven(n):\n",
    "    if(n%2==0):\n",
    "        return True\n",
    "    else:\n",
    "        return false"
   ]
  },
  {
   "cell_type": "code",
   "execution_count": 63,
   "id": "c0a8c2ca",
   "metadata": {},
   "outputs": [
    {
     "data": {
      "text/plain": [
       "<filter at 0x25f2929b700>"
      ]
     },
     "execution_count": 63,
     "metadata": {},
     "output_type": "execute_result"
    }
   ],
   "source": [
    "filter(isEven, l)"
   ]
  },
  {
   "cell_type": "code",
   "execution_count": 64,
   "id": "1fcdb1a4",
   "metadata": {},
   "outputs": [
    {
     "ename": "NameError",
     "evalue": "name 'false' is not defined",
     "output_type": "error",
     "traceback": [
      "\u001b[1;31m---------------------------------------------------------------------------\u001b[0m",
      "\u001b[1;31mNameError\u001b[0m                                 Traceback (most recent call last)",
      "\u001b[1;32m~\\AppData\\Local\\Temp\\ipykernel_9720\\2695743020.py\u001b[0m in \u001b[0;36m<module>\u001b[1;34m\u001b[0m\n\u001b[1;32m----> 1\u001b[1;33m \u001b[0mlist\u001b[0m\u001b[1;33m(\u001b[0m\u001b[0mfilter\u001b[0m\u001b[1;33m(\u001b[0m\u001b[0misEven\u001b[0m\u001b[1;33m,\u001b[0m \u001b[0ml\u001b[0m\u001b[1;33m)\u001b[0m\u001b[1;33m)\u001b[0m\u001b[1;33m\u001b[0m\u001b[1;33m\u001b[0m\u001b[0m\n\u001b[0m",
      "\u001b[1;32m~\\AppData\\Local\\Temp\\ipykernel_9720\\201749630.py\u001b[0m in \u001b[0;36misEven\u001b[1;34m(n)\u001b[0m\n\u001b[0;32m      3\u001b[0m         \u001b[1;32mreturn\u001b[0m \u001b[1;32mTrue\u001b[0m\u001b[1;33m\u001b[0m\u001b[1;33m\u001b[0m\u001b[0m\n\u001b[0;32m      4\u001b[0m     \u001b[1;32melse\u001b[0m\u001b[1;33m:\u001b[0m\u001b[1;33m\u001b[0m\u001b[1;33m\u001b[0m\u001b[0m\n\u001b[1;32m----> 5\u001b[1;33m         \u001b[1;32mreturn\u001b[0m \u001b[0mfalse\u001b[0m\u001b[1;33m\u001b[0m\u001b[1;33m\u001b[0m\u001b[0m\n\u001b[0m",
      "\u001b[1;31mNameError\u001b[0m: name 'false' is not defined"
     ]
    }
   ],
   "source": [
    "list(filter(isEven, l))"
   ]
  },
  {
   "cell_type": "code",
   "execution_count": null,
   "id": "0d41e15d",
   "metadata": {},
   "outputs": [],
   "source": []
  },
  {
   "cell_type": "code",
   "execution_count": null,
   "id": "869a8c8d",
   "metadata": {},
   "outputs": [],
   "source": []
  },
  {
   "cell_type": "code",
   "execution_count": null,
   "id": "519acbe2",
   "metadata": {},
   "outputs": [],
   "source": []
  }
 ],
 "metadata": {
  "kernelspec": {
   "display_name": "Python 3 (ipykernel)",
   "language": "python",
   "name": "python3"
  },
  "language_info": {
   "codemirror_mode": {
    "name": "ipython",
    "version": 3
   },
   "file_extension": ".py",
   "mimetype": "text/x-python",
   "name": "python",
   "nbconvert_exporter": "python",
   "pygments_lexer": "ipython3",
   "version": "3.9.13"
  }
 },
 "nbformat": 4,
 "nbformat_minor": 5
}
