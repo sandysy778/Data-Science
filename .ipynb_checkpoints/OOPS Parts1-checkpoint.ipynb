{
 "cells": [
  {
   "cell_type": "code",
   "execution_count": 1,
   "id": "4e40c375",
   "metadata": {},
   "outputs": [
    {
     "data": {
      "text/plain": [
       "'hello'"
      ]
     },
     "execution_count": 1,
     "metadata": {},
     "output_type": "execute_result"
    }
   ],
   "source": [
    "s = 'hello'\n",
    "s"
   ]
  },
  {
   "cell_type": "code",
   "execution_count": 2,
   "id": "10526cc6",
   "metadata": {},
   "outputs": [
    {
     "data": {
      "text/plain": [
       "str"
      ]
     },
     "execution_count": 2,
     "metadata": {},
     "output_type": "execute_result"
    }
   ],
   "source": [
    "type(s)"
   ]
  },
  {
   "cell_type": "code",
   "execution_count": 5,
   "id": "ab621223",
   "metadata": {},
   "outputs": [
    {
     "data": {
      "text/plain": [
       "5"
      ]
     },
     "execution_count": 5,
     "metadata": {},
     "output_type": "execute_result"
    }
   ],
   "source": [
    "s = 5\n",
    "s"
   ]
  },
  {
   "cell_type": "code",
   "execution_count": 6,
   "id": "cf4f8a96",
   "metadata": {},
   "outputs": [
    {
     "data": {
      "text/plain": [
       "int"
      ]
     },
     "execution_count": 6,
     "metadata": {},
     "output_type": "execute_result"
    }
   ],
   "source": [
    "type(s)"
   ]
  },
  {
   "cell_type": "markdown",
   "id": "c8739bbf",
   "metadata": {},
   "source": [
    "CLASS AND OBJECT"
   ]
  },
  {
   "cell_type": "code",
   "execution_count": 8,
   "id": "8ac76ba3",
   "metadata": {},
   "outputs": [],
   "source": [
    "class myclass:\n",
    "    pass"
   ]
  },
  {
   "cell_type": "code",
   "execution_count": 9,
   "id": "fe3d7d85",
   "metadata": {},
   "outputs": [],
   "source": [
    "obj1 = myclass()"
   ]
  },
  {
   "cell_type": "code",
   "execution_count": 10,
   "id": "5d2c3a74",
   "metadata": {},
   "outputs": [],
   "source": [
    "obj2 = myclass()\n"
   ]
  },
  {
   "cell_type": "code",
   "execution_count": 11,
   "id": "2489915b",
   "metadata": {},
   "outputs": [
    {
     "data": {
      "text/plain": [
       "__main__.myclass"
      ]
     },
     "execution_count": 11,
     "metadata": {},
     "output_type": "execute_result"
    }
   ],
   "source": [
    "type(obj1)"
   ]
  },
  {
   "cell_type": "code",
   "execution_count": 12,
   "id": "0d82edbb",
   "metadata": {},
   "outputs": [
    {
     "data": {
      "text/plain": [
       "__main__.myclass"
      ]
     },
     "execution_count": 12,
     "metadata": {},
     "output_type": "execute_result"
    }
   ],
   "source": [
    "type(obj2)"
   ]
  },
  {
   "cell_type": "code",
   "execution_count": 13,
   "id": "23171b58",
   "metadata": {},
   "outputs": [],
   "source": [
    "class myclass:\n",
    "    x = 5"
   ]
  },
  {
   "cell_type": "code",
   "execution_count": 14,
   "id": "66725073",
   "metadata": {},
   "outputs": [],
   "source": [
    "obj1 = myclass()"
   ]
  },
  {
   "cell_type": "code",
   "execution_count": 15,
   "id": "63e175d6",
   "metadata": {},
   "outputs": [
    {
     "data": {
      "text/plain": [
       "5"
      ]
     },
     "execution_count": 15,
     "metadata": {},
     "output_type": "execute_result"
    }
   ],
   "source": [
    "obj1.x"
   ]
  },
  {
   "cell_type": "markdown",
   "id": "9f0af6a0",
   "metadata": {},
   "source": [
    "class and object\n"
   ]
  },
  {
   "cell_type": "code",
   "execution_count": 1,
   "id": "f11a7e65",
   "metadata": {},
   "outputs": [],
   "source": [
    "class myclass:\n",
    "    pass"
   ]
  },
  {
   "cell_type": "code",
   "execution_count": 2,
   "id": "78953b88",
   "metadata": {},
   "outputs": [],
   "source": [
    "obj1 = myclass()"
   ]
  },
  {
   "cell_type": "code",
   "execution_count": 3,
   "id": "c8c4896c",
   "metadata": {},
   "outputs": [],
   "source": [
    "obj2 = myclass()"
   ]
  },
  {
   "cell_type": "code",
   "execution_count": 4,
   "id": "b588bcb5",
   "metadata": {},
   "outputs": [
    {
     "data": {
      "text/plain": [
       "__main__.myclass"
      ]
     },
     "execution_count": 4,
     "metadata": {},
     "output_type": "execute_result"
    }
   ],
   "source": [
    "type(obj1)"
   ]
  },
  {
   "cell_type": "code",
   "execution_count": 5,
   "id": "f5e3cba1",
   "metadata": {},
   "outputs": [
    {
     "data": {
      "text/plain": [
       "__main__.myclass"
      ]
     },
     "execution_count": 5,
     "metadata": {},
     "output_type": "execute_result"
    }
   ],
   "source": [
    "type(obj2)"
   ]
  },
  {
   "cell_type": "code",
   "execution_count": null,
   "id": "ac644800",
   "metadata": {},
   "outputs": [],
   "source": []
  },
  {
   "cell_type": "markdown",
   "id": "900b2f54",
   "metadata": {},
   "source": [
    "How to define a class"
   ]
  },
  {
   "cell_type": "code",
   "execution_count": 23,
   "id": "4d59d64f",
   "metadata": {},
   "outputs": [],
   "source": [
    "class student:\n",
    "    \n",
    "    def __init__(self, test_name, test_rolno, test_age):\n",
    "        self.name = test_name\n",
    "        self_rollno = test_rolno\n",
    "        self.age = test_age\n",
    "        \n"
   ]
  },
  {
   "cell_type": "code",
   "execution_count": 14,
   "id": "091fe572",
   "metadata": {},
   "outputs": [],
   "source": [
    "s1=student('jay', 121, 25)"
   ]
  },
  {
   "cell_type": "code",
   "execution_count": 10,
   "id": "bd85a7a2",
   "metadata": {},
   "outputs": [
    {
     "data": {
      "text/plain": [
       "<__main__.Student at 0x25cf0f73f70>"
      ]
     },
     "execution_count": 10,
     "metadata": {},
     "output_type": "execute_result"
    }
   ],
   "source": [
    "s1"
   ]
  },
  {
   "cell_type": "code",
   "execution_count": 20,
   "id": "8f481329",
   "metadata": {},
   "outputs": [
    {
     "data": {
      "text/plain": [
       "'jay'"
      ]
     },
     "execution_count": 20,
     "metadata": {},
     "output_type": "execute_result"
    }
   ],
   "source": [
    "s1.name"
   ]
  },
  {
   "cell_type": "code",
   "execution_count": 21,
   "id": "487c2f29",
   "metadata": {},
   "outputs": [
    {
     "data": {
      "text/plain": [
       "25"
      ]
     },
     "execution_count": 21,
     "metadata": {},
     "output_type": "execute_result"
    }
   ],
   "source": [
    "s1.age"
   ]
  },
  {
   "cell_type": "code",
   "execution_count": 26,
   "id": "f2145ea3",
   "metadata": {},
   "outputs": [
    {
     "data": {
      "text/plain": [
       "'jay'"
      ]
     },
     "execution_count": 26,
     "metadata": {},
     "output_type": "execute_result"
    }
   ],
   "source": [
    "s1.name"
   ]
  },
  {
   "cell_type": "code",
   "execution_count": null,
   "id": "91f71021",
   "metadata": {},
   "outputs": [],
   "source": []
  },
  {
   "cell_type": "code",
   "execution_count": 15,
   "id": "01afbee0",
   "metadata": {},
   "outputs": [],
   "source": [
    "s2 =student('harsh', 122, 26)"
   ]
  },
  {
   "cell_type": "code",
   "execution_count": 16,
   "id": "69411b0b",
   "metadata": {},
   "outputs": [
    {
     "data": {
      "text/plain": [
       "'harsh'"
      ]
     },
     "execution_count": 16,
     "metadata": {},
     "output_type": "execute_result"
    }
   ],
   "source": [
    "s2.name"
   ]
  },
  {
   "cell_type": "code",
   "execution_count": 18,
   "id": "e6f463cb",
   "metadata": {},
   "outputs": [
    {
     "data": {
      "text/plain": [
       "26"
      ]
     },
     "execution_count": 18,
     "metadata": {},
     "output_type": "execute_result"
    }
   ],
   "source": [
    "s2.age"
   ]
  },
  {
   "cell_type": "code",
   "execution_count": 19,
   "id": "a5f14718",
   "metadata": {},
   "outputs": [
    {
     "ename": "AttributeError",
     "evalue": "'student' object has no attribute 'rollno'",
     "output_type": "error",
     "traceback": [
      "\u001b[1;31m---------------------------------------------------------------------------\u001b[0m",
      "\u001b[1;31mAttributeError\u001b[0m                            Traceback (most recent call last)",
      "\u001b[1;32m~\\AppData\\Local\\Temp\\ipykernel_11408\\3060142312.py\u001b[0m in \u001b[0;36m<module>\u001b[1;34m\u001b[0m\n\u001b[1;32m----> 1\u001b[1;33m \u001b[0ms2\u001b[0m\u001b[1;33m.\u001b[0m\u001b[0mrollno\u001b[0m\u001b[1;33m\u001b[0m\u001b[1;33m\u001b[0m\u001b[0m\n\u001b[0m",
      "\u001b[1;31mAttributeError\u001b[0m: 'student' object has no attribute 'rollno'"
     ]
    }
   ],
   "source": [
    "s2.rollno"
   ]
  },
  {
   "cell_type": "code",
   "execution_count": null,
   "id": "f2f8d01b",
   "metadata": {},
   "outputs": [],
   "source": []
  },
  {
   "cell_type": "code",
   "execution_count": null,
   "id": "a0f80d54",
   "metadata": {},
   "outputs": [],
   "source": []
  },
  {
   "cell_type": "code",
   "execution_count": 33,
   "id": "3ebd8bd4",
   "metadata": {},
   "outputs": [],
   "source": [
    "class student:\n",
    "    \n",
    "    def __init__(self, test_name, test_age):\n",
    "        self.name = test_name\n",
    "        self.age = test_age\n",
    "        \n",
    "    def get_detials(self):\n",
    "        \n",
    "        print('i am inside the get_detials method')\n",
    "        print(f'Detials of student are{self.name}, {self.age}')"
   ]
  },
  {
   "cell_type": "code",
   "execution_count": 29,
   "id": "11b4d549",
   "metadata": {},
   "outputs": [],
   "source": [
    "s1=student('manohar', 25)"
   ]
  },
  {
   "cell_type": "code",
   "execution_count": 31,
   "id": "0cc6af2e",
   "metadata": {},
   "outputs": [],
   "source": [
    "s2 = student('harsh', 26)"
   ]
  },
  {
   "cell_type": "code",
   "execution_count": 36,
   "id": "ce06e45c",
   "metadata": {},
   "outputs": [
    {
     "ename": "AttributeError",
     "evalue": "'student' object has no attribute 'get_details'",
     "output_type": "error",
     "traceback": [
      "\u001b[1;31m---------------------------------------------------------------------------\u001b[0m",
      "\u001b[1;31mAttributeError\u001b[0m                            Traceback (most recent call last)",
      "\u001b[1;32m~\\AppData\\Local\\Temp\\ipykernel_11408\\501583759.py\u001b[0m in \u001b[0;36m<module>\u001b[1;34m\u001b[0m\n\u001b[1;32m----> 1\u001b[1;33m \u001b[0ms1\u001b[0m\u001b[1;33m.\u001b[0m\u001b[0mget_details\u001b[0m\u001b[1;33m(\u001b[0m\u001b[1;33m)\u001b[0m\u001b[1;33m\u001b[0m\u001b[1;33m\u001b[0m\u001b[0m\n\u001b[0m",
      "\u001b[1;31mAttributeError\u001b[0m: 'student' object has no attribute 'get_details'"
     ]
    }
   ],
   "source": [
    "s1.get_details()"
   ]
  },
  {
   "cell_type": "code",
   "execution_count": 37,
   "id": "ab458e87",
   "metadata": {},
   "outputs": [],
   "source": [
    "class student:\n",
    "    \n",
    "    def __init__(self, test_name, test_rollno, test_age):\n",
    "        self.name = test_name\n",
    "        self.rollno = test_rollno\n",
    "        self.age = test_age\n",
    "        \n",
    "    def get_details(self):\n",
    "        \n",
    "        print('I am inside the get_details method')\n",
    "        print(f'Details of students are {self.name}, {self.rollno}, {self.age}')"
   ]
  },
  {
   "cell_type": "code",
   "execution_count": 39,
   "id": "c87a74a3",
   "metadata": {},
   "outputs": [],
   "source": [
    "s1 = student('manohar', 121, 25)"
   ]
  },
  {
   "cell_type": "code",
   "execution_count": 40,
   "id": "e923da3d",
   "metadata": {},
   "outputs": [],
   "source": [
    "s2 = student('harsh', 122, 26)"
   ]
  },
  {
   "cell_type": "code",
   "execution_count": 41,
   "id": "9a3cfcaf",
   "metadata": {},
   "outputs": [
    {
     "name": "stdout",
     "output_type": "stream",
     "text": [
      "I am inside the get_details method\n",
      "Details of students are manohar, 121, 25\n"
     ]
    }
   ],
   "source": [
    "s1.get_details()"
   ]
  },
  {
   "cell_type": "code",
   "execution_count": 42,
   "id": "8c5d4546",
   "metadata": {},
   "outputs": [
    {
     "name": "stdout",
     "output_type": "stream",
     "text": [
      "I am inside the get_details method\n",
      "Details of students are harsh, 122, 26\n"
     ]
    }
   ],
   "source": [
    "s2.get_details()"
   ]
  },
  {
   "cell_type": "code",
   "execution_count": 43,
   "id": "40e66a96",
   "metadata": {},
   "outputs": [
    {
     "ename": "AttributeError",
     "evalue": "'student' object has no attribute 'attending_lecture'",
     "output_type": "error",
     "traceback": [
      "\u001b[1;31m---------------------------------------------------------------------------\u001b[0m",
      "\u001b[1;31mAttributeError\u001b[0m                            Traceback (most recent call last)",
      "\u001b[1;32m~\\AppData\\Local\\Temp\\ipykernel_11408\\2728969948.py\u001b[0m in \u001b[0;36m<module>\u001b[1;34m\u001b[0m\n\u001b[1;32m----> 1\u001b[1;33m \u001b[0ms1\u001b[0m\u001b[1;33m.\u001b[0m\u001b[0mattending_lecture\u001b[0m\u001b[1;33m(\u001b[0m\u001b[1;33m)\u001b[0m\u001b[1;33m\u001b[0m\u001b[1;33m\u001b[0m\u001b[0m\n\u001b[0m",
      "\u001b[1;31mAttributeError\u001b[0m: 'student' object has no attribute 'attending_lecture'"
     ]
    }
   ],
   "source": [
    "s1.attending_lecture()"
   ]
  },
  {
   "cell_type": "code",
   "execution_count": 44,
   "id": "6e4f7d6c",
   "metadata": {},
   "outputs": [],
   "source": [
    "class student:\n",
    "    \n",
    "    def __init__(self, test_name, test_rollno, test_age):\n",
    "        self.name = test_name\n",
    "        self.rollno = test_rollno\n",
    "        self.age = test_age\n",
    "        \n",
    "    def get_details(self):\n",
    "        \n",
    "        print('I am inside the get_details method')\n",
    "        print(f'Details of students are {self.name}, {self.rollno}, {self.age}')\n",
    "        \n",
    "    def attending_lecture(self):\n",
    "        \n",
    "        print(f'{self.name} is attending a lecture')"
   ]
  },
  {
   "cell_type": "code",
   "execution_count": 46,
   "id": "b8fc2bfa",
   "metadata": {},
   "outputs": [
    {
     "name": "stdout",
     "output_type": "stream",
     "text": [
      "sunam is attending a lecture\n"
     ]
    }
   ],
   "source": [
    "name = \"sunam\"\n",
    "print(\"sunam is attending a lecture\")"
   ]
  },
  {
   "cell_type": "code",
   "execution_count": 47,
   "id": "1c23b9b7",
   "metadata": {},
   "outputs": [
    {
     "name": "stdout",
     "output_type": "stream",
     "text": [
      "sumann is attending a lecture\n"
     ]
    }
   ],
   "source": [
    "name = \"sumann\"\n",
    "print(\"{} is attending a lecture\".format(name))"
   ]
  },
  {
   "cell_type": "code",
   "execution_count": 48,
   "id": "5639b279",
   "metadata": {},
   "outputs": [
    {
     "name": "stdout",
     "output_type": "stream",
     "text": [
      "sunam is attending a lecture\n"
     ]
    }
   ],
   "source": [
    "name = \"sunam\"\n",
    "print(\"sunam is attending a lecture\")"
   ]
  },
  {
   "cell_type": "code",
   "execution_count": null,
   "id": "4ed8b3fc",
   "metadata": {},
   "outputs": [],
   "source": []
  },
  {
   "cell_type": "markdown",
   "id": "ad26a4eb",
   "metadata": {},
   "source": [
    "variable"
   ]
  },
  {
   "cell_type": "code",
   "execution_count": 50,
   "id": "9976370d",
   "metadata": {},
   "outputs": [],
   "source": [
    "class student:\n",
    "    \n",
    "    x = 5\n",
    "    \n",
    "    def __init__(self, test_name, test_rollno, test_age):\n",
    "        self.name = test_name\n",
    "        self.rollno = test_rollno\n",
    "        self.age = test_age\n",
    "        \n",
    "    def get_details(self):\n",
    "        \n",
    "        print('I am inside the get_details method')\n",
    "        print(f'Details of students are {self.name}, {self.rollno}, {self.age}')\n",
    "        \n",
    "    def attending_lecture(self):\n",
    "        \n",
    "        print(f'{self.name} is attending a lecture')"
   ]
  },
  {
   "cell_type": "code",
   "execution_count": 51,
   "id": "cc41358b",
   "metadata": {},
   "outputs": [
    {
     "data": {
      "text/plain": [
       "5"
      ]
     },
     "execution_count": 51,
     "metadata": {},
     "output_type": "execute_result"
    }
   ],
   "source": [
    "student.x"
   ]
  },
  {
   "cell_type": "code",
   "execution_count": 52,
   "id": "bb247dee",
   "metadata": {},
   "outputs": [
    {
     "ename": "AttributeError",
     "evalue": "type object 'student' has no attribute 'name'",
     "output_type": "error",
     "traceback": [
      "\u001b[1;31m---------------------------------------------------------------------------\u001b[0m",
      "\u001b[1;31mAttributeError\u001b[0m                            Traceback (most recent call last)",
      "\u001b[1;32m~\\AppData\\Local\\Temp\\ipykernel_11408\\2728737192.py\u001b[0m in \u001b[0;36m<module>\u001b[1;34m\u001b[0m\n\u001b[1;32m----> 1\u001b[1;33m \u001b[0mstudent\u001b[0m\u001b[1;33m.\u001b[0m\u001b[0mname\u001b[0m\u001b[1;33m\u001b[0m\u001b[1;33m\u001b[0m\u001b[0m\n\u001b[0m",
      "\u001b[1;31mAttributeError\u001b[0m: type object 'student' has no attribute 'name'"
     ]
    }
   ],
   "source": [
    "student.name"
   ]
  },
  {
   "cell_type": "code",
   "execution_count": 53,
   "id": "829b3482",
   "metadata": {},
   "outputs": [],
   "source": [
    "s1 = student('manohar', 121, 25)"
   ]
  },
  {
   "cell_type": "code",
   "execution_count": 54,
   "id": "89a44986",
   "metadata": {},
   "outputs": [
    {
     "data": {
      "text/plain": [
       "5"
      ]
     },
     "execution_count": 54,
     "metadata": {},
     "output_type": "execute_result"
    }
   ],
   "source": [
    "s1.x"
   ]
  },
  {
   "cell_type": "code",
   "execution_count": 55,
   "id": "54a65d80",
   "metadata": {},
   "outputs": [],
   "source": [
    "s2 = student('harsh', 122, 26)"
   ]
  },
  {
   "cell_type": "code",
   "execution_count": 56,
   "id": "30134f72",
   "metadata": {},
   "outputs": [
    {
     "data": {
      "text/plain": [
       "5"
      ]
     },
     "execution_count": 56,
     "metadata": {},
     "output_type": "execute_result"
    }
   ],
   "source": [
    "s2.x"
   ]
  },
  {
   "cell_type": "markdown",
   "id": "a0d8684c",
   "metadata": {},
   "source": [
    "statics"
   ]
  },
  {
   "cell_type": "code",
   "execution_count": 70,
   "id": "afb065cd",
   "metadata": {},
   "outputs": [],
   "source": [
    "class student:\n",
    "    \n",
    "    x = 5\n",
    "    \n",
    "    @staticmethod\n",
    "    \n",
    "    def my_statics_method():\n",
    "        print('I am inside statics method')\n",
    "        \n",
    "    def __init__(self, test_name, test_rollno, test_age):\n",
    "        self.name = test_name\n",
    "        self.rollno = test_rollno\n",
    "        self.age = test_age\n",
    "        \n",
    "    def get_details(self):\n",
    "        \n",
    "        print('I am inside the get_details method')\n",
    "        print(f'Details of students are {self.name}, {self.rollno}, {self.age}')\n",
    "        \n",
    "    def attending_lecture(self):\n",
    "        \n",
    "        print(f'{self.name} is attending a lecture')\n",
    "        \n",
    "        "
   ]
  },
  {
   "cell_type": "code",
   "execution_count": 71,
   "id": "80f908a2",
   "metadata": {},
   "outputs": [
    {
     "name": "stdout",
     "output_type": "stream",
     "text": [
      "I am inside statics method\n"
     ]
    }
   ],
   "source": [
    "student.my_statics_method()"
   ]
  },
  {
   "cell_type": "code",
   "execution_count": 66,
   "id": "fe76c7eb",
   "metadata": {},
   "outputs": [
    {
     "data": {
      "text/plain": [
       "5"
      ]
     },
     "execution_count": 66,
     "metadata": {},
     "output_type": "execute_result"
    }
   ],
   "source": [
    "student.x"
   ]
  },
  {
   "cell_type": "code",
   "execution_count": 72,
   "id": "e7c0e62c",
   "metadata": {},
   "outputs": [],
   "source": [
    "s1 = student('manohar', 121, 25)"
   ]
  },
  {
   "cell_type": "code",
   "execution_count": 73,
   "id": "c23dd874",
   "metadata": {},
   "outputs": [
    {
     "name": "stdout",
     "output_type": "stream",
     "text": [
      "I am inside statics method\n"
     ]
    }
   ],
   "source": [
    "s1.my_statics_method()"
   ]
  },
  {
   "cell_type": "code",
   "execution_count": null,
   "id": "62a17d2c",
   "metadata": {},
   "outputs": [],
   "source": []
  },
  {
   "cell_type": "markdown",
   "id": "94f1b1af",
   "metadata": {},
   "source": [
    "Inheritance"
   ]
  },
  {
   "cell_type": "code",
   "execution_count": 96,
   "id": "4a2dccc8",
   "metadata": {},
   "outputs": [],
   "source": [
    "class person:\n",
    "    \n",
    "    def __init__(self, Name, Age):\n",
    "        \n",
    "        self.name = Name\n",
    "        self.age = Age\n",
    "        \n",
    "    def get_details(self):\n",
    "        \n",
    "        print('I am inside the get_details method')\n",
    "        print(f'Detail of person are {self.name}, {self.age}')\n",
    "        \n",
    "    def speak(self):\n",
    "        \n",
    "        print(f'{self.name} is speaking')"
   ]
  },
  {
   "cell_type": "code",
   "execution_count": 97,
   "id": "2d81e1c6",
   "metadata": {},
   "outputs": [],
   "source": [
    "p1 = person('Ravi', 58)"
   ]
  },
  {
   "cell_type": "code",
   "execution_count": 95,
   "id": "7ac0b62e",
   "metadata": {},
   "outputs": [
    {
     "name": "stdout",
     "output_type": "stream",
     "text": [
      "I am inside the get_details method\n"
     ]
    },
    {
     "ename": "AttributeError",
     "evalue": "'person' object has no attribute 'agr'",
     "output_type": "error",
     "traceback": [
      "\u001b[1;31m---------------------------------------------------------------------------\u001b[0m",
      "\u001b[1;31mAttributeError\u001b[0m                            Traceback (most recent call last)",
      "\u001b[1;32m~\\AppData\\Local\\Temp\\ipykernel_11408\\2518774390.py\u001b[0m in \u001b[0;36m<module>\u001b[1;34m\u001b[0m\n\u001b[1;32m----> 1\u001b[1;33m \u001b[0mp1\u001b[0m\u001b[1;33m.\u001b[0m\u001b[0mget_details\u001b[0m\u001b[1;33m(\u001b[0m\u001b[1;33m)\u001b[0m\u001b[1;33m\u001b[0m\u001b[1;33m\u001b[0m\u001b[0m\n\u001b[0m",
      "\u001b[1;32m~\\AppData\\Local\\Temp\\ipykernel_11408\\1617133157.py\u001b[0m in \u001b[0;36mget_details\u001b[1;34m(self)\u001b[0m\n\u001b[0;32m      9\u001b[0m \u001b[1;33m\u001b[0m\u001b[0m\n\u001b[0;32m     10\u001b[0m         \u001b[0mprint\u001b[0m\u001b[1;33m(\u001b[0m\u001b[1;34m'I am inside the get_details method'\u001b[0m\u001b[1;33m)\u001b[0m\u001b[1;33m\u001b[0m\u001b[1;33m\u001b[0m\u001b[0m\n\u001b[1;32m---> 11\u001b[1;33m         \u001b[0mprint\u001b[0m\u001b[1;33m(\u001b[0m\u001b[1;34mf'Detail of person are {self.name}, {self.agr}'\u001b[0m\u001b[1;33m)\u001b[0m\u001b[1;33m\u001b[0m\u001b[1;33m\u001b[0m\u001b[0m\n\u001b[0m\u001b[0;32m     12\u001b[0m \u001b[1;33m\u001b[0m\u001b[0m\n\u001b[0;32m     13\u001b[0m     \u001b[1;32mdef\u001b[0m \u001b[0mspeak\u001b[0m\u001b[1;33m(\u001b[0m\u001b[0mself\u001b[0m\u001b[1;33m)\u001b[0m\u001b[1;33m:\u001b[0m\u001b[1;33m\u001b[0m\u001b[1;33m\u001b[0m\u001b[0m\n",
      "\u001b[1;31mAttributeError\u001b[0m: 'person' object has no attribute 'agr'"
     ]
    }
   ],
   "source": [
    "p1.get_details()"
   ]
  },
  {
   "cell_type": "code",
   "execution_count": 98,
   "id": "7c5cf9d8",
   "metadata": {},
   "outputs": [],
   "source": [
    "p1 = person('ravi', 58)"
   ]
  },
  {
   "cell_type": "code",
   "execution_count": 99,
   "id": "0a3cb8ac",
   "metadata": {},
   "outputs": [
    {
     "name": "stdout",
     "output_type": "stream",
     "text": [
      "I am inside the get_details method\n",
      "Detail of person are ravi, 58\n"
     ]
    }
   ],
   "source": [
    "p1.get_details()"
   ]
  },
  {
   "cell_type": "code",
   "execution_count": 100,
   "id": "6e3801c8",
   "metadata": {},
   "outputs": [
    {
     "name": "stdout",
     "output_type": "stream",
     "text": [
      "ravi is speaking\n"
     ]
    }
   ],
   "source": [
    "p1.speak()"
   ]
  },
  {
   "cell_type": "code",
   "execution_count": 101,
   "id": "a3774611",
   "metadata": {},
   "outputs": [
    {
     "data": {
      "text/plain": [
       "('ravi', 58)"
      ]
     },
     "execution_count": 101,
     "metadata": {},
     "output_type": "execute_result"
    }
   ],
   "source": [
    "p1.name, p1.age"
   ]
  },
  {
   "cell_type": "code",
   "execution_count": null,
   "id": "2a17b7d3",
   "metadata": {},
   "outputs": [],
   "source": []
  },
  {
   "cell_type": "code",
   "execution_count": 102,
   "id": "33cec287",
   "metadata": {},
   "outputs": [],
   "source": [
    "class student(person):\n",
    "    pass"
   ]
  },
  {
   "cell_type": "code",
   "execution_count": 103,
   "id": "083db2dd",
   "metadata": {},
   "outputs": [],
   "source": [
    "s1 = student(\"sam\", 24)"
   ]
  },
  {
   "cell_type": "code",
   "execution_count": 104,
   "id": "c99b6725",
   "metadata": {},
   "outputs": [
    {
     "name": "stdout",
     "output_type": "stream",
     "text": [
      "I am inside the get_details method\n",
      "Detail of person are sam, 24\n"
     ]
    }
   ],
   "source": [
    "s1.get_details()"
   ]
  },
  {
   "cell_type": "code",
   "execution_count": 105,
   "id": "49ecad36",
   "metadata": {},
   "outputs": [
    {
     "name": "stdout",
     "output_type": "stream",
     "text": [
      "sam is speaking\n"
     ]
    }
   ],
   "source": [
    "s1.speak()"
   ]
  },
  {
   "cell_type": "code",
   "execution_count": 108,
   "id": "3cda02a8",
   "metadata": {},
   "outputs": [],
   "source": [
    "class student2(person):\n",
    "    def __init__(self, Name, Age, rollno):\n",
    "        person.__init__(self, Name, Age)\n",
    "        self.rollno = rollno\n",
    "                 \n",
    "       \n",
    "     "
   ]
  },
  {
   "cell_type": "code",
   "execution_count": 109,
   "id": "49db8221",
   "metadata": {},
   "outputs": [],
   "source": [
    "s1 = student2(\"suman\", 24, 121)"
   ]
  },
  {
   "cell_type": "code",
   "execution_count": null,
   "id": "3b93da35",
   "metadata": {},
   "outputs": [],
   "source": []
  },
  {
   "cell_type": "code",
   "execution_count": null,
   "id": "9b180cc3",
   "metadata": {},
   "outputs": [],
   "source": []
  },
  {
   "cell_type": "code",
   "execution_count": null,
   "id": "b7a2f2c3",
   "metadata": {},
   "outputs": [],
   "source": []
  },
  {
   "cell_type": "code",
   "execution_count": null,
   "id": "548f845a",
   "metadata": {},
   "outputs": [],
   "source": []
  },
  {
   "cell_type": "code",
   "execution_count": null,
   "id": "ebee900b",
   "metadata": {},
   "outputs": [],
   "source": []
  }
 ],
 "metadata": {
  "kernelspec": {
   "display_name": "Python 3 (ipykernel)",
   "language": "python",
   "name": "python3"
  },
  "language_info": {
   "codemirror_mode": {
    "name": "ipython",
    "version": 3
   },
   "file_extension": ".py",
   "mimetype": "text/x-python",
   "name": "python",
   "nbconvert_exporter": "python",
   "pygments_lexer": "ipython3",
   "version": "3.9.13"
  }
 },
 "nbformat": 4,
 "nbformat_minor": 5
}
