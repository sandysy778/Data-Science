{
 "cells": [
  {
   "cell_type": "markdown",
   "id": "06786def",
   "metadata": {},
   "source": [
    "Inhertance"
   ]
  },
  {
   "cell_type": "code",
   "execution_count": 3,
   "id": "401f29d3",
   "metadata": {},
   "outputs": [],
   "source": [
    "class person:\n",
    "    \n",
    "    def _init_(self, Name, Age):\n",
    "        \n",
    "        self.name = Name\n",
    "        self.age = Age\n",
    "        \n",
    "    def get_detials(self):\n",
    "        \n",
    "        print('I am inside the get_details method')\n",
    "        print(f'Details of person are {self.name}, {self.rollno}, {self.age}')\n",
    "              \n",
    "    def speak(self):\n",
    "              \n",
    "            print(f'{self.name} is speaking')"
   ]
  },
  {
   "cell_type": "code",
   "execution_count": 10,
   "id": "9dd143b7",
   "metadata": {},
   "outputs": [],
   "source": [
    "p1 = ('Ravi', 59)"
   ]
  },
  {
   "cell_type": "code",
   "execution_count": 11,
   "id": "0f1d5a2b",
   "metadata": {},
   "outputs": [
    {
     "ename": "AttributeError",
     "evalue": "'tuple' object has no attribute 'get_detials'",
     "output_type": "error",
     "traceback": [
      "\u001b[1;31m---------------------------------------------------------------------------\u001b[0m",
      "\u001b[1;31mAttributeError\u001b[0m                            Traceback (most recent call last)",
      "\u001b[1;32m~\\AppData\\Local\\Temp\\ipykernel_2260\\4272970029.py\u001b[0m in \u001b[0;36m<module>\u001b[1;34m\u001b[0m\n\u001b[1;32m----> 1\u001b[1;33m \u001b[0mp1\u001b[0m\u001b[1;33m.\u001b[0m\u001b[0mget_detials\u001b[0m\u001b[1;33m(\u001b[0m\u001b[1;33m)\u001b[0m\u001b[1;33m\u001b[0m\u001b[1;33m\u001b[0m\u001b[0m\n\u001b[0m",
      "\u001b[1;31mAttributeError\u001b[0m: 'tuple' object has no attribute 'get_detials'"
     ]
    }
   ],
   "source": [
    "p1.get_detials()"
   ]
  },
  {
   "cell_type": "code",
   "execution_count": 12,
   "id": "95fe3c71",
   "metadata": {},
   "outputs": [
    {
     "ename": "AttributeError",
     "evalue": "'tuple' object has no attribute 'speak'",
     "output_type": "error",
     "traceback": [
      "\u001b[1;31m---------------------------------------------------------------------------\u001b[0m",
      "\u001b[1;31mAttributeError\u001b[0m                            Traceback (most recent call last)",
      "\u001b[1;32m~\\AppData\\Local\\Temp\\ipykernel_2260\\903583380.py\u001b[0m in \u001b[0;36m<module>\u001b[1;34m\u001b[0m\n\u001b[1;32m----> 1\u001b[1;33m \u001b[0mp1\u001b[0m\u001b[1;33m.\u001b[0m\u001b[0mspeak\u001b[0m\u001b[1;33m(\u001b[0m\u001b[1;33m)\u001b[0m\u001b[1;33m\u001b[0m\u001b[1;33m\u001b[0m\u001b[0m\n\u001b[0m",
      "\u001b[1;31mAttributeError\u001b[0m: 'tuple' object has no attribute 'speak'"
     ]
    }
   ],
   "source": [
    "p1.speak()"
   ]
  },
  {
   "cell_type": "code",
   "execution_count": null,
   "id": "27e228aa",
   "metadata": {},
   "outputs": [],
   "source": []
  }
 ],
 "metadata": {
  "kernelspec": {
   "display_name": "Python 3 (ipykernel)",
   "language": "python",
   "name": "python3"
  },
  "language_info": {
   "codemirror_mode": {
    "name": "ipython",
    "version": 3
   },
   "file_extension": ".py",
   "mimetype": "text/x-python",
   "name": "python",
   "nbconvert_exporter": "python",
   "pygments_lexer": "ipython3",
   "version": "3.9.13"
  }
 },
 "nbformat": 4,
 "nbformat_minor": 5
}
