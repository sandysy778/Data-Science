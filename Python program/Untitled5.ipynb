{
 "cells": [
  {
   "cell_type": "code",
   "execution_count": 1,
   "id": "e7799067",
   "metadata": {},
   "outputs": [
    {
     "data": {
      "text/plain": [
       "'hello'"
      ]
     },
     "execution_count": 1,
     "metadata": {},
     "output_type": "execute_result"
    }
   ],
   "source": [
    "s = 'hello'\n",
    "s"
   ]
  },
  {
   "cell_type": "code",
   "execution_count": 2,
   "id": "1a82c695",
   "metadata": {},
   "outputs": [
    {
     "data": {
      "text/plain": [
       "str"
      ]
     },
     "execution_count": 2,
     "metadata": {},
     "output_type": "execute_result"
    }
   ],
   "source": [
    "type(s)"
   ]
  },
  {
   "cell_type": "code",
   "execution_count": 5,
   "id": "8ca09d50",
   "metadata": {},
   "outputs": [
    {
     "data": {
      "text/plain": [
       "5"
      ]
     },
     "execution_count": 5,
     "metadata": {},
     "output_type": "execute_result"
    }
   ],
   "source": [
    "s = 5\n",
    "s"
   ]
  },
  {
   "cell_type": "code",
   "execution_count": 6,
   "id": "85866d0d",
   "metadata": {},
   "outputs": [
    {
     "data": {
      "text/plain": [
       "int"
      ]
     },
     "execution_count": 6,
     "metadata": {},
     "output_type": "execute_result"
    }
   ],
   "source": [
    "type(s)"
   ]
  },
  {
   "cell_type": "markdown",
   "id": "2ab441ea",
   "metadata": {},
   "source": [
    "CLASS AND OBJECT"
   ]
  },
  {
   "cell_type": "code",
   "execution_count": 8,
   "id": "2c24bc3e",
   "metadata": {},
   "outputs": [],
   "source": [
    "class myclass:\n",
    "    pass"
   ]
  },
  {
   "cell_type": "code",
   "execution_count": 9,
   "id": "87550182",
   "metadata": {},
   "outputs": [],
   "source": [
    "obj1 = myclass()"
   ]
  },
  {
   "cell_type": "code",
   "execution_count": 10,
   "id": "91242c48",
   "metadata": {},
   "outputs": [],
   "source": [
    "obj2 = myclass()\n"
   ]
  },
  {
   "cell_type": "code",
   "execution_count": 11,
   "id": "7fa66196",
   "metadata": {},
   "outputs": [
    {
     "data": {
      "text/plain": [
       "__main__.myclass"
      ]
     },
     "execution_count": 11,
     "metadata": {},
     "output_type": "execute_result"
    }
   ],
   "source": [
    "type(obj1)"
   ]
  },
  {
   "cell_type": "code",
   "execution_count": 12,
   "id": "1538468c",
   "metadata": {},
   "outputs": [
    {
     "data": {
      "text/plain": [
       "__main__.myclass"
      ]
     },
     "execution_count": 12,
     "metadata": {},
     "output_type": "execute_result"
    }
   ],
   "source": [
    "type(obj2)"
   ]
  },
  {
   "cell_type": "code",
   "execution_count": 13,
   "id": "978c69ef",
   "metadata": {},
   "outputs": [],
   "source": [
    "class myclass:\n",
    "    x = 5"
   ]
  },
  {
   "cell_type": "code",
   "execution_count": 14,
   "id": "afafe918",
   "metadata": {},
   "outputs": [],
   "source": [
    "obj1 = myclass()"
   ]
  },
  {
   "cell_type": "code",
   "execution_count": 15,
   "id": "42409f07",
   "metadata": {},
   "outputs": [
    {
     "data": {
      "text/plain": [
       "5"
      ]
     },
     "execution_count": 15,
     "metadata": {},
     "output_type": "execute_result"
    }
   ],
   "source": [
    "obj1.x"
   ]
  },
  {
   "cell_type": "markdown",
   "id": "024d9943",
   "metadata": {},
   "source": [
    "How to define a class"
   ]
  },
  {
   "cell_type": "code",
   "execution_count": 63,
   "id": "2630769c",
   "metadata": {},
   "outputs": [],
   "source": [
    "class student:\n",
    "    \n",
    "    def _init_(self, test_name, test_rollno, test_age):\n",
    "        self.name = test_name\n",
    "        self.rollno = test_rollno\n",
    "        self.age = test_age\n",
    "    "
   ]
  },
  {
   "cell_type": "code",
   "execution_count": 67,
   "id": "f21f7bd0",
   "metadata": {},
   "outputs": [],
   "source": [
    "s1=('jay', 121, 25)"
   ]
  },
  {
   "cell_type": "code",
   "execution_count": 68,
   "id": "e98703ac",
   "metadata": {},
   "outputs": [
    {
     "data": {
      "text/plain": [
       "('jay', 121, 25)"
      ]
     },
     "execution_count": 68,
     "metadata": {},
     "output_type": "execute_result"
    }
   ],
   "source": [
    "s1"
   ]
  },
  {
   "cell_type": "code",
   "execution_count": 72,
   "id": "95a6e50b",
   "metadata": {},
   "outputs": [],
   "source": [
    "s2 =('harsh', 122, 26)"
   ]
  },
  {
   "cell_type": "code",
   "execution_count": 73,
   "id": "8f193d0c",
   "metadata": {},
   "outputs": [
    {
     "data": {
      "text/plain": [
       "('harsh', 122, 26)"
      ]
     },
     "execution_count": 73,
     "metadata": {},
     "output_type": "execute_result"
    }
   ],
   "source": [
    "s2"
   ]
  },
  {
   "cell_type": "code",
   "execution_count": 52,
   "id": "e3367298",
   "metadata": {},
   "outputs": [],
   "source": [
    "class student:\n",
    "    \n",
    "    def _init_(self, test_name, test_rollno, test_age):\n",
    "        self.name = test_name\n",
    "        self_rollno = test_rollno\n",
    "        self.age = test_age\n",
    "        \n",
    "    def get_detials(self):\n",
    "        \n",
    "        print('i am inside the get_detials method')\n",
    "        print(f'Detials of student are{self.name}, {self.rollno}, {self.age}')"
   ]
  },
  {
   "cell_type": "code",
   "execution_count": 74,
   "id": "ad878489",
   "metadata": {},
   "outputs": [],
   "source": [
    "s1=('manohar', 121, 25)"
   ]
  },
  {
   "cell_type": "code",
   "execution_count": 75,
   "id": "88ab0a6f",
   "metadata": {},
   "outputs": [
    {
     "data": {
      "text/plain": [
       "('manohar', 121, 25)"
      ]
     },
     "execution_count": 75,
     "metadata": {},
     "output_type": "execute_result"
    }
   ],
   "source": [
    "s1"
   ]
  },
  {
   "cell_type": "code",
   "execution_count": null,
   "id": "a1235024",
   "metadata": {},
   "outputs": [],
   "source": []
  }
 ],
 "metadata": {
  "kernelspec": {
   "display_name": "Python 3 (ipykernel)",
   "language": "python",
   "name": "python3"
  },
  "language_info": {
   "codemirror_mode": {
    "name": "ipython",
    "version": 3
   },
   "file_extension": ".py",
   "mimetype": "text/x-python",
   "name": "python",
   "nbconvert_exporter": "python",
   "pygments_lexer": "ipython3",
   "version": "3.10.9"
  }
 },
 "nbformat": 4,
 "nbformat_minor": 5
}
