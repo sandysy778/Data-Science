{
 "cells": [
  {
   "cell_type": "code",
   "execution_count": 2,
   "id": "dc6b0da4",
   "metadata": {},
   "outputs": [
    {
     "data": {
      "text/plain": [
       "{'ragu': 80, 'saran': 90, 'keerthi': 70}"
      ]
     },
     "execution_count": 2,
     "metadata": {},
     "output_type": "execute_result"
    }
   ],
   "source": [
    "d = {'ragu':80, 'saran':90, 'keerthi':70}\n",
    "d"
   ]
  },
  {
   "cell_type": "code",
   "execution_count": 5,
   "id": "b437cbdd",
   "metadata": {},
   "outputs": [
    {
     "data": {
      "text/plain": [
       "dict_items([('ragu', 80), ('saran', 90), ('keerthi', 70)])"
      ]
     },
     "execution_count": 5,
     "metadata": {},
     "output_type": "execute_result"
    }
   ],
   "source": [
    "d.items()"
   ]
  },
  {
   "cell_type": "code",
   "execution_count": 6,
   "id": "ebc8b5fc",
   "metadata": {},
   "outputs": [
    {
     "data": {
      "text/plain": [
       "{'ragu': 'pass', 'saran': 'pass', 'keerthi': 'pass'}"
      ]
     },
     "execution_count": 6,
     "metadata": {},
     "output_type": "execute_result"
    }
   ],
   "source": [
    "res = {}\n",
    "for name, marks in d.items():\n",
    "    if(marks>=50):\n",
    "        res[name]='pass'\n",
    "    else:\n",
    "        res[name]='Fail'\n",
    "res"
   ]
  },
  {
   "cell_type": "code",
   "execution_count": 7,
   "id": "909bac7f",
   "metadata": {},
   "outputs": [
    {
     "data": {
      "text/plain": [
       "{'ragu': 80, 'saran': 90, 'keerthi': 70}"
      ]
     },
     "execution_count": 7,
     "metadata": {},
     "output_type": "execute_result"
    }
   ],
   "source": [
    "d = {'ragu':80, 'saran':90, 'keerthi':70}\n",
    "d"
   ]
  },
  {
   "cell_type": "code",
   "execution_count": 8,
   "id": "54e21b41",
   "metadata": {},
   "outputs": [
    {
     "data": {
      "text/plain": [
       "{'ragu': 'pass', 'saran': 'pass', 'keerthi': 'pass'}"
      ]
     },
     "execution_count": 8,
     "metadata": {},
     "output_type": "execute_result"
    }
   ],
   "source": [
    "res = {name:'pass' if(marks >=50) else 'fail' for name,marks in d.items()}\n",
    "res"
   ]
  },
  {
   "cell_type": "code",
   "execution_count": 14,
   "id": "af862c63",
   "metadata": {},
   "outputs": [
    {
     "data": {
      "text/plain": [
       "{'keerthi': 10}"
      ]
     },
     "execution_count": 14,
     "metadata": {},
     "output_type": "execute_result"
    }
   ],
   "source": [
    "res = {name:10}\n",
    "res"
   ]
  },
  {
   "cell_type": "code",
   "execution_count": null,
   "id": "a0405ee3",
   "metadata": {},
   "outputs": [],
   "source": []
  },
  {
   "cell_type": "code",
   "execution_count": 10,
   "id": "d0ea3d13",
   "metadata": {},
   "outputs": [
    {
     "name": "stdout",
     "output_type": "stream",
     "text": [
      "[2, 4, 6, 8, 10]\n",
      "[1, 3, 5, 7, 9]\n"
     ]
    }
   ],
   "source": [
    "numbers = [1,2,3,4,5,6,7,8,9,10]\n",
    "\n",
    "even = []\n",
    "odd = []\n",
    "\n",
    "even = [n for n in numbers if n%2==0]\n",
    "odd = [n for n in numbers if n%2 !=0]\n",
    "\n",
    "print(even)\n",
    "print(odd)"
   ]
  },
  {
   "cell_type": "code",
   "execution_count": 12,
   "id": "44c7e14f",
   "metadata": {},
   "outputs": [
    {
     "data": {
      "text/plain": [
       "[2, 4, 6, 8, 10]"
      ]
     },
     "execution_count": 12,
     "metadata": {},
     "output_type": "execute_result"
    }
   ],
   "source": [
    "even = [n for n in numbers if n%2==0]\n",
    "even"
   ]
  },
  {
   "cell_type": "code",
   "execution_count": 13,
   "id": "08ed4955",
   "metadata": {},
   "outputs": [
    {
     "name": "stdout",
     "output_type": "stream",
     "text": [
      "[2, 4, 6, 8, 10]\n",
      "[1, 3, 5, 7, 9]\n"
     ]
    }
   ],
   "source": [
    "print(even)\n",
    "print(odd)"
   ]
  },
  {
   "cell_type": "code",
   "execution_count": null,
   "id": "ea2ecb81",
   "metadata": {},
   "outputs": [],
   "source": []
  },
  {
   "cell_type": "code",
   "execution_count": null,
   "id": "bc53eb28",
   "metadata": {},
   "outputs": [],
   "source": []
  },
  {
   "cell_type": "code",
   "execution_count": null,
   "id": "5220f316",
   "metadata": {},
   "outputs": [],
   "source": []
  },
  {
   "cell_type": "markdown",
   "id": "96b59bb2",
   "metadata": {},
   "source": [
    "# Program to find the squares numbres"
   ]
  },
  {
   "cell_type": "code",
   "execution_count": null,
   "id": "03624ed7",
   "metadata": {},
   "outputs": [],
   "source": []
  },
  {
   "cell_type": "code",
   "execution_count": null,
   "id": "4a175ff0",
   "metadata": {},
   "outputs": [],
   "source": []
  },
  {
   "cell_type": "code",
   "execution_count": null,
   "id": "be264734",
   "metadata": {},
   "outputs": [],
   "source": []
  },
  {
   "cell_type": "code",
   "execution_count": null,
   "id": "b62d4d08",
   "metadata": {},
   "outputs": [],
   "source": []
  },
  {
   "cell_type": "code",
   "execution_count": null,
   "id": "7f10dd6e",
   "metadata": {},
   "outputs": [],
   "source": []
  },
  {
   "cell_type": "code",
   "execution_count": 16,
   "id": "644c66b1",
   "metadata": {},
   "outputs": [
    {
     "name": "stdout",
     "output_type": "stream",
     "text": [
      "20\n"
     ]
    }
   ],
   "source": [
    "num1 = 10 \n",
    "num2 = 20\n",
    "\n",
    "if(num1<=num2):\n",
    "    print(num2)\n",
    "else:\n",
    "    print(num1)\n"
   ]
  },
  {
   "cell_type": "code",
   "execution_count": 17,
   "id": "a60a06a3",
   "metadata": {},
   "outputs": [],
   "source": [
    "def max(num1, num2):\n",
    "    \n",
    "    if(num1<num2):\n",
    "        print(num2)\n",
    "    else:\n",
    "        print(num1)\n",
    "    \n",
    "    \n",
    "    "
   ]
  },
  {
   "cell_type": "code",
   "execution_count": 19,
   "id": "7b063ba3",
   "metadata": {},
   "outputs": [
    {
     "name": "stdout",
     "output_type": "stream",
     "text": [
      "20\n"
     ]
    }
   ],
   "source": [
    "num1 = 10\n",
    "num2 = 20\n",
    "max(num1, num2)"
   ]
  },
  {
   "cell_type": "code",
   "execution_count": 20,
   "id": "99ecf085",
   "metadata": {},
   "outputs": [
    {
     "name": "stdout",
     "output_type": "stream",
     "text": [
      "20\n"
     ]
    }
   ],
   "source": [
    "n1 = 10\n",
    "n2 = 20\n",
    "max(n1,n2)\n",
    "    "
   ]
  },
  {
   "cell_type": "code",
   "execution_count": 22,
   "id": "6b2e2f96",
   "metadata": {},
   "outputs": [
    {
     "name": "stdout",
     "output_type": "stream",
     "text": [
      "20\n"
     ]
    }
   ],
   "source": [
    "max(n1,n2)"
   ]
  },
  {
   "cell_type": "code",
   "execution_count": 25,
   "id": "5fcb53aa",
   "metadata": {},
   "outputs": [],
   "source": [
    "def max_new(num1, num2):\n",
    "    \n",
    "    if(num1<num2):\n",
    "        print(num2)\n",
    "    else:\n",
    "        print(num1)\n",
    "    "
   ]
  },
  {
   "cell_type": "code",
   "execution_count": 26,
   "id": "ddc355d3",
   "metadata": {},
   "outputs": [
    {
     "name": "stdout",
     "output_type": "stream",
     "text": [
      "2000\n"
     ]
    }
   ],
   "source": [
    "res  = max_new(1000,2000)\n",
    "res"
   ]
  },
  {
   "cell_type": "code",
   "execution_count": 29,
   "id": "248ee2b2",
   "metadata": {},
   "outputs": [],
   "source": [
    "res"
   ]
  },
  {
   "cell_type": "code",
   "execution_count": 30,
   "id": "441c1f28",
   "metadata": {},
   "outputs": [
    {
     "name": "stdout",
     "output_type": "stream",
     "text": [
      "2000\n"
     ]
    }
   ],
   "source": [
    "res = max(1000,2000)"
   ]
  },
  {
   "cell_type": "code",
   "execution_count": 31,
   "id": "a61d876b",
   "metadata": {},
   "outputs": [],
   "source": [
    "res"
   ]
  },
  {
   "cell_type": "markdown",
   "id": "bcec3ecb",
   "metadata": {},
   "source": [
    "#Positional Argument"
   ]
  },
  {
   "cell_type": "code",
   "execution_count": 32,
   "id": "9273a8bf",
   "metadata": {},
   "outputs": [],
   "source": [
    "def dummy_fun(msg, num):\n",
    "    \n",
    "    for i in range(num):\n",
    "        print(msg)"
   ]
  },
  {
   "cell_type": "code",
   "execution_count": 34,
   "id": "0fc5690d",
   "metadata": {},
   "outputs": [
    {
     "name": "stdout",
     "output_type": "stream",
     "text": [
      "hello\n",
      "hello\n",
      "hello\n"
     ]
    }
   ],
   "source": [
    "dummy_fun('hello', 3)"
   ]
  },
  {
   "cell_type": "code",
   "execution_count": 35,
   "id": "d9b1bbdc",
   "metadata": {},
   "outputs": [
    {
     "ename": "TypeError",
     "evalue": "'str' object cannot be interpreted as an integer",
     "output_type": "error",
     "traceback": [
      "\u001b[1;31m---------------------------------------------------------------------------\u001b[0m",
      "\u001b[1;31mTypeError\u001b[0m                                 Traceback (most recent call last)",
      "\u001b[1;32m~\\AppData\\Local\\Temp\\ipykernel_14228\\1556385854.py\u001b[0m in \u001b[0;36m<module>\u001b[1;34m\u001b[0m\n\u001b[1;32m----> 1\u001b[1;33m \u001b[0mdummy_fun\u001b[0m\u001b[1;33m(\u001b[0m\u001b[1;36m3\u001b[0m\u001b[1;33m,\u001b[0m \u001b[1;34m'hello'\u001b[0m\u001b[1;33m)\u001b[0m\u001b[1;33m\u001b[0m\u001b[1;33m\u001b[0m\u001b[0m\n\u001b[0m",
      "\u001b[1;32m~\\AppData\\Local\\Temp\\ipykernel_14228\\3198469426.py\u001b[0m in \u001b[0;36mdummy_fun\u001b[1;34m(msg, num)\u001b[0m\n\u001b[0;32m      1\u001b[0m \u001b[1;32mdef\u001b[0m \u001b[0mdummy_fun\u001b[0m\u001b[1;33m(\u001b[0m\u001b[0mmsg\u001b[0m\u001b[1;33m,\u001b[0m \u001b[0mnum\u001b[0m\u001b[1;33m)\u001b[0m\u001b[1;33m:\u001b[0m\u001b[1;33m\u001b[0m\u001b[1;33m\u001b[0m\u001b[0m\n\u001b[0;32m      2\u001b[0m \u001b[1;33m\u001b[0m\u001b[0m\n\u001b[1;32m----> 3\u001b[1;33m     \u001b[1;32mfor\u001b[0m \u001b[0mi\u001b[0m \u001b[1;32min\u001b[0m \u001b[0mrange\u001b[0m\u001b[1;33m(\u001b[0m\u001b[0mnum\u001b[0m\u001b[1;33m)\u001b[0m\u001b[1;33m:\u001b[0m\u001b[1;33m\u001b[0m\u001b[1;33m\u001b[0m\u001b[0m\n\u001b[0m\u001b[0;32m      4\u001b[0m         \u001b[0mprint\u001b[0m\u001b[1;33m(\u001b[0m\u001b[0mmsg\u001b[0m\u001b[1;33m)\u001b[0m\u001b[1;33m\u001b[0m\u001b[1;33m\u001b[0m\u001b[0m\n",
      "\u001b[1;31mTypeError\u001b[0m: 'str' object cannot be interpreted as an integer"
     ]
    }
   ],
   "source": [
    "dummy_fun(3, 'hello')"
   ]
  },
  {
   "cell_type": "code",
   "execution_count": 39,
   "id": "1385120f",
   "metadata": {},
   "outputs": [
    {
     "ename": "TypeError",
     "evalue": "dummy_fun() takes 2 positional arguments but 3 were given",
     "output_type": "error",
     "traceback": [
      "\u001b[1;31m---------------------------------------------------------------------------\u001b[0m",
      "\u001b[1;31mTypeError\u001b[0m                                 Traceback (most recent call last)",
      "\u001b[1;32m~\\AppData\\Local\\Temp\\ipykernel_14228\\3968016625.py\u001b[0m in \u001b[0;36m<module>\u001b[1;34m\u001b[0m\n\u001b[1;32m----> 1\u001b[1;33m \u001b[0mdummy_fun\u001b[0m\u001b[1;33m(\u001b[0m\u001b[1;34m'hello'\u001b[0m\u001b[1;33m,\u001b[0m \u001b[1;36m3\u001b[0m\u001b[1;33m,\u001b[0m\u001b[1;36m6\u001b[0m\u001b[1;33m)\u001b[0m\u001b[1;33m\u001b[0m\u001b[1;33m\u001b[0m\u001b[0m\n\u001b[0m",
      "\u001b[1;31mTypeError\u001b[0m: dummy_fun() takes 2 positional arguments but 3 were given"
     ]
    }
   ],
   "source": [
    "dummy_fun('hello', 3,6)"
   ]
  },
  {
   "cell_type": "code",
   "execution_count": 36,
   "id": "0552ab8f",
   "metadata": {},
   "outputs": [],
   "source": [
    "def dummy_fun(num, msg):\n",
    "    \n",
    "    for i in range(num):\n",
    "        print(msg)"
   ]
  },
  {
   "cell_type": "code",
   "execution_count": 38,
   "id": "b9c9040a",
   "metadata": {},
   "outputs": [
    {
     "name": "stdout",
     "output_type": "stream",
     "text": [
      "hello\n",
      "hello\n",
      "hello\n"
     ]
    }
   ],
   "source": [
    "dummy_fun(3, 'hello')"
   ]
  },
  {
   "cell_type": "code",
   "execution_count": 40,
   "id": "6b2dd647",
   "metadata": {},
   "outputs": [],
   "source": [
    "def dummy_fun(msg, num1,num2):\n",
    "    \n",
    "    for i in range(num1, num2):\n",
    "        print(msg)"
   ]
  },
  {
   "cell_type": "markdown",
   "id": "72593d46",
   "metadata": {},
   "source": []
  },
  {
   "cell_type": "code",
   "execution_count": 46,
   "id": "24dc15a5",
   "metadata": {},
   "outputs": [
    {
     "name": "stdout",
     "output_type": "stream",
     "text": [
      "hello\n",
      "hello\n",
      "hello\n"
     ]
    }
   ],
   "source": [
    "dummy_fun('hello', 3,6)"
   ]
  },
  {
   "cell_type": "markdown",
   "id": "a82acc96",
   "metadata": {},
   "source": [
    "Assigning a function to variable"
   ]
  },
  {
   "cell_type": "code",
   "execution_count": 49,
   "id": "675651aa",
   "metadata": {},
   "outputs": [],
   "source": [
    "def find_cube(x):\n",
    "    return x**3"
   ]
  },
  {
   "cell_type": "code",
   "execution_count": 50,
   "id": "e32ae969",
   "metadata": {},
   "outputs": [
    {
     "data": {
      "text/plain": [
       "8"
      ]
     },
     "execution_count": 50,
     "metadata": {},
     "output_type": "execute_result"
    }
   ],
   "source": [
    "find_cube(2)"
   ]
  },
  {
   "cell_type": "code",
   "execution_count": 51,
   "id": "7577f8cc",
   "metadata": {},
   "outputs": [
    {
     "data": {
      "text/plain": [
       "8"
      ]
     },
     "execution_count": 51,
     "metadata": {},
     "output_type": "execute_result"
    }
   ],
   "source": [
    "8"
   ]
  },
  {
   "cell_type": "code",
   "execution_count": 52,
   "id": "b03144ae",
   "metadata": {},
   "outputs": [
    {
     "data": {
      "text/plain": [
       "<function __main__.find_cube(x)>"
      ]
     },
     "execution_count": 52,
     "metadata": {},
     "output_type": "execute_result"
    }
   ],
   "source": [
    "k = find_cube\n",
    "k"
   ]
  },
  {
   "cell_type": "code",
   "execution_count": 53,
   "id": "7820d152",
   "metadata": {},
   "outputs": [
    {
     "data": {
      "text/plain": [
       "8"
      ]
     },
     "execution_count": 53,
     "metadata": {},
     "output_type": "execute_result"
    }
   ],
   "source": [
    "k(2)"
   ]
  },
  {
   "cell_type": "code",
   "execution_count": 54,
   "id": "8ea797e5",
   "metadata": {},
   "outputs": [
    {
     "data": {
      "text/plain": [
       "27"
      ]
     },
     "execution_count": 54,
     "metadata": {},
     "output_type": "execute_result"
    }
   ],
   "source": [
    "k(3)"
   ]
  },
  {
   "cell_type": "code",
   "execution_count": 55,
   "id": "2290fc0a",
   "metadata": {},
   "outputs": [],
   "source": [
    "def test_fun(n1,n2):\n",
    "    print(n1)\n",
    "    print(n2)"
   ]
  },
  {
   "cell_type": "code",
   "execution_count": 56,
   "id": "860fa63b",
   "metadata": {},
   "outputs": [
    {
     "name": "stdout",
     "output_type": "stream",
     "text": [
      "4\n",
      "5\n"
     ]
    }
   ],
   "source": [
    "test_fun(4,5)"
   ]
  },
  {
   "cell_type": "code",
   "execution_count": 57,
   "id": "040b287a",
   "metadata": {},
   "outputs": [],
   "source": [
    "def test_fun(n1,n2,n3):\n",
    "    print(n1)\n",
    "    print(n2)\n",
    "    print(n3)"
   ]
  },
  {
   "cell_type": "code",
   "execution_count": 58,
   "id": "f8ea9f05",
   "metadata": {},
   "outputs": [
    {
     "name": "stdout",
     "output_type": "stream",
     "text": [
      "4\n",
      "5\n",
      "6\n"
     ]
    }
   ],
   "source": [
    "test_fun(4,5,6)"
   ]
  },
  {
   "cell_type": "code",
   "execution_count": 59,
   "id": "f968c11e",
   "metadata": {},
   "outputs": [],
   "source": [
    "def test_fun(n1,n2):\n",
    "    print(n1)\n",
    "    print(n2)"
   ]
  },
  {
   "cell_type": "code",
   "execution_count": 60,
   "id": "fb4f1c26",
   "metadata": {},
   "outputs": [
    {
     "ename": "TypeError",
     "evalue": "test_fun() takes 2 positional arguments but 3 were given",
     "output_type": "error",
     "traceback": [
      "\u001b[1;31m---------------------------------------------------------------------------\u001b[0m",
      "\u001b[1;31mTypeError\u001b[0m                                 Traceback (most recent call last)",
      "\u001b[1;32m~\\AppData\\Local\\Temp\\ipykernel_14228\\2128131263.py\u001b[0m in \u001b[0;36m<module>\u001b[1;34m\u001b[0m\n\u001b[1;32m----> 1\u001b[1;33m \u001b[0mtest_fun\u001b[0m\u001b[1;33m(\u001b[0m\u001b[1;36m4\u001b[0m\u001b[1;33m,\u001b[0m\u001b[1;36m5\u001b[0m\u001b[1;33m,\u001b[0m\u001b[1;36m6\u001b[0m\u001b[1;33m)\u001b[0m\u001b[1;33m\u001b[0m\u001b[1;33m\u001b[0m\u001b[0m\n\u001b[0m",
      "\u001b[1;31mTypeError\u001b[0m: test_fun() takes 2 positional arguments but 3 were given"
     ]
    }
   ],
   "source": [
    "test_fun(4,5,6)"
   ]
  },
  {
   "cell_type": "code",
   "execution_count": 61,
   "id": "c18edb2e",
   "metadata": {},
   "outputs": [],
   "source": [
    "def test_fun(*args):\n",
    "    print(type(args))\n",
    "    \n",
    "    for i in args:\n",
    "        print(i)\n",
    "\n",
    "  "
   ]
  },
  {
   "cell_type": "code",
   "execution_count": 62,
   "id": "829e5d28",
   "metadata": {},
   "outputs": [],
   "source": [
    "def test_fun1(*n):\n",
    "    print(type(n))\n",
    "    \n",
    "    for i in n:\n",
    "        print(i)\n",
    "\n",
    "  "
   ]
  },
  {
   "cell_type": "code",
   "execution_count": 63,
   "id": "3f8e76b8",
   "metadata": {},
   "outputs": [
    {
     "name": "stdout",
     "output_type": "stream",
     "text": [
      "<class 'tuple'>\n",
      "4\n",
      "5\n",
      "6\n"
     ]
    }
   ],
   "source": [
    "test_fun(4,5,6)"
   ]
  },
  {
   "cell_type": "code",
   "execution_count": 64,
   "id": "52f4e0aa",
   "metadata": {},
   "outputs": [
    {
     "name": "stdout",
     "output_type": "stream",
     "text": [
      "<class 'tuple'>\n",
      "4\n",
      "5\n"
     ]
    }
   ],
   "source": [
    "test_fun1(4,5)"
   ]
  },
  {
   "cell_type": "code",
   "execution_count": null,
   "id": "8036287d",
   "metadata": {},
   "outputs": [],
   "source": []
  },
  {
   "cell_type": "code",
   "execution_count": 70,
   "id": "0e5394f5",
   "metadata": {},
   "outputs": [],
   "source": [
    "def test_fun(**kwargs):\n",
    "    print(type(kwargs))\n",
    "    print(kwargs)\n",
    "\n",
    "  "
   ]
  },
  {
   "cell_type": "markdown",
   "id": "83c4d6ed",
   "metadata": {},
   "source": [
    "def test_fun2(x,z,s,t,r):\n",
    "    print(x,z,s,t)"
   ]
  },
  {
   "cell_type": "code",
   "execution_count": 69,
   "id": "11d6ef38",
   "metadata": {},
   "outputs": [
    {
     "name": "stdout",
     "output_type": "stream",
     "text": [
      "10 20 40 30\n"
     ]
    }
   ],
   "source": [
    "test_fun2(x=10, z=20, t=30, s=40, r=80)"
   ]
  },
  {
   "cell_type": "markdown",
   "id": "c389533c",
   "metadata": {},
   "source": [
    "Scope\n",
    "\n",
    "local scope\n",
    "global scope"
   ]
  },
  {
   "cell_type": "code",
   "execution_count": 71,
   "id": "de940215",
   "metadata": {},
   "outputs": [],
   "source": [
    "def fun():\n",
    "    a=15\n",
    "    print(\"a =\",a)"
   ]
  },
  {
   "cell_type": "code",
   "execution_count": 72,
   "id": "cf36509e",
   "metadata": {},
   "outputs": [
    {
     "name": "stdout",
     "output_type": "stream",
     "text": [
      "a = 15\n"
     ]
    }
   ],
   "source": [
    "fun()"
   ]
  },
  {
   "cell_type": "code",
   "execution_count": null,
   "id": "7036d1cc",
   "metadata": {},
   "outputs": [],
   "source": [
    "def fun2():\n",
    "    a="
   ]
  },
  {
   "cell_type": "code",
   "execution_count": null,
   "id": "7e79c307",
   "metadata": {},
   "outputs": [],
   "source": []
  },
  {
   "cell_type": "code",
   "execution_count": null,
   "id": "ac0cf8cb",
   "metadata": {},
   "outputs": [],
   "source": []
  },
  {
   "cell_type": "code",
   "execution_count": null,
   "id": "95305c2c",
   "metadata": {},
   "outputs": [],
   "source": []
  }
 ],
 "metadata": {
  "kernelspec": {
   "display_name": "Python 3 (ipykernel)",
   "language": "python",
   "name": "python3"
  },
  "language_info": {
   "codemirror_mode": {
    "name": "ipython",
    "version": 3
   },
   "file_extension": ".py",
   "mimetype": "text/x-python",
   "name": "python",
   "nbconvert_exporter": "python",
   "pygments_lexer": "ipython3",
   "version": "3.9.13"
  }
 },
 "nbformat": 4,
 "nbformat_minor": 5
}
