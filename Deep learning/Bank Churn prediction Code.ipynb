{
 "cells": [
  {
   "cell_type": "code",
   "execution_count": 1,
   "id": "9fc1e734-77a4-4313-b49e-daae0a407aa9",
   "metadata": {},
   "outputs": [],
   "source": [
    "from tensorflow.keras.models import load_model"
   ]
  },
  {
   "cell_type": "code",
   "execution_count": 2,
   "id": "353a0ff8-a64a-48d9-a944-b47657e70b90",
   "metadata": {},
   "outputs": [],
   "source": [
    "#filepath\n",
    "model = load_model(\" churn_prediction.h5\")  "
   ]
  },
  {
   "cell_type": "code",
   "execution_count": 3,
   "id": "6cad4a52-ddd9-448a-8669-af95a031471c",
   "metadata": {},
   "outputs": [
    {
     "name": "stdout",
     "output_type": "stream",
     "text": [
      "Model: \"sequential_1\"\n",
      "_________________________________________________________________\n",
      " Layer (type)                Output Shape              Param #   \n",
      "=================================================================\n",
      " dense_2 (Dense)             (None, 6)                 72        \n",
      "                                                                 \n",
      " dense_3 (Dense)             (None, 1)                 7         \n",
      "                                                                 \n",
      "=================================================================\n",
      "Total params: 79\n",
      "Trainable params: 79\n",
      "Non-trainable params: 0\n",
      "_________________________________________________________________\n"
     ]
    }
   ],
   "source": [
    "model.summary()"
   ]
  },
  {
   "cell_type": "code",
   "execution_count": 4,
   "id": "a60d7646-dce6-489f-a466-a4e6b155b5ae",
   "metadata": {},
   "outputs": [
    {
     "data": {
      "text/plain": [
       "[<keras.layers.core.dense.Dense at 0x22af427ac50>,\n",
       " <keras.layers.core.dense.Dense at 0x22af427acb0>]"
      ]
     },
     "execution_count": 4,
     "metadata": {},
     "output_type": "execute_result"
    }
   ],
   "source": [
    "model.layers"
   ]
  },
  {
   "cell_type": "code",
   "execution_count": 5,
   "id": "50072a58-7d99-47ea-a2b4-47675bb679d2",
   "metadata": {},
   "outputs": [
    {
     "data": {
      "text/plain": [
       "<keras.engine.sequential.Sequential at 0x22af4279480>"
      ]
     },
     "execution_count": 5,
     "metadata": {},
     "output_type": "execute_result"
    }
   ],
   "source": [
    "model"
   ]
  },
  {
   "cell_type": "code",
   "execution_count": 6,
   "id": "167d0ac3-33be-4371-a061-f0b1e44ed6c3",
   "metadata": {},
   "outputs": [],
   "source": [
    "import joblib"
   ]
  },
  {
   "cell_type": "code",
   "execution_count": 7,
   "id": "9adacc0a-8b29-4fc5-bc73-ac8d0237faae",
   "metadata": {},
   "outputs": [],
   "source": [
    " sc = joblib.load(\"churn_sc.pkl\")"
   ]
  },
  {
   "cell_type": "code",
   "execution_count": 8,
   "id": "c41c8b91-873b-4aec-b850-42e6f3caa4da",
   "metadata": {},
   "outputs": [],
   "source": [
    "data = [[400.0, 31.0, 6.0, 0.0, 1.0, 1.0, 0.0, 80181.12, 0.0, 0.0, 0.0]]"
   ]
  },
  {
   "cell_type": "code",
   "execution_count": 9,
   "id": "902965fb-d067-4334-a4c1-078075a65f11",
   "metadata": {},
   "outputs": [],
   "source": [
    "def predict_data(data, thresh = 0.5):\n",
    "    data = sc.transform(data)\n",
    "    \n",
    "    pred = model.predict(data,  verbose = 0)\n",
    "    pred = pred > thresh\n",
    "    pred = pred.astype(\"int\")\n",
    "    \n",
    "    pred = pred[0][0]\n",
    "    target = [\"Not Exit\", \"Exited\"]\n",
    "    return target[pred]"
   ]
  },
  {
   "cell_type": "code",
   "execution_count": 10,
   "id": "be40899d-e450-4aa1-b4d9-bf5fdfb1a30f",
   "metadata": {},
   "outputs": [
    {
     "name": "stderr",
     "output_type": "stream",
     "text": [
      "C:\\Users\\sandh\\anaconda3\\lib\\site-packages\\sklearn\\base.py:420: UserWarning: X does not have valid feature names, but StandardScaler was fitted with feature names\n",
      "  warnings.warn(\n"
     ]
    },
    {
     "data": {
      "text/plain": [
       "'Not Exit'"
      ]
     },
     "execution_count": 10,
     "metadata": {},
     "output_type": "execute_result"
    }
   ],
   "source": [
    "predict_data(data)"
   ]
  },
  {
   "cell_type": "code",
   "execution_count": null,
   "id": "b77b0d49-816a-411b-8b96-559555861d68",
   "metadata": {},
   "outputs": [],
   "source": []
  }
 ],
 "metadata": {
  "kernelspec": {
   "display_name": "Python 3 (ipykernel)",
   "language": "python",
   "name": "python3"
  },
  "language_info": {
   "codemirror_mode": {
    "name": "ipython",
    "version": 3
   },
   "file_extension": ".py",
   "mimetype": "text/x-python",
   "name": "python",
   "nbconvert_exporter": "python",
   "pygments_lexer": "ipython3",
   "version": "3.10.9"
  }
 },
 "nbformat": 4,
 "nbformat_minor": 5
}
