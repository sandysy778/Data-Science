{
 "cells": [
  {
   "cell_type": "code",
   "execution_count": 1,
   "id": "99f0d4fb-59d0-4b51-997a-3d36fd6dc64c",
   "metadata": {},
   "outputs": [],
   "source": [
    "import cv2"
   ]
  },
  {
   "cell_type": "code",
   "execution_count": 2,
   "id": "261a0669-74c6-458e-a3c8-2b15c2f5c1f3",
   "metadata": {},
   "outputs": [],
   "source": [
    "def display_image(name, frame):\n",
    "    cv2.namedWindow(\"Frame\", cv2.WINDOW_FREERATIO)\n",
    "    cv2.resizeWindow(\"Frame\", 500, 500)\n",
    "    "
   ]
  },
  {
   "cell_type": "code",
   "execution_count": 3,
   "id": "aa34cd5c-cc73-4e37-bd98-f14754ba6008",
   "metadata": {},
   "outputs": [],
   "source": [
    "#Path of the video\n",
    "#Webcam -- 0-- Primary webcam\n",
    "#Webcam -- 1 -- secondary webcam\n",
    "\n",
    "\n",
    "video = cv2.VideoCapture(\"Horses_9.mp4\")\n",
    "is_frame = True\n",
    "\n",
    "while is_frame:\n",
    "    is_frame, frame = video.read()\n",
    "    if is_frame:\n",
    "        \n",
    "        \n",
    "        gray_image = cv2.cvtColor(frame, cv2.COLOR_BGR2GRAY)\n",
    "        \n",
    "        display_image(\"Frame\", frame)\n",
    "        display_image(\"B\\W Video\", gray_image)\n",
    "        if cv2.waitKey(1) == ord(\"q\"):          \n",
    "            break\n",
    "        \n",
    "\n",
    "cv2.destroyAllWindows()\n",
    "video.release() #stop the video capture"
   ]
  },
  {
   "cell_type": "code",
   "execution_count": null,
   "id": "2467b894-48f2-4cd6-9dd1-d7b0da865eb7",
   "metadata": {},
   "outputs": [],
   "source": []
  },
  {
   "cell_type": "code",
   "execution_count": null,
   "id": "d67d383f-ab09-4c28-a6cc-b1b1c51eb540",
   "metadata": {},
   "outputs": [],
   "source": []
  }
 ],
 "metadata": {
  "kernelspec": {
   "display_name": "Python 3 (ipykernel)",
   "language": "python",
   "name": "python3"
  },
  "language_info": {
   "codemirror_mode": {
    "name": "ipython",
    "version": 3
   },
   "file_extension": ".py",
   "mimetype": "text/x-python",
   "name": "python",
   "nbconvert_exporter": "python",
   "pygments_lexer": "ipython3",
   "version": "3.10.9"
  }
 },
 "nbformat": 4,
 "nbformat_minor": 5
}
