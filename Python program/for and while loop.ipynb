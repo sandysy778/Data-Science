{
 "cells": [
  {
   "cell_type": "code",
   "execution_count": 1,
   "id": "1d7a56e1-1a4b-49d6-ae4a-249ded2c16da",
   "metadata": {},
   "outputs": [],
   "source": [
    "name = 'Abhishek'"
   ]
  },
  {
   "cell_type": "code",
   "execution_count": 4,
   "id": "cc3832ac-64ad-4249-898b-75886281f3b6",
   "metadata": {},
   "outputs": [
    {
     "name": "stdout",
     "output_type": "stream",
     "text": [
      "A\n",
      "b\n",
      "this is something special!\n",
      "h\n",
      "i\n",
      "s\n",
      "h\n",
      "e\n",
      "k\n"
     ]
    }
   ],
   "source": [
    "for i in name:\n",
    "    print(i)\n",
    "    if(i==\"b\"):\n",
    "        print(\"this is something special!\")"
   ]
  },
  {
   "cell_type": "code",
   "execution_count": 7,
   "id": "0f3eddb2-6689-431a-960d-4eff24a3f13f",
   "metadata": {},
   "outputs": [
    {
     "name": "stdout",
     "output_type": "stream",
     "text": [
      "Red\n",
      "R\n",
      "e\n",
      "d\n",
      "Green\n",
      "G\n",
      "r\n",
      "e\n",
      "e\n",
      "n\n",
      "Blue\n",
      "B\n",
      "l\n",
      "u\n",
      "e\n",
      "Yellow\n",
      "Y\n",
      "e\n",
      "l\n",
      "l\n",
      "o\n",
      "w\n"
     ]
    }
   ],
   "source": [
    "colors = [\"Red\", \"Green\", \"Blue\", \"Yellow\"]\n",
    "for color in colors:\n",
    "    print(color) \n",
    "    for i in color:\n",
    "        print(i)"
   ]
  },
  {
   "cell_type": "code",
   "execution_count": 8,
   "id": "496afc01-f781-4a78-b1b1-528890bbcc16",
   "metadata": {},
   "outputs": [
    {
     "name": "stdout",
     "output_type": "stream",
     "text": [
      "0\n",
      "1\n",
      "2\n",
      "3\n",
      "4\n"
     ]
    }
   ],
   "source": [
    "for k in range(5):\n",
    "    print(k)"
   ]
  },
  {
   "cell_type": "code",
   "execution_count": 9,
   "id": "86cc9619-c458-4127-8bbd-847332e1ce8c",
   "metadata": {},
   "outputs": [
    {
     "name": "stdout",
     "output_type": "stream",
     "text": [
      "1\n",
      "2\n",
      "3\n",
      "4\n",
      "5\n"
     ]
    }
   ],
   "source": [
    "for k in range(5):\n",
    "    print(k+1)"
   ]
  },
  {
   "cell_type": "code",
   "execution_count": 10,
   "id": "96b55e31-0c61-4bfe-ae85-ab2f6ae98fc3",
   "metadata": {},
   "outputs": [
    {
     "name": "stdout",
     "output_type": "stream",
     "text": [
      "1\n",
      "2\n",
      "3\n",
      "4\n",
      "5\n",
      "6\n",
      "7\n",
      "8\n"
     ]
    }
   ],
   "source": [
    "for k in range(1, 9):\n",
    "    print(k)"
   ]
  },
  {
   "cell_type": "code",
   "execution_count": 11,
   "id": "476aa449-632f-4c5e-9618-38e32529ae0a",
   "metadata": {},
   "outputs": [
    {
     "name": "stdout",
     "output_type": "stream",
     "text": [
      "1\n",
      "4\n",
      "7\n",
      "10\n"
     ]
    }
   ],
   "source": [
    "for k in range(1, 12, 3):\n",
    "    print(k)"
   ]
  },
  {
   "cell_type": "code",
   "execution_count": 14,
   "id": "0db7482b-db41-4377-bfc9-52c4dacf0f11",
   "metadata": {},
   "outputs": [
    {
     "name": "stdout",
     "output_type": "stream",
     "text": [
      "0\n",
      "2\n",
      "4\n",
      "6\n",
      "8\n"
     ]
    }
   ],
   "source": [
    "for k in range(1, 10, 2):\n",
    "    print(k-1)"
   ]
  },
  {
   "cell_type": "code",
   "execution_count": 15,
   "id": "1bbcd6cd-2cbc-4526-9a7e-562b763f4ae2",
   "metadata": {},
   "outputs": [
    {
     "name": "stdout",
     "output_type": "stream",
     "text": [
      "1\n",
      "4\n",
      "7\n"
     ]
    }
   ],
   "source": [
    "for k in range(1, 10, 3):\n",
    "    print(k)"
   ]
  },
  {
   "cell_type": "code",
   "execution_count": 17,
   "id": "bde2dbbd-c0a9-4a09-951a-7a684ab9cbba",
   "metadata": {},
   "outputs": [
    {
     "name": "stdout",
     "output_type": "stream",
     "text": [
      "2\n",
      "3\n",
      "4\n",
      "5\n"
     ]
    }
   ],
   "source": [
    "for k in range(1, 5):\n",
    "    print(k+1)"
   ]
  },
  {
   "cell_type": "code",
   "execution_count": 18,
   "id": "d4b8c146-9168-4b40-ac38-8ab529c8d091",
   "metadata": {},
   "outputs": [
    {
     "name": "stdout",
     "output_type": "stream",
     "text": [
      "1\n",
      "4\n",
      "7\n",
      "10\n",
      "13\n",
      "16\n",
      "19\n"
     ]
    }
   ],
   "source": [
    "for k in range(1, 20, 3):\n",
    "    print(k)"
   ]
  },
  {
   "cell_type": "code",
   "execution_count": 19,
   "id": "3c67d96f-aca7-4a25-9721-5edcac93223d",
   "metadata": {},
   "outputs": [
    {
     "name": "stdout",
     "output_type": "stream",
     "text": [
      "1\n",
      "2\n",
      "3\n",
      "4\n",
      "5\n"
     ]
    }
   ],
   "source": [
    "for k in range(5):\n",
    "    print(k+1)"
   ]
  },
  {
   "cell_type": "code",
   "execution_count": 20,
   "id": "a3374387-ebeb-46a2-958e-87d8ceda881a",
   "metadata": {},
   "outputs": [
    {
     "name": "stdout",
     "output_type": "stream",
     "text": [
      "2\n",
      "3\n",
      "4\n",
      "5\n",
      "6\n"
     ]
    }
   ],
   "source": [
    "for k in range(5):\n",
    "    print(k+2)"
   ]
  },
  {
   "cell_type": "code",
   "execution_count": 24,
   "id": "14fc02f6-7bf9-40ed-8a9d-f4f68f6e209b",
   "metadata": {},
   "outputs": [
    {
     "name": "stdout",
     "output_type": "stream",
     "text": [
      "0\n",
      "1\n",
      "2\n",
      "3\n",
      "Done with the loop\n"
     ]
    }
   ],
   "source": [
    " i=0\n",
    "while(i<=3):\n",
    "    print(i)\n",
    "    i = i+1\n",
    "    \n",
    "print(\"Done with the loop\")"
   ]
  },
  {
   "cell_type": "code",
   "execution_count": 25,
   "id": "5f051265-f556-486c-af13-392d9757dba8",
   "metadata": {},
   "outputs": [
    {
     "name": "stdin",
     "output_type": "stream",
     "text": [
      "Enter the number: 8\n",
      "Enter the number: 38\n"
     ]
    },
    {
     "name": "stdout",
     "output_type": "stream",
     "text": [
      "38\n"
     ]
    },
    {
     "name": "stdin",
     "output_type": "stream",
     "text": [
      "Enter the number: 78\n"
     ]
    },
    {
     "name": "stdout",
     "output_type": "stream",
     "text": [
      "78\n",
      "Done with the loop\n"
     ]
    }
   ],
   "source": [
    "i = int(input(\"Enter the number:\"))\n",
    "while(i<=38):\n",
    "    i = int(input(\"Enter the number:\"))\n",
    "    print(i)\n",
    "    \n",
    "print(\"Done with the loop\")"
   ]
  },
  {
   "cell_type": "code",
   "execution_count": 26,
   "id": "9c47263d-216d-45a0-bedb-78a35258c54c",
   "metadata": {},
   "outputs": [
    {
     "name": "stdout",
     "output_type": "stream",
     "text": [
      "5\n",
      "4\n",
      "3\n",
      "2\n",
      "1\n"
     ]
    }
   ],
   "source": [
    "count = 5\n",
    "while (count >0):\n",
    "    print(count)\n",
    "    count = count - 1"
   ]
  },
  {
   "cell_type": "code",
   "execution_count": null,
   "id": "a2e5bfc1-acd6-4f2a-bb56-db29d30c1166",
   "metadata": {},
   "outputs": [],
   "source": [
    "## "
   ]
  }
 ],
 "metadata": {
  "kernelspec": {
   "display_name": "Python 3 (ipykernel)",
   "language": "python",
   "name": "python3"
  },
  "language_info": {
   "codemirror_mode": {
    "name": "ipython",
    "version": 3
   },
   "file_extension": ".py",
   "mimetype": "text/x-python",
   "name": "python",
   "nbconvert_exporter": "python",
   "pygments_lexer": "ipython3",
   "version": "3.11.5"
  }
 },
 "nbformat": 4,
 "nbformat_minor": 5
}
