{
 "cells": [
  {
   "cell_type": "markdown",
   "id": "9d99fabd",
   "metadata": {},
   "source": [
    "single Inheritance\n"
   ]
  },
  {
   "cell_type": "code",
   "execution_count": 14,
   "id": "92c6310f",
   "metadata": {},
   "outputs": [
    {
     "name": "stdout",
     "output_type": "stream",
     "text": [
      "class B, method m2\n"
     ]
    }
   ],
   "source": [
    "b.m2()"
   ]
  },
  {
   "cell_type": "code",
   "execution_count": null,
   "id": "dc39c225",
   "metadata": {},
   "outputs": [],
   "source": []
  },
  {
   "cell_type": "code",
   "execution_count": 15,
   "id": "8136bfc0",
   "metadata": {},
   "outputs": [
    {
     "name": "stdout",
     "output_type": "stream",
     "text": [
      "Class A, method m1\n"
     ]
    }
   ],
   "source": [
    "b.m1()"
   ]
  },
  {
   "cell_type": "code",
   "execution_count": 16,
   "id": "d71b5da6",
   "metadata": {},
   "outputs": [
    {
     "ename": "AttributeError",
     "evalue": "'A' object has no attribute 'm2'",
     "output_type": "error",
     "traceback": [
      "\u001b[1;31m---------------------------------------------------------------------------\u001b[0m",
      "\u001b[1;31mAttributeError\u001b[0m                            Traceback (most recent call last)",
      "\u001b[1;32m~\\AppData\\Local\\Temp\\ipykernel_14364\\2839485898.py\u001b[0m in \u001b[0;36m<module>\u001b[1;34m\u001b[0m\n\u001b[1;32m----> 1\u001b[1;33m \u001b[0ma\u001b[0m\u001b[1;33m.\u001b[0m\u001b[0mm2\u001b[0m\u001b[1;33m(\u001b[0m\u001b[1;33m)\u001b[0m\u001b[1;33m\u001b[0m\u001b[1;33m\u001b[0m\u001b[0m\n\u001b[0m",
      "\u001b[1;31mAttributeError\u001b[0m: 'A' object has no attribute 'm2'"
     ]
    }
   ],
   "source": [
    "a.m2()"
   ]
  },
  {
   "cell_type": "code",
   "execution_count": 17,
   "id": "a879a78c",
   "metadata": {},
   "outputs": [],
   "source": [
    "#Multileve inheritance"
   ]
  },
  {
   "cell_type": "code",
   "execution_count": 19,
   "id": "39477425",
   "metadata": {},
   "outputs": [],
   "source": [
    "class A:\n",
    "    def m1(self):\n",
    "        print(\"class A, method m1\")\n",
    "        \n",
    "        \n",
    "class B(A):\n",
    "    def m2(self):\n",
    "        print(\"class B, method m2\")\n",
    "        \n",
    "class c(B):\n",
    "    def m3(self):\n",
    "        print(\"class c, method m3\")\n",
    "    "
   ]
  },
  {
   "cell_type": "code",
   "execution_count": 21,
   "id": "52920a43",
   "metadata": {},
   "outputs": [],
   "source": [
    "a =A()\n",
    "b = B()\n",
    "c = c()"
   ]
  },
  {
   "cell_type": "code",
   "execution_count": 22,
   "id": "0320a88e",
   "metadata": {},
   "outputs": [
    {
     "name": "stdout",
     "output_type": "stream",
     "text": [
      "class A, method m1\n"
     ]
    }
   ],
   "source": [
    "a.m1()"
   ]
  },
  {
   "cell_type": "code",
   "execution_count": 23,
   "id": "bee63e9f",
   "metadata": {},
   "outputs": [
    {
     "name": "stdout",
     "output_type": "stream",
     "text": [
      "class B, method m2\n"
     ]
    }
   ],
   "source": [
    "b.m2()"
   ]
  },
  {
   "cell_type": "code",
   "execution_count": 24,
   "id": "620325c3",
   "metadata": {},
   "outputs": [
    {
     "name": "stdout",
     "output_type": "stream",
     "text": [
      "class c, method m3\n"
     ]
    }
   ],
   "source": [
    "c.m3()"
   ]
  },
  {
   "cell_type": "code",
   "execution_count": null,
   "id": "eddcf858",
   "metadata": {},
   "outputs": [],
   "source": []
  },
  {
   "cell_type": "markdown",
   "id": "43419a49",
   "metadata": {},
   "source": [
    "# Hierarchical inheritance"
   ]
  },
  {
   "cell_type": "code",
   "execution_count": 25,
   "id": "c3128cb2",
   "metadata": {},
   "outputs": [],
   "source": [
    "class A:\n",
    "    def m1(self):\n",
    "        print(\"class A, method m1\")\n",
    "        \n",
    "class B(A):\n",
    "    def m2(self):\n",
    "        print(\"class B, method m2\")\n",
    "        \n",
    "class C(B):\n",
    "    def m3(self):\n",
    "        print(\"class C, method m3\")"
   ]
  },
  {
   "cell_type": "code",
   "execution_count": 26,
   "id": "02ae6526",
   "metadata": {},
   "outputs": [],
   "source": [
    "a = A()\n",
    "b = B()\n",
    "c = C()"
   ]
  },
  {
   "cell_type": "code",
   "execution_count": 27,
   "id": "94e59e75",
   "metadata": {},
   "outputs": [
    {
     "name": "stdout",
     "output_type": "stream",
     "text": [
      "class A, method m1\n"
     ]
    }
   ],
   "source": [
    "a.m1()"
   ]
  },
  {
   "cell_type": "code",
   "execution_count": 28,
   "id": "913f27ab",
   "metadata": {},
   "outputs": [
    {
     "name": "stdout",
     "output_type": "stream",
     "text": [
      "class A, method m1\n"
     ]
    }
   ],
   "source": [
    "b.m1()"
   ]
  },
  {
   "cell_type": "code",
   "execution_count": 29,
   "id": "27717c23",
   "metadata": {},
   "outputs": [
    {
     "name": "stdout",
     "output_type": "stream",
     "text": [
      "class A, method m1\n"
     ]
    }
   ],
   "source": [
    "c.m1()"
   ]
  },
  {
   "cell_type": "code",
   "execution_count": 30,
   "id": "6a09388d",
   "metadata": {},
   "outputs": [
    {
     "ename": "AttributeError",
     "evalue": "'A' object has no attribute 'm2'",
     "output_type": "error",
     "traceback": [
      "\u001b[1;31m---------------------------------------------------------------------------\u001b[0m",
      "\u001b[1;31mAttributeError\u001b[0m                            Traceback (most recent call last)",
      "\u001b[1;32m~\\AppData\\Local\\Temp\\ipykernel_14364\\2839485898.py\u001b[0m in \u001b[0;36m<module>\u001b[1;34m\u001b[0m\n\u001b[1;32m----> 1\u001b[1;33m \u001b[0ma\u001b[0m\u001b[1;33m.\u001b[0m\u001b[0mm2\u001b[0m\u001b[1;33m(\u001b[0m\u001b[1;33m)\u001b[0m\u001b[1;33m\u001b[0m\u001b[1;33m\u001b[0m\u001b[0m\n\u001b[0m",
      "\u001b[1;31mAttributeError\u001b[0m: 'A' object has no attribute 'm2'"
     ]
    }
   ],
   "source": [
    "a.m2()"
   ]
  },
  {
   "cell_type": "code",
   "execution_count": 31,
   "id": "650efcb1",
   "metadata": {},
   "outputs": [
    {
     "name": "stdout",
     "output_type": "stream",
     "text": [
      "class B, method m2\n"
     ]
    }
   ],
   "source": [
    "b.m2()"
   ]
  },
  {
   "cell_type": "code",
   "execution_count": 32,
   "id": "fba36ba3",
   "metadata": {},
   "outputs": [
    {
     "name": "stdout",
     "output_type": "stream",
     "text": [
      "class C, method m3\n"
     ]
    }
   ],
   "source": [
    "c.m3()"
   ]
  },
  {
   "cell_type": "code",
   "execution_count": 34,
   "id": "3ec381b0",
   "metadata": {},
   "outputs": [
    {
     "name": "stdout",
     "output_type": "stream",
     "text": [
      "class B, method m2\n"
     ]
    }
   ],
   "source": [
    "c.m2()"
   ]
  },
  {
   "cell_type": "markdown",
   "id": "11c80f88",
   "metadata": {},
   "source": [
    "# Polymorphism"
   ]
  },
  {
   "cell_type": "code",
   "execution_count": 35,
   "id": "36e97286",
   "metadata": {},
   "outputs": [
    {
     "data": {
      "text/plain": [
       "3"
      ]
     },
     "execution_count": 35,
     "metadata": {},
     "output_type": "execute_result"
    }
   ],
   "source": [
    "1+2"
   ]
  },
  {
   "cell_type": "code",
   "execution_count": 36,
   "id": "1790c886",
   "metadata": {},
   "outputs": [
    {
     "ename": "SyntaxError",
     "evalue": "EOL while scanning string literal (4073323860.py, line 1)",
     "output_type": "error",
     "traceback": [
      "\u001b[1;36m  File \u001b[1;32m\"C:\\Users\\Yuvaraj\\AppData\\Local\\Temp\\ipykernel_14364\\4073323860.py\"\u001b[1;36m, line \u001b[1;32m1\u001b[0m\n\u001b[1;33m    'hi+\"hello\"\u001b[0m\n\u001b[1;37m               ^\u001b[0m\n\u001b[1;31mSyntaxError\u001b[0m\u001b[1;31m:\u001b[0m EOL while scanning string literal\n"
     ]
    }
   ],
   "source": [
    "'hi+\"hello\""
   ]
  },
  {
   "cell_type": "code",
   "execution_count": 37,
   "id": "9f04d391",
   "metadata": {},
   "outputs": [
    {
     "data": {
      "text/plain": [
       "'hihello'"
      ]
     },
     "execution_count": 37,
     "metadata": {},
     "output_type": "execute_result"
    }
   ],
   "source": [
    "'hi'+'hello'"
   ]
  },
  {
   "cell_type": "code",
   "execution_count": 38,
   "id": "5c4d9cac",
   "metadata": {},
   "outputs": [
    {
     "data": {
      "text/plain": [
       "[1, 2, 3, 4, 5, 6]"
      ]
     },
     "execution_count": 38,
     "metadata": {},
     "output_type": "execute_result"
    }
   ],
   "source": [
    "[1,2,3]+[4,5,6]"
   ]
  },
  {
   "cell_type": "code",
   "execution_count": 39,
   "id": "07d79802",
   "metadata": {},
   "outputs": [
    {
     "data": {
      "text/plain": [
       "5"
      ]
     },
     "execution_count": 39,
     "metadata": {},
     "output_type": "execute_result"
    }
   ],
   "source": [
    "len('hello')"
   ]
  },
  {
   "cell_type": "markdown",
   "id": "4c94f0b6",
   "metadata": {},
   "source": [
    "Multiple inheritance"
   ]
  },
  {
   "cell_type": "code",
   "execution_count": 50,
   "id": "2071c4f3",
   "metadata": {},
   "outputs": [],
   "source": [
    "class A:\n",
    "    def m1(self):\n",
    "        print(\"class A, method m1\")\n",
    "        \n",
    "class B(A):\n",
    "    def m2(self):\n",
    "        print(\"class B, method m2\")\n",
    "        \n",
    "class C(B):\n",
    "    def m3(self):\n",
    "        print(\"class C method m3\")"
   ]
  },
  {
   "cell_type": "code",
   "execution_count": 48,
   "id": "a8cdb185",
   "metadata": {},
   "outputs": [],
   "source": [
    "a = A()\n",
    "b = B()\n",
    "c = C()"
   ]
  },
  {
   "cell_type": "code",
   "execution_count": 49,
   "id": "200442e8",
   "metadata": {},
   "outputs": [
    {
     "name": "stdout",
     "output_type": "stream",
     "text": [
      "class A, method m1\n"
     ]
    }
   ],
   "source": [
    "a.m1()"
   ]
  },
  {
   "cell_type": "code",
   "execution_count": 51,
   "id": "6d51e427",
   "metadata": {},
   "outputs": [
    {
     "name": "stdout",
     "output_type": "stream",
     "text": [
      "class A, method m1\n"
     ]
    }
   ],
   "source": [
    "b.m1()"
   ]
  },
  {
   "cell_type": "code",
   "execution_count": 52,
   "id": "e4995e76",
   "metadata": {},
   "outputs": [
    {
     "name": "stdout",
     "output_type": "stream",
     "text": [
      "class A, method m1\n"
     ]
    }
   ],
   "source": [
    "c.m1()"
   ]
  },
  {
   "cell_type": "code",
   "execution_count": 53,
   "id": "6d441d3f",
   "metadata": {},
   "outputs": [
    {
     "name": "stdout",
     "output_type": "stream",
     "text": [
      "class B, method m2\n"
     ]
    }
   ],
   "source": [
    "c.m2()"
   ]
  },
  {
   "cell_type": "code",
   "execution_count": 55,
   "id": "65d21b65",
   "metadata": {},
   "outputs": [
    {
     "name": "stdout",
     "output_type": "stream",
     "text": [
      "class B, method m2\n"
     ]
    }
   ],
   "source": [
    "b.m2()"
   ]
  },
  {
   "cell_type": "code",
   "execution_count": 56,
   "id": "9e6e173f",
   "metadata": {},
   "outputs": [],
   "source": [
    "#Hierachical Inheritance"
   ]
  },
  {
   "cell_type": "code",
   "execution_count": 58,
   "id": "4b286ece",
   "metadata": {},
   "outputs": [],
   "source": [
    "class A:\n",
    "    def m1(self):\n",
    "        print(\"class A, method m1\")\n",
    "        \n",
    "class B(A):\n",
    "    def m2(self):\n",
    "        print(\"class B, method m2\")\n",
    "        \n",
    "class C(A):\n",
    "    def m3(self):\n",
    "        print(\"class C, method m3\")"
   ]
  },
  {
   "cell_type": "code",
   "execution_count": 59,
   "id": "fe90b357",
   "metadata": {},
   "outputs": [],
   "source": [
    "a = A()\n",
    "b = B()\n",
    "c = C()"
   ]
  },
  {
   "cell_type": "code",
   "execution_count": 60,
   "id": "feb1880c",
   "metadata": {},
   "outputs": [
    {
     "name": "stdout",
     "output_type": "stream",
     "text": [
      "class A, method m1\n"
     ]
    }
   ],
   "source": [
    "a.m1()"
   ]
  },
  {
   "cell_type": "code",
   "execution_count": 61,
   "id": "ae8d0761",
   "metadata": {},
   "outputs": [
    {
     "name": "stdout",
     "output_type": "stream",
     "text": [
      "class B, method m2\n"
     ]
    }
   ],
   "source": [
    "b.m2()"
   ]
  },
  {
   "cell_type": "code",
   "execution_count": 62,
   "id": "4fdf0b11",
   "metadata": {},
   "outputs": [
    {
     "ename": "AttributeError",
     "evalue": "'B' object has no attribute 'm3'",
     "output_type": "error",
     "traceback": [
      "\u001b[1;31m---------------------------------------------------------------------------\u001b[0m",
      "\u001b[1;31mAttributeError\u001b[0m                            Traceback (most recent call last)",
      "\u001b[1;32m~\\AppData\\Local\\Temp\\ipykernel_14364\\3051249864.py\u001b[0m in \u001b[0;36m<module>\u001b[1;34m\u001b[0m\n\u001b[1;32m----> 1\u001b[1;33m \u001b[0mb\u001b[0m\u001b[1;33m.\u001b[0m\u001b[0mm3\u001b[0m\u001b[1;33m(\u001b[0m\u001b[1;33m)\u001b[0m\u001b[1;33m\u001b[0m\u001b[1;33m\u001b[0m\u001b[0m\n\u001b[0m",
      "\u001b[1;31mAttributeError\u001b[0m: 'B' object has no attribute 'm3'"
     ]
    }
   ],
   "source": [
    "b.m3()"
   ]
  },
  {
   "cell_type": "code",
   "execution_count": 63,
   "id": "e9cded77",
   "metadata": {},
   "outputs": [
    {
     "name": "stdout",
     "output_type": "stream",
     "text": [
      "class A, method m1\n"
     ]
    }
   ],
   "source": [
    "c.m1()"
   ]
  },
  {
   "cell_type": "code",
   "execution_count": 64,
   "id": "478510a7",
   "metadata": {},
   "outputs": [
    {
     "ename": "AttributeError",
     "evalue": "'C' object has no attribute 'm2'",
     "output_type": "error",
     "traceback": [
      "\u001b[1;31m---------------------------------------------------------------------------\u001b[0m",
      "\u001b[1;31mAttributeError\u001b[0m                            Traceback (most recent call last)",
      "\u001b[1;32m~\\AppData\\Local\\Temp\\ipykernel_14364\\2811385359.py\u001b[0m in \u001b[0;36m<module>\u001b[1;34m\u001b[0m\n\u001b[1;32m----> 1\u001b[1;33m \u001b[0mc\u001b[0m\u001b[1;33m.\u001b[0m\u001b[0mm2\u001b[0m\u001b[1;33m(\u001b[0m\u001b[1;33m)\u001b[0m\u001b[1;33m\u001b[0m\u001b[1;33m\u001b[0m\u001b[0m\n\u001b[0m",
      "\u001b[1;31mAttributeError\u001b[0m: 'C' object has no attribute 'm2'"
     ]
    }
   ],
   "source": [
    "c.m2()"
   ]
  },
  {
   "cell_type": "code",
   "execution_count": 66,
   "id": "ab8c0505",
   "metadata": {},
   "outputs": [
    {
     "name": "stdout",
     "output_type": "stream",
     "text": [
      "class A, method m1\n"
     ]
    }
   ],
   "source": [
    "c.m1()"
   ]
  },
  {
   "cell_type": "code",
   "execution_count": 67,
   "id": "bfb5ed10",
   "metadata": {},
   "outputs": [
    {
     "ename": "AttributeError",
     "evalue": "'C' object has no attribute 'm2'",
     "output_type": "error",
     "traceback": [
      "\u001b[1;31m---------------------------------------------------------------------------\u001b[0m",
      "\u001b[1;31mAttributeError\u001b[0m                            Traceback (most recent call last)",
      "\u001b[1;32m~\\AppData\\Local\\Temp\\ipykernel_14364\\2811385359.py\u001b[0m in \u001b[0;36m<module>\u001b[1;34m\u001b[0m\n\u001b[1;32m----> 1\u001b[1;33m \u001b[0mc\u001b[0m\u001b[1;33m.\u001b[0m\u001b[0mm2\u001b[0m\u001b[1;33m(\u001b[0m\u001b[1;33m)\u001b[0m\u001b[1;33m\u001b[0m\u001b[1;33m\u001b[0m\u001b[0m\n\u001b[0m",
      "\u001b[1;31mAttributeError\u001b[0m: 'C' object has no attribute 'm2'"
     ]
    }
   ],
   "source": [
    "c.m2()"
   ]
  },
  {
   "cell_type": "code",
   "execution_count": 69,
   "id": "b776cab2",
   "metadata": {},
   "outputs": [],
   "source": [
    "class A:\n",
    "    def m1(self):\n",
    "        print(\"class A, method m1\")\n",
    "        \n",
    "class B:\n",
    "    def m2(self):\n",
    "        print(\"class B, method m2\")\n",
    "        \n",
    "class C(A,B):\n",
    "    def m3(self):\n",
    "        print(\"class C, method m3\")"
   ]
  },
  {
   "cell_type": "code",
   "execution_count": 70,
   "id": "f249bdef",
   "metadata": {},
   "outputs": [],
   "source": [
    "a = A()\n",
    "b = B()\n",
    "c = C()"
   ]
  },
  {
   "cell_type": "code",
   "execution_count": 71,
   "id": "080987e6",
   "metadata": {},
   "outputs": [
    {
     "name": "stdout",
     "output_type": "stream",
     "text": [
      "class A, method m1\n"
     ]
    }
   ],
   "source": [
    "c.m1()"
   ]
  },
  {
   "cell_type": "code",
   "execution_count": 72,
   "id": "9133d6e1",
   "metadata": {},
   "outputs": [
    {
     "name": "stdout",
     "output_type": "stream",
     "text": [
      "class B, method m2\n"
     ]
    }
   ],
   "source": [
    "c.m2()"
   ]
  },
  {
   "cell_type": "code",
   "execution_count": 73,
   "id": "82e35c13",
   "metadata": {},
   "outputs": [
    {
     "name": "stdout",
     "output_type": "stream",
     "text": [
      "class C, method m3\n"
     ]
    }
   ],
   "source": [
    "c.m3()"
   ]
  },
  {
   "cell_type": "markdown",
   "id": "f3ec2b23",
   "metadata": {},
   "source": [
    "METHOD OVERRIDING"
   ]
  },
  {
   "cell_type": "code",
   "execution_count": null,
   "id": "6fa3f3ec",
   "metadata": {},
   "outputs": [],
   "source": [
    "A->B"
   ]
  },
  {
   "cell_type": "code",
   "execution_count": 75,
   "id": "60bf76af",
   "metadata": {},
   "outputs": [],
   "source": [
    "class person:\n",
    "    \n",
    "    def __init__(self, Name, Age):\n",
    "        \n",
    "        self.name = Name\n",
    "        self.Age = Age\n",
    "        \n",
    "    def get_details(self):\n",
    "        \n",
    "        print(\"I am inside the get_details method\")\n",
    "        print(f'Details of person are {self.name}, {self.age}')\n",
    "        \n",
    "    def speak(self):\n",
    "        \n",
    "        print(f'{self.name} is speaking')"
   ]
  },
  {
   "cell_type": "code",
   "execution_count": 82,
   "id": "dc7d0308",
   "metadata": {},
   "outputs": [],
   "source": [
    "class student(person):\n",
    "    \n",
    "    def __init__(self, Name, Age, Rollno):\n",
    "        super().__init__(Name, Age)\n",
    "        \n",
    "        self.rno = Rollno\n",
    "        \n",
    "    def attending_lecture(self):\n",
    "        print(f'{self.name} is attending alecture')\n",
    "    def speak(self):\n",
    "        print(f'{self.name} is student and he is speaking')\n",
    "       \n",
    "        \n",
    "    "
   ]
  },
  {
   "cell_type": "code",
   "execution_count": 83,
   "id": "9529db78",
   "metadata": {},
   "outputs": [],
   "source": [
    "s1 = student('ravi', 24, 124)"
   ]
  },
  {
   "cell_type": "code",
   "execution_count": 86,
   "id": "f156175a",
   "metadata": {},
   "outputs": [
    {
     "data": {
      "text/plain": [
       "('ravi', 24, 124)"
      ]
     },
     "execution_count": 86,
     "metadata": {},
     "output_type": "execute_result"
    }
   ],
   "source": [
    "s1.name, s1.Age, s1.rno"
   ]
  },
  {
   "cell_type": "code",
   "execution_count": 87,
   "id": "3b29a1f8",
   "metadata": {},
   "outputs": [
    {
     "name": "stdout",
     "output_type": "stream",
     "text": [
      "ravi is student and he is speaking\n"
     ]
    }
   ],
   "source": [
    "s1.speak()"
   ]
  },
  {
   "cell_type": "code",
   "execution_count": 88,
   "id": "0d5f5de8",
   "metadata": {},
   "outputs": [],
   "source": [
    "p1 =  person('akhil', 25)"
   ]
  },
  {
   "cell_type": "code",
   "execution_count": 90,
   "id": "c5c55fb0",
   "metadata": {},
   "outputs": [
    {
     "data": {
      "text/plain": [
       "('akhil', 25)"
      ]
     },
     "execution_count": 90,
     "metadata": {},
     "output_type": "execute_result"
    }
   ],
   "source": [
    "p1.name, p1.Age"
   ]
  },
  {
   "cell_type": "markdown",
   "id": "eea72bc6",
   "metadata": {},
   "source": [
    "Encapsulation"
   ]
  },
  {
   "cell_type": "code",
   "execution_count": null,
   "id": "17885cc1",
   "metadata": {},
   "outputs": [],
   "source": [
    "class Sample:\n",
    "    1. data\n",
    "    2. Method"
   ]
  },
  {
   "cell_type": "code",
   "execution_count": 95,
   "id": "d214cfa4",
   "metadata": {},
   "outputs": [],
   "source": [
    "class person:\n",
    "    \n",
    "    def __init__(self, Name, Age):\n",
    "        \n",
    "        self.name = Name\n",
    "        self.age = Age"
   ]
  },
  {
   "cell_type": "code",
   "execution_count": 96,
   "id": "821e3b9c",
   "metadata": {},
   "outputs": [],
   "source": [
    "p1 = person('akhil', 25)"
   ]
  },
  {
   "cell_type": "code",
   "execution_count": 98,
   "id": "1d117d3c",
   "metadata": {},
   "outputs": [
    {
     "data": {
      "text/plain": [
       "('akhil', 25)"
      ]
     },
     "execution_count": 98,
     "metadata": {},
     "output_type": "execute_result"
    }
   ],
   "source": [
    "p1.name, p1.age"
   ]
  },
  {
   "cell_type": "code",
   "execution_count": null,
   "id": "c2d4ad7d",
   "metadata": {},
   "outputs": [],
   "source": []
  },
  {
   "cell_type": "markdown",
   "id": "762c2427",
   "metadata": {},
   "source": [
    "setters and Getter"
   ]
  },
  {
   "cell_type": "code",
   "execution_count": 110,
   "id": "e4b1729d",
   "metadata": {},
   "outputs": [],
   "source": [
    "class person:\n",
    "    \n",
    "    def __init__(self, Name, Age):\n",
    "        \n",
    "           self.name = Name\n",
    "           \n",
    "           \n",
    "           \n",
    "           \n",
    "    def setName(self, Name):\n",
    "        self.name = Name\n",
    "            \n",
    "    def setAge(self, Age):\n",
    "        self.age = Age\n",
    "            \n",
    "    def getAge(self):\n",
    "        return self.age\n",
    "            \n",
    "    def getAge(self):\n",
    "        return self.name\n",
    "        "
   ]
  },
  {
   "cell_type": "code",
   "execution_count": 111,
   "id": "1d1f4742",
   "metadata": {},
   "outputs": [],
   "source": [
    "p1 = person('akhil', 25)"
   ]
  },
  {
   "cell_type": "code",
   "execution_count": 112,
   "id": "bec479fe",
   "metadata": {},
   "outputs": [
    {
     "data": {
      "text/plain": [
       "'akhil'"
      ]
     },
     "execution_count": 112,
     "metadata": {},
     "output_type": "execute_result"
    }
   ],
   "source": [
    "p1.getAge()"
   ]
  },
  {
   "cell_type": "markdown",
   "id": "ce566933",
   "metadata": {},
   "source": [
    "Access method"
   ]
  },
  {
   "cell_type": "code",
   "execution_count": 115,
   "id": "015f21d8",
   "metadata": {},
   "outputs": [],
   "source": [
    "class student:\n",
    "    def __init__(self, Name, Age, Rno):\n",
    "        \n",
    "        self.name = Name #public\n",
    "        self.__age = Age #private\n",
    "        self._rno = Rno #protect \n",
    "        \n",
    "    def setAge(self, Age):\n",
    "        self.__age = Age\n",
    "        \n",
    "    def setName(self, Age):\n",
    "        self.name = Name\n",
    "        \n",
    "    def getAge(self):\n",
    "        return self.__age\n",
    "    \n",
    "    def getName(self):\n",
    "        return self.name\n",
    "    \n",
    "    def getRno(self, Rno):\n",
    "        self._rno = Rno\n",
    "        \n",
    "    def getRno(self):\n",
    "        return self._rno"
   ]
  },
  {
   "cell_type": "code",
   "execution_count": 116,
   "id": "a0764eb3",
   "metadata": {},
   "outputs": [],
   "source": [
    "p1 = person('akhil',25)"
   ]
  },
  {
   "cell_type": "code",
   "execution_count": 118,
   "id": "e355dbb7",
   "metadata": {},
   "outputs": [
    {
     "data": {
      "text/plain": [
       "'akhil'"
      ]
     },
     "execution_count": 118,
     "metadata": {},
     "output_type": "execute_result"
    }
   ],
   "source": [
    "p1.name"
   ]
  },
  {
   "cell_type": "code",
   "execution_count": 120,
   "id": "dc37aae1",
   "metadata": {},
   "outputs": [
    {
     "ename": "AttributeError",
     "evalue": "'person' object has no attribute 'Age'",
     "output_type": "error",
     "traceback": [
      "\u001b[1;31m---------------------------------------------------------------------------\u001b[0m",
      "\u001b[1;31mAttributeError\u001b[0m                            Traceback (most recent call last)",
      "\u001b[1;32m~\\AppData\\Local\\Temp\\ipykernel_14364\\1538672124.py\u001b[0m in \u001b[0;36m<module>\u001b[1;34m\u001b[0m\n\u001b[1;32m----> 1\u001b[1;33m \u001b[0mp1\u001b[0m\u001b[1;33m.\u001b[0m\u001b[0mAge\u001b[0m\u001b[1;33m\u001b[0m\u001b[1;33m\u001b[0m\u001b[0m\n\u001b[0m",
      "\u001b[1;31mAttributeError\u001b[0m: 'person' object has no attribute 'Age'"
     ]
    }
   ],
   "source": [
    "p1.Age"
   ]
  },
  {
   "cell_type": "markdown",
   "id": "f62dc36e",
   "metadata": {},
   "source": [
    "Abstraction"
   ]
  },
  {
   "cell_type": "markdown",
   "id": "26a9602b",
   "metadata": {},
   "source": []
  },
  {
   "cell_type": "code",
   "execution_count": 121,
   "id": "e795a56b",
   "metadata": {},
   "outputs": [
    {
     "data": {
      "text/plain": [
       "5"
      ]
     },
     "execution_count": 121,
     "metadata": {},
     "output_type": "execute_result"
    }
   ],
   "source": [
    "len('hello')"
   ]
  },
  {
   "cell_type": "code",
   "execution_count": 128,
   "id": "aa3632df",
   "metadata": {},
   "outputs": [],
   "source": [
    "from  abc import ABC\n",
    "\n",
    "class vehicle(ABC):\n",
    "    def no_of_wheels():\n",
    "        pass\n",
    "    \n",
    "    def m1():\n",
    "        print('m1 method')"
   ]
  },
  {
   "cell_type": "code",
   "execution_count": 129,
   "id": "7ee8bd63",
   "metadata": {},
   "outputs": [],
   "source": [
    "class Bike(vehicle):\n",
    "    \n",
    "    def no_of_wheels():\n",
    "        print('Bike has 2 wheels')"
   ]
  },
  {
   "cell_type": "code",
   "execution_count": 130,
   "id": "37558bbb",
   "metadata": {},
   "outputs": [],
   "source": [
    "class Auto(vehicle):\n",
    "    \n",
    "    def no_of_wheels(self):\n",
    "        print('Auto has 3 wheels')"
   ]
  },
  {
   "cell_type": "code",
   "execution_count": 132,
   "id": "008646c3",
   "metadata": {},
   "outputs": [],
   "source": [
    "class car(vehicle):\n",
    "    def no_of_wheels(self):\n",
    "        print('car has 4 wheels')"
   ]
  },
  {
   "cell_type": "code",
   "execution_count": 133,
   "id": "b245170c",
   "metadata": {},
   "outputs": [],
   "source": [
    "bike = Bike()"
   ]
  },
  {
   "cell_type": "code",
   "execution_count": 140,
   "id": "57900477",
   "metadata": {},
   "outputs": [
    {
     "name": "stdout",
     "output_type": "stream",
     "text": [
      "Bike has 2 wheels\n"
     ]
    }
   ],
   "source": [
    "Bike.no_of_wheels()"
   ]
  },
  {
   "cell_type": "code",
   "execution_count": 138,
   "id": "50bb72f6",
   "metadata": {},
   "outputs": [],
   "source": [
    "auto = Auto()"
   ]
  },
  {
   "cell_type": "code",
   "execution_count": 139,
   "id": "e6f57f88",
   "metadata": {},
   "outputs": [
    {
     "name": "stdout",
     "output_type": "stream",
     "text": [
      "Auto has 3 wheels\n"
     ]
    }
   ],
   "source": [
    "auto.no_of_wheels()"
   ]
  },
  {
   "cell_type": "code",
   "execution_count": 141,
   "id": "c5003e20",
   "metadata": {},
   "outputs": [],
   "source": [
    "car = car()"
   ]
  },
  {
   "cell_type": "code",
   "execution_count": 142,
   "id": "b07068eb",
   "metadata": {},
   "outputs": [
    {
     "name": "stdout",
     "output_type": "stream",
     "text": [
      "car has 4 wheels\n"
     ]
    }
   ],
   "source": [
    "car.no_of_wheels()"
   ]
  },
  {
   "cell_type": "code",
   "execution_count": 143,
   "id": "c21c8ee4",
   "metadata": {},
   "outputs": [
    {
     "data": {
      "text/plain": [
       "5"
      ]
     },
     "execution_count": 143,
     "metadata": {},
     "output_type": "execute_result"
    }
   ],
   "source": [
    "len('hello')"
   ]
  },
  {
   "cell_type": "code",
   "execution_count": 144,
   "id": "a4f0bfa8",
   "metadata": {},
   "outputs": [
    {
     "data": {
      "text/plain": [
       "3"
      ]
     },
     "execution_count": 144,
     "metadata": {},
     "output_type": "execute_result"
    }
   ],
   "source": [
    "len([1,2,3])"
   ]
  },
  {
   "cell_type": "code",
   "execution_count": 145,
   "id": "a212678e",
   "metadata": {},
   "outputs": [
    {
     "name": "stdout",
     "output_type": "stream",
     "text": [
      "Help on built-in function len in module builtins:\n",
      "\n",
      "len(obj, /)\n",
      "    Return the number of items in a container.\n",
      "\n"
     ]
    }
   ],
   "source": [
    "help(len)"
   ]
  },
  {
   "cell_type": "markdown",
   "id": "10b47e4d",
   "metadata": {},
   "source": [
    "# Inheritance"
   ]
  },
  {
   "cell_type": "code",
   "execution_count": 1,
   "id": "edd248f4",
   "metadata": {},
   "outputs": [],
   "source": [
    "class empy1():\n",
    "    def __init__(self, name, age):\n",
    "        self.name = name\n",
    "        self.age = age\n",
    "        \n",
    "class empy2(empy1):\n",
    "    def __init__(self, name, age):\n",
    "        \n",
    "        self.name = name\n",
    "        self.age = age\n",
    "        "
   ]
  },
  {
   "cell_type": "code",
   "execution_count": 2,
   "id": "03e4cfa8",
   "metadata": {},
   "outputs": [],
   "source": [
    "emp1 = empy1('neha', 25)"
   ]
  },
  {
   "cell_type": "code",
   "execution_count": 3,
   "id": "b719c49c",
   "metadata": {},
   "outputs": [
    {
     "name": "stdout",
     "output_type": "stream",
     "text": [
      "25\n"
     ]
    }
   ],
   "source": [
    "print(emp1.age)"
   ]
  },
  {
   "cell_type": "code",
   "execution_count": 4,
   "id": "234288e0",
   "metadata": {},
   "outputs": [
    {
     "name": "stdout",
     "output_type": "stream",
     "text": [
      "neha\n"
     ]
    }
   ],
   "source": [
    "print(emp1.name)"
   ]
  },
  {
   "cell_type": "code",
   "execution_count": 5,
   "id": "3f59ae13",
   "metadata": {},
   "outputs": [],
   "source": [
    "class empy1():\n",
    "    def __init__(self, name, age, salary):\n",
    "        self.name = name\n",
    "        self.age = age\n",
    "        self.salary = salary\n",
    "        \n",
    "class empy2(empy1):\n",
    "    def __init__(self, name, age, salary):\n",
    "        \n",
    "        self.name = name\n",
    "        self.age = age\n",
    "        self.salary = salary\n",
    "class empy3(empy2):\n",
    "    def __init__(self, name, age, salary):\n",
    "        \n",
    "        self.name = name\n",
    "        self.age = age\n",
    "        self.salary = salary      "
   ]
  },
  {
   "cell_type": "code",
   "execution_count": 7,
   "id": "e589dfda",
   "metadata": {},
   "outputs": [],
   "source": [
    "emp1 = empy1('neha', 25, 3000)\n",
    "emp2 = empy2('neh', 26, 2000)"
   ]
  },
  {
   "cell_type": "code",
   "execution_count": 8,
   "id": "29a8c85b",
   "metadata": {},
   "outputs": [
    {
     "data": {
      "text/plain": [
       "25"
      ]
     },
     "execution_count": 8,
     "metadata": {},
     "output_type": "execute_result"
    }
   ],
   "source": [
    "emp1.age"
   ]
  },
  {
   "cell_type": "code",
   "execution_count": 9,
   "id": "76497bc4",
   "metadata": {},
   "outputs": [
    {
     "data": {
      "text/plain": [
       "26"
      ]
     },
     "execution_count": 9,
     "metadata": {},
     "output_type": "execute_result"
    }
   ],
   "source": [
    "emp2.age"
   ]
  },
  {
   "cell_type": "code",
   "execution_count": 10,
   "id": "ce6e5ab0",
   "metadata": {},
   "outputs": [
    {
     "data": {
      "text/plain": [
       "3000"
      ]
     },
     "execution_count": 10,
     "metadata": {},
     "output_type": "execute_result"
    }
   ],
   "source": [
    "emp1.salary"
   ]
  },
  {
   "cell_type": "code",
   "execution_count": 11,
   "id": "04ef5c93",
   "metadata": {},
   "outputs": [
    {
     "data": {
      "text/plain": [
       "2000"
      ]
     },
     "execution_count": 11,
     "metadata": {},
     "output_type": "execute_result"
    }
   ],
   "source": [
    "emp2.salary"
   ]
  },
  {
   "cell_type": "markdown",
   "id": "e41abaf7",
   "metadata": {},
   "source": [
    "Hierarchical Inheritance"
   ]
  },
  {
   "cell_type": "code",
   "execution_count": null,
   "id": "1934b039",
   "metadata": {},
   "outputs": [],
   "source": []
  },
  {
   "cell_type": "code",
   "execution_count": 12,
   "id": "7daa614d",
   "metadata": {},
   "outputs": [],
   "source": [
    "emp1 = empy1('neha', 25, 3000)\n",
    "emp2 = empy2('neh', 26, 2000)"
   ]
  },
  {
   "cell_type": "code",
   "execution_count": 14,
   "id": "9466c980",
   "metadata": {},
   "outputs": [],
   "source": [
    "emp1 = empy1('neha', 25, 3000)\n",
    "emp2 = empy1('neh', 26, 2000)"
   ]
  },
  {
   "cell_type": "code",
   "execution_count": 15,
   "id": "b12ceb06",
   "metadata": {},
   "outputs": [
    {
     "data": {
      "text/plain": [
       "26"
      ]
     },
     "execution_count": 15,
     "metadata": {},
     "output_type": "execute_result"
    }
   ],
   "source": [
    "emp2.age"
   ]
  },
  {
   "cell_type": "code",
   "execution_count": 18,
   "id": "0de0f66c",
   "metadata": {},
   "outputs": [
    {
     "data": {
      "text/plain": [
       "25"
      ]
     },
     "execution_count": 18,
     "metadata": {},
     "output_type": "execute_result"
    }
   ],
   "source": [
    "emp1.age"
   ]
  },
  {
   "cell_type": "code",
   "execution_count": null,
   "id": "65bfb4ab",
   "metadata": {},
   "outputs": [],
   "source": []
  },
  {
   "cell_type": "markdown",
   "id": "bae6a65c",
   "metadata": {},
   "source": [
    "\n",
    "Multiple inheritance\n"
   ]
  },
  {
   "cell_type": "code",
   "execution_count": 19,
   "id": "2bbeb320",
   "metadata": {},
   "outputs": [],
   "source": [
    "class empy1():\n",
    "    def __init__(self, name, age, salary):\n",
    "        self.name = name\n",
    "        self.age = age\n",
    "        self.salary = salary\n",
    "        \n",
    "class empy2():\n",
    "    def __init__(self, name, age, salary):\n",
    "        \n",
    "        self.name = name\n",
    "        self.age = age\n",
    "        self.salary = salary\n",
    "class empy3(empy1, empy2):\n",
    "    def __init__(self, name, age, salary):\n",
    "        \n",
    "        self.name = name\n",
    "        self.age = age\n",
    "        self.salary = salary      "
   ]
  },
  {
   "cell_type": "code",
   "execution_count": 20,
   "id": "f4b40d78",
   "metadata": {},
   "outputs": [],
   "source": [
    "emp1 = empy1('neha', 25, 3000)\n",
    "emp2 = empy2('neh', 26, 2000)"
   ]
  },
  {
   "cell_type": "code",
   "execution_count": 21,
   "id": "70b7eb2b",
   "metadata": {},
   "outputs": [
    {
     "data": {
      "text/plain": [
       "25"
      ]
     },
     "execution_count": 21,
     "metadata": {},
     "output_type": "execute_result"
    }
   ],
   "source": [
    "emp1.age"
   ]
  },
  {
   "cell_type": "code",
   "execution_count": 22,
   "id": "1837a7bc",
   "metadata": {},
   "outputs": [
    {
     "data": {
      "text/plain": [
       "2000"
      ]
     },
     "execution_count": 22,
     "metadata": {},
     "output_type": "execute_result"
    }
   ],
   "source": [
    "emp2.salary"
   ]
  },
  {
   "cell_type": "markdown",
   "id": "85932178",
   "metadata": {},
   "source": [
    "creat object and class"
   ]
  },
  {
   "cell_type": "code",
   "execution_count": 23,
   "id": "cac2007a",
   "metadata": {},
   "outputs": [],
   "source": [
    "class empy1():\n",
    "    def __init__(self, name, age, salary):\n",
    "        self.name = name\n",
    "        self.age = age\n",
    "        self.salary = salary\n",
    "        "
   ]
  },
  {
   "cell_type": "code",
   "execution_count": 24,
   "id": "5263fdd3",
   "metadata": {},
   "outputs": [],
   "source": [
    "emp1 = empy1('neha', 25, 3000)\n",
    "emp2 = empy1('neh', 26, 2000)"
   ]
  },
  {
   "cell_type": "code",
   "execution_count": 26,
   "id": "a9c3df85",
   "metadata": {},
   "outputs": [
    {
     "name": "stdout",
     "output_type": "stream",
     "text": [
      "{'name': 'neha', 'age': 25, 'salary': 3000}\n"
     ]
    }
   ],
   "source": [
    "print(emp1.__dict__)"
   ]
  },
  {
   "cell_type": "code",
   "execution_count": null,
   "id": "bdf657ec",
   "metadata": {},
   "outputs": [],
   "source": []
  },
  {
   "cell_type": "markdown",
   "id": "8ae90be4",
   "metadata": {},
   "source": [
    "Abstraction"
   ]
  },
  {
   "cell_type": "code",
   "execution_count": 2,
   "id": "acff01fd",
   "metadata": {},
   "outputs": [],
   "source": [
    "from abc import ABC\n",
    "class empy(ABC):\n",
    "    def emp_id(self, id, name, age, salary):\n",
    "        pass \n",
    "class childempy(empy):\n",
    "    def emp_id(self, id):\n",
    "        print(\"emp_id is 1234\")"
   ]
  },
  {
   "cell_type": "code",
   "execution_count": 3,
   "id": "d592162e",
   "metadata": {},
   "outputs": [],
   "source": [
    "emp1 = childempy()"
   ]
  },
  {
   "cell_type": "code",
   "execution_count": 5,
   "id": "63bccc1d",
   "metadata": {},
   "outputs": [
    {
     "name": "stdout",
     "output_type": "stream",
     "text": [
      "emp_id is 1234\n"
     ]
    }
   ],
   "source": [
    "emp1.emp_id(id)"
   ]
  },
  {
   "cell_type": "code",
   "execution_count": null,
   "id": "8f171d5d",
   "metadata": {},
   "outputs": [],
   "source": []
  },
  {
   "cell_type": "code",
   "execution_count": null,
   "id": "8170f6b5",
   "metadata": {},
   "outputs": [],
   "source": []
  },
  {
   "cell_type": "code",
   "execution_count": null,
   "id": "f0a3245a",
   "metadata": {},
   "outputs": [],
   "source": []
  },
  {
   "cell_type": "code",
   "execution_count": null,
   "id": "e690f182",
   "metadata": {},
   "outputs": [],
   "source": []
  },
  {
   "cell_type": "code",
   "execution_count": null,
   "id": "f4cfecdc",
   "metadata": {},
   "outputs": [],
   "source": []
  },
  {
   "cell_type": "code",
   "execution_count": null,
   "id": "7bd51d0c",
   "metadata": {},
   "outputs": [],
   "source": []
  }
 ],
 "metadata": {
  "kernelspec": {
   "display_name": "Python 3 (ipykernel)",
   "language": "python",
   "name": "python3"
  },
  "language_info": {
   "codemirror_mode": {
    "name": "ipython",
    "version": 3
   },
   "file_extension": ".py",
   "mimetype": "text/x-python",
   "name": "python",
   "nbconvert_exporter": "python",
   "pygments_lexer": "ipython3",
   "version": "3.9.13"
  }
 },
 "nbformat": 4,
 "nbformat_minor": 5
}
