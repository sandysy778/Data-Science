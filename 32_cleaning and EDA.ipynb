{
 "cells": [
  {
   "cell_type": "code",
   "execution_count": 2,
   "id": "807b4a92",
   "metadata": {},
   "outputs": [],
   "source": [
    "#pip install bs4"
   ]
  },
  {
   "cell_type": "code",
   "execution_count": 3,
   "id": "141b412d",
   "metadata": {},
   "outputs": [],
   "source": [
    "#load the required libraries\n",
    "\n",
    "import numpy as np\n",
    "import pandas as pd\n",
    "import matplotlib.pyplot as plt\n",
    "import seaborn as sns\n",
    "\n",
    "import re\n",
    "import time\n",
    "import requests\n",
    "from bs4 import BeautifulSoup"
   ]
  },
  {
   "cell_type": "code",
   "execution_count": 4,
   "id": "98485259",
   "metadata": {},
   "outputs": [],
   "source": [
    "#Read the csv file\n",
    "laptop_df = pd.read_csv('laptop.csv')\n",
    "\n"
   ]
  },
  {
   "cell_type": "code",
   "execution_count": 5,
   "id": "cd052fc8",
   "metadata": {},
   "outputs": [
    {
     "data": {
      "text/plain": [
       "(24, 4)"
      ]
     },
     "execution_count": 5,
     "metadata": {},
     "output_type": "execute_result"
    }
   ],
   "source": [
    "#shape\n",
    "laptop_df.shape"
   ]
  },
  {
   "cell_type": "code",
   "execution_count": 6,
   "id": "45177e9b",
   "metadata": {},
   "outputs": [
    {
     "name": "stdout",
     "output_type": "stream",
     "text": [
      "<class 'pandas.core.frame.DataFrame'>\n",
      "RangeIndex: 24 entries, 0 to 23\n",
      "Data columns (total 4 columns):\n",
      " #   Column    Non-Null Count  Dtype  \n",
      "---  ------    --------------  -----  \n",
      " 0   Title     24 non-null     object \n",
      " 1   price     24 non-null     object \n",
      " 2   Ratings   23 non-null     float64\n",
      " 3   features  24 non-null     object \n",
      "dtypes: float64(1), object(3)\n",
      "memory usage: 896.0+ bytes\n"
     ]
    }
   ],
   "source": [
    "#shape\n",
    "laptop_df.info()"
   ]
  },
  {
   "cell_type": "code",
   "execution_count": 7,
   "id": "0c09c6c9",
   "metadata": {},
   "outputs": [
    {
     "data": {
      "text/html": [
       "<div>\n",
       "<style scoped>\n",
       "    .dataframe tbody tr th:only-of-type {\n",
       "        vertical-align: middle;\n",
       "    }\n",
       "\n",
       "    .dataframe tbody tr th {\n",
       "        vertical-align: top;\n",
       "    }\n",
       "\n",
       "    .dataframe thead th {\n",
       "        text-align: right;\n",
       "    }\n",
       "</style>\n",
       "<table border=\"1\" class=\"dataframe\">\n",
       "  <thead>\n",
       "    <tr style=\"text-align: right;\">\n",
       "      <th></th>\n",
       "      <th>Title</th>\n",
       "      <th>price</th>\n",
       "      <th>Ratings</th>\n",
       "      <th>features</th>\n",
       "    </tr>\n",
       "  </thead>\n",
       "  <tbody>\n",
       "    <tr>\n",
       "      <th>0</th>\n",
       "      <td>Lenovo IdeaPad 3 Intel Core i3 11th Gen - (8 G...</td>\n",
       "      <td>₹36,541</td>\n",
       "      <td>4.3</td>\n",
       "      <td>Intel Core i3 Processor (11th Gen)8 GB DDR4 RA...</td>\n",
       "    </tr>\n",
       "    <tr>\n",
       "      <th>1</th>\n",
       "      <td>ASUS TUF Gaming F15 Core i5 10th Gen - (8 GB/5...</td>\n",
       "      <td>₹51,990</td>\n",
       "      <td>4.4</td>\n",
       "      <td>Intel Core i5 Processor (10th Gen)8 GB DDR4 RA...</td>\n",
       "    </tr>\n",
       "    <tr>\n",
       "      <th>2</th>\n",
       "      <td>Lenovo Intel Celeron Dual Core - (8 GB/256 GB ...</td>\n",
       "      <td>₹29,490</td>\n",
       "      <td>4.1</td>\n",
       "      <td>Intel Celeron Dual Core Processor8 GB DDR4 RAM...</td>\n",
       "    </tr>\n",
       "    <tr>\n",
       "      <th>3</th>\n",
       "      <td>ASUS Vivobook 15 Core i3 11th Gen - (8 GB/512 ...</td>\n",
       "      <td>₹38,990</td>\n",
       "      <td>4.2</td>\n",
       "      <td>Intel Core i3 Processor (11th Gen)8 GB DDR4 RA...</td>\n",
       "    </tr>\n",
       "    <tr>\n",
       "      <th>4</th>\n",
       "      <td>ASUS VivoBook 14 (2021) Celeron Dual Core - (4...</td>\n",
       "      <td>₹23,990</td>\n",
       "      <td>4.1</td>\n",
       "      <td>Intel Celeron Dual Core Processor4 GB DDR4 RAM...</td>\n",
       "    </tr>\n",
       "  </tbody>\n",
       "</table>\n",
       "</div>"
      ],
      "text/plain": [
       "                                               Title    price  Ratings  \\\n",
       "0  Lenovo IdeaPad 3 Intel Core i3 11th Gen - (8 G...  ₹36,541      4.3   \n",
       "1  ASUS TUF Gaming F15 Core i5 10th Gen - (8 GB/5...  ₹51,990      4.4   \n",
       "2  Lenovo Intel Celeron Dual Core - (8 GB/256 GB ...  ₹29,490      4.1   \n",
       "3  ASUS Vivobook 15 Core i3 11th Gen - (8 GB/512 ...  ₹38,990      4.2   \n",
       "4  ASUS VivoBook 14 (2021) Celeron Dual Core - (4...  ₹23,990      4.1   \n",
       "\n",
       "                                            features  \n",
       "0  Intel Core i3 Processor (11th Gen)8 GB DDR4 RA...  \n",
       "1  Intel Core i5 Processor (10th Gen)8 GB DDR4 RA...  \n",
       "2  Intel Celeron Dual Core Processor8 GB DDR4 RAM...  \n",
       "3  Intel Core i3 Processor (11th Gen)8 GB DDR4 RA...  \n",
       "4  Intel Celeron Dual Core Processor4 GB DDR4 RAM...  "
      ]
     },
     "execution_count": 7,
     "metadata": {},
     "output_type": "execute_result"
    }
   ],
   "source": [
    "#Head\n",
    "laptop_df.head()"
   ]
  },
  {
   "cell_type": "code",
   "execution_count": 8,
   "id": "b950b2ae",
   "metadata": {},
   "outputs": [
    {
     "data": {
      "text/plain": [
       "'Intel Core i3 Processor (11th Gen)8 GB DDR4 RAM64 bit Windows 11 Operating System512 GB SSD39.62 cm (15.6 inch) DisplayOffice Home and Student 20212 Year Onsite Warranty'"
      ]
     },
     "execution_count": 8,
     "metadata": {},
     "output_type": "execute_result"
    }
   ],
   "source": [
    "laptop_df['features'][0]"
   ]
  },
  {
   "cell_type": "code",
   "execution_count": 10,
   "id": "0dcefceb",
   "metadata": {},
   "outputs": [
    {
     "data": {
      "text/plain": [
       "'Lenovo IdeaPad 3 Intel Core i3 11th Gen - (8 GB/512 GB SSD/Windows 11 Home) 82H801L7IN | 82H802FJIN | ...'"
      ]
     },
     "execution_count": 10,
     "metadata": {},
     "output_type": "execute_result"
    }
   ],
   "source": [
    "laptop_df['Title'][0]"
   ]
  },
  {
   "cell_type": "markdown",
   "id": "925f9882",
   "metadata": {},
   "source": [
    "# Extracting Features - Processor, RAM, Storage, OS, Screen size(Using Regex)"
   ]
  },
  {
   "cell_type": "code",
   "execution_count": 11,
   "id": "53994fe8",
   "metadata": {},
   "outputs": [
    {
     "data": {
      "text/plain": [
       "'Intel Core i3 Processor (11th Gen)8 GB DDR4 RAM64 bit Windows 11 Operating System512 GB SSD39.62 cm (15.6 inch) DisplayOffice Home and Student 20212 Year Onsite Warranty'"
      ]
     },
     "execution_count": 11,
     "metadata": {},
     "output_type": "execute_result"
    }
   ],
   "source": [
    "laptop_df['features'][0]"
   ]
  },
  {
   "cell_type": "code",
   "execution_count": 12,
   "id": "49d934a8",
   "metadata": {},
   "outputs": [
    {
     "data": {
      "text/plain": [
       "'Intel Core i5 Processor (10th Gen)8 GB DDR4 RAMWindows 11 Operating System512 GB SSD39.62 cm (15.6 inch) Display1 Year Onsite Warranty'"
      ]
     },
     "execution_count": 12,
     "metadata": {},
     "output_type": "execute_result"
    }
   ],
   "source": [
    "laptop_df['features'][1]"
   ]
  },
  {
   "cell_type": "code",
   "execution_count": 13,
   "id": "396858b9",
   "metadata": {},
   "outputs": [
    {
     "data": {
      "text/plain": [
       "['Intel Core i3 Processor']"
      ]
     },
     "execution_count": 13,
     "metadata": {},
     "output_type": "execute_result"
    }
   ],
   "source": [
    "re.findall('^[\\w\\s]+Processor', laptop_df['features'][0])"
   ]
  },
  {
   "cell_type": "code",
   "execution_count": 14,
   "id": "eeb27b97",
   "metadata": {},
   "outputs": [
    {
     "data": {
      "text/plain": [
       "['Intel Core i3 Processor']"
      ]
     },
     "execution_count": 14,
     "metadata": {},
     "output_type": "execute_result"
    }
   ],
   "source": [
    "re.findall('^[A-Za-z0-9_ ]+Processor', laptop_df['features'][0])"
   ]
  },
  {
   "cell_type": "code",
   "execution_count": 15,
   "id": "c4bde755",
   "metadata": {},
   "outputs": [],
   "source": [
    "#re.findall('^[A-Za-z0-9_ ]+Processor', laptop_df['features'][0])"
   ]
  },
  {
   "cell_type": "code",
   "execution_count": 16,
   "id": "72c46bc1",
   "metadata": {},
   "outputs": [
    {
     "ename": "SyntaxError",
     "evalue": "invalid decimal literal (3503715821.py, line 1)",
     "output_type": "error",
     "traceback": [
      "\u001b[1;36m  File \u001b[1;32m\"C:\\Users\\Yuvaraj\\AppData\\Local\\Temp\\ipykernel_1400\\3503715821.py\"\u001b[1;36m, line \u001b[1;32m1\u001b[0m\n\u001b[1;33m    [A-Za-z0-9_ ]\u001b[0m\n\u001b[1;37m              ^\u001b[0m\n\u001b[1;31mSyntaxError\u001b[0m\u001b[1;31m:\u001b[0m invalid decimal literal\n"
     ]
    }
   ],
   "source": [
    "[A-Za-z0-9_ ]"
   ]
  },
  {
   "cell_type": "code",
   "execution_count": 17,
   "id": "499bd7b3",
   "metadata": {},
   "outputs": [],
   "source": [
    "def getProcessor(x):\n",
    "    \n",
    "    return re.findall('^[\\w\\s]+Processor', x)"
   ]
  },
  {
   "cell_type": "code",
   "execution_count": 18,
   "id": "b42c6b84",
   "metadata": {},
   "outputs": [
    {
     "data": {
      "text/html": [
       "<div>\n",
       "<style scoped>\n",
       "    .dataframe tbody tr th:only-of-type {\n",
       "        vertical-align: middle;\n",
       "    }\n",
       "\n",
       "    .dataframe tbody tr th {\n",
       "        vertical-align: top;\n",
       "    }\n",
       "\n",
       "    .dataframe thead th {\n",
       "        text-align: right;\n",
       "    }\n",
       "</style>\n",
       "<table border=\"1\" class=\"dataframe\">\n",
       "  <thead>\n",
       "    <tr style=\"text-align: right;\">\n",
       "      <th></th>\n",
       "      <th>Title</th>\n",
       "      <th>price</th>\n",
       "      <th>Ratings</th>\n",
       "      <th>features</th>\n",
       "    </tr>\n",
       "  </thead>\n",
       "  <tbody>\n",
       "    <tr>\n",
       "      <th>0</th>\n",
       "      <td>Lenovo IdeaPad 3 Intel Core i3 11th Gen - (8 G...</td>\n",
       "      <td>₹36,541</td>\n",
       "      <td>4.3</td>\n",
       "      <td>Intel Core i3 Processor (11th Gen)8 GB DDR4 RA...</td>\n",
       "    </tr>\n",
       "    <tr>\n",
       "      <th>1</th>\n",
       "      <td>ASUS TUF Gaming F15 Core i5 10th Gen - (8 GB/5...</td>\n",
       "      <td>₹51,990</td>\n",
       "      <td>4.4</td>\n",
       "      <td>Intel Core i5 Processor (10th Gen)8 GB DDR4 RA...</td>\n",
       "    </tr>\n",
       "  </tbody>\n",
       "</table>\n",
       "</div>"
      ],
      "text/plain": [
       "                                               Title    price  Ratings  \\\n",
       "0  Lenovo IdeaPad 3 Intel Core i3 11th Gen - (8 G...  ₹36,541      4.3   \n",
       "1  ASUS TUF Gaming F15 Core i5 10th Gen - (8 GB/5...  ₹51,990      4.4   \n",
       "\n",
       "                                            features  \n",
       "0  Intel Core i3 Processor (11th Gen)8 GB DDR4 RA...  \n",
       "1  Intel Core i5 Processor (10th Gen)8 GB DDR4 RA...  "
      ]
     },
     "execution_count": 18,
     "metadata": {},
     "output_type": "execute_result"
    }
   ],
   "source": [
    "laptop_df.head(2)"
   ]
  },
  {
   "cell_type": "code",
   "execution_count": 19,
   "id": "19c16b10",
   "metadata": {},
   "outputs": [],
   "source": [
    "laptop_df['Processordetails'] = laptop_df['features'].apply(getProcessor)"
   ]
  },
  {
   "cell_type": "code",
   "execution_count": 20,
   "id": "60ba3f42",
   "metadata": {},
   "outputs": [
    {
     "data": {
      "text/html": [
       "<div>\n",
       "<style scoped>\n",
       "    .dataframe tbody tr th:only-of-type {\n",
       "        vertical-align: middle;\n",
       "    }\n",
       "\n",
       "    .dataframe tbody tr th {\n",
       "        vertical-align: top;\n",
       "    }\n",
       "\n",
       "    .dataframe thead th {\n",
       "        text-align: right;\n",
       "    }\n",
       "</style>\n",
       "<table border=\"1\" class=\"dataframe\">\n",
       "  <thead>\n",
       "    <tr style=\"text-align: right;\">\n",
       "      <th></th>\n",
       "      <th>Title</th>\n",
       "      <th>price</th>\n",
       "      <th>Ratings</th>\n",
       "      <th>features</th>\n",
       "      <th>Processordetails</th>\n",
       "    </tr>\n",
       "  </thead>\n",
       "  <tbody>\n",
       "    <tr>\n",
       "      <th>0</th>\n",
       "      <td>Lenovo IdeaPad 3 Intel Core i3 11th Gen - (8 G...</td>\n",
       "      <td>₹36,541</td>\n",
       "      <td>4.3</td>\n",
       "      <td>Intel Core i3 Processor (11th Gen)8 GB DDR4 RA...</td>\n",
       "      <td>[Intel Core i3 Processor]</td>\n",
       "    </tr>\n",
       "    <tr>\n",
       "      <th>1</th>\n",
       "      <td>ASUS TUF Gaming F15 Core i5 10th Gen - (8 GB/5...</td>\n",
       "      <td>₹51,990</td>\n",
       "      <td>4.4</td>\n",
       "      <td>Intel Core i5 Processor (10th Gen)8 GB DDR4 RA...</td>\n",
       "      <td>[Intel Core i5 Processor]</td>\n",
       "    </tr>\n",
       "  </tbody>\n",
       "</table>\n",
       "</div>"
      ],
      "text/plain": [
       "                                               Title    price  Ratings  \\\n",
       "0  Lenovo IdeaPad 3 Intel Core i3 11th Gen - (8 G...  ₹36,541      4.3   \n",
       "1  ASUS TUF Gaming F15 Core i5 10th Gen - (8 GB/5...  ₹51,990      4.4   \n",
       "\n",
       "                                            features  \\\n",
       "0  Intel Core i3 Processor (11th Gen)8 GB DDR4 RA...   \n",
       "1  Intel Core i5 Processor (10th Gen)8 GB DDR4 RA...   \n",
       "\n",
       "            Processordetails  \n",
       "0  [Intel Core i3 Processor]  \n",
       "1  [Intel Core i5 Processor]  "
      ]
     },
     "execution_count": 20,
     "metadata": {},
     "output_type": "execute_result"
    }
   ],
   "source": [
    "laptop_df.head(2)"
   ]
  },
  {
   "cell_type": "code",
   "execution_count": 21,
   "id": "9e4edaba",
   "metadata": {},
   "outputs": [
    {
     "data": {
      "text/plain": [
       "'Intel Core i3 Processor (11th Gen)8 GB DDR4 RAM64 bit Windows 11 Operating System512 GB SSD39.62 cm (15.6 inch) DisplayOffice Home and Student 20212 Year Onsite Warranty'"
      ]
     },
     "execution_count": 21,
     "metadata": {},
     "output_type": "execute_result"
    }
   ],
   "source": [
    "laptop_df['features'][0]"
   ]
  },
  {
   "cell_type": "code",
   "execution_count": 23,
   "id": "0771923d",
   "metadata": {},
   "outputs": [
    {
     "data": {
      "text/plain": [
       "['8 GB DDR4 RAM']"
      ]
     },
     "execution_count": 23,
     "metadata": {},
     "output_type": "execute_result"
    }
   ],
   "source": [
    "re.findall('\\d+\\s*GB[\\w\\s]*RAM', laptop_df['features'][0])"
   ]
  },
  {
   "cell_type": "code",
   "execution_count": 24,
   "id": "7e5f38d5",
   "metadata": {},
   "outputs": [],
   "source": [
    "ram_lambda = lambda x: re.findall('\\d+\\s*GB[\\s\\w]*RAM', x)"
   ]
  },
  {
   "cell_type": "code",
   "execution_count": 25,
   "id": "8e45f840",
   "metadata": {},
   "outputs": [],
   "source": [
    "laptop_df['RAM'] = laptop_df['features'].apply(ram_lambda)"
   ]
  },
  {
   "cell_type": "code",
   "execution_count": 26,
   "id": "41b23900",
   "metadata": {},
   "outputs": [
    {
     "data": {
      "text/html": [
       "<div>\n",
       "<style scoped>\n",
       "    .dataframe tbody tr th:only-of-type {\n",
       "        vertical-align: middle;\n",
       "    }\n",
       "\n",
       "    .dataframe tbody tr th {\n",
       "        vertical-align: top;\n",
       "    }\n",
       "\n",
       "    .dataframe thead th {\n",
       "        text-align: right;\n",
       "    }\n",
       "</style>\n",
       "<table border=\"1\" class=\"dataframe\">\n",
       "  <thead>\n",
       "    <tr style=\"text-align: right;\">\n",
       "      <th></th>\n",
       "      <th>Title</th>\n",
       "      <th>price</th>\n",
       "      <th>Ratings</th>\n",
       "      <th>features</th>\n",
       "      <th>Processordetails</th>\n",
       "      <th>RAM</th>\n",
       "    </tr>\n",
       "  </thead>\n",
       "  <tbody>\n",
       "    <tr>\n",
       "      <th>0</th>\n",
       "      <td>Lenovo IdeaPad 3 Intel Core i3 11th Gen - (8 G...</td>\n",
       "      <td>₹36,541</td>\n",
       "      <td>4.3</td>\n",
       "      <td>Intel Core i3 Processor (11th Gen)8 GB DDR4 RA...</td>\n",
       "      <td>[Intel Core i3 Processor]</td>\n",
       "      <td>[8 GB DDR4 RAM]</td>\n",
       "    </tr>\n",
       "    <tr>\n",
       "      <th>1</th>\n",
       "      <td>ASUS TUF Gaming F15 Core i5 10th Gen - (8 GB/5...</td>\n",
       "      <td>₹51,990</td>\n",
       "      <td>4.4</td>\n",
       "      <td>Intel Core i5 Processor (10th Gen)8 GB DDR4 RA...</td>\n",
       "      <td>[Intel Core i5 Processor]</td>\n",
       "      <td>[8 GB DDR4 RAM]</td>\n",
       "    </tr>\n",
       "  </tbody>\n",
       "</table>\n",
       "</div>"
      ],
      "text/plain": [
       "                                               Title    price  Ratings  \\\n",
       "0  Lenovo IdeaPad 3 Intel Core i3 11th Gen - (8 G...  ₹36,541      4.3   \n",
       "1  ASUS TUF Gaming F15 Core i5 10th Gen - (8 GB/5...  ₹51,990      4.4   \n",
       "\n",
       "                                            features  \\\n",
       "0  Intel Core i3 Processor (11th Gen)8 GB DDR4 RA...   \n",
       "1  Intel Core i5 Processor (10th Gen)8 GB DDR4 RA...   \n",
       "\n",
       "            Processordetails              RAM  \n",
       "0  [Intel Core i3 Processor]  [8 GB DDR4 RAM]  \n",
       "1  [Intel Core i5 Processor]  [8 GB DDR4 RAM]  "
      ]
     },
     "execution_count": 26,
     "metadata": {},
     "output_type": "execute_result"
    }
   ],
   "source": [
    "laptop_df.head(2)"
   ]
  },
  {
   "cell_type": "code",
   "execution_count": 27,
   "id": "9d00f2be",
   "metadata": {},
   "outputs": [
    {
     "data": {
      "text/plain": [
       "'Intel Core i3 Processor (11th Gen)8 GB DDR4 RAM64 bit Windows 11 Operating System512 GB SSD39.62 cm (15.6 inch) DisplayOffice Home and Student 20212 Year Onsite Warranty'"
      ]
     },
     "execution_count": 27,
     "metadata": {},
     "output_type": "execute_result"
    }
   ],
   "source": [
    "laptop_df['features'][0]"
   ]
  },
  {
   "cell_type": "code",
   "execution_count": 28,
   "id": "cfe64a54",
   "metadata": {},
   "outputs": [
    {
     "data": {
      "text/plain": [
       "['64 bit Windows 11 Operating System']"
      ]
     },
     "execution_count": 28,
     "metadata": {},
     "output_type": "execute_result"
    }
   ],
   "source": [
    "re.findall('\\d+\\s*bit[\\w\\s]+Operating System', laptop_df['features'][0])"
   ]
  },
  {
   "cell_type": "code",
   "execution_count": 37,
   "id": "19ab8f64",
   "metadata": {},
   "outputs": [],
   "source": [
    "laptop_df['OS'] =  laptop_df['features'].apply(lambda x: re.findall('[\\d+\\s]*bit[\\w\\s]+Operating System', x))"
   ]
  },
  {
   "cell_type": "code",
   "execution_count": 38,
   "id": "71632de7",
   "metadata": {},
   "outputs": [
    {
     "data": {
      "text/html": [
       "<div>\n",
       "<style scoped>\n",
       "    .dataframe tbody tr th:only-of-type {\n",
       "        vertical-align: middle;\n",
       "    }\n",
       "\n",
       "    .dataframe tbody tr th {\n",
       "        vertical-align: top;\n",
       "    }\n",
       "\n",
       "    .dataframe thead th {\n",
       "        text-align: right;\n",
       "    }\n",
       "</style>\n",
       "<table border=\"1\" class=\"dataframe\">\n",
       "  <thead>\n",
       "    <tr style=\"text-align: right;\">\n",
       "      <th></th>\n",
       "      <th>Title</th>\n",
       "      <th>price</th>\n",
       "      <th>Ratings</th>\n",
       "      <th>features</th>\n",
       "      <th>Processordetails</th>\n",
       "      <th>RAM</th>\n",
       "      <th>OS</th>\n",
       "    </tr>\n",
       "  </thead>\n",
       "  <tbody>\n",
       "    <tr>\n",
       "      <th>0</th>\n",
       "      <td>Lenovo IdeaPad 3 Intel Core i3 11th Gen - (8 G...</td>\n",
       "      <td>₹36,541</td>\n",
       "      <td>4.3</td>\n",
       "      <td>Intel Core i3 Processor (11th Gen)8 GB DDR4 RA...</td>\n",
       "      <td>[Intel Core i3 Processor]</td>\n",
       "      <td>[8 GB DDR4 RAM]</td>\n",
       "      <td>[64 bit Windows 11 Operating System]</td>\n",
       "    </tr>\n",
       "    <tr>\n",
       "      <th>1</th>\n",
       "      <td>ASUS TUF Gaming F15 Core i5 10th Gen - (8 GB/5...</td>\n",
       "      <td>₹51,990</td>\n",
       "      <td>4.4</td>\n",
       "      <td>Intel Core i5 Processor (10th Gen)8 GB DDR4 RA...</td>\n",
       "      <td>[Intel Core i5 Processor]</td>\n",
       "      <td>[8 GB DDR4 RAM]</td>\n",
       "      <td>[]</td>\n",
       "    </tr>\n",
       "  </tbody>\n",
       "</table>\n",
       "</div>"
      ],
      "text/plain": [
       "                                               Title    price  Ratings  \\\n",
       "0  Lenovo IdeaPad 3 Intel Core i3 11th Gen - (8 G...  ₹36,541      4.3   \n",
       "1  ASUS TUF Gaming F15 Core i5 10th Gen - (8 GB/5...  ₹51,990      4.4   \n",
       "\n",
       "                                            features  \\\n",
       "0  Intel Core i3 Processor (11th Gen)8 GB DDR4 RA...   \n",
       "1  Intel Core i5 Processor (10th Gen)8 GB DDR4 RA...   \n",
       "\n",
       "            Processordetails              RAM  \\\n",
       "0  [Intel Core i3 Processor]  [8 GB DDR4 RAM]   \n",
       "1  [Intel Core i5 Processor]  [8 GB DDR4 RAM]   \n",
       "\n",
       "                                     OS  \n",
       "0  [64 bit Windows 11 Operating System]  \n",
       "1                                    []  "
      ]
     },
     "execution_count": 38,
     "metadata": {},
     "output_type": "execute_result"
    }
   ],
   "source": [
    "laptop_df.head(2)"
   ]
  },
  {
   "cell_type": "code",
   "execution_count": 39,
   "id": "cab7e06f",
   "metadata": {},
   "outputs": [
    {
     "data": {
      "text/plain": [
       "'Intel Core i3 Processor (11th Gen)8 GB DDR4 RAM64 bit Windows 11 Operating System512 GB SSD39.62 cm (15.6 inch) DisplayOffice Home and Student 20212 Year Onsite Warranty'"
      ]
     },
     "execution_count": 39,
     "metadata": {},
     "output_type": "execute_result"
    }
   ],
   "source": [
    "laptop_df['features'][0]"
   ]
  },
  {
   "cell_type": "code",
   "execution_count": 41,
   "id": "54bb28d9",
   "metadata": {},
   "outputs": [
    {
     "data": {
      "text/plain": [
       "[('GB', 'SSD')]"
      ]
     },
     "execution_count": 41,
     "metadata": {},
     "output_type": "execute_result"
    }
   ],
   "source": [
    "re.findall('\\d+\\s*(GB|TB)\\s*(HDD|SSD)', laptop_df['features'][0])"
   ]
  },
  {
   "cell_type": "code",
   "execution_count": 42,
   "id": "bf80b8a4",
   "metadata": {},
   "outputs": [
    {
     "data": {
      "text/plain": [
       "['a', 'b', 'c']"
      ]
     },
     "execution_count": 42,
     "metadata": {},
     "output_type": "execute_result"
    }
   ],
   "source": [
    "re.findall('(a|b|c)xz', 'axz bfgc bxz dxz cxz')"
   ]
  },
  {
   "cell_type": "code",
   "execution_count": 43,
   "id": "3ee25d33",
   "metadata": {},
   "outputs": [
    {
     "data": {
      "text/plain": [
       "['axz', 'bxz', 'cxz']"
      ]
     },
     "execution_count": 43,
     "metadata": {},
     "output_type": "execute_result"
    }
   ],
   "source": [
    "re.findall('(?:a|b|c)xz', 'axz bfgc bxz dxz cxz')"
   ]
  },
  {
   "cell_type": "code",
   "execution_count": 44,
   "id": "3e066ed7",
   "metadata": {},
   "outputs": [],
   "source": [
    "laptop_df['Storage'] =  laptop_df['features'].apply(lambda x: re.findall('\\d+\\s*(?:GB|TB)\\s*(?:HDD|SSD)', x))"
   ]
  },
  {
   "cell_type": "code",
   "execution_count": 45,
   "id": "65ca6815",
   "metadata": {},
   "outputs": [
    {
     "data": {
      "text/html": [
       "<div>\n",
       "<style scoped>\n",
       "    .dataframe tbody tr th:only-of-type {\n",
       "        vertical-align: middle;\n",
       "    }\n",
       "\n",
       "    .dataframe tbody tr th {\n",
       "        vertical-align: top;\n",
       "    }\n",
       "\n",
       "    .dataframe thead th {\n",
       "        text-align: right;\n",
       "    }\n",
       "</style>\n",
       "<table border=\"1\" class=\"dataframe\">\n",
       "  <thead>\n",
       "    <tr style=\"text-align: right;\">\n",
       "      <th></th>\n",
       "      <th>Title</th>\n",
       "      <th>price</th>\n",
       "      <th>Ratings</th>\n",
       "      <th>features</th>\n",
       "      <th>Processordetails</th>\n",
       "      <th>RAM</th>\n",
       "      <th>OS</th>\n",
       "      <th>Storage</th>\n",
       "    </tr>\n",
       "  </thead>\n",
       "  <tbody>\n",
       "    <tr>\n",
       "      <th>0</th>\n",
       "      <td>Lenovo IdeaPad 3 Intel Core i3 11th Gen - (8 G...</td>\n",
       "      <td>₹36,541</td>\n",
       "      <td>4.3</td>\n",
       "      <td>Intel Core i3 Processor (11th Gen)8 GB DDR4 RA...</td>\n",
       "      <td>[Intel Core i3 Processor]</td>\n",
       "      <td>[8 GB DDR4 RAM]</td>\n",
       "      <td>[64 bit Windows 11 Operating System]</td>\n",
       "      <td>[512 GB SSD]</td>\n",
       "    </tr>\n",
       "    <tr>\n",
       "      <th>1</th>\n",
       "      <td>ASUS TUF Gaming F15 Core i5 10th Gen - (8 GB/5...</td>\n",
       "      <td>₹51,990</td>\n",
       "      <td>4.4</td>\n",
       "      <td>Intel Core i5 Processor (10th Gen)8 GB DDR4 RA...</td>\n",
       "      <td>[Intel Core i5 Processor]</td>\n",
       "      <td>[8 GB DDR4 RAM]</td>\n",
       "      <td>[]</td>\n",
       "      <td>[512 GB SSD]</td>\n",
       "    </tr>\n",
       "  </tbody>\n",
       "</table>\n",
       "</div>"
      ],
      "text/plain": [
       "                                               Title    price  Ratings  \\\n",
       "0  Lenovo IdeaPad 3 Intel Core i3 11th Gen - (8 G...  ₹36,541      4.3   \n",
       "1  ASUS TUF Gaming F15 Core i5 10th Gen - (8 GB/5...  ₹51,990      4.4   \n",
       "\n",
       "                                            features  \\\n",
       "0  Intel Core i3 Processor (11th Gen)8 GB DDR4 RA...   \n",
       "1  Intel Core i5 Processor (10th Gen)8 GB DDR4 RA...   \n",
       "\n",
       "            Processordetails              RAM  \\\n",
       "0  [Intel Core i3 Processor]  [8 GB DDR4 RAM]   \n",
       "1  [Intel Core i5 Processor]  [8 GB DDR4 RAM]   \n",
       "\n",
       "                                     OS       Storage  \n",
       "0  [64 bit Windows 11 Operating System]  [512 GB SSD]  \n",
       "1                                    []  [512 GB SSD]  "
      ]
     },
     "execution_count": 45,
     "metadata": {},
     "output_type": "execute_result"
    }
   ],
   "source": [
    "laptop_df.head(2)"
   ]
  },
  {
   "cell_type": "code",
   "execution_count": 46,
   "id": "4e1a7c9a",
   "metadata": {},
   "outputs": [
    {
     "data": {
      "text/plain": [
       "'Intel Core i3 Processor (11th Gen)8 GB DDR4 RAM64 bit Windows 11 Operating System512 GB SSD39.62 cm (15.6 inch) DisplayOffice Home and Student 20212 Year Onsite Warranty'"
      ]
     },
     "execution_count": 46,
     "metadata": {},
     "output_type": "execute_result"
    }
   ],
   "source": [
    "laptop_df['features'][0]"
   ]
  },
  {
   "cell_type": "code",
   "execution_count": 47,
   "id": "2281573e",
   "metadata": {},
   "outputs": [
    {
     "data": {
      "text/plain": [
       "['39.62 cm', '15.6 inch']"
      ]
     },
     "execution_count": 47,
     "metadata": {},
     "output_type": "execute_result"
    }
   ],
   "source": [
    "re.findall('\\d+[\\.\\d\\s]*(?:cm|inch)',laptop_df['features'][0])"
   ]
  },
  {
   "cell_type": "code",
   "execution_count": 48,
   "id": "5e5256ca",
   "metadata": {},
   "outputs": [],
   "source": [
    "laptop_df['Screensize'] =  laptop_df['features'].apply(lambda x: re.findall('[\\d+\\.\\d\\s]*(?:cm|inch)', x))"
   ]
  },
  {
   "cell_type": "code",
   "execution_count": 49,
   "id": "9f494469",
   "metadata": {},
   "outputs": [
    {
     "data": {
      "text/html": [
       "<div>\n",
       "<style scoped>\n",
       "    .dataframe tbody tr th:only-of-type {\n",
       "        vertical-align: middle;\n",
       "    }\n",
       "\n",
       "    .dataframe tbody tr th {\n",
       "        vertical-align: top;\n",
       "    }\n",
       "\n",
       "    .dataframe thead th {\n",
       "        text-align: right;\n",
       "    }\n",
       "</style>\n",
       "<table border=\"1\" class=\"dataframe\">\n",
       "  <thead>\n",
       "    <tr style=\"text-align: right;\">\n",
       "      <th></th>\n",
       "      <th>Title</th>\n",
       "      <th>price</th>\n",
       "      <th>Ratings</th>\n",
       "      <th>features</th>\n",
       "      <th>Processordetails</th>\n",
       "      <th>RAM</th>\n",
       "      <th>OS</th>\n",
       "      <th>Storage</th>\n",
       "      <th>Screensize</th>\n",
       "    </tr>\n",
       "  </thead>\n",
       "  <tbody>\n",
       "    <tr>\n",
       "      <th>0</th>\n",
       "      <td>Lenovo IdeaPad 3 Intel Core i3 11th Gen - (8 G...</td>\n",
       "      <td>₹36,541</td>\n",
       "      <td>4.3</td>\n",
       "      <td>Intel Core i3 Processor (11th Gen)8 GB DDR4 RA...</td>\n",
       "      <td>[Intel Core i3 Processor]</td>\n",
       "      <td>[8 GB DDR4 RAM]</td>\n",
       "      <td>[64 bit Windows 11 Operating System]</td>\n",
       "      <td>[512 GB SSD]</td>\n",
       "      <td>[39.62 cm, 15.6 inch]</td>\n",
       "    </tr>\n",
       "    <tr>\n",
       "      <th>1</th>\n",
       "      <td>ASUS TUF Gaming F15 Core i5 10th Gen - (8 GB/5...</td>\n",
       "      <td>₹51,990</td>\n",
       "      <td>4.4</td>\n",
       "      <td>Intel Core i5 Processor (10th Gen)8 GB DDR4 RA...</td>\n",
       "      <td>[Intel Core i5 Processor]</td>\n",
       "      <td>[8 GB DDR4 RAM]</td>\n",
       "      <td>[]</td>\n",
       "      <td>[512 GB SSD]</td>\n",
       "      <td>[39.62 cm, 15.6 inch]</td>\n",
       "    </tr>\n",
       "  </tbody>\n",
       "</table>\n",
       "</div>"
      ],
      "text/plain": [
       "                                               Title    price  Ratings  \\\n",
       "0  Lenovo IdeaPad 3 Intel Core i3 11th Gen - (8 G...  ₹36,541      4.3   \n",
       "1  ASUS TUF Gaming F15 Core i5 10th Gen - (8 GB/5...  ₹51,990      4.4   \n",
       "\n",
       "                                            features  \\\n",
       "0  Intel Core i3 Processor (11th Gen)8 GB DDR4 RA...   \n",
       "1  Intel Core i5 Processor (10th Gen)8 GB DDR4 RA...   \n",
       "\n",
       "            Processordetails              RAM  \\\n",
       "0  [Intel Core i3 Processor]  [8 GB DDR4 RAM]   \n",
       "1  [Intel Core i5 Processor]  [8 GB DDR4 RAM]   \n",
       "\n",
       "                                     OS       Storage             Screensize  \n",
       "0  [64 bit Windows 11 Operating System]  [512 GB SSD]  [39.62 cm, 15.6 inch]  \n",
       "1                                    []  [512 GB SSD]  [39.62 cm, 15.6 inch]  "
      ]
     },
     "execution_count": 49,
     "metadata": {},
     "output_type": "execute_result"
    }
   ],
   "source": [
    "laptop_df.head(2)"
   ]
  },
  {
   "cell_type": "code",
   "execution_count": 50,
   "id": "40b83ffd",
   "metadata": {},
   "outputs": [
    {
     "data": {
      "text/plain": [
       "'Lenovo IdeaPad 3 Intel Core i3 11th Gen - (8 GB/512 GB SSD/Windows 11 Home) 82H801L7IN | 82H802FJIN | ...'"
      ]
     },
     "execution_count": 50,
     "metadata": {},
     "output_type": "execute_result"
    }
   ],
   "source": [
    "laptop_df['Title'][0]"
   ]
  },
  {
   "cell_type": "code",
   "execution_count": 51,
   "id": "12a985f3",
   "metadata": {},
   "outputs": [
    {
     "data": {
      "text/plain": [
       "['Lenovo']"
      ]
     },
     "execution_count": 51,
     "metadata": {},
     "output_type": "execute_result"
    }
   ],
   "source": [
    "re.findall('^\\w+', laptop_df['Title'][0])"
   ]
  },
  {
   "cell_type": "code",
   "execution_count": 53,
   "id": "10d839de",
   "metadata": {},
   "outputs": [],
   "source": [
    "laptop_df['brand'] = laptop_df['Title'].apply(lambda x: re.findall('^\\w+',x))"
   ]
  },
  {
   "cell_type": "code",
   "execution_count": 54,
   "id": "acd6720d",
   "metadata": {},
   "outputs": [
    {
     "data": {
      "text/plain": [
       "'RedmiBook Pro Core i5 11th Gen - (8 GB/512 GB SSD/Windows 11 Home) Thin and Light Laptop'"
      ]
     },
     "execution_count": 54,
     "metadata": {},
     "output_type": "execute_result"
    }
   ],
   "source": [
    "laptop_df['Title'][5]"
   ]
  },
  {
   "cell_type": "code",
   "execution_count": 55,
   "id": "4d94bd33",
   "metadata": {},
   "outputs": [
    {
     "data": {
      "text/html": [
       "<div>\n",
       "<style scoped>\n",
       "    .dataframe tbody tr th:only-of-type {\n",
       "        vertical-align: middle;\n",
       "    }\n",
       "\n",
       "    .dataframe tbody tr th {\n",
       "        vertical-align: top;\n",
       "    }\n",
       "\n",
       "    .dataframe thead th {\n",
       "        text-align: right;\n",
       "    }\n",
       "</style>\n",
       "<table border=\"1\" class=\"dataframe\">\n",
       "  <thead>\n",
       "    <tr style=\"text-align: right;\">\n",
       "      <th></th>\n",
       "      <th>Title</th>\n",
       "      <th>price</th>\n",
       "      <th>Ratings</th>\n",
       "      <th>features</th>\n",
       "      <th>Processordetails</th>\n",
       "      <th>RAM</th>\n",
       "      <th>OS</th>\n",
       "      <th>Storage</th>\n",
       "      <th>Screensize</th>\n",
       "      <th>brand</th>\n",
       "    </tr>\n",
       "  </thead>\n",
       "  <tbody>\n",
       "    <tr>\n",
       "      <th>0</th>\n",
       "      <td>Lenovo IdeaPad 3 Intel Core i3 11th Gen - (8 G...</td>\n",
       "      <td>₹36,541</td>\n",
       "      <td>4.3</td>\n",
       "      <td>Intel Core i3 Processor (11th Gen)8 GB DDR4 RA...</td>\n",
       "      <td>[Intel Core i3 Processor]</td>\n",
       "      <td>[8 GB DDR4 RAM]</td>\n",
       "      <td>[64 bit Windows 11 Operating System]</td>\n",
       "      <td>[512 GB SSD]</td>\n",
       "      <td>[39.62 cm, 15.6 inch]</td>\n",
       "      <td>[Lenovo]</td>\n",
       "    </tr>\n",
       "    <tr>\n",
       "      <th>1</th>\n",
       "      <td>ASUS TUF Gaming F15 Core i5 10th Gen - (8 GB/5...</td>\n",
       "      <td>₹51,990</td>\n",
       "      <td>4.4</td>\n",
       "      <td>Intel Core i5 Processor (10th Gen)8 GB DDR4 RA...</td>\n",
       "      <td>[Intel Core i5 Processor]</td>\n",
       "      <td>[8 GB DDR4 RAM]</td>\n",
       "      <td>[]</td>\n",
       "      <td>[512 GB SSD]</td>\n",
       "      <td>[39.62 cm, 15.6 inch]</td>\n",
       "      <td>[ASUS]</td>\n",
       "    </tr>\n",
       "    <tr>\n",
       "      <th>2</th>\n",
       "      <td>Lenovo Intel Celeron Dual Core - (8 GB/256 GB ...</td>\n",
       "      <td>₹29,490</td>\n",
       "      <td>4.1</td>\n",
       "      <td>Intel Celeron Dual Core Processor8 GB DDR4 RAM...</td>\n",
       "      <td>[Intel Celeron Dual Core Processor]</td>\n",
       "      <td>[8 GB DDR4 RAM]</td>\n",
       "      <td>[64 bit Windows 11 Operating System]</td>\n",
       "      <td>[256 GB SSD]</td>\n",
       "      <td>[39.62 cm]</td>\n",
       "      <td>[Lenovo]</td>\n",
       "    </tr>\n",
       "    <tr>\n",
       "      <th>3</th>\n",
       "      <td>ASUS Vivobook 15 Core i3 11th Gen - (8 GB/512 ...</td>\n",
       "      <td>₹38,990</td>\n",
       "      <td>4.2</td>\n",
       "      <td>Intel Core i3 Processor (11th Gen)8 GB DDR4 RA...</td>\n",
       "      <td>[Intel Core i3 Processor]</td>\n",
       "      <td>[8 GB DDR4 RAM]</td>\n",
       "      <td>[64 bit Windows 11 Operating System]</td>\n",
       "      <td>[512 GB SSD]</td>\n",
       "      <td>[39.62 cm]</td>\n",
       "      <td>[ASUS]</td>\n",
       "    </tr>\n",
       "    <tr>\n",
       "      <th>4</th>\n",
       "      <td>ASUS VivoBook 14 (2021) Celeron Dual Core - (4...</td>\n",
       "      <td>₹23,990</td>\n",
       "      <td>4.1</td>\n",
       "      <td>Intel Celeron Dual Core Processor4 GB DDR4 RAM...</td>\n",
       "      <td>[Intel Celeron Dual Core Processor]</td>\n",
       "      <td>[4 GB DDR4 RAM]</td>\n",
       "      <td>[64 bit Windows 11 Operating System]</td>\n",
       "      <td>[256 GB SSD]</td>\n",
       "      <td>[35.56 cm, 14 inch]</td>\n",
       "      <td>[ASUS]</td>\n",
       "    </tr>\n",
       "  </tbody>\n",
       "</table>\n",
       "</div>"
      ],
      "text/plain": [
       "                                               Title    price  Ratings  \\\n",
       "0  Lenovo IdeaPad 3 Intel Core i3 11th Gen - (8 G...  ₹36,541      4.3   \n",
       "1  ASUS TUF Gaming F15 Core i5 10th Gen - (8 GB/5...  ₹51,990      4.4   \n",
       "2  Lenovo Intel Celeron Dual Core - (8 GB/256 GB ...  ₹29,490      4.1   \n",
       "3  ASUS Vivobook 15 Core i3 11th Gen - (8 GB/512 ...  ₹38,990      4.2   \n",
       "4  ASUS VivoBook 14 (2021) Celeron Dual Core - (4...  ₹23,990      4.1   \n",
       "\n",
       "                                            features  \\\n",
       "0  Intel Core i3 Processor (11th Gen)8 GB DDR4 RA...   \n",
       "1  Intel Core i5 Processor (10th Gen)8 GB DDR4 RA...   \n",
       "2  Intel Celeron Dual Core Processor8 GB DDR4 RAM...   \n",
       "3  Intel Core i3 Processor (11th Gen)8 GB DDR4 RA...   \n",
       "4  Intel Celeron Dual Core Processor4 GB DDR4 RAM...   \n",
       "\n",
       "                      Processordetails              RAM  \\\n",
       "0            [Intel Core i3 Processor]  [8 GB DDR4 RAM]   \n",
       "1            [Intel Core i5 Processor]  [8 GB DDR4 RAM]   \n",
       "2  [Intel Celeron Dual Core Processor]  [8 GB DDR4 RAM]   \n",
       "3            [Intel Core i3 Processor]  [8 GB DDR4 RAM]   \n",
       "4  [Intel Celeron Dual Core Processor]  [4 GB DDR4 RAM]   \n",
       "\n",
       "                                     OS       Storage             Screensize  \\\n",
       "0  [64 bit Windows 11 Operating System]  [512 GB SSD]  [39.62 cm, 15.6 inch]   \n",
       "1                                    []  [512 GB SSD]  [39.62 cm, 15.6 inch]   \n",
       "2  [64 bit Windows 11 Operating System]  [256 GB SSD]             [39.62 cm]   \n",
       "3  [64 bit Windows 11 Operating System]  [512 GB SSD]             [39.62 cm]   \n",
       "4  [64 bit Windows 11 Operating System]  [256 GB SSD]    [35.56 cm, 14 inch]   \n",
       "\n",
       "      brand  \n",
       "0  [Lenovo]  \n",
       "1    [ASUS]  \n",
       "2  [Lenovo]  \n",
       "3    [ASUS]  \n",
       "4    [ASUS]  "
      ]
     },
     "execution_count": 55,
     "metadata": {},
     "output_type": "execute_result"
    }
   ],
   "source": [
    "laptop_df.head(5)"
   ]
  },
  {
   "cell_type": "markdown",
   "id": "0ee338f1",
   "metadata": {},
   "source": [
    "# EDA"
   ]
  },
  {
   "cell_type": "code",
   "execution_count": null,
   "id": "533b883d",
   "metadata": {},
   "outputs": [],
   "source": [
    "#check the missing value"
   ]
  },
  {
   "cell_type": "code",
   "execution_count": null,
   "id": "717779a1",
   "metadata": {},
   "outputs": [],
   "source": [
    "ram\n",
    "cpu\n",
    "harddisk - GB, TB -->, 512 SSD 1 TBHDD\n",
    "OS"
   ]
  },
  {
   "cell_type": "code",
   "execution_count": 56,
   "id": "a0b27870",
   "metadata": {},
   "outputs": [
    {
     "data": {
      "text/html": [
       "<div>\n",
       "<style scoped>\n",
       "    .dataframe tbody tr th:only-of-type {\n",
       "        vertical-align: middle;\n",
       "    }\n",
       "\n",
       "    .dataframe tbody tr th {\n",
       "        vertical-align: top;\n",
       "    }\n",
       "\n",
       "    .dataframe thead th {\n",
       "        text-align: right;\n",
       "    }\n",
       "</style>\n",
       "<table border=\"1\" class=\"dataframe\">\n",
       "  <thead>\n",
       "    <tr style=\"text-align: right;\">\n",
       "      <th></th>\n",
       "      <th>Title</th>\n",
       "      <th>price</th>\n",
       "      <th>Ratings</th>\n",
       "      <th>features</th>\n",
       "      <th>Processordetails</th>\n",
       "      <th>RAM</th>\n",
       "      <th>OS</th>\n",
       "      <th>Storage</th>\n",
       "      <th>Screensize</th>\n",
       "      <th>brand</th>\n",
       "    </tr>\n",
       "  </thead>\n",
       "  <tbody>\n",
       "    <tr>\n",
       "      <th>0</th>\n",
       "      <td>Lenovo IdeaPad 3 Intel Core i3 11th Gen - (8 G...</td>\n",
       "      <td>₹36,541</td>\n",
       "      <td>4.3</td>\n",
       "      <td>Intel Core i3 Processor (11th Gen)8 GB DDR4 RA...</td>\n",
       "      <td>[Intel Core i3 Processor]</td>\n",
       "      <td>[8 GB DDR4 RAM]</td>\n",
       "      <td>[64 bit Windows 11 Operating System]</td>\n",
       "      <td>[512 GB SSD]</td>\n",
       "      <td>[39.62 cm, 15.6 inch]</td>\n",
       "      <td>[Lenovo]</td>\n",
       "    </tr>\n",
       "    <tr>\n",
       "      <th>1</th>\n",
       "      <td>ASUS TUF Gaming F15 Core i5 10th Gen - (8 GB/5...</td>\n",
       "      <td>₹51,990</td>\n",
       "      <td>4.4</td>\n",
       "      <td>Intel Core i5 Processor (10th Gen)8 GB DDR4 RA...</td>\n",
       "      <td>[Intel Core i5 Processor]</td>\n",
       "      <td>[8 GB DDR4 RAM]</td>\n",
       "      <td>[]</td>\n",
       "      <td>[512 GB SSD]</td>\n",
       "      <td>[39.62 cm, 15.6 inch]</td>\n",
       "      <td>[ASUS]</td>\n",
       "    </tr>\n",
       "  </tbody>\n",
       "</table>\n",
       "</div>"
      ],
      "text/plain": [
       "                                               Title    price  Ratings  \\\n",
       "0  Lenovo IdeaPad 3 Intel Core i3 11th Gen - (8 G...  ₹36,541      4.3   \n",
       "1  ASUS TUF Gaming F15 Core i5 10th Gen - (8 GB/5...  ₹51,990      4.4   \n",
       "\n",
       "                                            features  \\\n",
       "0  Intel Core i3 Processor (11th Gen)8 GB DDR4 RA...   \n",
       "1  Intel Core i5 Processor (10th Gen)8 GB DDR4 RA...   \n",
       "\n",
       "            Processordetails              RAM  \\\n",
       "0  [Intel Core i3 Processor]  [8 GB DDR4 RAM]   \n",
       "1  [Intel Core i5 Processor]  [8 GB DDR4 RAM]   \n",
       "\n",
       "                                     OS       Storage             Screensize  \\\n",
       "0  [64 bit Windows 11 Operating System]  [512 GB SSD]  [39.62 cm, 15.6 inch]   \n",
       "1                                    []  [512 GB SSD]  [39.62 cm, 15.6 inch]   \n",
       "\n",
       "      brand  \n",
       "0  [Lenovo]  \n",
       "1    [ASUS]  "
      ]
     },
     "execution_count": 56,
     "metadata": {},
     "output_type": "execute_result"
    }
   ],
   "source": [
    "laptop_df.head(2)"
   ]
  },
  {
   "cell_type": "code",
   "execution_count": 57,
   "id": "0d8314c7",
   "metadata": {},
   "outputs": [
    {
     "data": {
      "text/plain": [
       "['Hp']"
      ]
     },
     "execution_count": 57,
     "metadata": {},
     "output_type": "execute_result"
    }
   ],
   "source": [
    "a = ['Hp']\n",
    "a"
   ]
  },
  {
   "cell_type": "code",
   "execution_count": 58,
   "id": "7b5dd1f7",
   "metadata": {},
   "outputs": [
    {
     "data": {
      "text/plain": [
       "'Hp'"
      ]
     },
     "execution_count": 58,
     "metadata": {},
     "output_type": "execute_result"
    }
   ],
   "source": [
    "''.join(a)"
   ]
  },
  {
   "cell_type": "code",
   "execution_count": 63,
   "id": "6572b981",
   "metadata": {
    "scrolled": true
   },
   "outputs": [],
   "source": [
    "laptop_df['Processordetails'] = laptop_df['Processordetails'].apply(lambda x: ''.join) "
   ]
  },
  {
   "cell_type": "code",
   "execution_count": 64,
   "id": "815c3ffa",
   "metadata": {},
   "outputs": [
    {
     "data": {
      "text/html": [
       "<div>\n",
       "<style scoped>\n",
       "    .dataframe tbody tr th:only-of-type {\n",
       "        vertical-align: middle;\n",
       "    }\n",
       "\n",
       "    .dataframe tbody tr th {\n",
       "        vertical-align: top;\n",
       "    }\n",
       "\n",
       "    .dataframe thead th {\n",
       "        text-align: right;\n",
       "    }\n",
       "</style>\n",
       "<table border=\"1\" class=\"dataframe\">\n",
       "  <thead>\n",
       "    <tr style=\"text-align: right;\">\n",
       "      <th></th>\n",
       "      <th>Title</th>\n",
       "      <th>price</th>\n",
       "      <th>Ratings</th>\n",
       "      <th>features</th>\n",
       "      <th>Processordetails</th>\n",
       "      <th>RAM</th>\n",
       "      <th>OS</th>\n",
       "      <th>Storage</th>\n",
       "      <th>Screensize</th>\n",
       "      <th>brand</th>\n",
       "    </tr>\n",
       "  </thead>\n",
       "  <tbody>\n",
       "    <tr>\n",
       "      <th>0</th>\n",
       "      <td>Lenovo IdeaPad 3 Intel Core i3 11th Gen - (8 G...</td>\n",
       "      <td>₹36,541</td>\n",
       "      <td>4.3</td>\n",
       "      <td>Intel Core i3 Processor (11th Gen)8 GB DDR4 RA...</td>\n",
       "      <td>&lt;built-in method join of str object at 0x00000...</td>\n",
       "      <td>[8 GB DDR4 RAM]</td>\n",
       "      <td>[64 bit Windows 11 Operating System]</td>\n",
       "      <td>[512 GB SSD]</td>\n",
       "      <td>[39.62 cm, 15.6 inch]</td>\n",
       "      <td>[Lenovo]</td>\n",
       "    </tr>\n",
       "    <tr>\n",
       "      <th>1</th>\n",
       "      <td>ASUS TUF Gaming F15 Core i5 10th Gen - (8 GB/5...</td>\n",
       "      <td>₹51,990</td>\n",
       "      <td>4.4</td>\n",
       "      <td>Intel Core i5 Processor (10th Gen)8 GB DDR4 RA...</td>\n",
       "      <td>&lt;built-in method join of str object at 0x00000...</td>\n",
       "      <td>[8 GB DDR4 RAM]</td>\n",
       "      <td>[]</td>\n",
       "      <td>[512 GB SSD]</td>\n",
       "      <td>[39.62 cm, 15.6 inch]</td>\n",
       "      <td>[ASUS]</td>\n",
       "    </tr>\n",
       "  </tbody>\n",
       "</table>\n",
       "</div>"
      ],
      "text/plain": [
       "                                               Title    price  Ratings  \\\n",
       "0  Lenovo IdeaPad 3 Intel Core i3 11th Gen - (8 G...  ₹36,541      4.3   \n",
       "1  ASUS TUF Gaming F15 Core i5 10th Gen - (8 GB/5...  ₹51,990      4.4   \n",
       "\n",
       "                                            features  \\\n",
       "0  Intel Core i3 Processor (11th Gen)8 GB DDR4 RA...   \n",
       "1  Intel Core i5 Processor (10th Gen)8 GB DDR4 RA...   \n",
       "\n",
       "                                    Processordetails              RAM  \\\n",
       "0  <built-in method join of str object at 0x00000...  [8 GB DDR4 RAM]   \n",
       "1  <built-in method join of str object at 0x00000...  [8 GB DDR4 RAM]   \n",
       "\n",
       "                                     OS       Storage             Screensize  \\\n",
       "0  [64 bit Windows 11 Operating System]  [512 GB SSD]  [39.62 cm, 15.6 inch]   \n",
       "1                                    []  [512 GB SSD]  [39.62 cm, 15.6 inch]   \n",
       "\n",
       "      brand  \n",
       "0  [Lenovo]  \n",
       "1    [ASUS]  "
      ]
     },
     "execution_count": 64,
     "metadata": {},
     "output_type": "execute_result"
    }
   ],
   "source": [
    "laptop_df.head(2)"
   ]
  },
  {
   "cell_type": "code",
   "execution_count": 65,
   "id": "affe61d6",
   "metadata": {},
   "outputs": [],
   "source": [
    "laptop_df['RAM'] = laptop_df['Processordetails'].apply(lambda x: ''.join) \n",
    "laptop_df['OS'] = laptop_df['OS'].apply(lambda x: ''.join) \n",
    "laptop_df['Storage'] = laptop_df['Storage'].apply(lambda x: ''.join) \n",
    "laptop_df['brand'] = laptop_df['brand'].apply(lambda x: ''.join) "
   ]
  },
  {
   "cell_type": "code",
   "execution_count": 66,
   "id": "0b53dd5f",
   "metadata": {},
   "outputs": [
    {
     "data": {
      "text/html": [
       "<div>\n",
       "<style scoped>\n",
       "    .dataframe tbody tr th:only-of-type {\n",
       "        vertical-align: middle;\n",
       "    }\n",
       "\n",
       "    .dataframe tbody tr th {\n",
       "        vertical-align: top;\n",
       "    }\n",
       "\n",
       "    .dataframe thead th {\n",
       "        text-align: right;\n",
       "    }\n",
       "</style>\n",
       "<table border=\"1\" class=\"dataframe\">\n",
       "  <thead>\n",
       "    <tr style=\"text-align: right;\">\n",
       "      <th></th>\n",
       "      <th>Title</th>\n",
       "      <th>price</th>\n",
       "      <th>Ratings</th>\n",
       "      <th>features</th>\n",
       "      <th>Processordetails</th>\n",
       "      <th>RAM</th>\n",
       "      <th>OS</th>\n",
       "      <th>Storage</th>\n",
       "      <th>Screensize</th>\n",
       "      <th>brand</th>\n",
       "    </tr>\n",
       "  </thead>\n",
       "  <tbody>\n",
       "    <tr>\n",
       "      <th>0</th>\n",
       "      <td>Lenovo IdeaPad 3 Intel Core i3 11th Gen - (8 G...</td>\n",
       "      <td>₹36,541</td>\n",
       "      <td>4.3</td>\n",
       "      <td>Intel Core i3 Processor (11th Gen)8 GB DDR4 RA...</td>\n",
       "      <td>&lt;built-in method join of str object at 0x00000...</td>\n",
       "      <td>&lt;built-in method join of str object at 0x00000...</td>\n",
       "      <td>&lt;built-in method join of str object at 0x00000...</td>\n",
       "      <td>&lt;built-in method join of str object at 0x00000...</td>\n",
       "      <td>[39.62 cm, 15.6 inch]</td>\n",
       "      <td>&lt;built-in method join of str object at 0x00000...</td>\n",
       "    </tr>\n",
       "    <tr>\n",
       "      <th>1</th>\n",
       "      <td>ASUS TUF Gaming F15 Core i5 10th Gen - (8 GB/5...</td>\n",
       "      <td>₹51,990</td>\n",
       "      <td>4.4</td>\n",
       "      <td>Intel Core i5 Processor (10th Gen)8 GB DDR4 RA...</td>\n",
       "      <td>&lt;built-in method join of str object at 0x00000...</td>\n",
       "      <td>&lt;built-in method join of str object at 0x00000...</td>\n",
       "      <td>&lt;built-in method join of str object at 0x00000...</td>\n",
       "      <td>&lt;built-in method join of str object at 0x00000...</td>\n",
       "      <td>[39.62 cm, 15.6 inch]</td>\n",
       "      <td>&lt;built-in method join of str object at 0x00000...</td>\n",
       "    </tr>\n",
       "  </tbody>\n",
       "</table>\n",
       "</div>"
      ],
      "text/plain": [
       "                                               Title    price  Ratings  \\\n",
       "0  Lenovo IdeaPad 3 Intel Core i3 11th Gen - (8 G...  ₹36,541      4.3   \n",
       "1  ASUS TUF Gaming F15 Core i5 10th Gen - (8 GB/5...  ₹51,990      4.4   \n",
       "\n",
       "                                            features  \\\n",
       "0  Intel Core i3 Processor (11th Gen)8 GB DDR4 RA...   \n",
       "1  Intel Core i5 Processor (10th Gen)8 GB DDR4 RA...   \n",
       "\n",
       "                                    Processordetails  \\\n",
       "0  <built-in method join of str object at 0x00000...   \n",
       "1  <built-in method join of str object at 0x00000...   \n",
       "\n",
       "                                                 RAM  \\\n",
       "0  <built-in method join of str object at 0x00000...   \n",
       "1  <built-in method join of str object at 0x00000...   \n",
       "\n",
       "                                                  OS  \\\n",
       "0  <built-in method join of str object at 0x00000...   \n",
       "1  <built-in method join of str object at 0x00000...   \n",
       "\n",
       "                                             Storage             Screensize  \\\n",
       "0  <built-in method join of str object at 0x00000...  [39.62 cm, 15.6 inch]   \n",
       "1  <built-in method join of str object at 0x00000...  [39.62 cm, 15.6 inch]   \n",
       "\n",
       "                                               brand  \n",
       "0  <built-in method join of str object at 0x00000...  \n",
       "1  <built-in method join of str object at 0x00000...  "
      ]
     },
     "execution_count": 66,
     "metadata": {},
     "output_type": "execute_result"
    }
   ],
   "source": [
    "laptop_df.head(2)"
   ]
  },
  {
   "cell_type": "code",
   "execution_count": 67,
   "id": "8d385d88",
   "metadata": {},
   "outputs": [
    {
     "data": {
      "text/plain": [
       "0     [39.62 cm, 15.6 inch]\n",
       "1     [39.62 cm, 15.6 inch]\n",
       "2                [39.62 cm]\n",
       "3                [39.62 cm]\n",
       "4       [35.56 cm, 14 inch]\n",
       "5     [39.62 cm, 15.6 inch]\n",
       "6     [33.78 cm, 13.3 inch]\n",
       "7     [39.62 cm, 15.6 inch]\n",
       "8       [35.56 cm, 14 inch]\n",
       "9     [39.62 cm, 15.6 inch]\n",
       "10               [39.62 cm]\n",
       "11               [39.62 cm]\n",
       "12    [39.62 cm, 15.6 inch]\n",
       "13               [39.62 cm]\n",
       "14               [39.62 cm]\n",
       "15    [39.62 cm, 15.6 inch]\n",
       "16               [43.94 cm]\n",
       "17               [35.56 cm]\n",
       "18      [35.56 cm, 14 inch]\n",
       "19      [35.56 cm, 14 inch]\n",
       "20               [39.62 cm]\n",
       "21               [39.62 cm]\n",
       "22      [35.56 cm, 14 inch]\n",
       "23    [39.62 cm, 15.6 inch]\n",
       "Name: Screensize, dtype: object"
      ]
     },
     "execution_count": 67,
     "metadata": {},
     "output_type": "execute_result"
    }
   ],
   "source": [
    "laptop_df['Screensize']"
   ]
  },
  {
   "cell_type": "code",
   "execution_count": 72,
   "id": "cdcaf247",
   "metadata": {},
   "outputs": [],
   "source": [
    "laptop_df['Screensize_<m']= laptop_df['Screensize'].apply(lambda x: x[0])\n",
    "laptop_df['Screensize_inch'] = laptop_df['Screensize'].apply(lambda x: x[1] if len(x) > 1 else np.nan)"
   ]
  },
  {
   "cell_type": "code",
   "execution_count": 73,
   "id": "5183e883",
   "metadata": {},
   "outputs": [
    {
     "data": {
      "text/html": [
       "<div>\n",
       "<style scoped>\n",
       "    .dataframe tbody tr th:only-of-type {\n",
       "        vertical-align: middle;\n",
       "    }\n",
       "\n",
       "    .dataframe tbody tr th {\n",
       "        vertical-align: top;\n",
       "    }\n",
       "\n",
       "    .dataframe thead th {\n",
       "        text-align: right;\n",
       "    }\n",
       "</style>\n",
       "<table border=\"1\" class=\"dataframe\">\n",
       "  <thead>\n",
       "    <tr style=\"text-align: right;\">\n",
       "      <th></th>\n",
       "      <th>Title</th>\n",
       "      <th>price</th>\n",
       "      <th>Ratings</th>\n",
       "      <th>features</th>\n",
       "      <th>Processordetails</th>\n",
       "      <th>RAM</th>\n",
       "      <th>OS</th>\n",
       "      <th>Storage</th>\n",
       "      <th>Screensize</th>\n",
       "      <th>brand</th>\n",
       "      <th>Screensize_&lt;m</th>\n",
       "      <th>Screensize_inch</th>\n",
       "    </tr>\n",
       "  </thead>\n",
       "  <tbody>\n",
       "    <tr>\n",
       "      <th>0</th>\n",
       "      <td>Lenovo IdeaPad 3 Intel Core i3 11th Gen - (8 G...</td>\n",
       "      <td>₹36,541</td>\n",
       "      <td>4.3</td>\n",
       "      <td>Intel Core i3 Processor (11th Gen)8 GB DDR4 RA...</td>\n",
       "      <td>&lt;built-in method join of str object at 0x00000...</td>\n",
       "      <td>&lt;built-in method join of str object at 0x00000...</td>\n",
       "      <td>&lt;built-in method join of str object at 0x00000...</td>\n",
       "      <td>&lt;built-in method join of str object at 0x00000...</td>\n",
       "      <td>[39.62 cm, 15.6 inch]</td>\n",
       "      <td>&lt;built-in method join of str object at 0x00000...</td>\n",
       "      <td>39.62 cm</td>\n",
       "      <td>15.6 inch</td>\n",
       "    </tr>\n",
       "    <tr>\n",
       "      <th>1</th>\n",
       "      <td>ASUS TUF Gaming F15 Core i5 10th Gen - (8 GB/5...</td>\n",
       "      <td>₹51,990</td>\n",
       "      <td>4.4</td>\n",
       "      <td>Intel Core i5 Processor (10th Gen)8 GB DDR4 RA...</td>\n",
       "      <td>&lt;built-in method join of str object at 0x00000...</td>\n",
       "      <td>&lt;built-in method join of str object at 0x00000...</td>\n",
       "      <td>&lt;built-in method join of str object at 0x00000...</td>\n",
       "      <td>&lt;built-in method join of str object at 0x00000...</td>\n",
       "      <td>[39.62 cm, 15.6 inch]</td>\n",
       "      <td>&lt;built-in method join of str object at 0x00000...</td>\n",
       "      <td>39.62 cm</td>\n",
       "      <td>15.6 inch</td>\n",
       "    </tr>\n",
       "  </tbody>\n",
       "</table>\n",
       "</div>"
      ],
      "text/plain": [
       "                                               Title    price  Ratings  \\\n",
       "0  Lenovo IdeaPad 3 Intel Core i3 11th Gen - (8 G...  ₹36,541      4.3   \n",
       "1  ASUS TUF Gaming F15 Core i5 10th Gen - (8 GB/5...  ₹51,990      4.4   \n",
       "\n",
       "                                            features  \\\n",
       "0  Intel Core i3 Processor (11th Gen)8 GB DDR4 RA...   \n",
       "1  Intel Core i5 Processor (10th Gen)8 GB DDR4 RA...   \n",
       "\n",
       "                                    Processordetails  \\\n",
       "0  <built-in method join of str object at 0x00000...   \n",
       "1  <built-in method join of str object at 0x00000...   \n",
       "\n",
       "                                                 RAM  \\\n",
       "0  <built-in method join of str object at 0x00000...   \n",
       "1  <built-in method join of str object at 0x00000...   \n",
       "\n",
       "                                                  OS  \\\n",
       "0  <built-in method join of str object at 0x00000...   \n",
       "1  <built-in method join of str object at 0x00000...   \n",
       "\n",
       "                                             Storage             Screensize  \\\n",
       "0  <built-in method join of str object at 0x00000...  [39.62 cm, 15.6 inch]   \n",
       "1  <built-in method join of str object at 0x00000...  [39.62 cm, 15.6 inch]   \n",
       "\n",
       "                                               brand Screensize_<m  \\\n",
       "0  <built-in method join of str object at 0x00000...      39.62 cm   \n",
       "1  <built-in method join of str object at 0x00000...      39.62 cm   \n",
       "\n",
       "  Screensize_inch  \n",
       "0       15.6 inch  \n",
       "1       15.6 inch  "
      ]
     },
     "execution_count": 73,
     "metadata": {},
     "output_type": "execute_result"
    }
   ],
   "source": [
    "laptop_df.head(2)"
   ]
  },
  {
   "cell_type": "code",
   "execution_count": 74,
   "id": "32a73c39",
   "metadata": {},
   "outputs": [
    {
     "data": {
      "text/plain": [
       "0     [39.62 cm, 15.6 inch]\n",
       "1     [39.62 cm, 15.6 inch]\n",
       "2                [39.62 cm]\n",
       "3                [39.62 cm]\n",
       "4       [35.56 cm, 14 inch]\n",
       "5     [39.62 cm, 15.6 inch]\n",
       "6     [33.78 cm, 13.3 inch]\n",
       "7     [39.62 cm, 15.6 inch]\n",
       "8       [35.56 cm, 14 inch]\n",
       "9     [39.62 cm, 15.6 inch]\n",
       "10               [39.62 cm]\n",
       "11               [39.62 cm]\n",
       "12    [39.62 cm, 15.6 inch]\n",
       "13               [39.62 cm]\n",
       "14               [39.62 cm]\n",
       "15    [39.62 cm, 15.6 inch]\n",
       "16               [43.94 cm]\n",
       "17               [35.56 cm]\n",
       "18      [35.56 cm, 14 inch]\n",
       "19      [35.56 cm, 14 inch]\n",
       "20               [39.62 cm]\n",
       "21               [39.62 cm]\n",
       "22      [35.56 cm, 14 inch]\n",
       "23    [39.62 cm, 15.6 inch]\n",
       "Name: Screensize, dtype: object"
      ]
     },
     "execution_count": 74,
     "metadata": {},
     "output_type": "execute_result"
    }
   ],
   "source": [
    "laptop_df['Screensize']"
   ]
  },
  {
   "cell_type": "code",
   "execution_count": 75,
   "id": "cad83682",
   "metadata": {},
   "outputs": [
    {
     "data": {
      "text/html": [
       "<div>\n",
       "<style scoped>\n",
       "    .dataframe tbody tr th:only-of-type {\n",
       "        vertical-align: middle;\n",
       "    }\n",
       "\n",
       "    .dataframe tbody tr th {\n",
       "        vertical-align: top;\n",
       "    }\n",
       "\n",
       "    .dataframe thead th {\n",
       "        text-align: right;\n",
       "    }\n",
       "</style>\n",
       "<table border=\"1\" class=\"dataframe\">\n",
       "  <thead>\n",
       "    <tr style=\"text-align: right;\">\n",
       "      <th></th>\n",
       "      <th>Title</th>\n",
       "      <th>price</th>\n",
       "      <th>Ratings</th>\n",
       "      <th>features</th>\n",
       "      <th>Processordetails</th>\n",
       "      <th>RAM</th>\n",
       "      <th>OS</th>\n",
       "      <th>Storage</th>\n",
       "      <th>Screensize</th>\n",
       "      <th>brand</th>\n",
       "      <th>Screensize_&lt;m</th>\n",
       "      <th>Screensize_inch</th>\n",
       "    </tr>\n",
       "  </thead>\n",
       "  <tbody>\n",
       "    <tr>\n",
       "      <th>0</th>\n",
       "      <td>Lenovo IdeaPad 3 Intel Core i3 11th Gen - (8 G...</td>\n",
       "      <td>₹36,541</td>\n",
       "      <td>4.3</td>\n",
       "      <td>Intel Core i3 Processor (11th Gen)8 GB DDR4 RA...</td>\n",
       "      <td>&lt;built-in method join of str object at 0x00000...</td>\n",
       "      <td>&lt;built-in method join of str object at 0x00000...</td>\n",
       "      <td>&lt;built-in method join of str object at 0x00000...</td>\n",
       "      <td>&lt;built-in method join of str object at 0x00000...</td>\n",
       "      <td>[39.62 cm, 15.6 inch]</td>\n",
       "      <td>&lt;built-in method join of str object at 0x00000...</td>\n",
       "      <td>39.62 cm</td>\n",
       "      <td>15.6 inch</td>\n",
       "    </tr>\n",
       "    <tr>\n",
       "      <th>1</th>\n",
       "      <td>ASUS TUF Gaming F15 Core i5 10th Gen - (8 GB/5...</td>\n",
       "      <td>₹51,990</td>\n",
       "      <td>4.4</td>\n",
       "      <td>Intel Core i5 Processor (10th Gen)8 GB DDR4 RA...</td>\n",
       "      <td>&lt;built-in method join of str object at 0x00000...</td>\n",
       "      <td>&lt;built-in method join of str object at 0x00000...</td>\n",
       "      <td>&lt;built-in method join of str object at 0x00000...</td>\n",
       "      <td>&lt;built-in method join of str object at 0x00000...</td>\n",
       "      <td>[39.62 cm, 15.6 inch]</td>\n",
       "      <td>&lt;built-in method join of str object at 0x00000...</td>\n",
       "      <td>39.62 cm</td>\n",
       "      <td>15.6 inch</td>\n",
       "    </tr>\n",
       "  </tbody>\n",
       "</table>\n",
       "</div>"
      ],
      "text/plain": [
       "                                               Title    price  Ratings  \\\n",
       "0  Lenovo IdeaPad 3 Intel Core i3 11th Gen - (8 G...  ₹36,541      4.3   \n",
       "1  ASUS TUF Gaming F15 Core i5 10th Gen - (8 GB/5...  ₹51,990      4.4   \n",
       "\n",
       "                                            features  \\\n",
       "0  Intel Core i3 Processor (11th Gen)8 GB DDR4 RA...   \n",
       "1  Intel Core i5 Processor (10th Gen)8 GB DDR4 RA...   \n",
       "\n",
       "                                    Processordetails  \\\n",
       "0  <built-in method join of str object at 0x00000...   \n",
       "1  <built-in method join of str object at 0x00000...   \n",
       "\n",
       "                                                 RAM  \\\n",
       "0  <built-in method join of str object at 0x00000...   \n",
       "1  <built-in method join of str object at 0x00000...   \n",
       "\n",
       "                                                  OS  \\\n",
       "0  <built-in method join of str object at 0x00000...   \n",
       "1  <built-in method join of str object at 0x00000...   \n",
       "\n",
       "                                             Storage             Screensize  \\\n",
       "0  <built-in method join of str object at 0x00000...  [39.62 cm, 15.6 inch]   \n",
       "1  <built-in method join of str object at 0x00000...  [39.62 cm, 15.6 inch]   \n",
       "\n",
       "                                               brand Screensize_<m  \\\n",
       "0  <built-in method join of str object at 0x00000...      39.62 cm   \n",
       "1  <built-in method join of str object at 0x00000...      39.62 cm   \n",
       "\n",
       "  Screensize_inch  \n",
       "0       15.6 inch  \n",
       "1       15.6 inch  "
      ]
     },
     "execution_count": 75,
     "metadata": {},
     "output_type": "execute_result"
    }
   ],
   "source": [
    "laptop_df.head(2)"
   ]
  },
  {
   "cell_type": "code",
   "execution_count": 76,
   "id": "0f2ec6a2",
   "metadata": {},
   "outputs": [
    {
     "name": "stdout",
     "output_type": "stream",
     "text": [
      "<class 'pandas.core.frame.DataFrame'>\n",
      "RangeIndex: 24 entries, 0 to 23\n",
      "Data columns (total 12 columns):\n",
      " #   Column            Non-Null Count  Dtype  \n",
      "---  ------            --------------  -----  \n",
      " 0   Title             24 non-null     object \n",
      " 1   price             24 non-null     object \n",
      " 2   Ratings           23 non-null     float64\n",
      " 3   features          24 non-null     object \n",
      " 4   Processordetails  24 non-null     object \n",
      " 5   RAM               24 non-null     object \n",
      " 6   OS                24 non-null     object \n",
      " 7   Storage           24 non-null     object \n",
      " 8   Screensize        24 non-null     object \n",
      " 9   brand             24 non-null     object \n",
      " 10  Screensize_<m     24 non-null     object \n",
      " 11  Screensize_inch   14 non-null     object \n",
      "dtypes: float64(1), object(11)\n",
      "memory usage: 2.4+ KB\n"
     ]
    }
   ],
   "source": [
    "laptop_df.info()"
   ]
  },
  {
   "cell_type": "code",
   "execution_count": 77,
   "id": "34ed0c7c",
   "metadata": {},
   "outputs": [
    {
     "data": {
      "text/plain": [
       "0     ₹36,541\n",
       "1     ₹51,990\n",
       "2     ₹29,490\n",
       "3     ₹38,990\n",
       "4     ₹23,990\n",
       "5     ₹39,990\n",
       "6     ₹84,990\n",
       "7     ₹51,990\n",
       "8     ₹40,990\n",
       "9     ₹36,990\n",
       "10    ₹33,490\n",
       "11    ₹47,990\n",
       "12    ₹55,990\n",
       "13    ₹36,158\n",
       "14    ₹40,990\n",
       "15    ₹42,090\n",
       "16    ₹74,500\n",
       "17    ₹52,990\n",
       "18    ₹37,490\n",
       "19    ₹27,990\n",
       "20    ₹53,990\n",
       "21    ₹50,990\n",
       "22    ₹38,990\n",
       "23    ₹49,990\n",
       "Name: price, dtype: object"
      ]
     },
     "execution_count": 77,
     "metadata": {},
     "output_type": "execute_result"
    }
   ],
   "source": [
    "laptop_df.price"
   ]
  },
  {
   "cell_type": "code",
   "execution_count": 78,
   "id": "7964ec72",
   "metadata": {},
   "outputs": [
    {
     "data": {
      "text/plain": [
       "'₹36,541'"
      ]
     },
     "execution_count": 78,
     "metadata": {},
     "output_type": "execute_result"
    }
   ],
   "source": [
    "x = '₹36,541'\n",
    "x"
   ]
  },
  {
   "cell_type": "code",
   "execution_count": 81,
   "id": "7559ace2",
   "metadata": {},
   "outputs": [
    {
     "data": {
      "text/plain": [
       "36541"
      ]
     },
     "execution_count": 81,
     "metadata": {},
     "output_type": "execute_result"
    }
   ],
   "source": [
    "int(x.replace('₹', '').replace(',',''))"
   ]
  },
  {
   "cell_type": "code",
   "execution_count": 88,
   "id": "bba00eda",
   "metadata": {},
   "outputs": [],
   "source": [
    "laptop_df['price'] = laptop_df['price'].apply(lambda x: x.replace('₹', '').replace(',','')).astype(float)"
   ]
  },
  {
   "cell_type": "code",
   "execution_count": 89,
   "id": "f4e2a410",
   "metadata": {},
   "outputs": [
    {
     "data": {
      "text/plain": [
       "0     36541.0\n",
       "1     51990.0\n",
       "2     29490.0\n",
       "3     38990.0\n",
       "4     23990.0\n",
       "5     39990.0\n",
       "6     84990.0\n",
       "7     51990.0\n",
       "8     40990.0\n",
       "9     36990.0\n",
       "10    33490.0\n",
       "11    47990.0\n",
       "12    55990.0\n",
       "13    36158.0\n",
       "14    40990.0\n",
       "15    42090.0\n",
       "16    74500.0\n",
       "17    52990.0\n",
       "18    37490.0\n",
       "19    27990.0\n",
       "20    53990.0\n",
       "21    50990.0\n",
       "22    38990.0\n",
       "23    49990.0\n",
       "Name: price, dtype: float64"
      ]
     },
     "execution_count": 89,
     "metadata": {},
     "output_type": "execute_result"
    }
   ],
   "source": [
    "laptop_df['price']"
   ]
  },
  {
   "cell_type": "code",
   "execution_count": 90,
   "id": "b4f99ea7",
   "metadata": {},
   "outputs": [
    {
     "data": {
      "text/html": [
       "<div>\n",
       "<style scoped>\n",
       "    .dataframe tbody tr th:only-of-type {\n",
       "        vertical-align: middle;\n",
       "    }\n",
       "\n",
       "    .dataframe tbody tr th {\n",
       "        vertical-align: top;\n",
       "    }\n",
       "\n",
       "    .dataframe thead th {\n",
       "        text-align: right;\n",
       "    }\n",
       "</style>\n",
       "<table border=\"1\" class=\"dataframe\">\n",
       "  <thead>\n",
       "    <tr style=\"text-align: right;\">\n",
       "      <th></th>\n",
       "      <th>Title</th>\n",
       "      <th>price</th>\n",
       "      <th>Ratings</th>\n",
       "      <th>features</th>\n",
       "      <th>Processordetails</th>\n",
       "      <th>RAM</th>\n",
       "      <th>OS</th>\n",
       "      <th>Storage</th>\n",
       "      <th>Screensize</th>\n",
       "      <th>brand</th>\n",
       "      <th>Screensize_&lt;m</th>\n",
       "      <th>Screensize_inch</th>\n",
       "    </tr>\n",
       "  </thead>\n",
       "  <tbody>\n",
       "    <tr>\n",
       "      <th>0</th>\n",
       "      <td>Lenovo IdeaPad 3 Intel Core i3 11th Gen - (8 G...</td>\n",
       "      <td>36541.0</td>\n",
       "      <td>4.3</td>\n",
       "      <td>Intel Core i3 Processor (11th Gen)8 GB DDR4 RA...</td>\n",
       "      <td>&lt;built-in method join of str object at 0x00000...</td>\n",
       "      <td>&lt;built-in method join of str object at 0x00000...</td>\n",
       "      <td>&lt;built-in method join of str object at 0x00000...</td>\n",
       "      <td>&lt;built-in method join of str object at 0x00000...</td>\n",
       "      <td>[39.62 cm, 15.6 inch]</td>\n",
       "      <td>&lt;built-in method join of str object at 0x00000...</td>\n",
       "      <td>39.62 cm</td>\n",
       "      <td>15.6 inch</td>\n",
       "    </tr>\n",
       "    <tr>\n",
       "      <th>1</th>\n",
       "      <td>ASUS TUF Gaming F15 Core i5 10th Gen - (8 GB/5...</td>\n",
       "      <td>51990.0</td>\n",
       "      <td>4.4</td>\n",
       "      <td>Intel Core i5 Processor (10th Gen)8 GB DDR4 RA...</td>\n",
       "      <td>&lt;built-in method join of str object at 0x00000...</td>\n",
       "      <td>&lt;built-in method join of str object at 0x00000...</td>\n",
       "      <td>&lt;built-in method join of str object at 0x00000...</td>\n",
       "      <td>&lt;built-in method join of str object at 0x00000...</td>\n",
       "      <td>[39.62 cm, 15.6 inch]</td>\n",
       "      <td>&lt;built-in method join of str object at 0x00000...</td>\n",
       "      <td>39.62 cm</td>\n",
       "      <td>15.6 inch</td>\n",
       "    </tr>\n",
       "    <tr>\n",
       "      <th>2</th>\n",
       "      <td>Lenovo Intel Celeron Dual Core - (8 GB/256 GB ...</td>\n",
       "      <td>29490.0</td>\n",
       "      <td>4.1</td>\n",
       "      <td>Intel Celeron Dual Core Processor8 GB DDR4 RAM...</td>\n",
       "      <td>&lt;built-in method join of str object at 0x00000...</td>\n",
       "      <td>&lt;built-in method join of str object at 0x00000...</td>\n",
       "      <td>&lt;built-in method join of str object at 0x00000...</td>\n",
       "      <td>&lt;built-in method join of str object at 0x00000...</td>\n",
       "      <td>[39.62 cm]</td>\n",
       "      <td>&lt;built-in method join of str object at 0x00000...</td>\n",
       "      <td>39.62 cm</td>\n",
       "      <td>NaN</td>\n",
       "    </tr>\n",
       "    <tr>\n",
       "      <th>3</th>\n",
       "      <td>ASUS Vivobook 15 Core i3 11th Gen - (8 GB/512 ...</td>\n",
       "      <td>38990.0</td>\n",
       "      <td>4.2</td>\n",
       "      <td>Intel Core i3 Processor (11th Gen)8 GB DDR4 RA...</td>\n",
       "      <td>&lt;built-in method join of str object at 0x00000...</td>\n",
       "      <td>&lt;built-in method join of str object at 0x00000...</td>\n",
       "      <td>&lt;built-in method join of str object at 0x00000...</td>\n",
       "      <td>&lt;built-in method join of str object at 0x00000...</td>\n",
       "      <td>[39.62 cm]</td>\n",
       "      <td>&lt;built-in method join of str object at 0x00000...</td>\n",
       "      <td>39.62 cm</td>\n",
       "      <td>NaN</td>\n",
       "    </tr>\n",
       "    <tr>\n",
       "      <th>4</th>\n",
       "      <td>ASUS VivoBook 14 (2021) Celeron Dual Core - (4...</td>\n",
       "      <td>23990.0</td>\n",
       "      <td>4.1</td>\n",
       "      <td>Intel Celeron Dual Core Processor4 GB DDR4 RAM...</td>\n",
       "      <td>&lt;built-in method join of str object at 0x00000...</td>\n",
       "      <td>&lt;built-in method join of str object at 0x00000...</td>\n",
       "      <td>&lt;built-in method join of str object at 0x00000...</td>\n",
       "      <td>&lt;built-in method join of str object at 0x00000...</td>\n",
       "      <td>[35.56 cm, 14 inch]</td>\n",
       "      <td>&lt;built-in method join of str object at 0x00000...</td>\n",
       "      <td>35.56 cm</td>\n",
       "      <td>14 inch</td>\n",
       "    </tr>\n",
       "  </tbody>\n",
       "</table>\n",
       "</div>"
      ],
      "text/plain": [
       "                                               Title    price  Ratings  \\\n",
       "0  Lenovo IdeaPad 3 Intel Core i3 11th Gen - (8 G...  36541.0      4.3   \n",
       "1  ASUS TUF Gaming F15 Core i5 10th Gen - (8 GB/5...  51990.0      4.4   \n",
       "2  Lenovo Intel Celeron Dual Core - (8 GB/256 GB ...  29490.0      4.1   \n",
       "3  ASUS Vivobook 15 Core i3 11th Gen - (8 GB/512 ...  38990.0      4.2   \n",
       "4  ASUS VivoBook 14 (2021) Celeron Dual Core - (4...  23990.0      4.1   \n",
       "\n",
       "                                            features  \\\n",
       "0  Intel Core i3 Processor (11th Gen)8 GB DDR4 RA...   \n",
       "1  Intel Core i5 Processor (10th Gen)8 GB DDR4 RA...   \n",
       "2  Intel Celeron Dual Core Processor8 GB DDR4 RAM...   \n",
       "3  Intel Core i3 Processor (11th Gen)8 GB DDR4 RA...   \n",
       "4  Intel Celeron Dual Core Processor4 GB DDR4 RAM...   \n",
       "\n",
       "                                    Processordetails  \\\n",
       "0  <built-in method join of str object at 0x00000...   \n",
       "1  <built-in method join of str object at 0x00000...   \n",
       "2  <built-in method join of str object at 0x00000...   \n",
       "3  <built-in method join of str object at 0x00000...   \n",
       "4  <built-in method join of str object at 0x00000...   \n",
       "\n",
       "                                                 RAM  \\\n",
       "0  <built-in method join of str object at 0x00000...   \n",
       "1  <built-in method join of str object at 0x00000...   \n",
       "2  <built-in method join of str object at 0x00000...   \n",
       "3  <built-in method join of str object at 0x00000...   \n",
       "4  <built-in method join of str object at 0x00000...   \n",
       "\n",
       "                                                  OS  \\\n",
       "0  <built-in method join of str object at 0x00000...   \n",
       "1  <built-in method join of str object at 0x00000...   \n",
       "2  <built-in method join of str object at 0x00000...   \n",
       "3  <built-in method join of str object at 0x00000...   \n",
       "4  <built-in method join of str object at 0x00000...   \n",
       "\n",
       "                                             Storage             Screensize  \\\n",
       "0  <built-in method join of str object at 0x00000...  [39.62 cm, 15.6 inch]   \n",
       "1  <built-in method join of str object at 0x00000...  [39.62 cm, 15.6 inch]   \n",
       "2  <built-in method join of str object at 0x00000...             [39.62 cm]   \n",
       "3  <built-in method join of str object at 0x00000...             [39.62 cm]   \n",
       "4  <built-in method join of str object at 0x00000...    [35.56 cm, 14 inch]   \n",
       "\n",
       "                                               brand Screensize_<m  \\\n",
       "0  <built-in method join of str object at 0x00000...      39.62 cm   \n",
       "1  <built-in method join of str object at 0x00000...      39.62 cm   \n",
       "2  <built-in method join of str object at 0x00000...      39.62 cm   \n",
       "3  <built-in method join of str object at 0x00000...      39.62 cm   \n",
       "4  <built-in method join of str object at 0x00000...      35.56 cm   \n",
       "\n",
       "  Screensize_inch  \n",
       "0       15.6 inch  \n",
       "1       15.6 inch  \n",
       "2             NaN  \n",
       "3             NaN  \n",
       "4         14 inch  "
      ]
     },
     "execution_count": 90,
     "metadata": {},
     "output_type": "execute_result"
    }
   ],
   "source": [
    "laptop_df.head()"
   ]
  },
  {
   "cell_type": "markdown",
   "id": "09468ede",
   "metadata": {},
   "source": [
    "# Data Visualisation"
   ]
  },
  {
   "cell_type": "code",
   "execution_count": 93,
   "id": "59065d30",
   "metadata": {},
   "outputs": [
    {
     "data": {
      "text/plain": [
       "<AxesSubplot:xlabel='brand', ylabel='price'>"
      ]
     },
     "execution_count": 93,
     "metadata": {},
     "output_type": "execute_result"
    },
    {
     "data": {
      "image/png": "[encoded data removed]",
      "text/plain": [
       "<Figure size 640x480 with 1 Axes>"
      ]
     },
     "metadata": {},
     "output_type": "display_data"
    }
   ],
   "source": [
    "sns.boxplot(x=laptop_df.brand, y=laptop_df.price)"
   ]
  },
  {
   "cell_type": "code",
   "execution_count": 99,
   "id": "983ee183",
   "metadata": {},
   "outputs": [
    {
     "data": {
      "text/plain": [
       "<AxesSubplot:xlabel='brand', ylabel='count'>"
      ]
     },
     "execution_count": 99,
     "metadata": {},
     "output_type": "execute_result"
    },
    {
     "data": {
      "image/png": "[encoded data removed]",
      "text/plain": [
       "<Figure size 1500x700 with 1 Axes>"
      ]
     },
     "metadata": {},
     "output_type": "display_data"
    }
   ],
   "source": [
    "plt.figure(figsize=(15,7))\n",
    "sns.countplot(x=laptop_df.brand)"
   ]
  },
  {
   "cell_type": "code",
   "execution_count": 101,
   "id": "a4920dba",
   "metadata": {},
   "outputs": [
    {
     "data": {
      "text/plain": [
       "<built-in method join of str object at 0x000001AC1E2B4670>    24\n",
       "Name: Storage, dtype: int64"
      ]
     },
     "execution_count": 101,
     "metadata": {},
     "output_type": "execute_result"
    }
   ],
   "source": [
    "laptop_df.Storage.value_counts()"
   ]
  },
  {
   "cell_type": "code",
   "execution_count": 104,
   "id": "91978e69",
   "metadata": {},
   "outputs": [
    {
     "data": {
      "text/plain": [
       "<AxesSubplot:xlabel='brand,Storage'>"
      ]
     },
     "execution_count": 104,
     "metadata": {},
     "output_type": "execute_result"
    },
    {
     "data": {
      "image/png": "[encoded data removed]",
      "text/plain": [
       "<Figure size 640x480 with 1 Axes>"
      ]
     },
     "metadata": {},
     "output_type": "display_data"
    }
   ],
   "source": [
    "laptop_df.groupby(['brand', 'Storage'])['price'].count().plot(kind = 'bar')"
   ]
  },
  {
   "cell_type": "code",
   "execution_count": null,
   "id": "e6dc7992",
   "metadata": {},
   "outputs": [],
   "source": []
  }
 ],
 "metadata": {
  "kernelspec": {
   "display_name": "Python 3 (ipykernel)",
   "language": "python",
   "name": "python3"
  },
  "language_info": {
   "codemirror_mode": {
    "name": "ipython",
    "version": 3
   },
   "file_extension": ".py",
   "mimetype": "text/x-python",
   "name": "python",
   "nbconvert_exporter": "python",
   "pygments_lexer": "ipython3",
   "version": "3.10.9"
  }
 },
 "nbformat": 4,
 "nbformat_minor": 5
}
