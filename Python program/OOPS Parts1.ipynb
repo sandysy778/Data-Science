{
 "cells": [
  {
   "cell_type": "markdown",
   "id": "a5cbe37f",
   "metadata": {},
   "source": [
    "s = 'hello'\n",
    "s"
   ]
  },
  {
   "cell_type": "code",
   "execution_count": 73,
   "id": "10526cc6",
   "metadata": {},
   "outputs": [
    {
     "data": {
      "text/plain": [
       "int"
      ]
     },
     "execution_count": 73,
     "metadata": {},
     "output_type": "execute_result"
    }
   ],
   "source": [
    "type(s)"
   ]
  },
  {
   "cell_type": "code",
   "execution_count": 74,
   "id": "ab621223",
   "metadata": {},
   "outputs": [
    {
     "data": {
      "text/plain": [
       "5"
      ]
     },
     "execution_count": 74,
     "metadata": {},
     "output_type": "execute_result"
    }
   ],
   "source": [
    "s = 5\n",
    "s"
   ]
  },
  {
   "cell_type": "code",
   "execution_count": 75,
   "id": "cf4f8a96",
   "metadata": {},
   "outputs": [
    {
     "data": {
      "text/plain": [
       "int"
      ]
     },
     "execution_count": 75,
     "metadata": {},
     "output_type": "execute_result"
    }
   ],
   "source": [
    "type(s)"
   ]
  },
  {
   "cell_type": "markdown",
   "id": "c8739bbf",
   "metadata": {},
   "source": [
    "CLASS AND OBJECT"
   ]
  },
  {
   "cell_type": "code",
   "execution_count": 76,
   "id": "8ac76ba3",
   "metadata": {},
   "outputs": [],
   "source": [
    "class myclass:\n",
    "    pass"
   ]
  },
  {
   "cell_type": "code",
   "execution_count": 77,
   "id": "fe3d7d85",
   "metadata": {},
   "outputs": [],
   "source": [
    "obj1 = myclass()"
   ]
  },
  {
   "cell_type": "code",
   "execution_count": 78,
   "id": "5d2c3a74",
   "metadata": {},
   "outputs": [],
   "source": [
    "obj2 = myclass()\n"
   ]
  },
  {
   "cell_type": "code",
   "execution_count": 79,
   "id": "2489915b",
   "metadata": {},
   "outputs": [
    {
     "data": {
      "text/plain": [
       "__main__.myclass"
      ]
     },
     "execution_count": 79,
     "metadata": {},
     "output_type": "execute_result"
    }
   ],
   "source": [
    "type(obj1)"
   ]
  },
  {
   "cell_type": "code",
   "execution_count": 80,
   "id": "0d82edbb",
   "metadata": {},
   "outputs": [
    {
     "data": {
      "text/plain": [
       "__main__.myclass"
      ]
     },
     "execution_count": 80,
     "metadata": {},
     "output_type": "execute_result"
    }
   ],
   "source": [
    "type(obj2)"
   ]
  },
  {
   "cell_type": "code",
   "execution_count": 81,
   "id": "23171b58",
   "metadata": {},
   "outputs": [],
   "source": [
    "class myclass:\n",
    "    x = 5"
   ]
  },
  {
   "cell_type": "code",
   "execution_count": 82,
   "id": "66725073",
   "metadata": {},
   "outputs": [],
   "source": [
    "obj1 = myclass()"
   ]
  },
  {
   "cell_type": "code",
   "execution_count": 83,
   "id": "63e175d6",
   "metadata": {},
   "outputs": [
    {
     "data": {
      "text/plain": [
       "5"
      ]
     },
     "execution_count": 83,
     "metadata": {},
     "output_type": "execute_result"
    }
   ],
   "source": [
    "obj1.x"
   ]
  },
  {
   "cell_type": "markdown",
   "id": "9bca73e5",
   "metadata": {},
   "source": [
    "class and object\n"
   ]
  },
  {
   "cell_type": "code",
   "execution_count": 84,
   "id": "8c796192",
   "metadata": {},
   "outputs": [],
   "source": [
    "class myclass:\n",
    "    pass"
   ]
  },
  {
   "cell_type": "code",
   "execution_count": 85,
   "id": "3e615409",
   "metadata": {},
   "outputs": [],
   "source": [
    "obj1 = myclass()"
   ]
  },
  {
   "cell_type": "code",
   "execution_count": 86,
   "id": "85e4869f",
   "metadata": {},
   "outputs": [],
   "source": [
    "obj2 = myclass()"
   ]
  },
  {
   "cell_type": "code",
   "execution_count": 87,
   "id": "837b49e0",
   "metadata": {},
   "outputs": [
    {
     "data": {
      "text/plain": [
       "__main__.myclass"
      ]
     },
     "execution_count": 87,
     "metadata": {},
     "output_type": "execute_result"
    }
   ],
   "source": [
    "type(obj1)"
   ]
  },
  {
   "cell_type": "code",
   "execution_count": 88,
   "id": "01d2144a",
   "metadata": {},
   "outputs": [
    {
     "data": {
      "text/plain": [
       "__main__.myclass"
      ]
     },
     "execution_count": 88,
     "metadata": {},
     "output_type": "execute_result"
    }
   ],
   "source": [
    "type(obj2)"
   ]
  },
  {
   "cell_type": "code",
   "execution_count": null,
   "id": "3cbf3605",
   "metadata": {},
   "outputs": [],
   "source": []
  },
  {
   "cell_type": "markdown",
   "id": "900b2f54",
   "metadata": {},
   "source": [
    "How to define a class"
   ]
  },
  {
   "cell_type": "code",
   "execution_count": 89,
   "id": "903c6c19",
   "metadata": {},
   "outputs": [],
   "source": [
    "class student:\n",
    "    \n",
    "    def __init__(self, test_name, test_rolno, test_age):\n",
    "        self.name = test_name\n",
    "        self_rollno = test_rolno\n",
    "        self.age = test_age\n",
    "        \n"
   ]
  },
  {
   "cell_type": "code",
   "execution_count": 90,
   "id": "091fe572",
   "metadata": {},
   "outputs": [],
   "source": [
    "s1=student('jay', 121, 25)"
   ]
  },
  {
   "cell_type": "code",
   "execution_count": 91,
   "id": "bd85a7a2",
   "metadata": {},
   "outputs": [
    {
     "data": {
      "text/plain": [
       "<__main__.student at 0x291887634c0>"
      ]
     },
     "execution_count": 91,
     "metadata": {},
     "output_type": "execute_result"
    }
   ],
   "source": [
    "s1"
   ]
  },
  {
   "cell_type": "code",
   "execution_count": 92,
   "id": "b54a4ba6",
   "metadata": {},
   "outputs": [
    {
     "data": {
      "text/plain": [
       "'jay'"
      ]
     },
     "execution_count": 92,
     "metadata": {},
     "output_type": "execute_result"
    }
   ],
   "source": [
    "s1.name"
   ]
  },
  {
   "cell_type": "code",
   "execution_count": 93,
   "id": "78531632",
   "metadata": {},
   "outputs": [
    {
     "data": {
      "text/plain": [
       "25"
      ]
     },
     "execution_count": 93,
     "metadata": {},
     "output_type": "execute_result"
    }
   ],
   "source": [
    "s1.age"
   ]
  },
  {
   "cell_type": "code",
   "execution_count": 94,
   "id": "f619b2d8",
   "metadata": {},
   "outputs": [
    {
     "data": {
      "text/plain": [
       "'jay'"
      ]
     },
     "execution_count": 94,
     "metadata": {},
     "output_type": "execute_result"
    }
   ],
   "source": [
    "s1.name"
   ]
  },
  {
   "cell_type": "code",
   "execution_count": null,
   "id": "de6e1a78",
   "metadata": {},
   "outputs": [],
   "source": []
  },
  {
   "cell_type": "code",
   "execution_count": 95,
   "id": "01afbee0",
   "metadata": {},
   "outputs": [],
   "source": [
    "s2 =student('harsh', 122, 26)"
   ]
  },
  {
   "cell_type": "code",
   "execution_count": 96,
   "id": "efff2bc1",
   "metadata": {},
   "outputs": [
    {
     "data": {
      "text/plain": [
       "'harsh'"
      ]
     },
     "execution_count": 96,
     "metadata": {},
     "output_type": "execute_result"
    }
   ],
   "source": [
    "s2.name"
   ]
  },
  {
   "cell_type": "code",
   "execution_count": 97,
   "id": "e6f463cb",
   "metadata": {},
   "outputs": [
    {
     "data": {
      "text/plain": [
       "26"
      ]
     },
     "execution_count": 97,
     "metadata": {},
     "output_type": "execute_result"
    }
   ],
   "source": [
    "s2.age"
   ]
  },
  {
   "cell_type": "code",
   "execution_count": 98,
   "id": "27f71b7e",
   "metadata": {},
   "outputs": [
    {
     "ename": "AttributeError",
     "evalue": "'student' object has no attribute 'rollno'",
     "output_type": "error",
     "traceback": [
      "\u001b[1;31m---------------------------------------------------------------------------\u001b[0m",
      "\u001b[1;31mAttributeError\u001b[0m                            Traceback (most recent call last)",
      "\u001b[1;32m~\\AppData\\Local\\Temp\\ipykernel_10604\\3060142312.py\u001b[0m in \u001b[0;36m<module>\u001b[1;34m\u001b[0m\n\u001b[1;32m----> 1\u001b[1;33m \u001b[0ms2\u001b[0m\u001b[1;33m.\u001b[0m\u001b[0mrollno\u001b[0m\u001b[1;33m\u001b[0m\u001b[1;33m\u001b[0m\u001b[0m\n\u001b[0m",
      "\u001b[1;31mAttributeError\u001b[0m: 'student' object has no attribute 'rollno'"
     ]
    }
   ],
   "source": [
    "s2.rollno"
   ]
  },
  {
   "cell_type": "code",
   "execution_count": null,
   "id": "ce8925a6",
   "metadata": {},
   "outputs": [],
   "source": []
  },
  {
   "cell_type": "code",
   "execution_count": null,
   "id": "f0a00d17",
   "metadata": {},
   "outputs": [],
   "source": []
  },
  {
   "cell_type": "code",
   "execution_count": 99,
   "id": "3ebd8bd4",
   "metadata": {},
   "outputs": [],
   "source": [
    "class student:\n",
    "    \n",
    "    def __init__(self, test_name, test_age):\n",
    "        self.name = test_name\n",
    "        self.age = test_age\n",
    "        \n",
    "    def get_detials(self):\n",
    "        \n",
    "        print('i am inside the get_detials method')\n",
    "        print(f'Detials of student are{self.name}, {self.age}')"
   ]
  },
  {
   "cell_type": "code",
   "execution_count": 100,
   "id": "11b4d549",
   "metadata": {},
   "outputs": [],
   "source": [
    "s1=student('manohar', 25)"
   ]
  },
  {
   "cell_type": "code",
   "execution_count": 101,
   "id": "0cc6af2e",
   "metadata": {},
   "outputs": [],
   "source": [
    "s2 = student('harsh', 26)"
   ]
  },
  {
   "cell_type": "code",
   "execution_count": 102,
   "id": "1415f28f",
   "metadata": {},
   "outputs": [
    {
     "ename": "AttributeError",
     "evalue": "'student' object has no attribute 'get_details'",
     "output_type": "error",
     "traceback": [
      "\u001b[1;31m---------------------------------------------------------------------------\u001b[0m",
      "\u001b[1;31mAttributeError\u001b[0m                            Traceback (most recent call last)",
      "\u001b[1;32m~\\AppData\\Local\\Temp\\ipykernel_10604\\501583759.py\u001b[0m in \u001b[0;36m<module>\u001b[1;34m\u001b[0m\n\u001b[1;32m----> 1\u001b[1;33m \u001b[0ms1\u001b[0m\u001b[1;33m.\u001b[0m\u001b[0mget_details\u001b[0m\u001b[1;33m(\u001b[0m\u001b[1;33m)\u001b[0m\u001b[1;33m\u001b[0m\u001b[1;33m\u001b[0m\u001b[0m\n\u001b[0m",
      "\u001b[1;31mAttributeError\u001b[0m: 'student' object has no attribute 'get_details'"
     ]
    }
   ],
   "source": [
    "s1.get_details()"
   ]
  },
  {
   "cell_type": "code",
   "execution_count": 103,
   "id": "c0af3a16",
   "metadata": {},
   "outputs": [],
   "source": [
    "class student:\n",
    "    \n",
    "    def __init__(self, test_name, test_rollno, test_age):\n",
    "        self.name = test_name\n",
    "        self.rollno = test_rollno\n",
    "        self.age = test_age\n",
    "        \n",
    "    def get_details(self):\n",
    "        \n",
    "        print('I am inside the get_details method')\n",
    "        print(f'Details of students are {self.name}, {self.rollno}, {self.age}')"
   ]
  },
  {
   "cell_type": "code",
   "execution_count": 104,
   "id": "5e1df3bd",
   "metadata": {},
   "outputs": [],
   "source": [
    "s1 = student('manohar', 121, 25)"
   ]
  },
  {
   "cell_type": "code",
   "execution_count": 105,
   "id": "1577a3e1",
   "metadata": {},
   "outputs": [],
   "source": [
    "s2 = student('harsh', 122, 26)"
   ]
  },
  {
   "cell_type": "code",
   "execution_count": 106,
   "id": "4174d770",
   "metadata": {},
   "outputs": [
    {
     "name": "stdout",
     "output_type": "stream",
     "text": [
      "I am inside the get_details method\n",
      "Details of students are manohar, 121, 25\n"
     ]
    }
   ],
   "source": [
    "s1.get_details()"
   ]
  },
  {
   "cell_type": "code",
   "execution_count": 107,
   "id": "8013249f",
   "metadata": {},
   "outputs": [
    {
     "name": "stdout",
     "output_type": "stream",
     "text": [
      "I am inside the get_details method\n",
      "Details of students are harsh, 122, 26\n"
     ]
    }
   ],
   "source": [
    "s2.get_details()"
   ]
  },
  {
   "cell_type": "code",
   "execution_count": 108,
   "id": "dce7ab78",
   "metadata": {},
   "outputs": [
    {
     "ename": "AttributeError",
     "evalue": "'student' object has no attribute 'attending_lecture'",
     "output_type": "error",
     "traceback": [
      "\u001b[1;31m---------------------------------------------------------------------------\u001b[0m",
      "\u001b[1;31mAttributeError\u001b[0m                            Traceback (most recent call last)",
      "\u001b[1;32m~\\AppData\\Local\\Temp\\ipykernel_10604\\2728969948.py\u001b[0m in \u001b[0;36m<module>\u001b[1;34m\u001b[0m\n\u001b[1;32m----> 1\u001b[1;33m \u001b[0ms1\u001b[0m\u001b[1;33m.\u001b[0m\u001b[0mattending_lecture\u001b[0m\u001b[1;33m(\u001b[0m\u001b[1;33m)\u001b[0m\u001b[1;33m\u001b[0m\u001b[1;33m\u001b[0m\u001b[0m\n\u001b[0m",
      "\u001b[1;31mAttributeError\u001b[0m: 'student' object has no attribute 'attending_lecture'"
     ]
    }
   ],
   "source": [
    "s1.attending_lecture()"
   ]
  },
  {
   "cell_type": "code",
   "execution_count": 109,
   "id": "c8ac856f",
   "metadata": {},
   "outputs": [],
   "source": [
    "class student:\n",
    "    \n",
    "    def __init__(self, test_name, test_rollno, test_age):\n",
    "        self.name = test_name\n",
    "        self.rollno = test_rollno\n",
    "        self.age = test_age\n",
    "        \n",
    "    def get_details(self):\n",
    "        \n",
    "        print('I am inside the get_details method')\n",
    "        print(f'Details of students are {self.name}, {self.rollno}, {self.age}')\n",
    "        \n",
    "    def attending_lecture(self):\n",
    "        \n",
    "        print(f'{self.name} is attending a lecture')"
   ]
  },
  {
   "cell_type": "code",
   "execution_count": 110,
   "id": "711c1983",
   "metadata": {},
   "outputs": [
    {
     "name": "stdout",
     "output_type": "stream",
     "text": [
      "sunam is attending a lecture\n"
     ]
    }
   ],
   "source": [
    "name = \"sunam\"\n",
    "print(\"sunam is attending a lecture\")"
   ]
  },
  {
   "cell_type": "code",
   "execution_count": 111,
   "id": "6ae153f3",
   "metadata": {},
   "outputs": [
    {
     "name": "stdout",
     "output_type": "stream",
     "text": [
      "sumann is attending a lecture\n"
     ]
    }
   ],
   "source": [
    "name = \"sumann\"\n",
    "print(\"{} is attending a lecture\".format(name))"
   ]
  },
  {
   "cell_type": "code",
   "execution_count": 112,
   "id": "503e6c86",
   "metadata": {},
   "outputs": [
    {
     "name": "stdout",
     "output_type": "stream",
     "text": [
      "sunam is attending a lecture\n"
     ]
    }
   ],
   "source": [
    "name = \"sunam\"\n",
    "print(\"sunam is attending a lecture\")"
   ]
  },
  {
   "cell_type": "code",
   "execution_count": null,
   "id": "0ebfe990",
   "metadata": {},
   "outputs": [],
   "source": []
  },
  {
   "cell_type": "markdown",
   "id": "99120d81",
   "metadata": {},
   "source": [
    "variable"
   ]
  },
  {
   "cell_type": "code",
   "execution_count": 113,
   "id": "9976370d",
   "metadata": {},
   "outputs": [],
   "source": [
    "class student:\n",
    "    \n",
    "    x = 5\n",
    "    \n",
    "    def __init__(self, test_name, test_rollno, test_age):\n",
    "        self.name = test_name\n",
    "        self.rollno = test_rollno\n",
    "        self.age = test_age\n",
    "        \n",
    "    def get_details(self):\n",
    "        \n",
    "        print('I am inside the get_details method')\n",
    "        print(f'Details of students are {self.name}, {self.rollno}, {self.age}')\n",
    "        \n",
    "    def attending_lecture(self):\n",
    "        \n",
    "        print(f'{self.name} is attending a lecture')"
   ]
  },
  {
   "cell_type": "code",
   "execution_count": 114,
   "id": "cc41358b",
   "metadata": {},
   "outputs": [
    {
     "data": {
      "text/plain": [
       "5"
      ]
     },
     "execution_count": 114,
     "metadata": {},
     "output_type": "execute_result"
    }
   ],
   "source": [
    "student.x"
   ]
  },
  {
   "cell_type": "code",
   "execution_count": 115,
   "id": "bb247dee",
   "metadata": {},
   "outputs": [
    {
     "ename": "AttributeError",
     "evalue": "type object 'student' has no attribute 'name'",
     "output_type": "error",
     "traceback": [
      "\u001b[1;31m---------------------------------------------------------------------------\u001b[0m",
      "\u001b[1;31mAttributeError\u001b[0m                            Traceback (most recent call last)",
      "\u001b[1;32m~\\AppData\\Local\\Temp\\ipykernel_10604\\2728737192.py\u001b[0m in \u001b[0;36m<module>\u001b[1;34m\u001b[0m\n\u001b[1;32m----> 1\u001b[1;33m \u001b[0mstudent\u001b[0m\u001b[1;33m.\u001b[0m\u001b[0mname\u001b[0m\u001b[1;33m\u001b[0m\u001b[1;33m\u001b[0m\u001b[0m\n\u001b[0m",
      "\u001b[1;31mAttributeError\u001b[0m: type object 'student' has no attribute 'name'"
     ]
    }
   ],
   "source": [
    "student.name"
   ]
  },
  {
   "cell_type": "code",
   "execution_count": 116,
   "id": "829b3482",
   "metadata": {},
   "outputs": [],
   "source": [
    "s1 = student('manohar', 121, 25)"
   ]
  },
  {
   "cell_type": "code",
   "execution_count": 117,
   "id": "5ff9bb0c",
   "metadata": {},
   "outputs": [
    {
     "data": {
      "text/plain": [
       "5"
      ]
     },
     "execution_count": 117,
     "metadata": {},
     "output_type": "execute_result"
    }
   ],
   "source": [
    "s1.x"
   ]
  },
  {
   "cell_type": "code",
   "execution_count": 118,
   "id": "2d5066b8",
   "metadata": {},
   "outputs": [],
   "source": [
    "s2 = student('harsh', 122, 26)"
   ]
  },
  {
   "cell_type": "code",
   "execution_count": 119,
   "id": "5e6500c1",
   "metadata": {},
   "outputs": [
    {
     "data": {
      "text/plain": [
       "5"
      ]
     },
     "execution_count": 119,
     "metadata": {},
     "output_type": "execute_result"
    }
   ],
   "source": [
    "s2.x"
   ]
  },
  {
   "cell_type": "markdown",
   "id": "28d8490d",
   "metadata": {},
   "source": [
    "statics"
   ]
  },
  {
   "cell_type": "code",
   "execution_count": 120,
   "id": "aea763f0",
   "metadata": {},
   "outputs": [],
   "source": [
    "class student:\n",
    "    \n",
    "    x = 5\n",
    "    \n",
    "    @staticmethod\n",
    "    \n",
    "    def my_statics_method():\n",
    "        print('I am inside statics method')\n",
    "        \n",
    "    def __init__(self, test_name, test_rollno, test_age):\n",
    "        self.name = test_name\n",
    "        self.rollno = test_rollno\n",
    "        self.age = test_age\n",
    "        \n",
    "    def get_details(self):\n",
    "        \n",
    "        print('I am inside the get_details method')\n",
    "        print(f'Details of students are {self.name}, {self.rollno}, {self.age}')\n",
    "        \n",
    "    def attending_lecture(self):\n",
    "        \n",
    "        print(f'{self.name} is attending a lecture')\n",
    "        \n",
    "        "
   ]
  },
  {
   "cell_type": "code",
   "execution_count": 121,
   "id": "d905953b",
   "metadata": {},
   "outputs": [
    {
     "name": "stdout",
     "output_type": "stream",
     "text": [
      "I am inside statics method\n"
     ]
    }
   ],
   "source": [
    "student.my_statics_method()"
   ]
  },
  {
   "cell_type": "code",
   "execution_count": 122,
   "id": "7ce722ab",
   "metadata": {},
   "outputs": [
    {
     "data": {
      "text/plain": [
       "5"
      ]
     },
     "execution_count": 122,
     "metadata": {},
     "output_type": "execute_result"
    }
   ],
   "source": [
    "student.x"
   ]
  },
  {
   "cell_type": "code",
   "execution_count": 123,
   "id": "c63c7551",
   "metadata": {},
   "outputs": [],
   "source": [
    "s1 = student('manohar', 121, 25)"
   ]
  },
  {
   "cell_type": "code",
   "execution_count": 124,
   "id": "3092e84f",
   "metadata": {},
   "outputs": [
    {
     "name": "stdout",
     "output_type": "stream",
     "text": [
      "I am inside statics method\n"
     ]
    }
   ],
   "source": [
    "s1.my_statics_method()"
   ]
  },
  {
   "cell_type": "code",
   "execution_count": null,
   "id": "9a53fcb6",
   "metadata": {},
   "outputs": [],
   "source": []
  },
  {
   "cell_type": "markdown",
   "id": "0b1eedb2",
   "metadata": {},
   "source": [
    "Inheritance"
   ]
  },
  {
   "cell_type": "code",
   "execution_count": 125,
   "id": "8a2fac90",
   "metadata": {},
   "outputs": [],
   "source": [
    "class person:\n",
    "    \n",
    "    def __init__(self, Name, Age):\n",
    "        \n",
    "        self.name = Name\n",
    "        self.age = Age\n",
    "        \n",
    "    def get_details(self):\n",
    "        \n",
    "        print('I am inside the get_details method')\n",
    "        print(f'Detail of person are {self.name}, {self.age}')\n",
    "        \n",
    "    def speak(self):\n",
    "        \n",
    "        print(f'{self.name} is speaking')"
   ]
  },
  {
   "cell_type": "code",
   "execution_count": 126,
   "id": "135ceeab",
   "metadata": {},
   "outputs": [],
   "source": [
    "p1 = person('Ravi', 58)"
   ]
  },
  {
   "cell_type": "code",
   "execution_count": 127,
   "id": "ddec00c4",
   "metadata": {},
   "outputs": [
    {
     "name": "stdout",
     "output_type": "stream",
     "text": [
      "I am inside the get_details method\n",
      "Detail of person are Ravi, 58\n"
     ]
    }
   ],
   "source": [
    "p1.get_details()"
   ]
  },
  {
   "cell_type": "code",
   "execution_count": 128,
   "id": "5f581153",
   "metadata": {},
   "outputs": [],
   "source": [
    "p1 = person('ravi', 58)"
   ]
  },
  {
   "cell_type": "code",
   "execution_count": 129,
   "id": "1c62f650",
   "metadata": {},
   "outputs": [
    {
     "name": "stdout",
     "output_type": "stream",
     "text": [
      "I am inside the get_details method\n",
      "Detail of person are ravi, 58\n"
     ]
    }
   ],
   "source": [
    "p1.get_details()"
   ]
  },
  {
   "cell_type": "code",
   "execution_count": 130,
   "id": "513a6203",
   "metadata": {},
   "outputs": [
    {
     "name": "stdout",
     "output_type": "stream",
     "text": [
      "ravi is speaking\n"
     ]
    }
   ],
   "source": [
    "p1.speak()"
   ]
  },
  {
   "cell_type": "code",
   "execution_count": 131,
   "id": "2b0f8924",
   "metadata": {},
   "outputs": [
    {
     "data": {
      "text/plain": [
       "('ravi', 58)"
      ]
     },
     "execution_count": 131,
     "metadata": {},
     "output_type": "execute_result"
    }
   ],
   "source": [
    "p1.name, p1.age"
   ]
  },
  {
   "cell_type": "code",
   "execution_count": null,
   "id": "3e2b14af",
   "metadata": {},
   "outputs": [],
   "source": []
  },
  {
   "cell_type": "code",
   "execution_count": 132,
   "id": "5282e0a0",
   "metadata": {},
   "outputs": [],
   "source": [
    "class student(person):\n",
    "    pass"
   ]
  },
  {
   "cell_type": "code",
   "execution_count": 133,
   "id": "832ddea9",
   "metadata": {},
   "outputs": [],
   "source": [
    "s1 = student(\"sam\", 24)"
   ]
  },
  {
   "cell_type": "code",
   "execution_count": 134,
   "id": "902772bd",
   "metadata": {},
   "outputs": [
    {
     "name": "stdout",
     "output_type": "stream",
     "text": [
      "I am inside the get_details method\n",
      "Detail of person are sam, 24\n"
     ]
    }
   ],
   "source": [
    "s1.get_details()"
   ]
  },
  {
   "cell_type": "code",
   "execution_count": 135,
   "id": "5e2bdd03",
   "metadata": {},
   "outputs": [
    {
     "name": "stdout",
     "output_type": "stream",
     "text": [
      "sam is speaking\n"
     ]
    }
   ],
   "source": [
    "s1.speak()"
   ]
  },
  {
   "cell_type": "code",
   "execution_count": 136,
   "id": "d8d22bac",
   "metadata": {},
   "outputs": [],
   "source": [
    "class student2(person):\n",
    "    def __init__(self, Name, Age, rollno):\n",
    "        person.__init__(self, Name, Age)\n",
    "        self.rollno = rollno\n",
    "                 \n",
    "       \n",
    "     "
   ]
  },
  {
   "cell_type": "code",
   "execution_count": 137,
   "id": "e7156637",
   "metadata": {},
   "outputs": [],
   "source": [
    "s1 = student2(\"suman\", 24, 121)"
   ]
  },
  {
   "cell_type": "code",
   "execution_count": 138,
   "id": "e6c0ed8c",
   "metadata": {},
   "outputs": [
    {
     "name": "stdout",
     "output_type": "stream",
     "text": [
      "I am inside the get_details method\n",
      "Detail of person are suman, 24\n"
     ]
    }
   ],
   "source": [
    "s1.get_details()"
   ]
  },
  {
   "cell_type": "code",
   "execution_count": 139,
   "id": "fc629f67",
   "metadata": {},
   "outputs": [
    {
     "name": "stdout",
     "output_type": "stream",
     "text": [
      "suman is speaking\n"
     ]
    }
   ],
   "source": [
    "s1.speak()"
   ]
  },
  {
   "cell_type": "code",
   "execution_count": 140,
   "id": "d261adf5",
   "metadata": {},
   "outputs": [
    {
     "data": {
      "text/plain": [
       "('suman', 24, 121)"
      ]
     },
     "execution_count": 140,
     "metadata": {},
     "output_type": "execute_result"
    }
   ],
   "source": [
    "s1.name, s1.age, s1.rollno"
   ]
  },
  {
   "cell_type": "code",
   "execution_count": 141,
   "id": "1bee0162",
   "metadata": {},
   "outputs": [],
   "source": [
    "class student3(person):\n",
    "    def __init__(self, Name, Age, rollno):\n",
    "        person.__init__(self, Name, Age)\n",
    "        self.rollno = rollno\n",
    "        \n",
    "        \n",
    "    def attending_lecture(self):\n",
    "        \n",
    "        print(f'{self.name} is attendinga lecture')\n",
    "                 \n",
    "       \n",
    "     "
   ]
  },
  {
   "cell_type": "code",
   "execution_count": 142,
   "id": "934b84fa",
   "metadata": {},
   "outputs": [],
   "source": [
    "s1 = student3(\"suman\", 24, 121)"
   ]
  },
  {
   "cell_type": "code",
   "execution_count": 143,
   "id": "0530d2ff",
   "metadata": {},
   "outputs": [
    {
     "data": {
      "text/plain": [
       "('suman', 24, 121)"
      ]
     },
     "execution_count": 143,
     "metadata": {},
     "output_type": "execute_result"
    }
   ],
   "source": [
    "s1.name, s1.age, s1.rollno"
   ]
  },
  {
   "cell_type": "code",
   "execution_count": 144,
   "id": "d073015b",
   "metadata": {},
   "outputs": [
    {
     "name": "stdout",
     "output_type": "stream",
     "text": [
      "suman is attendinga lecture\n"
     ]
    }
   ],
   "source": [
    "s1.attending_lecture()"
   ]
  },
  {
   "cell_type": "code",
   "execution_count": 145,
   "id": "4b19d270",
   "metadata": {},
   "outputs": [
    {
     "name": "stdout",
     "output_type": "stream",
     "text": [
      "suman is attendinga lecture\n"
     ]
    }
   ],
   "source": [
    "s1.attending_lecture()"
   ]
  },
  {
   "cell_type": "markdown",
   "id": "8d683510",
   "metadata": {},
   "source": [
    "RUN TIME poly"
   ]
  },
  {
   "cell_type": "code",
   "execution_count": 146,
   "id": "44941d90",
   "metadata": {},
   "outputs": [],
   "source": [
    "class empy():\n",
    "    def __init__(self, name, age, salary):\n",
    "        self.name = name\n",
    "        self.age = age \n",
    "        self.salary = salary\n",
    "    def earn(self):\n",
    "        pass\n",
    "class childempy1(empy):\n",
    "    \n",
    "    def earn(self):\n",
    "        print(\"no money\")\n",
    "        \n",
    "class childempy2(empy):\n",
    "    \n",
    "    def earn(self):\n",
    "        print(\"has money\")"
   ]
  },
  {
   "cell_type": "code",
   "execution_count": 147,
   "id": "afae75c2",
   "metadata": {},
   "outputs": [],
   "source": [
    "c = childempy1\n"
   ]
  },
  {
   "cell_type": "code",
   "execution_count": 148,
   "id": "2d6b35e0",
   "metadata": {},
   "outputs": [
    {
     "name": "stdout",
     "output_type": "stream",
     "text": [
      "no money\n"
     ]
    }
   ],
   "source": [
    "c.earn(empy)"
   ]
  },
  {
   "cell_type": "markdown",
   "id": "2130eeb6",
   "metadata": {},
   "source": [
    "Encapsulation"
   ]
  },
  {
   "cell_type": "code",
   "execution_count": 149,
   "id": "a4ffc96a",
   "metadata": {},
   "outputs": [],
   "source": [
    "class empy(object):\n",
    "    def __init__(self):\n",
    "        self.name = 1234\n",
    "        self.age = 1234 \n",
    "        self.salary = 1234\n",
    "        \n",
    "        object = empy()\n",
    "        obje"
   ]
  },
  {
   "cell_type": "code",
   "execution_count": 150,
   "id": "b77da978",
   "metadata": {},
   "outputs": [
    {
     "ename": "AttributeError",
     "evalue": "type object 'object' has no attribute 'name'",
     "output_type": "error",
     "traceback": [
      "\u001b[1;31m---------------------------------------------------------------------------\u001b[0m",
      "\u001b[1;31mAttributeError\u001b[0m                            Traceback (most recent call last)",
      "\u001b[1;32m~\\AppData\\Local\\Temp\\ipykernel_10604\\2677170257.py\u001b[0m in \u001b[0;36m<module>\u001b[1;34m\u001b[0m\n\u001b[1;32m----> 1\u001b[1;33m \u001b[0mprint\u001b[0m\u001b[1;33m(\u001b[0m\u001b[0mobject\u001b[0m\u001b[1;33m.\u001b[0m\u001b[0mname\u001b[0m\u001b[1;33m)\u001b[0m\u001b[1;33m\u001b[0m\u001b[1;33m\u001b[0m\u001b[0m\n\u001b[0m",
      "\u001b[1;31mAttributeError\u001b[0m: type object 'object' has no attribute 'name'"
     ]
    }
   ],
   "source": [
    "print(object.name)"
   ]
  },
  {
   "cell_type": "code",
   "execution_count": null,
   "id": "9170cc61",
   "metadata": {},
   "outputs": [],
   "source": []
  },
  {
   "cell_type": "code",
   "execution_count": null,
   "id": "05bc4555",
   "metadata": {},
   "outputs": [],
   "source": []
  },
  {
   "cell_type": "code",
   "execution_count": null,
   "id": "70426bd2",
   "metadata": {},
   "outputs": [],
   "source": []
  },
  {
   "cell_type": "code",
   "execution_count": null,
   "id": "32f1b9b3",
   "metadata": {},
   "outputs": [],
   "source": []
  },
  {
   "cell_type": "code",
   "execution_count": null,
   "id": "a1257df3",
   "metadata": {},
   "outputs": [],
   "source": []
  },
  {
   "cell_type": "code",
   "execution_count": null,
   "id": "eb87e57e",
   "metadata": {},
   "outputs": [],
   "source": []
  },
  {
   "cell_type": "code",
   "execution_count": null,
   "id": "409651a9",
   "metadata": {},
   "outputs": [],
   "source": []
  },
  {
   "cell_type": "code",
   "execution_count": null,
   "id": "d7b7a78c",
   "metadata": {},
   "outputs": [],
   "source": []
  },
  {
   "cell_type": "code",
   "execution_count": null,
   "id": "479dc01a",
   "metadata": {},
   "outputs": [],
   "source": []
  },
  {
   "cell_type": "code",
   "execution_count": null,
   "id": "3b74198f",
   "metadata": {},
   "outputs": [],
   "source": []
  },
  {
   "cell_type": "code",
   "execution_count": null,
   "id": "8542be55",
   "metadata": {},
   "outputs": [],
   "source": []
  },
  {
   "cell_type": "code",
   "execution_count": null,
   "id": "1983159b",
   "metadata": {},
   "outputs": [],
   "source": []
  },
  {
   "cell_type": "code",
   "execution_count": null,
   "id": "04ef8467",
   "metadata": {},
   "outputs": [],
   "source": []
  },
  {
   "cell_type": "code",
   "execution_count": null,
   "id": "24601edf",
   "metadata": {},
   "outputs": [],
   "source": []
  }
 ],
 "metadata": {
  "kernelspec": {
   "display_name": "Python 3 (ipykernel)",
   "language": "python",
   "name": "python3"
  },
  "language_info": {
   "codemirror_mode": {
    "name": "ipython",
    "version": 3
   },
   "file_extension": ".py",
   "mimetype": "text/x-python",
   "name": "python",
   "nbconvert_exporter": "python",
   "pygments_lexer": "ipython3",
   "version": "3.9.13"
  }
 },
 "nbformat": 4,
 "nbformat_minor": 5
}
