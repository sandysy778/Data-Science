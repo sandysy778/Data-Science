{
 "cells": [
  {
   "cell_type": "code",
   "execution_count": 1,
   "metadata": {},
   "outputs": [],
   "source": [
    "from PIL import Image"
   ]
  },
  {
   "cell_type": "code",
   "execution_count": 2,
   "metadata": {},
   "outputs": [],
   "source": [
    "import numpy as np\n",
    "import matplotlib.pyplot as plt\n",
    "import seaborn as sns"
   ]
  },
  {
   "cell_type": "code",
   "execution_count": 3,
   "metadata": {},
   "outputs": [],
   "source": [
    "import pandas as pd"
   ]
  },
  {
   "cell_type": "code",
   "execution_count": 4,
   "metadata": {},
   "outputs": [],
   "source": [
    "img = Image.open(r\"D:\\MNIST Dataset JPG format\\MNIST - JPG - training\\4\\20.jpg\")"
   ]
  },
  {
   "cell_type": "code",
   "execution_count": 5,
   "metadata": {},
   "outputs": [
    {
     "data": {
      "image/png": "[encoded data removed]",
      "text/plain": [
       "<PIL.JpegImagePlugin.JpegImageFile image mode=L size=28x28 at 0x179A5F06148>"
      ]
     },
     "execution_count": 5,
     "metadata": {},
     "output_type": "execute_result"
    }
   ],
   "source": [
    "img"
   ]
  },
  {
   "cell_type": "code",
   "execution_count": 6,
   "metadata": {},
   "outputs": [
    {
     "data": {
      "text/plain": [
       "(28, 28)"
      ]
     },
     "execution_count": 6,
     "metadata": {},
     "output_type": "execute_result"
    }
   ],
   "source": [
    "img.size"
   ]
  },
  {
   "cell_type": "code",
   "execution_count": 7,
   "metadata": {},
   "outputs": [
    {
     "data": {
      "text/plain": [
       "'L'"
      ]
     },
     "execution_count": 7,
     "metadata": {},
     "output_type": "execute_result"
    }
   ],
   "source": [
    "img.mode"
   ]
  },
  {
   "cell_type": "code",
   "execution_count": 8,
   "metadata": {},
   "outputs": [
    {
     "data": {
      "text/plain": [
       "<matplotlib.image.AxesImage at 0x179a5fb9f48>"
      ]
     },
     "execution_count": 8,
     "metadata": {},
     "output_type": "execute_result"
    },
    {
     "data": {
      "image/png": "[encoded data removed]",
      "text/plain": [
       "<Figure size 432x288 with 1 Axes>"
      ]
     },
     "metadata": {
      "needs_background": "light"
     },
     "output_type": "display_data"
    }
   ],
   "source": [
    "plt.imshow(img, cmap = \"gray\")"
   ]
  },
  {
   "cell_type": "code",
   "execution_count": 9,
   "metadata": {},
   "outputs": [],
   "source": [
    "img_array = np.array(img)"
   ]
  },
  {
   "cell_type": "code",
   "execution_count": 10,
   "metadata": {},
   "outputs": [
    {
     "data": {
      "text/plain": [
       "array([[  0,   3,   6,   0,   0,   0,   1,   0,   0,   0,   0,   0,   0,\n",
       "          0,   0,   0,   6,   9,   0,   7,   0,  14,   0,   5,   0,   0,\n",
       "          0,   0],\n",
       "       [  6,   0,   0,   9,   2,   0,   1,  14,   0,   0,   0,   0,   0,\n",
       "          0,   0,   0,   0,  10,  15,   0,   5,   0,   7,   7,   0,   0,\n",
       "          0,   0],\n",
       "       [  0,   0,   3,   0,   0,   1,   1,   0,   0,   0,   0,   0,   0,\n",
       "          0,   0,   0,   4,   4,   0,   2,   2,   0,   0,   0,   0,   0,\n",
       "          0,   0],\n",
       "       [ 20,   0,   0,   2,   1,   0,   0,   8,   0,   0,   0,   0,   0,\n",
       "          0,   0,   0,   1,   0,  12,   0,   0,  14,   0,   6,   0,   0,\n",
       "          0,   0],\n",
       "       [  0,   0,   1,   0,   4,   3,   0,   0,   0,   0,   0,   0,   0,\n",
       "          0,   0,   0,   0,  42, 177,  26,   0,   0,  14,   0,   0,   0,\n",
       "          0,   0],\n",
       "       [  1,  11,   0,   5,  32,  15,   0,  12,   0,   0,   0,   0,   0,\n",
       "          0,   0,   0,  12,  89, 255, 137,  12,   0,   0,   0,   0,   0,\n",
       "          0,   0],\n",
       "       [  6,   0,   7, 140, 229, 117,   0,   2,   0,   0,   0,   0,   0,\n",
       "          0,   0,   0,   0,  80, 238, 240,  33,   8,   0,  13,   0,   0,\n",
       "          0,   0],\n",
       "       [  0,   8,   6, 111, 255, 237,  75,   0,   0,   0,   0,   0,   0,\n",
       "          0,   0,   0,   0,  88, 243, 255,  42,   0,   9,   0,   0,   0,\n",
       "          0,   0],\n",
       "       [  5,   9,   0, 139, 254, 244, 245,  50,   0,   6,   1,   0,   0,\n",
       "          0,   0,   1,  12, 188, 255, 255, 114,  12,   0,   3,   0,   0,\n",
       "          0,   0],\n",
       "       [  2,   0,   0,  97, 242, 255, 249, 177,  20,   0,   8,   0,   0,\n",
       "          2,   0,   0,  54, 243, 255, 250,  99,   7,   0,   7,   0,   0,\n",
       "          0,   0],\n",
       "       [  0,   2,   1,  11, 131, 255, 242, 255, 105,   0,   9,   0,   0,\n",
       "          4,   2,   0,  16, 240, 244, 247,  64,   0,   0,   4,   0,   0,\n",
       "          0,   0],\n",
       "       [  0,  16,   0,   0,  23, 215, 239, 255, 197,  20,   0,   0,   8,\n",
       "          0,  18,   0,  47, 237, 252, 255,  43,   0,   0,   3,   0,   0,\n",
       "          0,   0],\n",
       "       [  0,   0,   0,  13,  11, 149, 255, 251, 252,  75,   0,   0,   3,\n",
       "          0, 103, 126, 188, 255, 255, 237,  20,  11,   5,   0,   0,   0,\n",
       "          0,   0],\n",
       "       [  5,   0,   4,   2,   7,  77, 255, 247, 243,  91,   0,  49, 119,\n",
       "        145, 245, 243, 255, 252, 252, 221,  23,   0,   0,   0,   0,   0,\n",
       "          0,   0],\n",
       "       [  3,   3,  11,   0,   0,  20, 169, 246, 255, 255, 249, 255, 255,\n",
       "        228, 255, 255, 250, 246, 255, 246,  92,   0,   4,  10,   0,   0,\n",
       "          0,   0],\n",
       "       [  0,   0,   1,  12,   1,   0,  48, 255, 244, 255, 253, 246, 252,\n",
       "        255, 254, 249, 250, 253, 249, 255, 155,   6,   0,   0,   0,   0,\n",
       "          0,   0],\n",
       "       [  0,   2,   5,   0,  13,   0,  49, 252, 251, 255, 241, 255, 255,\n",
       "        221, 200, 149, 126, 251, 253, 249, 158,   9,   3,   0,   0,   0,\n",
       "          0,   0],\n",
       "       [  3,   0,   0,   0,   6,   0,  53, 252, 239, 255, 231, 181,  89,\n",
       "          6,   7,   0,  31, 255, 236, 255, 140,   0,   0,   3,   0,   0,\n",
       "          0,   0],\n",
       "       [  0,   0,   4,   3,   3,   0,  22, 147, 203, 153,  55,  12,   0,\n",
       "          0,   9,   0,  58, 227, 255, 246, 225,  34,   0,   1,   0,   0,\n",
       "          0,   0],\n",
       "       [  0,   0,  10,   0,   0,   1,   0,  17,   0,   0,   0,   1,   0,\n",
       "          0,   4,   0,  38, 255, 246, 255, 242,  21,   0,   0,   0,   0,\n",
       "          0,   0],\n",
       "       [  5,   0,   4,   0,   0,   8,   2,   0,  10,   4,   0,   0,   9,\n",
       "          9,   9,   0,  41, 234, 250, 239, 255, 154,   7,   0,   0,   0,\n",
       "          0,   0],\n",
       "       [  2,   0,   0,   7,   0,   0,   4,   7,   0,   2,   6,   5,   0,\n",
       "          0,   0,   0,   0,  44, 235, 255, 249, 246,  12,   8,   0,   0,\n",
       "          0,   0],\n",
       "       [  0,   0,   0,  13,   5,   0,   0,   1,   1,   0,   2,   0,   0,\n",
       "          0,   0,   4,   6,   0,  56, 251, 240, 255,  57,   0,   0,   0,\n",
       "          0,   0],\n",
       "       [  5,   6,   0,   0,   0,   0,   4,   0,   1,   0,   4,   0,   0,\n",
       "          2,   0,   0,   0,   8,   0,  82, 198, 141,  14,   2,   0,   0,\n",
       "          0,   0],\n",
       "       [  0,   0,   0,   0,   0,   0,   0,   0,   0,   0,   0,   0,   0,\n",
       "          0,   0,   0,   0,   0,   0,   0,   0,   0,   0,   0,   0,   0,\n",
       "          0,   0],\n",
       "       [  0,   0,   0,   0,   0,   0,   0,   0,   0,   0,   0,   0,   0,\n",
       "          0,   0,   0,   0,   0,   0,   0,   0,   0,   0,   0,   0,   0,\n",
       "          0,   0],\n",
       "       [  0,   0,   0,   0,   0,   0,   0,   0,   0,   0,   0,   0,   0,\n",
       "          0,   0,   0,   0,   0,   0,   0,   0,   0,   0,   0,   0,   0,\n",
       "          0,   0],\n",
       "       [  0,   0,   0,   0,   0,   0,   0,   0,   0,   0,   0,   0,   0,\n",
       "          0,   0,   0,   0,   0,   0,   0,   0,   0,   0,   0,   0,   0,\n",
       "          0,   0]], dtype=uint8)"
      ]
     },
     "execution_count": 10,
     "metadata": {},
     "output_type": "execute_result"
    }
   ],
   "source": [
    "img_array"
   ]
  },
  {
   "cell_type": "code",
   "execution_count": 11,
   "metadata": {},
   "outputs": [
    {
     "data": {
      "text/plain": [
       "(28, 28)"
      ]
     },
     "execution_count": 11,
     "metadata": {},
     "output_type": "execute_result"
    }
   ],
   "source": [
    "img_array.shape"
   ]
  },
  {
   "cell_type": "code",
   "execution_count": 12,
   "metadata": {},
   "outputs": [
    {
     "data": {
      "text/plain": [
       "784"
      ]
     },
     "execution_count": 12,
     "metadata": {},
     "output_type": "execute_result"
    }
   ],
   "source": [
    "28 * 28"
   ]
  },
  {
   "cell_type": "code",
   "execution_count": 13,
   "metadata": {},
   "outputs": [],
   "source": [
    "img = img_array.flatten()"
   ]
  },
  {
   "cell_type": "code",
   "execution_count": 14,
   "metadata": {},
   "outputs": [
    {
     "data": {
      "text/plain": [
       "(784,)"
      ]
     },
     "execution_count": 14,
     "metadata": {},
     "output_type": "execute_result"
    }
   ],
   "source": [
    "img.shape"
   ]
  },
  {
   "cell_type": "code",
   "execution_count": 15,
   "metadata": {},
   "outputs": [
    {
     "data": {
      "text/plain": [
       "array([  0,   3,   6,   0,   0,   0,   1,   0,   0,   0,   0,   0,   0,\n",
       "         0,   0,   0,   6,   9,   0,   7,   0,  14,   0,   5,   0,   0,\n",
       "         0,   0,   6,   0,   0,   9,   2,   0,   1,  14,   0,   0,   0,\n",
       "         0,   0,   0,   0,   0,   0,  10,  15,   0,   5,   0,   7,   7,\n",
       "         0,   0,   0,   0,   0,   0,   3,   0,   0,   1,   1,   0,   0,\n",
       "         0,   0,   0,   0,   0,   0,   0,   4,   4,   0,   2,   2,   0,\n",
       "         0,   0,   0,   0,   0,   0,  20,   0,   0,   2,   1,   0,   0,\n",
       "         8,   0,   0,   0,   0,   0,   0,   0,   0,   1,   0,  12,   0,\n",
       "         0,  14,   0,   6,   0,   0,   0,   0,   0,   0,   1,   0,   4,\n",
       "         3,   0,   0,   0,   0,   0,   0,   0,   0,   0,   0,   0,  42,\n",
       "       177,  26,   0,   0,  14,   0,   0,   0,   0,   0,   1,  11,   0,\n",
       "         5,  32,  15,   0,  12,   0,   0,   0,   0,   0,   0,   0,   0,\n",
       "        12,  89, 255, 137,  12,   0,   0,   0,   0,   0,   0,   0,   6,\n",
       "         0,   7, 140, 229, 117,   0,   2,   0,   0,   0,   0,   0,   0,\n",
       "         0,   0,   0,  80, 238, 240,  33,   8,   0,  13,   0,   0,   0,\n",
       "         0,   0,   8,   6, 111, 255, 237,  75,   0,   0,   0,   0,   0,\n",
       "         0,   0,   0,   0,   0,  88, 243, 255,  42,   0,   9,   0,   0,\n",
       "         0,   0,   0,   5,   9,   0, 139, 254, 244, 245,  50,   0,   6,\n",
       "         1,   0,   0,   0,   0,   1,  12, 188, 255, 255, 114,  12,   0,\n",
       "         3,   0,   0,   0,   0,   2,   0,   0,  97, 242, 255, 249, 177,\n",
       "        20,   0,   8,   0,   0,   2,   0,   0,  54, 243, 255, 250,  99,\n",
       "         7,   0,   7,   0,   0,   0,   0,   0,   2,   1,  11, 131, 255,\n",
       "       242, 255, 105,   0,   9,   0,   0,   4,   2,   0,  16, 240, 244,\n",
       "       247,  64,   0,   0,   4,   0,   0,   0,   0,   0,  16,   0,   0,\n",
       "        23, 215, 239, 255, 197,  20,   0,   0,   8,   0,  18,   0,  47,\n",
       "       237, 252, 255,  43,   0,   0,   3,   0,   0,   0,   0,   0,   0,\n",
       "         0,  13,  11, 149, 255, 251, 252,  75,   0,   0,   3,   0, 103,\n",
       "       126, 188, 255, 255, 237,  20,  11,   5,   0,   0,   0,   0,   0,\n",
       "         5,   0,   4,   2,   7,  77, 255, 247, 243,  91,   0,  49, 119,\n",
       "       145, 245, 243, 255, 252, 252, 221,  23,   0,   0,   0,   0,   0,\n",
       "         0,   0,   3,   3,  11,   0,   0,  20, 169, 246, 255, 255, 249,\n",
       "       255, 255, 228, 255, 255, 250, 246, 255, 246,  92,   0,   4,  10,\n",
       "         0,   0,   0,   0,   0,   0,   1,  12,   1,   0,  48, 255, 244,\n",
       "       255, 253, 246, 252, 255, 254, 249, 250, 253, 249, 255, 155,   6,\n",
       "         0,   0,   0,   0,   0,   0,   0,   2,   5,   0,  13,   0,  49,\n",
       "       252, 251, 255, 241, 255, 255, 221, 200, 149, 126, 251, 253, 249,\n",
       "       158,   9,   3,   0,   0,   0,   0,   0,   3,   0,   0,   0,   6,\n",
       "         0,  53, 252, 239, 255, 231, 181,  89,   6,   7,   0,  31, 255,\n",
       "       236, 255, 140,   0,   0,   3,   0,   0,   0,   0,   0,   0,   4,\n",
       "         3,   3,   0,  22, 147, 203, 153,  55,  12,   0,   0,   9,   0,\n",
       "        58, 227, 255, 246, 225,  34,   0,   1,   0,   0,   0,   0,   0,\n",
       "         0,  10,   0,   0,   1,   0,  17,   0,   0,   0,   1,   0,   0,\n",
       "         4,   0,  38, 255, 246, 255, 242,  21,   0,   0,   0,   0,   0,\n",
       "         0,   5,   0,   4,   0,   0,   8,   2,   0,  10,   4,   0,   0,\n",
       "         9,   9,   9,   0,  41, 234, 250, 239, 255, 154,   7,   0,   0,\n",
       "         0,   0,   0,   2,   0,   0,   7,   0,   0,   4,   7,   0,   2,\n",
       "         6,   5,   0,   0,   0,   0,   0,  44, 235, 255, 249, 246,  12,\n",
       "         8,   0,   0,   0,   0,   0,   0,   0,  13,   5,   0,   0,   1,\n",
       "         1,   0,   2,   0,   0,   0,   0,   4,   6,   0,  56, 251, 240,\n",
       "       255,  57,   0,   0,   0,   0,   0,   5,   6,   0,   0,   0,   0,\n",
       "         4,   0,   1,   0,   4,   0,   0,   2,   0,   0,   0,   8,   0,\n",
       "        82, 198, 141,  14,   2,   0,   0,   0,   0,   0,   0,   0,   0,\n",
       "         0,   0,   0,   0,   0,   0,   0,   0,   0,   0,   0,   0,   0,\n",
       "         0,   0,   0,   0,   0,   0,   0,   0,   0,   0,   0,   0,   0,\n",
       "         0,   0,   0,   0,   0,   0,   0,   0,   0,   0,   0,   0,   0,\n",
       "         0,   0,   0,   0,   0,   0,   0,   0,   0,   0,   0,   0,   0,\n",
       "         0,   0,   0,   0,   0,   0,   0,   0,   0,   0,   0,   0,   0,\n",
       "         0,   0,   0,   0,   0,   0,   0,   0,   0,   0,   0,   0,   0,\n",
       "         0,   0,   0,   0,   0,   0,   0,   0,   0,   0,   0,   0,   0,\n",
       "         0,   0,   0,   0,   0,   0,   0,   0,   0,   0,   0,   0,   0,\n",
       "         0,   0,   0,   0], dtype=uint8)"
      ]
     },
     "execution_count": 15,
     "metadata": {},
     "output_type": "execute_result"
    }
   ],
   "source": [
    "img"
   ]
  },
  {
   "cell_type": "markdown",
   "metadata": {},
   "source": [
    "## Load the entire dataset"
   ]
  },
  {
   "cell_type": "code",
   "execution_count": 16,
   "metadata": {},
   "outputs": [],
   "source": [
    "#X = [Img_array1, Img_array2,Img_array3....Img_arrayn]\n",
    "#y = [\"2\",\"5\",\"3\",\"4\"]"
   ]
  },
  {
   "cell_type": "code",
   "execution_count": 17,
   "metadata": {},
   "outputs": [],
   "source": [
    "import glob"
   ]
  },
  {
   "cell_type": "code",
   "execution_count": 18,
   "metadata": {},
   "outputs": [
    {
     "data": {
      "text/plain": [
       "['D:\\\\MNIST Dataset JPG format\\\\MNIST - JPG - training\\\\0',\n",
       " 'D:\\\\MNIST Dataset JPG format\\\\MNIST - JPG - training\\\\1',\n",
       " 'D:\\\\MNIST Dataset JPG format\\\\MNIST - JPG - training\\\\2',\n",
       " 'D:\\\\MNIST Dataset JPG format\\\\MNIST - JPG - training\\\\3',\n",
       " 'D:\\\\MNIST Dataset JPG format\\\\MNIST - JPG - training\\\\4',\n",
       " 'D:\\\\MNIST Dataset JPG format\\\\MNIST - JPG - training\\\\5',\n",
       " 'D:\\\\MNIST Dataset JPG format\\\\MNIST - JPG - training\\\\6',\n",
       " 'D:\\\\MNIST Dataset JPG format\\\\MNIST - JPG - training\\\\7',\n",
       " 'D:\\\\MNIST Dataset JPG format\\\\MNIST - JPG - training\\\\8',\n",
       " 'D:\\\\MNIST Dataset JPG format\\\\MNIST - JPG - training\\\\9']"
      ]
     },
     "execution_count": 18,
     "metadata": {},
     "output_type": "execute_result"
    }
   ],
   "source": [
    "glob.glob(\"D:\\MNIST Dataset JPG format\\MNIST - JPG - training\\*\")"
   ]
  },
  {
   "cell_type": "code",
   "execution_count": 19,
   "metadata": {},
   "outputs": [
    {
     "data": {
      "text/plain": [
       "['D:\\\\MNIST Dataset JPG format\\\\MNIST - JPG - training\\\\0\\\\1.jpg',\n",
       " 'D:\\\\MNIST Dataset JPG format\\\\MNIST - JPG - training\\\\0\\\\1000.jpg',\n",
       " 'D:\\\\MNIST Dataset JPG format\\\\MNIST - JPG - training\\\\0\\\\10005.jpg',\n",
       " 'D:\\\\MNIST Dataset JPG format\\\\MNIST - JPG - training\\\\0\\\\10010.jpg',\n",
       " 'D:\\\\MNIST Dataset JPG format\\\\MNIST - JPG - training\\\\0\\\\10022.jpg',\n",
       " 'D:\\\\MNIST Dataset JPG format\\\\MNIST - JPG - training\\\\0\\\\10025.jpg',\n",
       " 'D:\\\\MNIST Dataset JPG format\\\\MNIST - JPG - training\\\\0\\\\10026.jpg',\n",
       " 'D:\\\\MNIST Dataset JPG format\\\\MNIST - JPG - training\\\\0\\\\10045.jpg',\n",
       " 'D:\\\\MNIST Dataset JPG format\\\\MNIST - JPG - training\\\\0\\\\10069.jpg',\n",
       " 'D:\\\\MNIST Dataset JPG format\\\\MNIST - JPG - training\\\\0\\\\10071.jpg',\n",
       " 'D:\\\\MNIST Dataset JPG format\\\\MNIST - JPG - training\\\\0\\\\10080.jpg',\n",
       " 'D:\\\\MNIST Dataset JPG format\\\\MNIST - JPG - training\\\\0\\\\10083.jpg',\n",
       " 'D:\\\\MNIST Dataset JPG format\\\\MNIST - JPG - training\\\\0\\\\10107.jpg',\n",
       " 'D:\\\\MNIST Dataset JPG format\\\\MNIST - JPG - training\\\\0\\\\10119.jpg',\n",
       " 'D:\\\\MNIST Dataset JPG format\\\\MNIST - JPG - training\\\\0\\\\10120.jpg',\n",
       " 'D:\\\\MNIST Dataset JPG format\\\\MNIST - JPG - training\\\\0\\\\10121.jpg',\n",
       " 'D:\\\\MNIST Dataset JPG format\\\\MNIST - JPG - training\\\\0\\\\10128.jpg',\n",
       " 'D:\\\\MNIST Dataset JPG format\\\\MNIST - JPG - training\\\\0\\\\10140.jpg',\n",
       " 'D:\\\\MNIST Dataset JPG format\\\\MNIST - JPG - training\\\\0\\\\1015.jpg',\n",
       " 'D:\\\\MNIST Dataset JPG format\\\\MNIST - JPG - training\\\\0\\\\10167.jpg',\n",
       " 'D:\\\\MNIST Dataset JPG format\\\\MNIST - JPG - training\\\\0\\\\10168.jpg',\n",
       " 'D:\\\\MNIST Dataset JPG format\\\\MNIST - JPG - training\\\\0\\\\10176.jpg',\n",
       " 'D:\\\\MNIST Dataset JPG format\\\\MNIST - JPG - training\\\\0\\\\1018.jpg',\n",
       " 'D:\\\\MNIST Dataset JPG format\\\\MNIST - JPG - training\\\\0\\\\10188.jpg',\n",
       " 'D:\\\\MNIST Dataset JPG format\\\\MNIST - JPG - training\\\\0\\\\10195.jpg',\n",
       " 'D:\\\\MNIST Dataset JPG format\\\\MNIST - JPG - training\\\\0\\\\10203.jpg',\n",
       " 'D:\\\\MNIST Dataset JPG format\\\\MNIST - JPG - training\\\\0\\\\10204.jpg',\n",
       " 'D:\\\\MNIST Dataset JPG format\\\\MNIST - JPG - training\\\\0\\\\10221.jpg',\n",
       " 'D:\\\\MNIST Dataset JPG format\\\\MNIST - JPG - training\\\\0\\\\10230.jpg',\n",
       " 'D:\\\\MNIST Dataset JPG format\\\\MNIST - JPG - training\\\\0\\\\10237.jpg',\n",
       " 'D:\\\\MNIST Dataset JPG format\\\\MNIST - JPG - training\\\\0\\\\10240.jpg',\n",
       " 'D:\\\\MNIST Dataset JPG format\\\\MNIST - JPG - training\\\\0\\\\10242.jpg',\n",
       " 'D:\\\\MNIST Dataset JPG format\\\\MNIST - JPG - training\\\\0\\\\10245.jpg',\n",
       " 'D:\\\\MNIST Dataset JPG format\\\\MNIST - JPG - training\\\\0\\\\10254.jpg',\n",
       " 'D:\\\\MNIST Dataset JPG format\\\\MNIST - JPG - training\\\\0\\\\10259.jpg',\n",
       " 'D:\\\\MNIST Dataset JPG format\\\\MNIST - JPG - training\\\\0\\\\10261.jpg',\n",
       " 'D:\\\\MNIST Dataset JPG format\\\\MNIST - JPG - training\\\\0\\\\10265.jpg',\n",
       " 'D:\\\\MNIST Dataset JPG format\\\\MNIST - JPG - training\\\\0\\\\10272.jpg',\n",
       " 'D:\\\\MNIST Dataset JPG format\\\\MNIST - JPG - training\\\\0\\\\10276.jpg',\n",
       " 'D:\\\\MNIST Dataset JPG format\\\\MNIST - JPG - training\\\\0\\\\1028.jpg',\n",
       " 'D:\\\\MNIST Dataset JPG format\\\\MNIST - JPG - training\\\\0\\\\10283.jpg',\n",
       " 'D:\\\\MNIST Dataset JPG format\\\\MNIST - JPG - training\\\\0\\\\1029.jpg',\n",
       " 'D:\\\\MNIST Dataset JPG format\\\\MNIST - JPG - training\\\\0\\\\10323.jpg',\n",
       " 'D:\\\\MNIST Dataset JPG format\\\\MNIST - JPG - training\\\\0\\\\10326.jpg',\n",
       " 'D:\\\\MNIST Dataset JPG format\\\\MNIST - JPG - training\\\\0\\\\10334.jpg',\n",
       " 'D:\\\\MNIST Dataset JPG format\\\\MNIST - JPG - training\\\\0\\\\10340.jpg',\n",
       " 'D:\\\\MNIST Dataset JPG format\\\\MNIST - JPG - training\\\\0\\\\10343.jpg',\n",
       " 'D:\\\\MNIST Dataset JPG format\\\\MNIST - JPG - training\\\\0\\\\10348.jpg',\n",
       " 'D:\\\\MNIST Dataset JPG format\\\\MNIST - JPG - training\\\\0\\\\10352.jpg',\n",
       " 'D:\\\\MNIST Dataset JPG format\\\\MNIST - JPG - training\\\\0\\\\10363.jpg',\n",
       " 'D:\\\\MNIST Dataset JPG format\\\\MNIST - JPG - training\\\\0\\\\10366.jpg',\n",
       " 'D:\\\\MNIST Dataset JPG format\\\\MNIST - JPG - training\\\\0\\\\10372.jpg',\n",
       " 'D:\\\\MNIST Dataset JPG format\\\\MNIST - JPG - training\\\\0\\\\10380.jpg',\n",
       " 'D:\\\\MNIST Dataset JPG format\\\\MNIST - JPG - training\\\\0\\\\10384.jpg',\n",
       " 'D:\\\\MNIST Dataset JPG format\\\\MNIST - JPG - training\\\\0\\\\1040.jpg',\n",
       " 'D:\\\\MNIST Dataset JPG format\\\\MNIST - JPG - training\\\\0\\\\10407.jpg',\n",
       " 'D:\\\\MNIST Dataset JPG format\\\\MNIST - JPG - training\\\\0\\\\10425.jpg',\n",
       " 'D:\\\\MNIST Dataset JPG format\\\\MNIST - JPG - training\\\\0\\\\10439.jpg',\n",
       " 'D:\\\\MNIST Dataset JPG format\\\\MNIST - JPG - training\\\\0\\\\10456.jpg',\n",
       " 'D:\\\\MNIST Dataset JPG format\\\\MNIST - JPG - training\\\\0\\\\1046.jpg',\n",
       " 'D:\\\\MNIST Dataset JPG format\\\\MNIST - JPG - training\\\\0\\\\10469.jpg',\n",
       " 'D:\\\\MNIST Dataset JPG format\\\\MNIST - JPG - training\\\\0\\\\10471.jpg',\n",
       " 'D:\\\\MNIST Dataset JPG format\\\\MNIST - JPG - training\\\\0\\\\10479.jpg',\n",
       " 'D:\\\\MNIST Dataset JPG format\\\\MNIST - JPG - training\\\\0\\\\10488.jpg',\n",
       " 'D:\\\\MNIST Dataset JPG format\\\\MNIST - JPG - training\\\\0\\\\1049.jpg',\n",
       " 'D:\\\\MNIST Dataset JPG format\\\\MNIST - JPG - training\\\\0\\\\10505.jpg',\n",
       " 'D:\\\\MNIST Dataset JPG format\\\\MNIST - JPG - training\\\\0\\\\10523.jpg',\n",
       " 'D:\\\\MNIST Dataset JPG format\\\\MNIST - JPG - training\\\\0\\\\10530.jpg',\n",
       " 'D:\\\\MNIST Dataset JPG format\\\\MNIST - JPG - training\\\\0\\\\10531.jpg',\n",
       " 'D:\\\\MNIST Dataset JPG format\\\\MNIST - JPG - training\\\\0\\\\10542.jpg',\n",
       " 'D:\\\\MNIST Dataset JPG format\\\\MNIST - JPG - training\\\\0\\\\10563.jpg',\n",
       " 'D:\\\\MNIST Dataset JPG format\\\\MNIST - JPG - training\\\\0\\\\10564.jpg',\n",
       " 'D:\\\\MNIST Dataset JPG format\\\\MNIST - JPG - training\\\\0\\\\10579.jpg',\n",
       " 'D:\\\\MNIST Dataset JPG format\\\\MNIST - JPG - training\\\\0\\\\10599.jpg',\n",
       " 'D:\\\\MNIST Dataset JPG format\\\\MNIST - JPG - training\\\\0\\\\10604.jpg',\n",
       " 'D:\\\\MNIST Dataset JPG format\\\\MNIST - JPG - training\\\\0\\\\10625.jpg',\n",
       " 'D:\\\\MNIST Dataset JPG format\\\\MNIST - JPG - training\\\\0\\\\10645.jpg',\n",
       " 'D:\\\\MNIST Dataset JPG format\\\\MNIST - JPG - training\\\\0\\\\10664.jpg',\n",
       " 'D:\\\\MNIST Dataset JPG format\\\\MNIST - JPG - training\\\\0\\\\10689.jpg',\n",
       " 'D:\\\\MNIST Dataset JPG format\\\\MNIST - JPG - training\\\\0\\\\10691.jpg',\n",
       " 'D:\\\\MNIST Dataset JPG format\\\\MNIST - JPG - training\\\\0\\\\10700.jpg',\n",
       " 'D:\\\\MNIST Dataset JPG format\\\\MNIST - JPG - training\\\\0\\\\10705.jpg',\n",
       " 'D:\\\\MNIST Dataset JPG format\\\\MNIST - JPG - training\\\\0\\\\10732.jpg',\n",
       " 'D:\\\\MNIST Dataset JPG format\\\\MNIST - JPG - training\\\\0\\\\10747.jpg',\n",
       " 'D:\\\\MNIST Dataset JPG format\\\\MNIST - JPG - training\\\\0\\\\10750.jpg',\n",
       " 'D:\\\\MNIST Dataset JPG format\\\\MNIST - JPG - training\\\\0\\\\10755.jpg',\n",
       " 'D:\\\\MNIST Dataset JPG format\\\\MNIST - JPG - training\\\\0\\\\1076.jpg',\n",
       " 'D:\\\\MNIST Dataset JPG format\\\\MNIST - JPG - training\\\\0\\\\10773.jpg',\n",
       " 'D:\\\\MNIST Dataset JPG format\\\\MNIST - JPG - training\\\\0\\\\1078.jpg',\n",
       " 'D:\\\\MNIST Dataset JPG format\\\\MNIST - JPG - training\\\\0\\\\10781.jpg',\n",
       " 'D:\\\\MNIST Dataset JPG format\\\\MNIST - JPG - training\\\\0\\\\108.jpg',\n",
       " 'D:\\\\MNIST Dataset JPG format\\\\MNIST - JPG - training\\\\0\\\\10801.jpg',\n",
       " 'D:\\\\MNIST Dataset JPG format\\\\MNIST - JPG - training\\\\0\\\\10806.jpg',\n",
       " 'D:\\\\MNIST Dataset JPG format\\\\MNIST - JPG - training\\\\0\\\\10821.jpg',\n",
       " 'D:\\\\MNIST Dataset JPG format\\\\MNIST - JPG - training\\\\0\\\\10840.jpg',\n",
       " 'D:\\\\MNIST Dataset JPG format\\\\MNIST - JPG - training\\\\0\\\\10844.jpg',\n",
       " 'D:\\\\MNIST Dataset JPG format\\\\MNIST - JPG - training\\\\0\\\\10849.jpg',\n",
       " 'D:\\\\MNIST Dataset JPG format\\\\MNIST - JPG - training\\\\0\\\\10859.jpg',\n",
       " 'D:\\\\MNIST Dataset JPG format\\\\MNIST - JPG - training\\\\0\\\\10861.jpg',\n",
       " 'D:\\\\MNIST Dataset JPG format\\\\MNIST - JPG - training\\\\0\\\\10874.jpg',\n",
       " 'D:\\\\MNIST Dataset JPG format\\\\MNIST - JPG - training\\\\0\\\\1090.jpg',\n",
       " 'D:\\\\MNIST Dataset JPG format\\\\MNIST - JPG - training\\\\0\\\\10909.jpg',\n",
       " 'D:\\\\MNIST Dataset JPG format\\\\MNIST - JPG - training\\\\0\\\\10914.jpg',\n",
       " 'D:\\\\MNIST Dataset JPG format\\\\MNIST - JPG - training\\\\0\\\\10916.jpg',\n",
       " 'D:\\\\MNIST Dataset JPG format\\\\MNIST - JPG - training\\\\0\\\\10919.jpg',\n",
       " 'D:\\\\MNIST Dataset JPG format\\\\MNIST - JPG - training\\\\0\\\\10924.jpg',\n",
       " 'D:\\\\MNIST Dataset JPG format\\\\MNIST - JPG - training\\\\0\\\\1093.jpg',\n",
       " 'D:\\\\MNIST Dataset JPG format\\\\MNIST - JPG - training\\\\0\\\\10938.jpg',\n",
       " 'D:\\\\MNIST Dataset JPG format\\\\MNIST - JPG - training\\\\0\\\\10974.jpg',\n",
       " 'D:\\\\MNIST Dataset JPG format\\\\MNIST - JPG - training\\\\0\\\\10975.jpg',\n",
       " 'D:\\\\MNIST Dataset JPG format\\\\MNIST - JPG - training\\\\0\\\\10992.jpg',\n",
       " 'D:\\\\MNIST Dataset JPG format\\\\MNIST - JPG - training\\\\0\\\\11003.jpg',\n",
       " 'D:\\\\MNIST Dataset JPG format\\\\MNIST - JPG - training\\\\0\\\\11014.jpg',\n",
       " 'D:\\\\MNIST Dataset JPG format\\\\MNIST - JPG - training\\\\0\\\\11019.jpg',\n",
       " 'D:\\\\MNIST Dataset JPG format\\\\MNIST - JPG - training\\\\0\\\\1102.jpg',\n",
       " 'D:\\\\MNIST Dataset JPG format\\\\MNIST - JPG - training\\\\0\\\\11022.jpg',\n",
       " 'D:\\\\MNIST Dataset JPG format\\\\MNIST - JPG - training\\\\0\\\\11026.jpg',\n",
       " 'D:\\\\MNIST Dataset JPG format\\\\MNIST - JPG - training\\\\0\\\\11027.jpg',\n",
       " 'D:\\\\MNIST Dataset JPG format\\\\MNIST - JPG - training\\\\0\\\\11029.jpg',\n",
       " 'D:\\\\MNIST Dataset JPG format\\\\MNIST - JPG - training\\\\0\\\\11036.jpg',\n",
       " 'D:\\\\MNIST Dataset JPG format\\\\MNIST - JPG - training\\\\0\\\\11041.jpg',\n",
       " 'D:\\\\MNIST Dataset JPG format\\\\MNIST - JPG - training\\\\0\\\\11045.jpg',\n",
       " 'D:\\\\MNIST Dataset JPG format\\\\MNIST - JPG - training\\\\0\\\\11052.jpg',\n",
       " 'D:\\\\MNIST Dataset JPG format\\\\MNIST - JPG - training\\\\0\\\\11060.jpg',\n",
       " 'D:\\\\MNIST Dataset JPG format\\\\MNIST - JPG - training\\\\0\\\\1107.jpg',\n",
       " 'D:\\\\MNIST Dataset JPG format\\\\MNIST - JPG - training\\\\0\\\\11071.jpg',\n",
       " 'D:\\\\MNIST Dataset JPG format\\\\MNIST - JPG - training\\\\0\\\\11072.jpg',\n",
       " 'D:\\\\MNIST Dataset JPG format\\\\MNIST - JPG - training\\\\0\\\\11077.jpg',\n",
       " 'D:\\\\MNIST Dataset JPG format\\\\MNIST - JPG - training\\\\0\\\\11091.jpg',\n",
       " 'D:\\\\MNIST Dataset JPG format\\\\MNIST - JPG - training\\\\0\\\\11105.jpg',\n",
       " 'D:\\\\MNIST Dataset JPG format\\\\MNIST - JPG - training\\\\0\\\\11116.jpg',\n",
       " 'D:\\\\MNIST Dataset JPG format\\\\MNIST - JPG - training\\\\0\\\\11129.jpg',\n",
       " 'D:\\\\MNIST Dataset JPG format\\\\MNIST - JPG - training\\\\0\\\\11133.jpg',\n",
       " 'D:\\\\MNIST Dataset JPG format\\\\MNIST - JPG - training\\\\0\\\\11162.jpg',\n",
       " 'D:\\\\MNIST Dataset JPG format\\\\MNIST - JPG - training\\\\0\\\\11172.jpg',\n",
       " 'D:\\\\MNIST Dataset JPG format\\\\MNIST - JPG - training\\\\0\\\\11187.jpg',\n",
       " 'D:\\\\MNIST Dataset JPG format\\\\MNIST - JPG - training\\\\0\\\\11217.jpg',\n",
       " 'D:\\\\MNIST Dataset JPG format\\\\MNIST - JPG - training\\\\0\\\\11222.jpg',\n",
       " 'D:\\\\MNIST Dataset JPG format\\\\MNIST - JPG - training\\\\0\\\\11231.jpg',\n",
       " 'D:\\\\MNIST Dataset JPG format\\\\MNIST - JPG - training\\\\0\\\\11240.jpg',\n",
       " 'D:\\\\MNIST Dataset JPG format\\\\MNIST - JPG - training\\\\0\\\\11267.jpg',\n",
       " 'D:\\\\MNIST Dataset JPG format\\\\MNIST - JPG - training\\\\0\\\\11269.jpg',\n",
       " 'D:\\\\MNIST Dataset JPG format\\\\MNIST - JPG - training\\\\0\\\\1128.jpg',\n",
       " 'D:\\\\MNIST Dataset JPG format\\\\MNIST - JPG - training\\\\0\\\\11281.jpg',\n",
       " 'D:\\\\MNIST Dataset JPG format\\\\MNIST - JPG - training\\\\0\\\\11295.jpg',\n",
       " 'D:\\\\MNIST Dataset JPG format\\\\MNIST - JPG - training\\\\0\\\\11304.jpg',\n",
       " 'D:\\\\MNIST Dataset JPG format\\\\MNIST - JPG - training\\\\0\\\\11315.jpg',\n",
       " 'D:\\\\MNIST Dataset JPG format\\\\MNIST - JPG - training\\\\0\\\\11318.jpg',\n",
       " 'D:\\\\MNIST Dataset JPG format\\\\MNIST - JPG - training\\\\0\\\\11320.jpg',\n",
       " 'D:\\\\MNIST Dataset JPG format\\\\MNIST - JPG - training\\\\0\\\\11330.jpg',\n",
       " 'D:\\\\MNIST Dataset JPG format\\\\MNIST - JPG - training\\\\0\\\\11335.jpg',\n",
       " 'D:\\\\MNIST Dataset JPG format\\\\MNIST - JPG - training\\\\0\\\\11340.jpg',\n",
       " 'D:\\\\MNIST Dataset JPG format\\\\MNIST - JPG - training\\\\0\\\\11354.jpg',\n",
       " 'D:\\\\MNIST Dataset JPG format\\\\MNIST - JPG - training\\\\0\\\\11361.jpg',\n",
       " 'D:\\\\MNIST Dataset JPG format\\\\MNIST - JPG - training\\\\0\\\\1137.jpg',\n",
       " 'D:\\\\MNIST Dataset JPG format\\\\MNIST - JPG - training\\\\0\\\\11379.jpg',\n",
       " 'D:\\\\MNIST Dataset JPG format\\\\MNIST - JPG - training\\\\0\\\\11391.jpg',\n",
       " 'D:\\\\MNIST Dataset JPG format\\\\MNIST - JPG - training\\\\0\\\\114.jpg',\n",
       " 'D:\\\\MNIST Dataset JPG format\\\\MNIST - JPG - training\\\\0\\\\11403.jpg',\n",
       " 'D:\\\\MNIST Dataset JPG format\\\\MNIST - JPG - training\\\\0\\\\11409.jpg',\n",
       " 'D:\\\\MNIST Dataset JPG format\\\\MNIST - JPG - training\\\\0\\\\11422.jpg',\n",
       " 'D:\\\\MNIST Dataset JPG format\\\\MNIST - JPG - training\\\\0\\\\11428.jpg',\n",
       " 'D:\\\\MNIST Dataset JPG format\\\\MNIST - JPG - training\\\\0\\\\11429.jpg',\n",
       " 'D:\\\\MNIST Dataset JPG format\\\\MNIST - JPG - training\\\\0\\\\11451.jpg',\n",
       " 'D:\\\\MNIST Dataset JPG format\\\\MNIST - JPG - training\\\\0\\\\11453.jpg',\n",
       " 'D:\\\\MNIST Dataset JPG format\\\\MNIST - JPG - training\\\\0\\\\11462.jpg',\n",
       " 'D:\\\\MNIST Dataset JPG format\\\\MNIST - JPG - training\\\\0\\\\11501.jpg',\n",
       " 'D:\\\\MNIST Dataset JPG format\\\\MNIST - JPG - training\\\\0\\\\11514.jpg',\n",
       " 'D:\\\\MNIST Dataset JPG format\\\\MNIST - JPG - training\\\\0\\\\1152.jpg',\n",
       " 'D:\\\\MNIST Dataset JPG format\\\\MNIST - JPG - training\\\\0\\\\11526.jpg',\n",
       " 'D:\\\\MNIST Dataset JPG format\\\\MNIST - JPG - training\\\\0\\\\11532.jpg',\n",
       " 'D:\\\\MNIST Dataset JPG format\\\\MNIST - JPG - training\\\\0\\\\11541.jpg',\n",
       " 'D:\\\\MNIST Dataset JPG format\\\\MNIST - JPG - training\\\\0\\\\11559.jpg',\n",
       " 'D:\\\\MNIST Dataset JPG format\\\\MNIST - JPG - training\\\\0\\\\11562.jpg',\n",
       " 'D:\\\\MNIST Dataset JPG format\\\\MNIST - JPG - training\\\\0\\\\11574.jpg',\n",
       " 'D:\\\\MNIST Dataset JPG format\\\\MNIST - JPG - training\\\\0\\\\11577.jpg',\n",
       " 'D:\\\\MNIST Dataset JPG format\\\\MNIST - JPG - training\\\\0\\\\11584.jpg',\n",
       " 'D:\\\\MNIST Dataset JPG format\\\\MNIST - JPG - training\\\\0\\\\11588.jpg',\n",
       " 'D:\\\\MNIST Dataset JPG format\\\\MNIST - JPG - training\\\\0\\\\11597.jpg',\n",
       " 'D:\\\\MNIST Dataset JPG format\\\\MNIST - JPG - training\\\\0\\\\11605.jpg',\n",
       " 'D:\\\\MNIST Dataset JPG format\\\\MNIST - JPG - training\\\\0\\\\11612.jpg',\n",
       " 'D:\\\\MNIST Dataset JPG format\\\\MNIST - JPG - training\\\\0\\\\11615.jpg',\n",
       " 'D:\\\\MNIST Dataset JPG format\\\\MNIST - JPG - training\\\\0\\\\11620.jpg',\n",
       " 'D:\\\\MNIST Dataset JPG format\\\\MNIST - JPG - training\\\\0\\\\11636.jpg',\n",
       " 'D:\\\\MNIST Dataset JPG format\\\\MNIST - JPG - training\\\\0\\\\11639.jpg',\n",
       " 'D:\\\\MNIST Dataset JPG format\\\\MNIST - JPG - training\\\\0\\\\11654.jpg',\n",
       " 'D:\\\\MNIST Dataset JPG format\\\\MNIST - JPG - training\\\\0\\\\11657.jpg',\n",
       " 'D:\\\\MNIST Dataset JPG format\\\\MNIST - JPG - training\\\\0\\\\11661.jpg',\n",
       " 'D:\\\\MNIST Dataset JPG format\\\\MNIST - JPG - training\\\\0\\\\11675.jpg',\n",
       " 'D:\\\\MNIST Dataset JPG format\\\\MNIST - JPG - training\\\\0\\\\1168.jpg',\n",
       " 'D:\\\\MNIST Dataset JPG format\\\\MNIST - JPG - training\\\\0\\\\11683.jpg',\n",
       " 'D:\\\\MNIST Dataset JPG format\\\\MNIST - JPG - training\\\\0\\\\11694.jpg',\n",
       " 'D:\\\\MNIST Dataset JPG format\\\\MNIST - JPG - training\\\\0\\\\11701.jpg',\n",
       " 'D:\\\\MNIST Dataset JPG format\\\\MNIST - JPG - training\\\\0\\\\11712.jpg',\n",
       " 'D:\\\\MNIST Dataset JPG format\\\\MNIST - JPG - training\\\\0\\\\11729.jpg',\n",
       " 'D:\\\\MNIST Dataset JPG format\\\\MNIST - JPG - training\\\\0\\\\11742.jpg',\n",
       " 'D:\\\\MNIST Dataset JPG format\\\\MNIST - JPG - training\\\\0\\\\11746.jpg',\n",
       " 'D:\\\\MNIST Dataset JPG format\\\\MNIST - JPG - training\\\\0\\\\11754.jpg',\n",
       " 'D:\\\\MNIST Dataset JPG format\\\\MNIST - JPG - training\\\\0\\\\11758.jpg',\n",
       " 'D:\\\\MNIST Dataset JPG format\\\\MNIST - JPG - training\\\\0\\\\11779.jpg',\n",
       " 'D:\\\\MNIST Dataset JPG format\\\\MNIST - JPG - training\\\\0\\\\11780.jpg',\n",
       " 'D:\\\\MNIST Dataset JPG format\\\\MNIST - JPG - training\\\\0\\\\1179.jpg',\n",
       " 'D:\\\\MNIST Dataset JPG format\\\\MNIST - JPG - training\\\\0\\\\11791.jpg',\n",
       " 'D:\\\\MNIST Dataset JPG format\\\\MNIST - JPG - training\\\\0\\\\11792.jpg',\n",
       " 'D:\\\\MNIST Dataset JPG format\\\\MNIST - JPG - training\\\\0\\\\11794.jpg',\n",
       " 'D:\\\\MNIST Dataset JPG format\\\\MNIST - JPG - training\\\\0\\\\118.jpg',\n",
       " 'D:\\\\MNIST Dataset JPG format\\\\MNIST - JPG - training\\\\0\\\\11807.jpg',\n",
       " 'D:\\\\MNIST Dataset JPG format\\\\MNIST - JPG - training\\\\0\\\\11833.jpg',\n",
       " 'D:\\\\MNIST Dataset JPG format\\\\MNIST - JPG - training\\\\0\\\\11834.jpg',\n",
       " 'D:\\\\MNIST Dataset JPG format\\\\MNIST - JPG - training\\\\0\\\\11845.jpg',\n",
       " 'D:\\\\MNIST Dataset JPG format\\\\MNIST - JPG - training\\\\0\\\\11846.jpg',\n",
       " 'D:\\\\MNIST Dataset JPG format\\\\MNIST - JPG - training\\\\0\\\\11848.jpg',\n",
       " 'D:\\\\MNIST Dataset JPG format\\\\MNIST - JPG - training\\\\0\\\\11851.jpg',\n",
       " 'D:\\\\MNIST Dataset JPG format\\\\MNIST - JPG - training\\\\0\\\\11860.jpg',\n",
       " 'D:\\\\MNIST Dataset JPG format\\\\MNIST - JPG - training\\\\0\\\\11887.jpg',\n",
       " 'D:\\\\MNIST Dataset JPG format\\\\MNIST - JPG - training\\\\0\\\\11888.jpg',\n",
       " 'D:\\\\MNIST Dataset JPG format\\\\MNIST - JPG - training\\\\0\\\\119.jpg',\n",
       " 'D:\\\\MNIST Dataset JPG format\\\\MNIST - JPG - training\\\\0\\\\11902.jpg',\n",
       " 'D:\\\\MNIST Dataset JPG format\\\\MNIST - JPG - training\\\\0\\\\11911.jpg',\n",
       " 'D:\\\\MNIST Dataset JPG format\\\\MNIST - JPG - training\\\\0\\\\11914.jpg',\n",
       " 'D:\\\\MNIST Dataset JPG format\\\\MNIST - JPG - training\\\\0\\\\11920.jpg',\n",
       " 'D:\\\\MNIST Dataset JPG format\\\\MNIST - JPG - training\\\\0\\\\11933.jpg',\n",
       " 'D:\\\\MNIST Dataset JPG format\\\\MNIST - JPG - training\\\\0\\\\11945.jpg',\n",
       " 'D:\\\\MNIST Dataset JPG format\\\\MNIST - JPG - training\\\\0\\\\11948.jpg',\n",
       " 'D:\\\\MNIST Dataset JPG format\\\\MNIST - JPG - training\\\\0\\\\1195.jpg',\n",
       " 'D:\\\\MNIST Dataset JPG format\\\\MNIST - JPG - training\\\\0\\\\11957.jpg',\n",
       " 'D:\\\\MNIST Dataset JPG format\\\\MNIST - JPG - training\\\\0\\\\11969.jpg',\n",
       " 'D:\\\\MNIST Dataset JPG format\\\\MNIST - JPG - training\\\\0\\\\11973.jpg',\n",
       " 'D:\\\\MNIST Dataset JPG format\\\\MNIST - JPG - training\\\\0\\\\11974.jpg',\n",
       " 'D:\\\\MNIST Dataset JPG format\\\\MNIST - JPG - training\\\\0\\\\11993.jpg',\n",
       " 'D:\\\\MNIST Dataset JPG format\\\\MNIST - JPG - training\\\\0\\\\12004.jpg',\n",
       " 'D:\\\\MNIST Dataset JPG format\\\\MNIST - JPG - training\\\\0\\\\12008.jpg',\n",
       " 'D:\\\\MNIST Dataset JPG format\\\\MNIST - JPG - training\\\\0\\\\12011.jpg',\n",
       " 'D:\\\\MNIST Dataset JPG format\\\\MNIST - JPG - training\\\\0\\\\12020.jpg',\n",
       " 'D:\\\\MNIST Dataset JPG format\\\\MNIST - JPG - training\\\\0\\\\12057.jpg',\n",
       " 'D:\\\\MNIST Dataset JPG format\\\\MNIST - JPG - training\\\\0\\\\1209.jpg',\n",
       " 'D:\\\\MNIST Dataset JPG format\\\\MNIST - JPG - training\\\\0\\\\12095.jpg',\n",
       " 'D:\\\\MNIST Dataset JPG format\\\\MNIST - JPG - training\\\\0\\\\121.jpg',\n",
       " 'D:\\\\MNIST Dataset JPG format\\\\MNIST - JPG - training\\\\0\\\\12103.jpg',\n",
       " 'D:\\\\MNIST Dataset JPG format\\\\MNIST - JPG - training\\\\0\\\\12107.jpg',\n",
       " 'D:\\\\MNIST Dataset JPG format\\\\MNIST - JPG - training\\\\0\\\\12115.jpg',\n",
       " 'D:\\\\MNIST Dataset JPG format\\\\MNIST - JPG - training\\\\0\\\\12119.jpg',\n",
       " 'D:\\\\MNIST Dataset JPG format\\\\MNIST - JPG - training\\\\0\\\\12134.jpg',\n",
       " 'D:\\\\MNIST Dataset JPG format\\\\MNIST - JPG - training\\\\0\\\\12140.jpg',\n",
       " 'D:\\\\MNIST Dataset JPG format\\\\MNIST - JPG - training\\\\0\\\\12142.jpg',\n",
       " 'D:\\\\MNIST Dataset JPG format\\\\MNIST - JPG - training\\\\0\\\\12144.jpg',\n",
       " 'D:\\\\MNIST Dataset JPG format\\\\MNIST - JPG - training\\\\0\\\\12150.jpg',\n",
       " 'D:\\\\MNIST Dataset JPG format\\\\MNIST - JPG - training\\\\0\\\\12168.jpg',\n",
       " 'D:\\\\MNIST Dataset JPG format\\\\MNIST - JPG - training\\\\0\\\\12180.jpg',\n",
       " 'D:\\\\MNIST Dataset JPG format\\\\MNIST - JPG - training\\\\0\\\\12184.jpg',\n",
       " 'D:\\\\MNIST Dataset JPG format\\\\MNIST - JPG - training\\\\0\\\\12193.jpg',\n",
       " 'D:\\\\MNIST Dataset JPG format\\\\MNIST - JPG - training\\\\0\\\\12195.jpg',\n",
       " 'D:\\\\MNIST Dataset JPG format\\\\MNIST - JPG - training\\\\0\\\\12205.jpg',\n",
       " 'D:\\\\MNIST Dataset JPG format\\\\MNIST - JPG - training\\\\0\\\\12217.jpg',\n",
       " 'D:\\\\MNIST Dataset JPG format\\\\MNIST - JPG - training\\\\0\\\\12219.jpg',\n",
       " 'D:\\\\MNIST Dataset JPG format\\\\MNIST - JPG - training\\\\0\\\\12239.jpg',\n",
       " 'D:\\\\MNIST Dataset JPG format\\\\MNIST - JPG - training\\\\0\\\\12259.jpg',\n",
       " 'D:\\\\MNIST Dataset JPG format\\\\MNIST - JPG - training\\\\0\\\\12264.jpg',\n",
       " 'D:\\\\MNIST Dataset JPG format\\\\MNIST - JPG - training\\\\0\\\\12266.jpg',\n",
       " 'D:\\\\MNIST Dataset JPG format\\\\MNIST - JPG - training\\\\0\\\\12276.jpg',\n",
       " 'D:\\\\MNIST Dataset JPG format\\\\MNIST - JPG - training\\\\0\\\\12313.jpg',\n",
       " 'D:\\\\MNIST Dataset JPG format\\\\MNIST - JPG - training\\\\0\\\\12321.jpg',\n",
       " 'D:\\\\MNIST Dataset JPG format\\\\MNIST - JPG - training\\\\0\\\\12324.jpg',\n",
       " 'D:\\\\MNIST Dataset JPG format\\\\MNIST - JPG - training\\\\0\\\\12325.jpg',\n",
       " 'D:\\\\MNIST Dataset JPG format\\\\MNIST - JPG - training\\\\0\\\\12337.jpg',\n",
       " 'D:\\\\MNIST Dataset JPG format\\\\MNIST - JPG - training\\\\0\\\\12339.jpg',\n",
       " 'D:\\\\MNIST Dataset JPG format\\\\MNIST - JPG - training\\\\0\\\\12351.jpg',\n",
       " 'D:\\\\MNIST Dataset JPG format\\\\MNIST - JPG - training\\\\0\\\\12357.jpg',\n",
       " 'D:\\\\MNIST Dataset JPG format\\\\MNIST - JPG - training\\\\0\\\\12360.jpg',\n",
       " 'D:\\\\MNIST Dataset JPG format\\\\MNIST - JPG - training\\\\0\\\\12374.jpg',\n",
       " 'D:\\\\MNIST Dataset JPG format\\\\MNIST - JPG - training\\\\0\\\\12387.jpg',\n",
       " 'D:\\\\MNIST Dataset JPG format\\\\MNIST - JPG - training\\\\0\\\\12414.jpg',\n",
       " 'D:\\\\MNIST Dataset JPG format\\\\MNIST - JPG - training\\\\0\\\\12421.jpg',\n",
       " 'D:\\\\MNIST Dataset JPG format\\\\MNIST - JPG - training\\\\0\\\\12456.jpg',\n",
       " 'D:\\\\MNIST Dataset JPG format\\\\MNIST - JPG - training\\\\0\\\\12457.jpg',\n",
       " 'D:\\\\MNIST Dataset JPG format\\\\MNIST - JPG - training\\\\0\\\\12477.jpg',\n",
       " 'D:\\\\MNIST Dataset JPG format\\\\MNIST - JPG - training\\\\0\\\\12497.jpg',\n",
       " 'D:\\\\MNIST Dataset JPG format\\\\MNIST - JPG - training\\\\0\\\\12500.jpg',\n",
       " 'D:\\\\MNIST Dataset JPG format\\\\MNIST - JPG - training\\\\0\\\\12504.jpg',\n",
       " 'D:\\\\MNIST Dataset JPG format\\\\MNIST - JPG - training\\\\0\\\\12516.jpg',\n",
       " 'D:\\\\MNIST Dataset JPG format\\\\MNIST - JPG - training\\\\0\\\\12533.jpg',\n",
       " 'D:\\\\MNIST Dataset JPG format\\\\MNIST - JPG - training\\\\0\\\\12542.jpg',\n",
       " 'D:\\\\MNIST Dataset JPG format\\\\MNIST - JPG - training\\\\0\\\\12550.jpg',\n",
       " 'D:\\\\MNIST Dataset JPG format\\\\MNIST - JPG - training\\\\0\\\\12553.jpg',\n",
       " 'D:\\\\MNIST Dataset JPG format\\\\MNIST - JPG - training\\\\0\\\\12554.jpg',\n",
       " 'D:\\\\MNIST Dataset JPG format\\\\MNIST - JPG - training\\\\0\\\\12555.jpg',\n",
       " 'D:\\\\MNIST Dataset JPG format\\\\MNIST - JPG - training\\\\0\\\\12568.jpg',\n",
       " 'D:\\\\MNIST Dataset JPG format\\\\MNIST - JPG - training\\\\0\\\\12573.jpg',\n",
       " 'D:\\\\MNIST Dataset JPG format\\\\MNIST - JPG - training\\\\0\\\\12575.jpg',\n",
       " 'D:\\\\MNIST Dataset JPG format\\\\MNIST - JPG - training\\\\0\\\\12584.jpg',\n",
       " 'D:\\\\MNIST Dataset JPG format\\\\MNIST - JPG - training\\\\0\\\\12605.jpg',\n",
       " 'D:\\\\MNIST Dataset JPG format\\\\MNIST - JPG - training\\\\0\\\\12635.jpg',\n",
       " 'D:\\\\MNIST Dataset JPG format\\\\MNIST - JPG - training\\\\0\\\\12652.jpg',\n",
       " 'D:\\\\MNIST Dataset JPG format\\\\MNIST - JPG - training\\\\0\\\\12653.jpg',\n",
       " 'D:\\\\MNIST Dataset JPG format\\\\MNIST - JPG - training\\\\0\\\\12662.jpg',\n",
       " 'D:\\\\MNIST Dataset JPG format\\\\MNIST - JPG - training\\\\0\\\\12665.jpg',\n",
       " 'D:\\\\MNIST Dataset JPG format\\\\MNIST - JPG - training\\\\0\\\\12666.jpg',\n",
       " 'D:\\\\MNIST Dataset JPG format\\\\MNIST - JPG - training\\\\0\\\\12670.jpg',\n",
       " 'D:\\\\MNIST Dataset JPG format\\\\MNIST - JPG - training\\\\0\\\\1268.jpg',\n",
       " 'D:\\\\MNIST Dataset JPG format\\\\MNIST - JPG - training\\\\0\\\\12686.jpg',\n",
       " 'D:\\\\MNIST Dataset JPG format\\\\MNIST - JPG - training\\\\0\\\\12690.jpg',\n",
       " 'D:\\\\MNIST Dataset JPG format\\\\MNIST - JPG - training\\\\0\\\\12691.jpg',\n",
       " 'D:\\\\MNIST Dataset JPG format\\\\MNIST - JPG - training\\\\0\\\\12703.jpg',\n",
       " 'D:\\\\MNIST Dataset JPG format\\\\MNIST - JPG - training\\\\0\\\\12716.jpg',\n",
       " 'D:\\\\MNIST Dataset JPG format\\\\MNIST - JPG - training\\\\0\\\\12723.jpg',\n",
       " 'D:\\\\MNIST Dataset JPG format\\\\MNIST - JPG - training\\\\0\\\\12732.jpg',\n",
       " 'D:\\\\MNIST Dataset JPG format\\\\MNIST - JPG - training\\\\0\\\\12741.jpg',\n",
       " 'D:\\\\MNIST Dataset JPG format\\\\MNIST - JPG - training\\\\0\\\\12748.jpg',\n",
       " 'D:\\\\MNIST Dataset JPG format\\\\MNIST - JPG - training\\\\0\\\\12764.jpg',\n",
       " 'D:\\\\MNIST Dataset JPG format\\\\MNIST - JPG - training\\\\0\\\\12765.jpg',\n",
       " 'D:\\\\MNIST Dataset JPG format\\\\MNIST - JPG - training\\\\0\\\\12776.jpg',\n",
       " 'D:\\\\MNIST Dataset JPG format\\\\MNIST - JPG - training\\\\0\\\\12785.jpg',\n",
       " 'D:\\\\MNIST Dataset JPG format\\\\MNIST - JPG - training\\\\0\\\\12796.jpg',\n",
       " 'D:\\\\MNIST Dataset JPG format\\\\MNIST - JPG - training\\\\0\\\\12799.jpg',\n",
       " 'D:\\\\MNIST Dataset JPG format\\\\MNIST - JPG - training\\\\0\\\\12837.jpg',\n",
       " 'D:\\\\MNIST Dataset JPG format\\\\MNIST - JPG - training\\\\0\\\\12839.jpg',\n",
       " 'D:\\\\MNIST Dataset JPG format\\\\MNIST - JPG - training\\\\0\\\\12869.jpg',\n",
       " 'D:\\\\MNIST Dataset JPG format\\\\MNIST - JPG - training\\\\0\\\\12872.jpg',\n",
       " 'D:\\\\MNIST Dataset JPG format\\\\MNIST - JPG - training\\\\0\\\\12880.jpg',\n",
       " 'D:\\\\MNIST Dataset JPG format\\\\MNIST - JPG - training\\\\0\\\\12888.jpg',\n",
       " 'D:\\\\MNIST Dataset JPG format\\\\MNIST - JPG - training\\\\0\\\\12897.jpg',\n",
       " 'D:\\\\MNIST Dataset JPG format\\\\MNIST - JPG - training\\\\0\\\\12907.jpg',\n",
       " 'D:\\\\MNIST Dataset JPG format\\\\MNIST - JPG - training\\\\0\\\\12926.jpg',\n",
       " 'D:\\\\MNIST Dataset JPG format\\\\MNIST - JPG - training\\\\0\\\\12927.jpg',\n",
       " 'D:\\\\MNIST Dataset JPG format\\\\MNIST - JPG - training\\\\0\\\\12947.jpg',\n",
       " 'D:\\\\MNIST Dataset JPG format\\\\MNIST - JPG - training\\\\0\\\\12992.jpg',\n",
       " 'D:\\\\MNIST Dataset JPG format\\\\MNIST - JPG - training\\\\0\\\\13005.jpg',\n",
       " 'D:\\\\MNIST Dataset JPG format\\\\MNIST - JPG - training\\\\0\\\\13013.jpg',\n",
       " 'D:\\\\MNIST Dataset JPG format\\\\MNIST - JPG - training\\\\0\\\\13029.jpg',\n",
       " 'D:\\\\MNIST Dataset JPG format\\\\MNIST - JPG - training\\\\0\\\\13030.jpg',\n",
       " 'D:\\\\MNIST Dataset JPG format\\\\MNIST - JPG - training\\\\0\\\\13033.jpg',\n",
       " 'D:\\\\MNIST Dataset JPG format\\\\MNIST - JPG - training\\\\0\\\\1304.jpg',\n",
       " 'D:\\\\MNIST Dataset JPG format\\\\MNIST - JPG - training\\\\0\\\\13044.jpg',\n",
       " 'D:\\\\MNIST Dataset JPG format\\\\MNIST - JPG - training\\\\0\\\\13054.jpg',\n",
       " 'D:\\\\MNIST Dataset JPG format\\\\MNIST - JPG - training\\\\0\\\\13066.jpg',\n",
       " 'D:\\\\MNIST Dataset JPG format\\\\MNIST - JPG - training\\\\0\\\\13074.jpg',\n",
       " 'D:\\\\MNIST Dataset JPG format\\\\MNIST - JPG - training\\\\0\\\\13075.jpg',\n",
       " 'D:\\\\MNIST Dataset JPG format\\\\MNIST - JPG - training\\\\0\\\\13076.jpg',\n",
       " 'D:\\\\MNIST Dataset JPG format\\\\MNIST - JPG - training\\\\0\\\\13077.jpg',\n",
       " 'D:\\\\MNIST Dataset JPG format\\\\MNIST - JPG - training\\\\0\\\\13081.jpg',\n",
       " 'D:\\\\MNIST Dataset JPG format\\\\MNIST - JPG - training\\\\0\\\\13097.jpg',\n",
       " 'D:\\\\MNIST Dataset JPG format\\\\MNIST - JPG - training\\\\0\\\\13098.jpg',\n",
       " 'D:\\\\MNIST Dataset JPG format\\\\MNIST - JPG - training\\\\0\\\\1310.jpg',\n",
       " 'D:\\\\MNIST Dataset JPG format\\\\MNIST - JPG - training\\\\0\\\\13117.jpg',\n",
       " 'D:\\\\MNIST Dataset JPG format\\\\MNIST - JPG - training\\\\0\\\\13126.jpg',\n",
       " 'D:\\\\MNIST Dataset JPG format\\\\MNIST - JPG - training\\\\0\\\\13135.jpg',\n",
       " 'D:\\\\MNIST Dataset JPG format\\\\MNIST - JPG - training\\\\0\\\\13155.jpg',\n",
       " 'D:\\\\MNIST Dataset JPG format\\\\MNIST - JPG - training\\\\0\\\\13164.jpg',\n",
       " 'D:\\\\MNIST Dataset JPG format\\\\MNIST - JPG - training\\\\0\\\\13175.jpg',\n",
       " 'D:\\\\MNIST Dataset JPG format\\\\MNIST - JPG - training\\\\0\\\\13184.jpg',\n",
       " 'D:\\\\MNIST Dataset JPG format\\\\MNIST - JPG - training\\\\0\\\\13196.jpg',\n",
       " 'D:\\\\MNIST Dataset JPG format\\\\MNIST - JPG - training\\\\0\\\\13197.jpg',\n",
       " 'D:\\\\MNIST Dataset JPG format\\\\MNIST - JPG - training\\\\0\\\\13203.jpg',\n",
       " 'D:\\\\MNIST Dataset JPG format\\\\MNIST - JPG - training\\\\0\\\\13206.jpg',\n",
       " 'D:\\\\MNIST Dataset JPG format\\\\MNIST - JPG - training\\\\0\\\\13211.jpg',\n",
       " 'D:\\\\MNIST Dataset JPG format\\\\MNIST - JPG - training\\\\0\\\\13214.jpg',\n",
       " 'D:\\\\MNIST Dataset JPG format\\\\MNIST - JPG - training\\\\0\\\\13215.jpg',\n",
       " 'D:\\\\MNIST Dataset JPG format\\\\MNIST - JPG - training\\\\0\\\\13216.jpg',\n",
       " 'D:\\\\MNIST Dataset JPG format\\\\MNIST - JPG - training\\\\0\\\\13217.jpg',\n",
       " 'D:\\\\MNIST Dataset JPG format\\\\MNIST - JPG - training\\\\0\\\\13230.jpg',\n",
       " 'D:\\\\MNIST Dataset JPG format\\\\MNIST - JPG - training\\\\0\\\\13231.jpg',\n",
       " 'D:\\\\MNIST Dataset JPG format\\\\MNIST - JPG - training\\\\0\\\\13233.jpg',\n",
       " 'D:\\\\MNIST Dataset JPG format\\\\MNIST - JPG - training\\\\0\\\\13238.jpg',\n",
       " 'D:\\\\MNIST Dataset JPG format\\\\MNIST - JPG - training\\\\0\\\\13240.jpg',\n",
       " 'D:\\\\MNIST Dataset JPG format\\\\MNIST - JPG - training\\\\0\\\\13268.jpg',\n",
       " 'D:\\\\MNIST Dataset JPG format\\\\MNIST - JPG - training\\\\0\\\\13280.jpg',\n",
       " 'D:\\\\MNIST Dataset JPG format\\\\MNIST - JPG - training\\\\0\\\\13286.jpg',\n",
       " 'D:\\\\MNIST Dataset JPG format\\\\MNIST - JPG - training\\\\0\\\\13314.jpg',\n",
       " 'D:\\\\MNIST Dataset JPG format\\\\MNIST - JPG - training\\\\0\\\\13335.jpg',\n",
       " 'D:\\\\MNIST Dataset JPG format\\\\MNIST - JPG - training\\\\0\\\\13344.jpg',\n",
       " 'D:\\\\MNIST Dataset JPG format\\\\MNIST - JPG - training\\\\0\\\\13347.jpg',\n",
       " 'D:\\\\MNIST Dataset JPG format\\\\MNIST - JPG - training\\\\0\\\\13366.jpg',\n",
       " 'D:\\\\MNIST Dataset JPG format\\\\MNIST - JPG - training\\\\0\\\\13371.jpg',\n",
       " 'D:\\\\MNIST Dataset JPG format\\\\MNIST - JPG - training\\\\0\\\\13377.jpg',\n",
       " 'D:\\\\MNIST Dataset JPG format\\\\MNIST - JPG - training\\\\0\\\\13397.jpg',\n",
       " 'D:\\\\MNIST Dataset JPG format\\\\MNIST - JPG - training\\\\0\\\\13408.jpg',\n",
       " 'D:\\\\MNIST Dataset JPG format\\\\MNIST - JPG - training\\\\0\\\\13411.jpg',\n",
       " 'D:\\\\MNIST Dataset JPG format\\\\MNIST - JPG - training\\\\0\\\\13450.jpg',\n",
       " 'D:\\\\MNIST Dataset JPG format\\\\MNIST - JPG - training\\\\0\\\\13454.jpg',\n",
       " 'D:\\\\MNIST Dataset JPG format\\\\MNIST - JPG - training\\\\0\\\\13459.jpg',\n",
       " 'D:\\\\MNIST Dataset JPG format\\\\MNIST - JPG - training\\\\0\\\\1346.jpg',\n",
       " 'D:\\\\MNIST Dataset JPG format\\\\MNIST - JPG - training\\\\0\\\\13464.jpg',\n",
       " 'D:\\\\MNIST Dataset JPG format\\\\MNIST - JPG - training\\\\0\\\\13467.jpg',\n",
       " 'D:\\\\MNIST Dataset JPG format\\\\MNIST - JPG - training\\\\0\\\\13483.jpg',\n",
       " 'D:\\\\MNIST Dataset JPG format\\\\MNIST - JPG - training\\\\0\\\\1349.jpg',\n",
       " 'D:\\\\MNIST Dataset JPG format\\\\MNIST - JPG - training\\\\0\\\\13492.jpg',\n",
       " 'D:\\\\MNIST Dataset JPG format\\\\MNIST - JPG - training\\\\0\\\\13497.jpg',\n",
       " 'D:\\\\MNIST Dataset JPG format\\\\MNIST - JPG - training\\\\0\\\\13521.jpg',\n",
       " 'D:\\\\MNIST Dataset JPG format\\\\MNIST - JPG - training\\\\0\\\\13528.jpg',\n",
       " 'D:\\\\MNIST Dataset JPG format\\\\MNIST - JPG - training\\\\0\\\\13544.jpg',\n",
       " 'D:\\\\MNIST Dataset JPG format\\\\MNIST - JPG - training\\\\0\\\\13545.jpg',\n",
       " 'D:\\\\MNIST Dataset JPG format\\\\MNIST - JPG - training\\\\0\\\\13547.jpg',\n",
       " 'D:\\\\MNIST Dataset JPG format\\\\MNIST - JPG - training\\\\0\\\\13582.jpg',\n",
       " 'D:\\\\MNIST Dataset JPG format\\\\MNIST - JPG - training\\\\0\\\\13583.jpg',\n",
       " 'D:\\\\MNIST Dataset JPG format\\\\MNIST - JPG - training\\\\0\\\\13589.jpg',\n",
       " 'D:\\\\MNIST Dataset JPG format\\\\MNIST - JPG - training\\\\0\\\\1359.jpg',\n",
       " 'D:\\\\MNIST Dataset JPG format\\\\MNIST - JPG - training\\\\0\\\\13609.jpg',\n",
       " 'D:\\\\MNIST Dataset JPG format\\\\MNIST - JPG - training\\\\0\\\\13623.jpg',\n",
       " 'D:\\\\MNIST Dataset JPG format\\\\MNIST - JPG - training\\\\0\\\\1363.jpg',\n",
       " 'D:\\\\MNIST Dataset JPG format\\\\MNIST - JPG - training\\\\0\\\\13641.jpg',\n",
       " 'D:\\\\MNIST Dataset JPG format\\\\MNIST - JPG - training\\\\0\\\\1367.jpg',\n",
       " 'D:\\\\MNIST Dataset JPG format\\\\MNIST - JPG - training\\\\0\\\\1368.jpg',\n",
       " 'D:\\\\MNIST Dataset JPG format\\\\MNIST - JPG - training\\\\0\\\\13685.jpg',\n",
       " 'D:\\\\MNIST Dataset JPG format\\\\MNIST - JPG - training\\\\0\\\\1371.jpg',\n",
       " 'D:\\\\MNIST Dataset JPG format\\\\MNIST - JPG - training\\\\0\\\\13719.jpg',\n",
       " 'D:\\\\MNIST Dataset JPG format\\\\MNIST - JPG - training\\\\0\\\\1372.jpg',\n",
       " 'D:\\\\MNIST Dataset JPG format\\\\MNIST - JPG - training\\\\0\\\\13726.jpg',\n",
       " 'D:\\\\MNIST Dataset JPG format\\\\MNIST - JPG - training\\\\0\\\\13729.jpg',\n",
       " 'D:\\\\MNIST Dataset JPG format\\\\MNIST - JPG - training\\\\0\\\\13730.jpg',\n",
       " 'D:\\\\MNIST Dataset JPG format\\\\MNIST - JPG - training\\\\0\\\\13734.jpg',\n",
       " 'D:\\\\MNIST Dataset JPG format\\\\MNIST - JPG - training\\\\0\\\\13738.jpg',\n",
       " 'D:\\\\MNIST Dataset JPG format\\\\MNIST - JPG - training\\\\0\\\\13751.jpg',\n",
       " 'D:\\\\MNIST Dataset JPG format\\\\MNIST - JPG - training\\\\0\\\\13764.jpg',\n",
       " 'D:\\\\MNIST Dataset JPG format\\\\MNIST - JPG - training\\\\0\\\\13769.jpg',\n",
       " 'D:\\\\MNIST Dataset JPG format\\\\MNIST - JPG - training\\\\0\\\\1377.jpg',\n",
       " 'D:\\\\MNIST Dataset JPG format\\\\MNIST - JPG - training\\\\0\\\\13777.jpg',\n",
       " 'D:\\\\MNIST Dataset JPG format\\\\MNIST - JPG - training\\\\0\\\\13779.jpg',\n",
       " 'D:\\\\MNIST Dataset JPG format\\\\MNIST - JPG - training\\\\0\\\\13798.jpg',\n",
       " 'D:\\\\MNIST Dataset JPG format\\\\MNIST - JPG - training\\\\0\\\\13799.jpg',\n",
       " 'D:\\\\MNIST Dataset JPG format\\\\MNIST - JPG - training\\\\0\\\\13807.jpg',\n",
       " 'D:\\\\MNIST Dataset JPG format\\\\MNIST - JPG - training\\\\0\\\\13808.jpg',\n",
       " 'D:\\\\MNIST Dataset JPG format\\\\MNIST - JPG - training\\\\0\\\\13816.jpg',\n",
       " 'D:\\\\MNIST Dataset JPG format\\\\MNIST - JPG - training\\\\0\\\\13822.jpg',\n",
       " 'D:\\\\MNIST Dataset JPG format\\\\MNIST - JPG - training\\\\0\\\\13826.jpg',\n",
       " 'D:\\\\MNIST Dataset JPG format\\\\MNIST - JPG - training\\\\0\\\\13830.jpg',\n",
       " 'D:\\\\MNIST Dataset JPG format\\\\MNIST - JPG - training\\\\0\\\\13833.jpg',\n",
       " 'D:\\\\MNIST Dataset JPG format\\\\MNIST - JPG - training\\\\0\\\\13853.jpg',\n",
       " 'D:\\\\MNIST Dataset JPG format\\\\MNIST - JPG - training\\\\0\\\\13854.jpg',\n",
       " 'D:\\\\MNIST Dataset JPG format\\\\MNIST - JPG - training\\\\0\\\\1386.jpg',\n",
       " 'D:\\\\MNIST Dataset JPG format\\\\MNIST - JPG - training\\\\0\\\\1387.jpg',\n",
       " 'D:\\\\MNIST Dataset JPG format\\\\MNIST - JPG - training\\\\0\\\\13872.jpg',\n",
       " 'D:\\\\MNIST Dataset JPG format\\\\MNIST - JPG - training\\\\0\\\\13873.jpg',\n",
       " 'D:\\\\MNIST Dataset JPG format\\\\MNIST - JPG - training\\\\0\\\\13874.jpg',\n",
       " 'D:\\\\MNIST Dataset JPG format\\\\MNIST - JPG - training\\\\0\\\\13880.jpg',\n",
       " 'D:\\\\MNIST Dataset JPG format\\\\MNIST - JPG - training\\\\0\\\\13889.jpg',\n",
       " 'D:\\\\MNIST Dataset JPG format\\\\MNIST - JPG - training\\\\0\\\\13896.jpg',\n",
       " 'D:\\\\MNIST Dataset JPG format\\\\MNIST - JPG - training\\\\0\\\\13911.jpg',\n",
       " 'D:\\\\MNIST Dataset JPG format\\\\MNIST - JPG - training\\\\0\\\\13913.jpg',\n",
       " 'D:\\\\MNIST Dataset JPG format\\\\MNIST - JPG - training\\\\0\\\\13916.jpg',\n",
       " 'D:\\\\MNIST Dataset JPG format\\\\MNIST - JPG - training\\\\0\\\\13918.jpg',\n",
       " 'D:\\\\MNIST Dataset JPG format\\\\MNIST - JPG - training\\\\0\\\\13921.jpg',\n",
       " 'D:\\\\MNIST Dataset JPG format\\\\MNIST - JPG - training\\\\0\\\\13926.jpg',\n",
       " 'D:\\\\MNIST Dataset JPG format\\\\MNIST - JPG - training\\\\0\\\\13955.jpg',\n",
       " 'D:\\\\MNIST Dataset JPG format\\\\MNIST - JPG - training\\\\0\\\\13962.jpg',\n",
       " 'D:\\\\MNIST Dataset JPG format\\\\MNIST - JPG - training\\\\0\\\\13989.jpg',\n",
       " 'D:\\\\MNIST Dataset JPG format\\\\MNIST - JPG - training\\\\0\\\\14012.jpg',\n",
       " 'D:\\\\MNIST Dataset JPG format\\\\MNIST - JPG - training\\\\0\\\\14019.jpg',\n",
       " 'D:\\\\MNIST Dataset JPG format\\\\MNIST - JPG - training\\\\0\\\\1403.jpg',\n",
       " 'D:\\\\MNIST Dataset JPG format\\\\MNIST - JPG - training\\\\0\\\\14034.jpg',\n",
       " 'D:\\\\MNIST Dataset JPG format\\\\MNIST - JPG - training\\\\0\\\\14039.jpg',\n",
       " 'D:\\\\MNIST Dataset JPG format\\\\MNIST - JPG - training\\\\0\\\\14052.jpg',\n",
       " 'D:\\\\MNIST Dataset JPG format\\\\MNIST - JPG - training\\\\0\\\\14059.jpg',\n",
       " 'D:\\\\MNIST Dataset JPG format\\\\MNIST - JPG - training\\\\0\\\\14089.jpg',\n",
       " 'D:\\\\MNIST Dataset JPG format\\\\MNIST - JPG - training\\\\0\\\\14092.jpg',\n",
       " 'D:\\\\MNIST Dataset JPG format\\\\MNIST - JPG - training\\\\0\\\\14097.jpg',\n",
       " 'D:\\\\MNIST Dataset JPG format\\\\MNIST - JPG - training\\\\0\\\\14102.jpg',\n",
       " 'D:\\\\MNIST Dataset JPG format\\\\MNIST - JPG - training\\\\0\\\\14110.jpg',\n",
       " 'D:\\\\MNIST Dataset JPG format\\\\MNIST - JPG - training\\\\0\\\\14131.jpg',\n",
       " 'D:\\\\MNIST Dataset JPG format\\\\MNIST - JPG - training\\\\0\\\\14137.jpg',\n",
       " 'D:\\\\MNIST Dataset JPG format\\\\MNIST - JPG - training\\\\0\\\\14148.jpg',\n",
       " 'D:\\\\MNIST Dataset JPG format\\\\MNIST - JPG - training\\\\0\\\\14153.jpg',\n",
       " 'D:\\\\MNIST Dataset JPG format\\\\MNIST - JPG - training\\\\0\\\\14157.jpg',\n",
       " 'D:\\\\MNIST Dataset JPG format\\\\MNIST - JPG - training\\\\0\\\\14158.jpg',\n",
       " 'D:\\\\MNIST Dataset JPG format\\\\MNIST - JPG - training\\\\0\\\\14160.jpg',\n",
       " 'D:\\\\MNIST Dataset JPG format\\\\MNIST - JPG - training\\\\0\\\\14161.jpg',\n",
       " 'D:\\\\MNIST Dataset JPG format\\\\MNIST - JPG - training\\\\0\\\\14165.jpg',\n",
       " 'D:\\\\MNIST Dataset JPG format\\\\MNIST - JPG - training\\\\0\\\\14179.jpg',\n",
       " 'D:\\\\MNIST Dataset JPG format\\\\MNIST - JPG - training\\\\0\\\\14202.jpg',\n",
       " 'D:\\\\MNIST Dataset JPG format\\\\MNIST - JPG - training\\\\0\\\\14229.jpg',\n",
       " 'D:\\\\MNIST Dataset JPG format\\\\MNIST - JPG - training\\\\0\\\\1423.jpg',\n",
       " 'D:\\\\MNIST Dataset JPG format\\\\MNIST - JPG - training\\\\0\\\\14258.jpg',\n",
       " 'D:\\\\MNIST Dataset JPG format\\\\MNIST - JPG - training\\\\0\\\\14269.jpg',\n",
       " 'D:\\\\MNIST Dataset JPG format\\\\MNIST - JPG - training\\\\0\\\\14276.jpg',\n",
       " 'D:\\\\MNIST Dataset JPG format\\\\MNIST - JPG - training\\\\0\\\\14278.jpg',\n",
       " 'D:\\\\MNIST Dataset JPG format\\\\MNIST - JPG - training\\\\0\\\\14282.jpg',\n",
       " 'D:\\\\MNIST Dataset JPG format\\\\MNIST - JPG - training\\\\0\\\\14291.jpg',\n",
       " 'D:\\\\MNIST Dataset JPG format\\\\MNIST - JPG - training\\\\0\\\\14311.jpg',\n",
       " 'D:\\\\MNIST Dataset JPG format\\\\MNIST - JPG - training\\\\0\\\\14319.jpg',\n",
       " 'D:\\\\MNIST Dataset JPG format\\\\MNIST - JPG - training\\\\0\\\\14323.jpg',\n",
       " 'D:\\\\MNIST Dataset JPG format\\\\MNIST - JPG - training\\\\0\\\\14325.jpg',\n",
       " 'D:\\\\MNIST Dataset JPG format\\\\MNIST - JPG - training\\\\0\\\\14329.jpg',\n",
       " 'D:\\\\MNIST Dataset JPG format\\\\MNIST - JPG - training\\\\0\\\\14334.jpg',\n",
       " 'D:\\\\MNIST Dataset JPG format\\\\MNIST - JPG - training\\\\0\\\\14356.jpg',\n",
       " 'D:\\\\MNIST Dataset JPG format\\\\MNIST - JPG - training\\\\0\\\\14384.jpg',\n",
       " 'D:\\\\MNIST Dataset JPG format\\\\MNIST - JPG - training\\\\0\\\\14393.jpg',\n",
       " 'D:\\\\MNIST Dataset JPG format\\\\MNIST - JPG - training\\\\0\\\\14402.jpg',\n",
       " 'D:\\\\MNIST Dataset JPG format\\\\MNIST - JPG - training\\\\0\\\\14412.jpg',\n",
       " 'D:\\\\MNIST Dataset JPG format\\\\MNIST - JPG - training\\\\0\\\\14419.jpg',\n",
       " 'D:\\\\MNIST Dataset JPG format\\\\MNIST - JPG - training\\\\0\\\\14425.jpg',\n",
       " 'D:\\\\MNIST Dataset JPG format\\\\MNIST - JPG - training\\\\0\\\\1443.jpg',\n",
       " 'D:\\\\MNIST Dataset JPG format\\\\MNIST - JPG - training\\\\0\\\\14430.jpg',\n",
       " 'D:\\\\MNIST Dataset JPG format\\\\MNIST - JPG - training\\\\0\\\\14445.jpg',\n",
       " 'D:\\\\MNIST Dataset JPG format\\\\MNIST - JPG - training\\\\0\\\\14461.jpg',\n",
       " 'D:\\\\MNIST Dataset JPG format\\\\MNIST - JPG - training\\\\0\\\\14472.jpg',\n",
       " 'D:\\\\MNIST Dataset JPG format\\\\MNIST - JPG - training\\\\0\\\\14481.jpg',\n",
       " 'D:\\\\MNIST Dataset JPG format\\\\MNIST - JPG - training\\\\0\\\\14491.jpg',\n",
       " 'D:\\\\MNIST Dataset JPG format\\\\MNIST - JPG - training\\\\0\\\\14511.jpg',\n",
       " 'D:\\\\MNIST Dataset JPG format\\\\MNIST - JPG - training\\\\0\\\\14513.jpg',\n",
       " 'D:\\\\MNIST Dataset JPG format\\\\MNIST - JPG - training\\\\0\\\\14518.jpg',\n",
       " 'D:\\\\MNIST Dataset JPG format\\\\MNIST - JPG - training\\\\0\\\\14530.jpg',\n",
       " 'D:\\\\MNIST Dataset JPG format\\\\MNIST - JPG - training\\\\0\\\\1454.jpg',\n",
       " 'D:\\\\MNIST Dataset JPG format\\\\MNIST - JPG - training\\\\0\\\\14545.jpg',\n",
       " 'D:\\\\MNIST Dataset JPG format\\\\MNIST - JPG - training\\\\0\\\\14557.jpg',\n",
       " 'D:\\\\MNIST Dataset JPG format\\\\MNIST - JPG - training\\\\0\\\\14559.jpg',\n",
       " 'D:\\\\MNIST Dataset JPG format\\\\MNIST - JPG - training\\\\0\\\\14564.jpg',\n",
       " 'D:\\\\MNIST Dataset JPG format\\\\MNIST - JPG - training\\\\0\\\\14574.jpg',\n",
       " 'D:\\\\MNIST Dataset JPG format\\\\MNIST - JPG - training\\\\0\\\\14589.jpg',\n",
       " 'D:\\\\MNIST Dataset JPG format\\\\MNIST - JPG - training\\\\0\\\\14613.jpg',\n",
       " 'D:\\\\MNIST Dataset JPG format\\\\MNIST - JPG - training\\\\0\\\\14629.jpg',\n",
       " 'D:\\\\MNIST Dataset JPG format\\\\MNIST - JPG - training\\\\0\\\\14644.jpg',\n",
       " 'D:\\\\MNIST Dataset JPG format\\\\MNIST - JPG - training\\\\0\\\\14649.jpg',\n",
       " 'D:\\\\MNIST Dataset JPG format\\\\MNIST - JPG - training\\\\0\\\\14668.jpg',\n",
       " 'D:\\\\MNIST Dataset JPG format\\\\MNIST - JPG - training\\\\0\\\\14675.jpg',\n",
       " 'D:\\\\MNIST Dataset JPG format\\\\MNIST - JPG - training\\\\0\\\\14693.jpg',\n",
       " 'D:\\\\MNIST Dataset JPG format\\\\MNIST - JPG - training\\\\0\\\\14705.jpg',\n",
       " 'D:\\\\MNIST Dataset JPG format\\\\MNIST - JPG - training\\\\0\\\\1471.jpg',\n",
       " 'D:\\\\MNIST Dataset JPG format\\\\MNIST - JPG - training\\\\0\\\\14712.jpg',\n",
       " 'D:\\\\MNIST Dataset JPG format\\\\MNIST - JPG - training\\\\0\\\\14717.jpg',\n",
       " 'D:\\\\MNIST Dataset JPG format\\\\MNIST - JPG - training\\\\0\\\\14722.jpg',\n",
       " 'D:\\\\MNIST Dataset JPG format\\\\MNIST - JPG - training\\\\0\\\\14723.jpg',\n",
       " 'D:\\\\MNIST Dataset JPG format\\\\MNIST - JPG - training\\\\0\\\\14729.jpg',\n",
       " 'D:\\\\MNIST Dataset JPG format\\\\MNIST - JPG - training\\\\0\\\\14746.jpg',\n",
       " 'D:\\\\MNIST Dataset JPG format\\\\MNIST - JPG - training\\\\0\\\\14749.jpg',\n",
       " 'D:\\\\MNIST Dataset JPG format\\\\MNIST - JPG - training\\\\0\\\\14752.jpg',\n",
       " 'D:\\\\MNIST Dataset JPG format\\\\MNIST - JPG - training\\\\0\\\\14773.jpg',\n",
       " 'D:\\\\MNIST Dataset JPG format\\\\MNIST - JPG - training\\\\0\\\\14775.jpg',\n",
       " 'D:\\\\MNIST Dataset JPG format\\\\MNIST - JPG - training\\\\0\\\\1479.jpg',\n",
       " 'D:\\\\MNIST Dataset JPG format\\\\MNIST - JPG - training\\\\0\\\\14817.jpg',\n",
       " 'D:\\\\MNIST Dataset JPG format\\\\MNIST - JPG - training\\\\0\\\\14820.jpg',\n",
       " 'D:\\\\MNIST Dataset JPG format\\\\MNIST - JPG - training\\\\0\\\\14840.jpg',\n",
       " 'D:\\\\MNIST Dataset JPG format\\\\MNIST - JPG - training\\\\0\\\\14857.jpg',\n",
       " 'D:\\\\MNIST Dataset JPG format\\\\MNIST - JPG - training\\\\0\\\\14877.jpg',\n",
       " 'D:\\\\MNIST Dataset JPG format\\\\MNIST - JPG - training\\\\0\\\\1489.jpg',\n",
       " 'D:\\\\MNIST Dataset JPG format\\\\MNIST - JPG - training\\\\0\\\\14890.jpg',\n",
       " 'D:\\\\MNIST Dataset JPG format\\\\MNIST - JPG - training\\\\0\\\\14897.jpg',\n",
       " 'D:\\\\MNIST Dataset JPG format\\\\MNIST - JPG - training\\\\0\\\\14919.jpg',\n",
       " 'D:\\\\MNIST Dataset JPG format\\\\MNIST - JPG - training\\\\0\\\\14937.jpg',\n",
       " 'D:\\\\MNIST Dataset JPG format\\\\MNIST - JPG - training\\\\0\\\\14944.jpg',\n",
       " 'D:\\\\MNIST Dataset JPG format\\\\MNIST - JPG - training\\\\0\\\\14949.jpg',\n",
       " 'D:\\\\MNIST Dataset JPG format\\\\MNIST - JPG - training\\\\0\\\\1495.jpg',\n",
       " 'D:\\\\MNIST Dataset JPG format\\\\MNIST - JPG - training\\\\0\\\\14959.jpg',\n",
       " 'D:\\\\MNIST Dataset JPG format\\\\MNIST - JPG - training\\\\0\\\\14965.jpg',\n",
       " 'D:\\\\MNIST Dataset JPG format\\\\MNIST - JPG - training\\\\0\\\\14971.jpg',\n",
       " 'D:\\\\MNIST Dataset JPG format\\\\MNIST - JPG - training\\\\0\\\\14991.jpg',\n",
       " 'D:\\\\MNIST Dataset JPG format\\\\MNIST - JPG - training\\\\0\\\\1501.jpg',\n",
       " 'D:\\\\MNIST Dataset JPG format\\\\MNIST - JPG - training\\\\0\\\\15015.jpg',\n",
       " 'D:\\\\MNIST Dataset JPG format\\\\MNIST - JPG - training\\\\0\\\\15017.jpg',\n",
       " 'D:\\\\MNIST Dataset JPG format\\\\MNIST - JPG - training\\\\0\\\\1502.jpg',\n",
       " 'D:\\\\MNIST Dataset JPG format\\\\MNIST - JPG - training\\\\0\\\\15028.jpg',\n",
       " 'D:\\\\MNIST Dataset JPG format\\\\MNIST - JPG - training\\\\0\\\\15042.jpg',\n",
       " 'D:\\\\MNIST Dataset JPG format\\\\MNIST - JPG - training\\\\0\\\\15046.jpg',\n",
       " 'D:\\\\MNIST Dataset JPG format\\\\MNIST - JPG - training\\\\0\\\\15060.jpg',\n",
       " 'D:\\\\MNIST Dataset JPG format\\\\MNIST - JPG - training\\\\0\\\\15064.jpg',\n",
       " 'D:\\\\MNIST Dataset JPG format\\\\MNIST - JPG - training\\\\0\\\\15065.jpg',\n",
       " 'D:\\\\MNIST Dataset JPG format\\\\MNIST - JPG - training\\\\0\\\\15103.jpg',\n",
       " 'D:\\\\MNIST Dataset JPG format\\\\MNIST - JPG - training\\\\0\\\\15108.jpg',\n",
       " 'D:\\\\MNIST Dataset JPG format\\\\MNIST - JPG - training\\\\0\\\\15119.jpg',\n",
       " 'D:\\\\MNIST Dataset JPG format\\\\MNIST - JPG - training\\\\0\\\\1512.jpg',\n",
       " 'D:\\\\MNIST Dataset JPG format\\\\MNIST - JPG - training\\\\0\\\\15120.jpg',\n",
       " 'D:\\\\MNIST Dataset JPG format\\\\MNIST - JPG - training\\\\0\\\\15130.jpg',\n",
       " 'D:\\\\MNIST Dataset JPG format\\\\MNIST - JPG - training\\\\0\\\\15133.jpg',\n",
       " 'D:\\\\MNIST Dataset JPG format\\\\MNIST - JPG - training\\\\0\\\\15142.jpg',\n",
       " 'D:\\\\MNIST Dataset JPG format\\\\MNIST - JPG - training\\\\0\\\\15150.jpg',\n",
       " 'D:\\\\MNIST Dataset JPG format\\\\MNIST - JPG - training\\\\0\\\\15156.jpg',\n",
       " 'D:\\\\MNIST Dataset JPG format\\\\MNIST - JPG - training\\\\0\\\\15160.jpg',\n",
       " 'D:\\\\MNIST Dataset JPG format\\\\MNIST - JPG - training\\\\0\\\\15169.jpg',\n",
       " 'D:\\\\MNIST Dataset JPG format\\\\MNIST - JPG - training\\\\0\\\\1517.jpg',\n",
       " 'D:\\\\MNIST Dataset JPG format\\\\MNIST - JPG - training\\\\0\\\\15189.jpg',\n",
       " 'D:\\\\MNIST Dataset JPG format\\\\MNIST - JPG - training\\\\0\\\\15191.jpg',\n",
       " 'D:\\\\MNIST Dataset JPG format\\\\MNIST - JPG - training\\\\0\\\\15198.jpg',\n",
       " 'D:\\\\MNIST Dataset JPG format\\\\MNIST - JPG - training\\\\0\\\\15208.jpg',\n",
       " 'D:\\\\MNIST Dataset JPG format\\\\MNIST - JPG - training\\\\0\\\\15237.jpg',\n",
       " 'D:\\\\MNIST Dataset JPG format\\\\MNIST - JPG - training\\\\0\\\\15242.jpg',\n",
       " 'D:\\\\MNIST Dataset JPG format\\\\MNIST - JPG - training\\\\0\\\\15249.jpg',\n",
       " 'D:\\\\MNIST Dataset JPG format\\\\MNIST - JPG - training\\\\0\\\\15275.jpg',\n",
       " 'D:\\\\MNIST Dataset JPG format\\\\MNIST - JPG - training\\\\0\\\\15288.jpg',\n",
       " 'D:\\\\MNIST Dataset JPG format\\\\MNIST - JPG - training\\\\0\\\\15291.jpg',\n",
       " 'D:\\\\MNIST Dataset JPG format\\\\MNIST - JPG - training\\\\0\\\\1530.jpg',\n",
       " 'D:\\\\MNIST Dataset JPG format\\\\MNIST - JPG - training\\\\0\\\\15311.jpg',\n",
       " 'D:\\\\MNIST Dataset JPG format\\\\MNIST - JPG - training\\\\0\\\\15318.jpg',\n",
       " 'D:\\\\MNIST Dataset JPG format\\\\MNIST - JPG - training\\\\0\\\\1532.jpg',\n",
       " 'D:\\\\MNIST Dataset JPG format\\\\MNIST - JPG - training\\\\0\\\\15325.jpg',\n",
       " 'D:\\\\MNIST Dataset JPG format\\\\MNIST - JPG - training\\\\0\\\\15329.jpg',\n",
       " 'D:\\\\MNIST Dataset JPG format\\\\MNIST - JPG - training\\\\0\\\\15330.jpg',\n",
       " 'D:\\\\MNIST Dataset JPG format\\\\MNIST - JPG - training\\\\0\\\\15344.jpg',\n",
       " 'D:\\\\MNIST Dataset JPG format\\\\MNIST - JPG - training\\\\0\\\\15382.jpg',\n",
       " 'D:\\\\MNIST Dataset JPG format\\\\MNIST - JPG - training\\\\0\\\\15383.jpg',\n",
       " 'D:\\\\MNIST Dataset JPG format\\\\MNIST - JPG - training\\\\0\\\\15399.jpg',\n",
       " 'D:\\\\MNIST Dataset JPG format\\\\MNIST - JPG - training\\\\0\\\\15407.jpg',\n",
       " 'D:\\\\MNIST Dataset JPG format\\\\MNIST - JPG - training\\\\0\\\\15442.jpg',\n",
       " 'D:\\\\MNIST Dataset JPG format\\\\MNIST - JPG - training\\\\0\\\\15445.jpg',\n",
       " 'D:\\\\MNIST Dataset JPG format\\\\MNIST - JPG - training\\\\0\\\\15454.jpg',\n",
       " 'D:\\\\MNIST Dataset JPG format\\\\MNIST - JPG - training\\\\0\\\\15471.jpg',\n",
       " 'D:\\\\MNIST Dataset JPG format\\\\MNIST - JPG - training\\\\0\\\\15480.jpg',\n",
       " 'D:\\\\MNIST Dataset JPG format\\\\MNIST - JPG - training\\\\0\\\\15491.jpg',\n",
       " 'D:\\\\MNIST Dataset JPG format\\\\MNIST - JPG - training\\\\0\\\\15492.jpg',\n",
       " 'D:\\\\MNIST Dataset JPG format\\\\MNIST - JPG - training\\\\0\\\\15504.jpg',\n",
       " 'D:\\\\MNIST Dataset JPG format\\\\MNIST - JPG - training\\\\0\\\\15505.jpg',\n",
       " 'D:\\\\MNIST Dataset JPG format\\\\MNIST - JPG - training\\\\0\\\\15508.jpg',\n",
       " 'D:\\\\MNIST Dataset JPG format\\\\MNIST - JPG - training\\\\0\\\\15516.jpg',\n",
       " 'D:\\\\MNIST Dataset JPG format\\\\MNIST - JPG - training\\\\0\\\\15520.jpg',\n",
       " 'D:\\\\MNIST Dataset JPG format\\\\MNIST - JPG - training\\\\0\\\\15524.jpg',\n",
       " 'D:\\\\MNIST Dataset JPG format\\\\MNIST - JPG - training\\\\0\\\\15530.jpg',\n",
       " 'D:\\\\MNIST Dataset JPG format\\\\MNIST - JPG - training\\\\0\\\\15542.jpg',\n",
       " 'D:\\\\MNIST Dataset JPG format\\\\MNIST - JPG - training\\\\0\\\\15559.jpg',\n",
       " 'D:\\\\MNIST Dataset JPG format\\\\MNIST - JPG - training\\\\0\\\\15564.jpg',\n",
       " 'D:\\\\MNIST Dataset JPG format\\\\MNIST - JPG - training\\\\0\\\\15566.jpg',\n",
       " 'D:\\\\MNIST Dataset JPG format\\\\MNIST - JPG - training\\\\0\\\\15567.jpg',\n",
       " 'D:\\\\MNIST Dataset JPG format\\\\MNIST - JPG - training\\\\0\\\\15580.jpg',\n",
       " 'D:\\\\MNIST Dataset JPG format\\\\MNIST - JPG - training\\\\0\\\\15581.jpg',\n",
       " 'D:\\\\MNIST Dataset JPG format\\\\MNIST - JPG - training\\\\0\\\\15582.jpg',\n",
       " 'D:\\\\MNIST Dataset JPG format\\\\MNIST - JPG - training\\\\0\\\\15583.jpg',\n",
       " 'D:\\\\MNIST Dataset JPG format\\\\MNIST - JPG - training\\\\0\\\\15590.jpg',\n",
       " 'D:\\\\MNIST Dataset JPG format\\\\MNIST - JPG - training\\\\0\\\\156.jpg',\n",
       " 'D:\\\\MNIST Dataset JPG format\\\\MNIST - JPG - training\\\\0\\\\15600.jpg',\n",
       " 'D:\\\\MNIST Dataset JPG format\\\\MNIST - JPG - training\\\\0\\\\15619.jpg',\n",
       " 'D:\\\\MNIST Dataset JPG format\\\\MNIST - JPG - training\\\\0\\\\15621.jpg',\n",
       " 'D:\\\\MNIST Dataset JPG format\\\\MNIST - JPG - training\\\\0\\\\15628.jpg',\n",
       " 'D:\\\\MNIST Dataset JPG format\\\\MNIST - JPG - training\\\\0\\\\15637.jpg',\n",
       " 'D:\\\\MNIST Dataset JPG format\\\\MNIST - JPG - training\\\\0\\\\15648.jpg',\n",
       " 'D:\\\\MNIST Dataset JPG format\\\\MNIST - JPG - training\\\\0\\\\15662.jpg',\n",
       " 'D:\\\\MNIST Dataset JPG format\\\\MNIST - JPG - training\\\\0\\\\15663.jpg',\n",
       " 'D:\\\\MNIST Dataset JPG format\\\\MNIST - JPG - training\\\\0\\\\15675.jpg',\n",
       " 'D:\\\\MNIST Dataset JPG format\\\\MNIST - JPG - training\\\\0\\\\15692.jpg',\n",
       " 'D:\\\\MNIST Dataset JPG format\\\\MNIST - JPG - training\\\\0\\\\15694.jpg',\n",
       " 'D:\\\\MNIST Dataset JPG format\\\\MNIST - JPG - training\\\\0\\\\15695.jpg',\n",
       " 'D:\\\\MNIST Dataset JPG format\\\\MNIST - JPG - training\\\\0\\\\15700.jpg',\n",
       " 'D:\\\\MNIST Dataset JPG format\\\\MNIST - JPG - training\\\\0\\\\15704.jpg',\n",
       " 'D:\\\\MNIST Dataset JPG format\\\\MNIST - JPG - training\\\\0\\\\1571.jpg',\n",
       " 'D:\\\\MNIST Dataset JPG format\\\\MNIST - JPG - training\\\\0\\\\15711.jpg',\n",
       " 'D:\\\\MNIST Dataset JPG format\\\\MNIST - JPG - training\\\\0\\\\15734.jpg',\n",
       " 'D:\\\\MNIST Dataset JPG format\\\\MNIST - JPG - training\\\\0\\\\15753.jpg',\n",
       " 'D:\\\\MNIST Dataset JPG format\\\\MNIST - JPG - training\\\\0\\\\15759.jpg',\n",
       " 'D:\\\\MNIST Dataset JPG format\\\\MNIST - JPG - training\\\\0\\\\15761.jpg',\n",
       " 'D:\\\\MNIST Dataset JPG format\\\\MNIST - JPG - training\\\\0\\\\15765.jpg',\n",
       " 'D:\\\\MNIST Dataset JPG format\\\\MNIST - JPG - training\\\\0\\\\15770.jpg',\n",
       " 'D:\\\\MNIST Dataset JPG format\\\\MNIST - JPG - training\\\\0\\\\15777.jpg',\n",
       " 'D:\\\\MNIST Dataset JPG format\\\\MNIST - JPG - training\\\\0\\\\15779.jpg',\n",
       " 'D:\\\\MNIST Dataset JPG format\\\\MNIST - JPG - training\\\\0\\\\1578.jpg',\n",
       " 'D:\\\\MNIST Dataset JPG format\\\\MNIST - JPG - training\\\\0\\\\15795.jpg',\n",
       " 'D:\\\\MNIST Dataset JPG format\\\\MNIST - JPG - training\\\\0\\\\15798.jpg',\n",
       " 'D:\\\\MNIST Dataset JPG format\\\\MNIST - JPG - training\\\\0\\\\15814.jpg',\n",
       " 'D:\\\\MNIST Dataset JPG format\\\\MNIST - JPG - training\\\\0\\\\15825.jpg',\n",
       " 'D:\\\\MNIST Dataset JPG format\\\\MNIST - JPG - training\\\\0\\\\15828.jpg',\n",
       " 'D:\\\\MNIST Dataset JPG format\\\\MNIST - JPG - training\\\\0\\\\15854.jpg',\n",
       " 'D:\\\\MNIST Dataset JPG format\\\\MNIST - JPG - training\\\\0\\\\15863.jpg',\n",
       " 'D:\\\\MNIST Dataset JPG format\\\\MNIST - JPG - training\\\\0\\\\15864.jpg',\n",
       " 'D:\\\\MNIST Dataset JPG format\\\\MNIST - JPG - training\\\\0\\\\15868.jpg',\n",
       " 'D:\\\\MNIST Dataset JPG format\\\\MNIST - JPG - training\\\\0\\\\15882.jpg',\n",
       " 'D:\\\\MNIST Dataset JPG format\\\\MNIST - JPG - training\\\\0\\\\15883.jpg',\n",
       " 'D:\\\\MNIST Dataset JPG format\\\\MNIST - JPG - training\\\\0\\\\15890.jpg',\n",
       " 'D:\\\\MNIST Dataset JPG format\\\\MNIST - JPG - training\\\\0\\\\1590.jpg',\n",
       " 'D:\\\\MNIST Dataset JPG format\\\\MNIST - JPG - training\\\\0\\\\15901.jpg',\n",
       " 'D:\\\\MNIST Dataset JPG format\\\\MNIST - JPG - training\\\\0\\\\15904.jpg',\n",
       " 'D:\\\\MNIST Dataset JPG format\\\\MNIST - JPG - training\\\\0\\\\15910.jpg',\n",
       " 'D:\\\\MNIST Dataset JPG format\\\\MNIST - JPG - training\\\\0\\\\15926.jpg',\n",
       " 'D:\\\\MNIST Dataset JPG format\\\\MNIST - JPG - training\\\\0\\\\15928.jpg',\n",
       " 'D:\\\\MNIST Dataset JPG format\\\\MNIST - JPG - training\\\\0\\\\15934.jpg',\n",
       " 'D:\\\\MNIST Dataset JPG format\\\\MNIST - JPG - training\\\\0\\\\15946.jpg',\n",
       " 'D:\\\\MNIST Dataset JPG format\\\\MNIST - JPG - training\\\\0\\\\15955.jpg',\n",
       " 'D:\\\\MNIST Dataset JPG format\\\\MNIST - JPG - training\\\\0\\\\1596.jpg',\n",
       " 'D:\\\\MNIST Dataset JPG format\\\\MNIST - JPG - training\\\\0\\\\15965.jpg',\n",
       " 'D:\\\\MNIST Dataset JPG format\\\\MNIST - JPG - training\\\\0\\\\15971.jpg',\n",
       " 'D:\\\\MNIST Dataset JPG format\\\\MNIST - JPG - training\\\\0\\\\15992.jpg',\n",
       " 'D:\\\\MNIST Dataset JPG format\\\\MNIST - JPG - training\\\\0\\\\15993.jpg',\n",
       " 'D:\\\\MNIST Dataset JPG format\\\\MNIST - JPG - training\\\\0\\\\1600.jpg',\n",
       " 'D:\\\\MNIST Dataset JPG format\\\\MNIST - JPG - training\\\\0\\\\16031.jpg',\n",
       " 'D:\\\\MNIST Dataset JPG format\\\\MNIST - JPG - training\\\\0\\\\16043.jpg',\n",
       " 'D:\\\\MNIST Dataset JPG format\\\\MNIST - JPG - training\\\\0\\\\16045.jpg',\n",
       " 'D:\\\\MNIST Dataset JPG format\\\\MNIST - JPG - training\\\\0\\\\1605.jpg',\n",
       " 'D:\\\\MNIST Dataset JPG format\\\\MNIST - JPG - training\\\\0\\\\1606.jpg',\n",
       " 'D:\\\\MNIST Dataset JPG format\\\\MNIST - JPG - training\\\\0\\\\16081.jpg',\n",
       " 'D:\\\\MNIST Dataset JPG format\\\\MNIST - JPG - training\\\\0\\\\16083.jpg',\n",
       " 'D:\\\\MNIST Dataset JPG format\\\\MNIST - JPG - training\\\\0\\\\16085.jpg',\n",
       " 'D:\\\\MNIST Dataset JPG format\\\\MNIST - JPG - training\\\\0\\\\16105.jpg',\n",
       " 'D:\\\\MNIST Dataset JPG format\\\\MNIST - JPG - training\\\\0\\\\16119.jpg',\n",
       " 'D:\\\\MNIST Dataset JPG format\\\\MNIST - JPG - training\\\\0\\\\16122.jpg',\n",
       " 'D:\\\\MNIST Dataset JPG format\\\\MNIST - JPG - training\\\\0\\\\16136.jpg',\n",
       " 'D:\\\\MNIST Dataset JPG format\\\\MNIST - JPG - training\\\\0\\\\16139.jpg',\n",
       " 'D:\\\\MNIST Dataset JPG format\\\\MNIST - JPG - training\\\\0\\\\16144.jpg',\n",
       " 'D:\\\\MNIST Dataset JPG format\\\\MNIST - JPG - training\\\\0\\\\16151.jpg',\n",
       " 'D:\\\\MNIST Dataset JPG format\\\\MNIST - JPG - training\\\\0\\\\16163.jpg',\n",
       " 'D:\\\\MNIST Dataset JPG format\\\\MNIST - JPG - training\\\\0\\\\16178.jpg',\n",
       " 'D:\\\\MNIST Dataset JPG format\\\\MNIST - JPG - training\\\\0\\\\16192.jpg',\n",
       " 'D:\\\\MNIST Dataset JPG format\\\\MNIST - JPG - training\\\\0\\\\16202.jpg',\n",
       " 'D:\\\\MNIST Dataset JPG format\\\\MNIST - JPG - training\\\\0\\\\16217.jpg',\n",
       " 'D:\\\\MNIST Dataset JPG format\\\\MNIST - JPG - training\\\\0\\\\16221.jpg',\n",
       " 'D:\\\\MNIST Dataset JPG format\\\\MNIST - JPG - training\\\\0\\\\16227.jpg',\n",
       " 'D:\\\\MNIST Dataset JPG format\\\\MNIST - JPG - training\\\\0\\\\16238.jpg',\n",
       " 'D:\\\\MNIST Dataset JPG format\\\\MNIST - JPG - training\\\\0\\\\16244.jpg',\n",
       " 'D:\\\\MNIST Dataset JPG format\\\\MNIST - JPG - training\\\\0\\\\1625.jpg',\n",
       " 'D:\\\\MNIST Dataset JPG format\\\\MNIST - JPG - training\\\\0\\\\1626.jpg',\n",
       " 'D:\\\\MNIST Dataset JPG format\\\\MNIST - JPG - training\\\\0\\\\16285.jpg',\n",
       " 'D:\\\\MNIST Dataset JPG format\\\\MNIST - JPG - training\\\\0\\\\16286.jpg',\n",
       " 'D:\\\\MNIST Dataset JPG format\\\\MNIST - JPG - training\\\\0\\\\16305.jpg',\n",
       " 'D:\\\\MNIST Dataset JPG format\\\\MNIST - JPG - training\\\\0\\\\16306.jpg',\n",
       " 'D:\\\\MNIST Dataset JPG format\\\\MNIST - JPG - training\\\\0\\\\16318.jpg',\n",
       " 'D:\\\\MNIST Dataset JPG format\\\\MNIST - JPG - training\\\\0\\\\16323.jpg',\n",
       " 'D:\\\\MNIST Dataset JPG format\\\\MNIST - JPG - training\\\\0\\\\16326.jpg',\n",
       " 'D:\\\\MNIST Dataset JPG format\\\\MNIST - JPG - training\\\\0\\\\16352.jpg',\n",
       " 'D:\\\\MNIST Dataset JPG format\\\\MNIST - JPG - training\\\\0\\\\16354.jpg',\n",
       " 'D:\\\\MNIST Dataset JPG format\\\\MNIST - JPG - training\\\\0\\\\16355.jpg',\n",
       " 'D:\\\\MNIST Dataset JPG format\\\\MNIST - JPG - training\\\\0\\\\16363.jpg',\n",
       " 'D:\\\\MNIST Dataset JPG format\\\\MNIST - JPG - training\\\\0\\\\16396.jpg',\n",
       " 'D:\\\\MNIST Dataset JPG format\\\\MNIST - JPG - training\\\\0\\\\16402.jpg',\n",
       " 'D:\\\\MNIST Dataset JPG format\\\\MNIST - JPG - training\\\\0\\\\16412.jpg',\n",
       " 'D:\\\\MNIST Dataset JPG format\\\\MNIST - JPG - training\\\\0\\\\16415.jpg',\n",
       " 'D:\\\\MNIST Dataset JPG format\\\\MNIST - JPG - training\\\\0\\\\16423.jpg',\n",
       " 'D:\\\\MNIST Dataset JPG format\\\\MNIST - JPG - training\\\\0\\\\16428.jpg',\n",
       " 'D:\\\\MNIST Dataset JPG format\\\\MNIST - JPG - training\\\\0\\\\16429.jpg',\n",
       " 'D:\\\\MNIST Dataset JPG format\\\\MNIST - JPG - training\\\\0\\\\16439.jpg',\n",
       " 'D:\\\\MNIST Dataset JPG format\\\\MNIST - JPG - training\\\\0\\\\1645.jpg',\n",
       " 'D:\\\\MNIST Dataset JPG format\\\\MNIST - JPG - training\\\\0\\\\16460.jpg',\n",
       " 'D:\\\\MNIST Dataset JPG format\\\\MNIST - JPG - training\\\\0\\\\16474.jpg',\n",
       " 'D:\\\\MNIST Dataset JPG format\\\\MNIST - JPG - training\\\\0\\\\16484.jpg',\n",
       " 'D:\\\\MNIST Dataset JPG format\\\\MNIST - JPG - training\\\\0\\\\16485.jpg',\n",
       " 'D:\\\\MNIST Dataset JPG format\\\\MNIST - JPG - training\\\\0\\\\16498.jpg',\n",
       " 'D:\\\\MNIST Dataset JPG format\\\\MNIST - JPG - training\\\\0\\\\16501.jpg',\n",
       " 'D:\\\\MNIST Dataset JPG format\\\\MNIST - JPG - training\\\\0\\\\16516.jpg',\n",
       " 'D:\\\\MNIST Dataset JPG format\\\\MNIST - JPG - training\\\\0\\\\16518.jpg',\n",
       " 'D:\\\\MNIST Dataset JPG format\\\\MNIST - JPG - training\\\\0\\\\16519.jpg',\n",
       " 'D:\\\\MNIST Dataset JPG format\\\\MNIST - JPG - training\\\\0\\\\16520.jpg',\n",
       " 'D:\\\\MNIST Dataset JPG format\\\\MNIST - JPG - training\\\\0\\\\16523.jpg',\n",
       " 'D:\\\\MNIST Dataset JPG format\\\\MNIST - JPG - training\\\\0\\\\16540.jpg',\n",
       " 'D:\\\\MNIST Dataset JPG format\\\\MNIST - JPG - training\\\\0\\\\16543.jpg',\n",
       " 'D:\\\\MNIST Dataset JPG format\\\\MNIST - JPG - training\\\\0\\\\16563.jpg',\n",
       " 'D:\\\\MNIST Dataset JPG format\\\\MNIST - JPG - training\\\\0\\\\16585.jpg',\n",
       " 'D:\\\\MNIST Dataset JPG format\\\\MNIST - JPG - training\\\\0\\\\16595.jpg',\n",
       " 'D:\\\\MNIST Dataset JPG format\\\\MNIST - JPG - training\\\\0\\\\16598.jpg',\n",
       " 'D:\\\\MNIST Dataset JPG format\\\\MNIST - JPG - training\\\\0\\\\16606.jpg',\n",
       " 'D:\\\\MNIST Dataset JPG format\\\\MNIST - JPG - training\\\\0\\\\16607.jpg',\n",
       " 'D:\\\\MNIST Dataset JPG format\\\\MNIST - JPG - training\\\\0\\\\16618.jpg',\n",
       " 'D:\\\\MNIST Dataset JPG format\\\\MNIST - JPG - training\\\\0\\\\16619.jpg',\n",
       " 'D:\\\\MNIST Dataset JPG format\\\\MNIST - JPG - training\\\\0\\\\16634.jpg',\n",
       " 'D:\\\\MNIST Dataset JPG format\\\\MNIST - JPG - training\\\\0\\\\1664.jpg',\n",
       " 'D:\\\\MNIST Dataset JPG format\\\\MNIST - JPG - training\\\\0\\\\16640.jpg',\n",
       " 'D:\\\\MNIST Dataset JPG format\\\\MNIST - JPG - training\\\\0\\\\16642.jpg',\n",
       " 'D:\\\\MNIST Dataset JPG format\\\\MNIST - JPG - training\\\\0\\\\16679.jpg',\n",
       " 'D:\\\\MNIST Dataset JPG format\\\\MNIST - JPG - training\\\\0\\\\16705.jpg',\n",
       " 'D:\\\\MNIST Dataset JPG format\\\\MNIST - JPG - training\\\\0\\\\16749.jpg',\n",
       " 'D:\\\\MNIST Dataset JPG format\\\\MNIST - JPG - training\\\\0\\\\16758.jpg',\n",
       " 'D:\\\\MNIST Dataset JPG format\\\\MNIST - JPG - training\\\\0\\\\16761.jpg',\n",
       " 'D:\\\\MNIST Dataset JPG format\\\\MNIST - JPG - training\\\\0\\\\16777.jpg',\n",
       " 'D:\\\\MNIST Dataset JPG format\\\\MNIST - JPG - training\\\\0\\\\1678.jpg',\n",
       " 'D:\\\\MNIST Dataset JPG format\\\\MNIST - JPG - training\\\\0\\\\16787.jpg',\n",
       " 'D:\\\\MNIST Dataset JPG format\\\\MNIST - JPG - training\\\\0\\\\16803.jpg',\n",
       " 'D:\\\\MNIST Dataset JPG format\\\\MNIST - JPG - training\\\\0\\\\16817.jpg',\n",
       " 'D:\\\\MNIST Dataset JPG format\\\\MNIST - JPG - training\\\\0\\\\1682.jpg',\n",
       " 'D:\\\\MNIST Dataset JPG format\\\\MNIST - JPG - training\\\\0\\\\16866.jpg',\n",
       " 'D:\\\\MNIST Dataset JPG format\\\\MNIST - JPG - training\\\\0\\\\16868.jpg',\n",
       " 'D:\\\\MNIST Dataset JPG format\\\\MNIST - JPG - training\\\\0\\\\16888.jpg',\n",
       " 'D:\\\\MNIST Dataset JPG format\\\\MNIST - JPG - training\\\\0\\\\169.jpg',\n",
       " 'D:\\\\MNIST Dataset JPG format\\\\MNIST - JPG - training\\\\0\\\\16903.jpg',\n",
       " 'D:\\\\MNIST Dataset JPG format\\\\MNIST - JPG - training\\\\0\\\\16905.jpg',\n",
       " 'D:\\\\MNIST Dataset JPG format\\\\MNIST - JPG - training\\\\0\\\\16921.jpg',\n",
       " 'D:\\\\MNIST Dataset JPG format\\\\MNIST - JPG - training\\\\0\\\\16928.jpg',\n",
       " 'D:\\\\MNIST Dataset JPG format\\\\MNIST - JPG - training\\\\0\\\\16941.jpg',\n",
       " 'D:\\\\MNIST Dataset JPG format\\\\MNIST - JPG - training\\\\0\\\\16961.jpg',\n",
       " 'D:\\\\MNIST Dataset JPG format\\\\MNIST - JPG - training\\\\0\\\\16975.jpg',\n",
       " 'D:\\\\MNIST Dataset JPG format\\\\MNIST - JPG - training\\\\0\\\\16987.jpg',\n",
       " 'D:\\\\MNIST Dataset JPG format\\\\MNIST - JPG - training\\\\0\\\\16997.jpg',\n",
       " 'D:\\\\MNIST Dataset JPG format\\\\MNIST - JPG - training\\\\0\\\\17003.jpg',\n",
       " 'D:\\\\MNIST Dataset JPG format\\\\MNIST - JPG - training\\\\0\\\\17009.jpg',\n",
       " 'D:\\\\MNIST Dataset JPG format\\\\MNIST - JPG - training\\\\0\\\\1701.jpg',\n",
       " 'D:\\\\MNIST Dataset JPG format\\\\MNIST - JPG - training\\\\0\\\\17025.jpg',\n",
       " 'D:\\\\MNIST Dataset JPG format\\\\MNIST - JPG - training\\\\0\\\\17048.jpg',\n",
       " 'D:\\\\MNIST Dataset JPG format\\\\MNIST - JPG - training\\\\0\\\\17049.jpg',\n",
       " 'D:\\\\MNIST Dataset JPG format\\\\MNIST - JPG - training\\\\0\\\\17050.jpg',\n",
       " 'D:\\\\MNIST Dataset JPG format\\\\MNIST - JPG - training\\\\0\\\\17051.jpg',\n",
       " 'D:\\\\MNIST Dataset JPG format\\\\MNIST - JPG - training\\\\0\\\\17064.jpg',\n",
       " 'D:\\\\MNIST Dataset JPG format\\\\MNIST - JPG - training\\\\0\\\\1709.jpg',\n",
       " 'D:\\\\MNIST Dataset JPG format\\\\MNIST - JPG - training\\\\0\\\\17095.jpg',\n",
       " 'D:\\\\MNIST Dataset JPG format\\\\MNIST - JPG - training\\\\0\\\\17106.jpg',\n",
       " 'D:\\\\MNIST Dataset JPG format\\\\MNIST - JPG - training\\\\0\\\\17108.jpg',\n",
       " 'D:\\\\MNIST Dataset JPG format\\\\MNIST - JPG - training\\\\0\\\\1712.jpg',\n",
       " 'D:\\\\MNIST Dataset JPG format\\\\MNIST - JPG - training\\\\0\\\\17122.jpg',\n",
       " 'D:\\\\MNIST Dataset JPG format\\\\MNIST - JPG - training\\\\0\\\\17124.jpg',\n",
       " 'D:\\\\MNIST Dataset JPG format\\\\MNIST - JPG - training\\\\0\\\\17133.jpg',\n",
       " 'D:\\\\MNIST Dataset JPG format\\\\MNIST - JPG - training\\\\0\\\\17134.jpg',\n",
       " 'D:\\\\MNIST Dataset JPG format\\\\MNIST - JPG - training\\\\0\\\\17149.jpg',\n",
       " 'D:\\\\MNIST Dataset JPG format\\\\MNIST - JPG - training\\\\0\\\\17169.jpg',\n",
       " 'D:\\\\MNIST Dataset JPG format\\\\MNIST - JPG - training\\\\0\\\\17187.jpg',\n",
       " 'D:\\\\MNIST Dataset JPG format\\\\MNIST - JPG - training\\\\0\\\\17200.jpg',\n",
       " 'D:\\\\MNIST Dataset JPG format\\\\MNIST - JPG - training\\\\0\\\\17210.jpg',\n",
       " 'D:\\\\MNIST Dataset JPG format\\\\MNIST - JPG - training\\\\0\\\\17214.jpg',\n",
       " 'D:\\\\MNIST Dataset JPG format\\\\MNIST - JPG - training\\\\0\\\\17223.jpg',\n",
       " 'D:\\\\MNIST Dataset JPG format\\\\MNIST - JPG - training\\\\0\\\\1723.jpg',\n",
       " 'D:\\\\MNIST Dataset JPG format\\\\MNIST - JPG - training\\\\0\\\\17236.jpg',\n",
       " 'D:\\\\MNIST Dataset JPG format\\\\MNIST - JPG - training\\\\0\\\\17245.jpg',\n",
       " 'D:\\\\MNIST Dataset JPG format\\\\MNIST - JPG - training\\\\0\\\\1725.jpg',\n",
       " 'D:\\\\MNIST Dataset JPG format\\\\MNIST - JPG - training\\\\0\\\\17285.jpg',\n",
       " 'D:\\\\MNIST Dataset JPG format\\\\MNIST - JPG - training\\\\0\\\\1729.jpg',\n",
       " 'D:\\\\MNIST Dataset JPG format\\\\MNIST - JPG - training\\\\0\\\\17293.jpg',\n",
       " 'D:\\\\MNIST Dataset JPG format\\\\MNIST - JPG - training\\\\0\\\\17304.jpg',\n",
       " 'D:\\\\MNIST Dataset JPG format\\\\MNIST - JPG - training\\\\0\\\\17314.jpg',\n",
       " 'D:\\\\MNIST Dataset JPG format\\\\MNIST - JPG - training\\\\0\\\\17322.jpg',\n",
       " 'D:\\\\MNIST Dataset JPG format\\\\MNIST - JPG - training\\\\0\\\\17327.jpg',\n",
       " 'D:\\\\MNIST Dataset JPG format\\\\MNIST - JPG - training\\\\0\\\\17334.jpg',\n",
       " 'D:\\\\MNIST Dataset JPG format\\\\MNIST - JPG - training\\\\0\\\\17335.jpg',\n",
       " 'D:\\\\MNIST Dataset JPG format\\\\MNIST - JPG - training\\\\0\\\\17349.jpg',\n",
       " 'D:\\\\MNIST Dataset JPG format\\\\MNIST - JPG - training\\\\0\\\\17360.jpg',\n",
       " 'D:\\\\MNIST Dataset JPG format\\\\MNIST - JPG - training\\\\0\\\\17365.jpg',\n",
       " 'D:\\\\MNIST Dataset JPG format\\\\MNIST - JPG - training\\\\0\\\\17376.jpg',\n",
       " 'D:\\\\MNIST Dataset JPG format\\\\MNIST - JPG - training\\\\0\\\\17379.jpg',\n",
       " 'D:\\\\MNIST Dataset JPG format\\\\MNIST - JPG - training\\\\0\\\\17381.jpg',\n",
       " 'D:\\\\MNIST Dataset JPG format\\\\MNIST - JPG - training\\\\0\\\\17392.jpg',\n",
       " 'D:\\\\MNIST Dataset JPG format\\\\MNIST - JPG - training\\\\0\\\\17411.jpg',\n",
       " 'D:\\\\MNIST Dataset JPG format\\\\MNIST - JPG - training\\\\0\\\\1742.jpg',\n",
       " 'D:\\\\MNIST Dataset JPG format\\\\MNIST - JPG - training\\\\0\\\\17449.jpg',\n",
       " 'D:\\\\MNIST Dataset JPG format\\\\MNIST - JPG - training\\\\0\\\\17452.jpg',\n",
       " 'D:\\\\MNIST Dataset JPG format\\\\MNIST - JPG - training\\\\0\\\\17454.jpg',\n",
       " 'D:\\\\MNIST Dataset JPG format\\\\MNIST - JPG - training\\\\0\\\\17458.jpg',\n",
       " 'D:\\\\MNIST Dataset JPG format\\\\MNIST - JPG - training\\\\0\\\\17462.jpg',\n",
       " 'D:\\\\MNIST Dataset JPG format\\\\MNIST - JPG - training\\\\0\\\\17466.jpg',\n",
       " 'D:\\\\MNIST Dataset JPG format\\\\MNIST - JPG - training\\\\0\\\\17476.jpg',\n",
       " 'D:\\\\MNIST Dataset JPG format\\\\MNIST - JPG - training\\\\0\\\\17479.jpg',\n",
       " 'D:\\\\MNIST Dataset JPG format\\\\MNIST - JPG - training\\\\0\\\\17485.jpg',\n",
       " 'D:\\\\MNIST Dataset JPG format\\\\MNIST - JPG - training\\\\0\\\\17503.jpg',\n",
       " 'D:\\\\MNIST Dataset JPG format\\\\MNIST - JPG - training\\\\0\\\\17508.jpg',\n",
       " 'D:\\\\MNIST Dataset JPG format\\\\MNIST - JPG - training\\\\0\\\\17518.jpg',\n",
       " 'D:\\\\MNIST Dataset JPG format\\\\MNIST - JPG - training\\\\0\\\\17519.jpg',\n",
       " 'D:\\\\MNIST Dataset JPG format\\\\MNIST - JPG - training\\\\0\\\\17534.jpg',\n",
       " 'D:\\\\MNIST Dataset JPG format\\\\MNIST - JPG - training\\\\0\\\\17535.jpg',\n",
       " 'D:\\\\MNIST Dataset JPG format\\\\MNIST - JPG - training\\\\0\\\\17539.jpg',\n",
       " 'D:\\\\MNIST Dataset JPG format\\\\MNIST - JPG - training\\\\0\\\\17549.jpg',\n",
       " 'D:\\\\MNIST Dataset JPG format\\\\MNIST - JPG - training\\\\0\\\\17581.jpg',\n",
       " 'D:\\\\MNIST Dataset JPG format\\\\MNIST - JPG - training\\\\0\\\\17585.jpg',\n",
       " 'D:\\\\MNIST Dataset JPG format\\\\MNIST - JPG - training\\\\0\\\\17603.jpg',\n",
       " 'D:\\\\MNIST Dataset JPG format\\\\MNIST - JPG - training\\\\0\\\\17606.jpg',\n",
       " 'D:\\\\MNIST Dataset JPG format\\\\MNIST - JPG - training\\\\0\\\\17611.jpg',\n",
       " 'D:\\\\MNIST Dataset JPG format\\\\MNIST - JPG - training\\\\0\\\\17620.jpg',\n",
       " 'D:\\\\MNIST Dataset JPG format\\\\MNIST - JPG - training\\\\0\\\\17625.jpg',\n",
       " 'D:\\\\MNIST Dataset JPG format\\\\MNIST - JPG - training\\\\0\\\\17648.jpg',\n",
       " 'D:\\\\MNIST Dataset JPG format\\\\MNIST - JPG - training\\\\0\\\\17655.jpg',\n",
       " 'D:\\\\MNIST Dataset JPG format\\\\MNIST - JPG - training\\\\0\\\\1769.jpg',\n",
       " 'D:\\\\MNIST Dataset JPG format\\\\MNIST - JPG - training\\\\0\\\\17693.jpg',\n",
       " 'D:\\\\MNIST Dataset JPG format\\\\MNIST - JPG - training\\\\0\\\\17709.jpg',\n",
       " 'D:\\\\MNIST Dataset JPG format\\\\MNIST - JPG - training\\\\0\\\\1771.jpg',\n",
       " 'D:\\\\MNIST Dataset JPG format\\\\MNIST - JPG - training\\\\0\\\\17725.jpg',\n",
       " 'D:\\\\MNIST Dataset JPG format\\\\MNIST - JPG - training\\\\0\\\\17726.jpg',\n",
       " 'D:\\\\MNIST Dataset JPG format\\\\MNIST - JPG - training\\\\0\\\\17738.jpg',\n",
       " 'D:\\\\MNIST Dataset JPG format\\\\MNIST - JPG - training\\\\0\\\\17741.jpg',\n",
       " 'D:\\\\MNIST Dataset JPG format\\\\MNIST - JPG - training\\\\0\\\\1775.jpg',\n",
       " 'D:\\\\MNIST Dataset JPG format\\\\MNIST - JPG - training\\\\0\\\\17755.jpg',\n",
       " 'D:\\\\MNIST Dataset JPG format\\\\MNIST - JPG - training\\\\0\\\\17761.jpg',\n",
       " 'D:\\\\MNIST Dataset JPG format\\\\MNIST - JPG - training\\\\0\\\\17770.jpg',\n",
       " 'D:\\\\MNIST Dataset JPG format\\\\MNIST - JPG - training\\\\0\\\\17779.jpg',\n",
       " 'D:\\\\MNIST Dataset JPG format\\\\MNIST - JPG - training\\\\0\\\\17797.jpg',\n",
       " 'D:\\\\MNIST Dataset JPG format\\\\MNIST - JPG - training\\\\0\\\\17828.jpg',\n",
       " 'D:\\\\MNIST Dataset JPG format\\\\MNIST - JPG - training\\\\0\\\\17838.jpg',\n",
       " 'D:\\\\MNIST Dataset JPG format\\\\MNIST - JPG - training\\\\0\\\\17871.jpg',\n",
       " 'D:\\\\MNIST Dataset JPG format\\\\MNIST - JPG - training\\\\0\\\\17877.jpg',\n",
       " 'D:\\\\MNIST Dataset JPG format\\\\MNIST - JPG - training\\\\0\\\\17881.jpg',\n",
       " 'D:\\\\MNIST Dataset JPG format\\\\MNIST - JPG - training\\\\0\\\\17905.jpg',\n",
       " 'D:\\\\MNIST Dataset JPG format\\\\MNIST - JPG - training\\\\0\\\\17923.jpg',\n",
       " 'D:\\\\MNIST Dataset JPG format\\\\MNIST - JPG - training\\\\0\\\\17930.jpg',\n",
       " 'D:\\\\MNIST Dataset JPG format\\\\MNIST - JPG - training\\\\0\\\\17932.jpg',\n",
       " 'D:\\\\MNIST Dataset JPG format\\\\MNIST - JPG - training\\\\0\\\\17941.jpg',\n",
       " 'D:\\\\MNIST Dataset JPG format\\\\MNIST - JPG - training\\\\0\\\\17956.jpg',\n",
       " 'D:\\\\MNIST Dataset JPG format\\\\MNIST - JPG - training\\\\0\\\\1796.jpg',\n",
       " 'D:\\\\MNIST Dataset JPG format\\\\MNIST - JPG - training\\\\0\\\\17968.jpg',\n",
       " 'D:\\\\MNIST Dataset JPG format\\\\MNIST - JPG - training\\\\0\\\\1797.jpg',\n",
       " 'D:\\\\MNIST Dataset JPG format\\\\MNIST - JPG - training\\\\0\\\\17977.jpg',\n",
       " 'D:\\\\MNIST Dataset JPG format\\\\MNIST - JPG - training\\\\0\\\\1798.jpg',\n",
       " 'D:\\\\MNIST Dataset JPG format\\\\MNIST - JPG - training\\\\0\\\\17987.jpg',\n",
       " 'D:\\\\MNIST Dataset JPG format\\\\MNIST - JPG - training\\\\0\\\\18022.jpg',\n",
       " 'D:\\\\MNIST Dataset JPG format\\\\MNIST - JPG - training\\\\0\\\\18028.jpg',\n",
       " 'D:\\\\MNIST Dataset JPG format\\\\MNIST - JPG - training\\\\0\\\\18029.jpg',\n",
       " 'D:\\\\MNIST Dataset JPG format\\\\MNIST - JPG - training\\\\0\\\\18042.jpg',\n",
       " 'D:\\\\MNIST Dataset JPG format\\\\MNIST - JPG - training\\\\0\\\\18055.jpg',\n",
       " 'D:\\\\MNIST Dataset JPG format\\\\MNIST - JPG - training\\\\0\\\\18064.jpg',\n",
       " 'D:\\\\MNIST Dataset JPG format\\\\MNIST - JPG - training\\\\0\\\\18073.jpg',\n",
       " 'D:\\\\MNIST Dataset JPG format\\\\MNIST - JPG - training\\\\0\\\\18093.jpg',\n",
       " 'D:\\\\MNIST Dataset JPG format\\\\MNIST - JPG - training\\\\0\\\\18102.jpg',\n",
       " 'D:\\\\MNIST Dataset JPG format\\\\MNIST - JPG - training\\\\0\\\\18112.jpg',\n",
       " 'D:\\\\MNIST Dataset JPG format\\\\MNIST - JPG - training\\\\0\\\\18113.jpg',\n",
       " 'D:\\\\MNIST Dataset JPG format\\\\MNIST - JPG - training\\\\0\\\\18124.jpg',\n",
       " 'D:\\\\MNIST Dataset JPG format\\\\MNIST - JPG - training\\\\0\\\\18132.jpg',\n",
       " 'D:\\\\MNIST Dataset JPG format\\\\MNIST - JPG - training\\\\0\\\\18137.jpg',\n",
       " 'D:\\\\MNIST Dataset JPG format\\\\MNIST - JPG - training\\\\0\\\\18159.jpg',\n",
       " 'D:\\\\MNIST Dataset JPG format\\\\MNIST - JPG - training\\\\0\\\\18171.jpg',\n",
       " 'D:\\\\MNIST Dataset JPG format\\\\MNIST - JPG - training\\\\0\\\\18178.jpg',\n",
       " 'D:\\\\MNIST Dataset JPG format\\\\MNIST - JPG - training\\\\0\\\\1819.jpg',\n",
       " 'D:\\\\MNIST Dataset JPG format\\\\MNIST - JPG - training\\\\0\\\\18208.jpg',\n",
       " 'D:\\\\MNIST Dataset JPG format\\\\MNIST - JPG - training\\\\0\\\\18212.jpg',\n",
       " 'D:\\\\MNIST Dataset JPG format\\\\MNIST - JPG - training\\\\0\\\\18219.jpg',\n",
       " 'D:\\\\MNIST Dataset JPG format\\\\MNIST - JPG - training\\\\0\\\\18222.jpg',\n",
       " 'D:\\\\MNIST Dataset JPG format\\\\MNIST - JPG - training\\\\0\\\\18232.jpg',\n",
       " 'D:\\\\MNIST Dataset JPG format\\\\MNIST - JPG - training\\\\0\\\\18247.jpg',\n",
       " 'D:\\\\MNIST Dataset JPG format\\\\MNIST - JPG - training\\\\0\\\\18253.jpg',\n",
       " 'D:\\\\MNIST Dataset JPG format\\\\MNIST - JPG - training\\\\0\\\\18263.jpg',\n",
       " 'D:\\\\MNIST Dataset JPG format\\\\MNIST - JPG - training\\\\0\\\\18273.jpg',\n",
       " 'D:\\\\MNIST Dataset JPG format\\\\MNIST - JPG - training\\\\0\\\\18278.jpg',\n",
       " 'D:\\\\MNIST Dataset JPG format\\\\MNIST - JPG - training\\\\0\\\\1828.jpg',\n",
       " 'D:\\\\MNIST Dataset JPG format\\\\MNIST - JPG - training\\\\0\\\\18284.jpg',\n",
       " 'D:\\\\MNIST Dataset JPG format\\\\MNIST - JPG - training\\\\0\\\\18295.jpg',\n",
       " 'D:\\\\MNIST Dataset JPG format\\\\MNIST - JPG - training\\\\0\\\\18301.jpg',\n",
       " 'D:\\\\MNIST Dataset JPG format\\\\MNIST - JPG - training\\\\0\\\\18319.jpg',\n",
       " 'D:\\\\MNIST Dataset JPG format\\\\MNIST - JPG - training\\\\0\\\\18324.jpg',\n",
       " 'D:\\\\MNIST Dataset JPG format\\\\MNIST - JPG - training\\\\0\\\\18337.jpg',\n",
       " 'D:\\\\MNIST Dataset JPG format\\\\MNIST - JPG - training\\\\0\\\\18357.jpg',\n",
       " 'D:\\\\MNIST Dataset JPG format\\\\MNIST - JPG - training\\\\0\\\\1837.jpg',\n",
       " 'D:\\\\MNIST Dataset JPG format\\\\MNIST - JPG - training\\\\0\\\\18371.jpg',\n",
       " 'D:\\\\MNIST Dataset JPG format\\\\MNIST - JPG - training\\\\0\\\\18412.jpg',\n",
       " 'D:\\\\MNIST Dataset JPG format\\\\MNIST - JPG - training\\\\0\\\\18424.jpg',\n",
       " 'D:\\\\MNIST Dataset JPG format\\\\MNIST - JPG - training\\\\0\\\\18425.jpg',\n",
       " 'D:\\\\MNIST Dataset JPG format\\\\MNIST - JPG - training\\\\0\\\\18443.jpg',\n",
       " 'D:\\\\MNIST Dataset JPG format\\\\MNIST - JPG - training\\\\0\\\\18461.jpg',\n",
       " 'D:\\\\MNIST Dataset JPG format\\\\MNIST - JPG - training\\\\0\\\\18462.jpg',\n",
       " 'D:\\\\MNIST Dataset JPG format\\\\MNIST - JPG - training\\\\0\\\\18464.jpg',\n",
       " 'D:\\\\MNIST Dataset JPG format\\\\MNIST - JPG - training\\\\0\\\\18471.jpg',\n",
       " 'D:\\\\MNIST Dataset JPG format\\\\MNIST - JPG - training\\\\0\\\\18486.jpg',\n",
       " 'D:\\\\MNIST Dataset JPG format\\\\MNIST - JPG - training\\\\0\\\\18505.jpg',\n",
       " 'D:\\\\MNIST Dataset JPG format\\\\MNIST - JPG - training\\\\0\\\\18507.jpg',\n",
       " 'D:\\\\MNIST Dataset JPG format\\\\MNIST - JPG - training\\\\0\\\\18509.jpg',\n",
       " 'D:\\\\MNIST Dataset JPG format\\\\MNIST - JPG - training\\\\0\\\\18515.jpg',\n",
       " 'D:\\\\MNIST Dataset JPG format\\\\MNIST - JPG - training\\\\0\\\\18538.jpg',\n",
       " 'D:\\\\MNIST Dataset JPG format\\\\MNIST - JPG - training\\\\0\\\\18543.jpg',\n",
       " 'D:\\\\MNIST Dataset JPG format\\\\MNIST - JPG - training\\\\0\\\\18563.jpg',\n",
       " 'D:\\\\MNIST Dataset JPG format\\\\MNIST - JPG - training\\\\0\\\\18564.jpg',\n",
       " 'D:\\\\MNIST Dataset JPG format\\\\MNIST - JPG - training\\\\0\\\\1857.jpg',\n",
       " 'D:\\\\MNIST Dataset JPG format\\\\MNIST - JPG - training\\\\0\\\\18572.jpg',\n",
       " 'D:\\\\MNIST Dataset JPG format\\\\MNIST - JPG - training\\\\0\\\\18581.jpg',\n",
       " 'D:\\\\MNIST Dataset JPG format\\\\MNIST - JPG - training\\\\0\\\\18586.jpg',\n",
       " 'D:\\\\MNIST Dataset JPG format\\\\MNIST - JPG - training\\\\0\\\\18590.jpg',\n",
       " 'D:\\\\MNIST Dataset JPG format\\\\MNIST - JPG - training\\\\0\\\\18599.jpg',\n",
       " 'D:\\\\MNIST Dataset JPG format\\\\MNIST - JPG - training\\\\0\\\\18603.jpg',\n",
       " 'D:\\\\MNIST Dataset JPG format\\\\MNIST - JPG - training\\\\0\\\\18606.jpg',\n",
       " 'D:\\\\MNIST Dataset JPG format\\\\MNIST - JPG - training\\\\0\\\\18641.jpg',\n",
       " 'D:\\\\MNIST Dataset JPG format\\\\MNIST - JPG - training\\\\0\\\\18645.jpg',\n",
       " 'D:\\\\MNIST Dataset JPG format\\\\MNIST - JPG - training\\\\0\\\\18650.jpg',\n",
       " 'D:\\\\MNIST Dataset JPG format\\\\MNIST - JPG - training\\\\0\\\\18658.jpg',\n",
       " 'D:\\\\MNIST Dataset JPG format\\\\MNIST - JPG - training\\\\0\\\\18665.jpg',\n",
       " 'D:\\\\MNIST Dataset JPG format\\\\MNIST - JPG - training\\\\0\\\\1868.jpg',\n",
       " 'D:\\\\MNIST Dataset JPG format\\\\MNIST - JPG - training\\\\0\\\\18703.jpg',\n",
       " 'D:\\\\MNIST Dataset JPG format\\\\MNIST - JPG - training\\\\0\\\\18712.jpg',\n",
       " 'D:\\\\MNIST Dataset JPG format\\\\MNIST - JPG - training\\\\0\\\\18715.jpg',\n",
       " 'D:\\\\MNIST Dataset JPG format\\\\MNIST - JPG - training\\\\0\\\\18718.jpg',\n",
       " 'D:\\\\MNIST Dataset JPG format\\\\MNIST - JPG - training\\\\0\\\\18725.jpg',\n",
       " 'D:\\\\MNIST Dataset JPG format\\\\MNIST - JPG - training\\\\0\\\\18737.jpg',\n",
       " 'D:\\\\MNIST Dataset JPG format\\\\MNIST - JPG - training\\\\0\\\\18743.jpg',\n",
       " 'D:\\\\MNIST Dataset JPG format\\\\MNIST - JPG - training\\\\0\\\\18750.jpg',\n",
       " 'D:\\\\MNIST Dataset JPG format\\\\MNIST - JPG - training\\\\0\\\\18759.jpg',\n",
       " 'D:\\\\MNIST Dataset JPG format\\\\MNIST - JPG - training\\\\0\\\\1876.jpg',\n",
       " 'D:\\\\MNIST Dataset JPG format\\\\MNIST - JPG - training\\\\0\\\\1877.jpg',\n",
       " 'D:\\\\MNIST Dataset JPG format\\\\MNIST - JPG - training\\\\0\\\\18779.jpg',\n",
       " 'D:\\\\MNIST Dataset JPG format\\\\MNIST - JPG - training\\\\0\\\\18794.jpg',\n",
       " 'D:\\\\MNIST Dataset JPG format\\\\MNIST - JPG - training\\\\0\\\\18799.jpg',\n",
       " 'D:\\\\MNIST Dataset JPG format\\\\MNIST - JPG - training\\\\0\\\\18832.jpg',\n",
       " 'D:\\\\MNIST Dataset JPG format\\\\MNIST - JPG - training\\\\0\\\\18836.jpg',\n",
       " 'D:\\\\MNIST Dataset JPG format\\\\MNIST - JPG - training\\\\0\\\\18837.jpg',\n",
       " 'D:\\\\MNIST Dataset JPG format\\\\MNIST - JPG - training\\\\0\\\\18858.jpg',\n",
       " 'D:\\\\MNIST Dataset JPG format\\\\MNIST - JPG - training\\\\0\\\\18868.jpg',\n",
       " 'D:\\\\MNIST Dataset JPG format\\\\MNIST - JPG - training\\\\0\\\\18878.jpg',\n",
       " 'D:\\\\MNIST Dataset JPG format\\\\MNIST - JPG - training\\\\0\\\\18881.jpg',\n",
       " 'D:\\\\MNIST Dataset JPG format\\\\MNIST - JPG - training\\\\0\\\\18889.jpg',\n",
       " 'D:\\\\MNIST Dataset JPG format\\\\MNIST - JPG - training\\\\0\\\\18892.jpg',\n",
       " 'D:\\\\MNIST Dataset JPG format\\\\MNIST - JPG - training\\\\0\\\\18893.jpg',\n",
       " 'D:\\\\MNIST Dataset JPG format\\\\MNIST - JPG - training\\\\0\\\\18896.jpg',\n",
       " 'D:\\\\MNIST Dataset JPG format\\\\MNIST - JPG - training\\\\0\\\\18909.jpg',\n",
       " 'D:\\\\MNIST Dataset JPG format\\\\MNIST - JPG - training\\\\0\\\\18914.jpg',\n",
       " 'D:\\\\MNIST Dataset JPG format\\\\MNIST - JPG - training\\\\0\\\\18921.jpg',\n",
       " 'D:\\\\MNIST Dataset JPG format\\\\MNIST - JPG - training\\\\0\\\\18923.jpg',\n",
       " 'D:\\\\MNIST Dataset JPG format\\\\MNIST - JPG - training\\\\0\\\\18926.jpg',\n",
       " 'D:\\\\MNIST Dataset JPG format\\\\MNIST - JPG - training\\\\0\\\\18936.jpg',\n",
       " 'D:\\\\MNIST Dataset JPG format\\\\MNIST - JPG - training\\\\0\\\\1897.jpg',\n",
       " 'D:\\\\MNIST Dataset JPG format\\\\MNIST - JPG - training\\\\0\\\\18970.jpg',\n",
       " 'D:\\\\MNIST Dataset JPG format\\\\MNIST - JPG - training\\\\0\\\\18989.jpg',\n",
       " 'D:\\\\MNIST Dataset JPG format\\\\MNIST - JPG - training\\\\0\\\\18991.jpg',\n",
       " 'D:\\\\MNIST Dataset JPG format\\\\MNIST - JPG - training\\\\0\\\\19004.jpg',\n",
       " 'D:\\\\MNIST Dataset JPG format\\\\MNIST - JPG - training\\\\0\\\\19006.jpg',\n",
       " 'D:\\\\MNIST Dataset JPG format\\\\MNIST - JPG - training\\\\0\\\\19008.jpg',\n",
       " 'D:\\\\MNIST Dataset JPG format\\\\MNIST - JPG - training\\\\0\\\\19009.jpg',\n",
       " 'D:\\\\MNIST Dataset JPG format\\\\MNIST - JPG - training\\\\0\\\\19012.jpg',\n",
       " 'D:\\\\MNIST Dataset JPG format\\\\MNIST - JPG - training\\\\0\\\\19027.jpg',\n",
       " 'D:\\\\MNIST Dataset JPG format\\\\MNIST - JPG - training\\\\0\\\\19038.jpg',\n",
       " 'D:\\\\MNIST Dataset JPG format\\\\MNIST - JPG - training\\\\0\\\\1904.jpg',\n",
       " 'D:\\\\MNIST Dataset JPG format\\\\MNIST - JPG - training\\\\0\\\\19049.jpg',\n",
       " 'D:\\\\MNIST Dataset JPG format\\\\MNIST - JPG - training\\\\0\\\\19060.jpg',\n",
       " 'D:\\\\MNIST Dataset JPG format\\\\MNIST - JPG - training\\\\0\\\\19061.jpg',\n",
       " 'D:\\\\MNIST Dataset JPG format\\\\MNIST - JPG - training\\\\0\\\\1907.jpg',\n",
       " 'D:\\\\MNIST Dataset JPG format\\\\MNIST - JPG - training\\\\0\\\\19072.jpg',\n",
       " 'D:\\\\MNIST Dataset JPG format\\\\MNIST - JPG - training\\\\0\\\\19074.jpg',\n",
       " 'D:\\\\MNIST Dataset JPG format\\\\MNIST - JPG - training\\\\0\\\\19080.jpg',\n",
       " 'D:\\\\MNIST Dataset JPG format\\\\MNIST - JPG - training\\\\0\\\\19082.jpg',\n",
       " 'D:\\\\MNIST Dataset JPG format\\\\MNIST - JPG - training\\\\0\\\\19104.jpg',\n",
       " 'D:\\\\MNIST Dataset JPG format\\\\MNIST - JPG - training\\\\0\\\\19117.jpg',\n",
       " 'D:\\\\MNIST Dataset JPG format\\\\MNIST - JPG - training\\\\0\\\\19119.jpg',\n",
       " 'D:\\\\MNIST Dataset JPG format\\\\MNIST - JPG - training\\\\0\\\\19127.jpg',\n",
       " 'D:\\\\MNIST Dataset JPG format\\\\MNIST - JPG - training\\\\0\\\\19133.jpg',\n",
       " 'D:\\\\MNIST Dataset JPG format\\\\MNIST - JPG - training\\\\0\\\\19156.jpg',\n",
       " 'D:\\\\MNIST Dataset JPG format\\\\MNIST - JPG - training\\\\0\\\\1916.jpg',\n",
       " 'D:\\\\MNIST Dataset JPG format\\\\MNIST - JPG - training\\\\0\\\\19166.jpg',\n",
       " 'D:\\\\MNIST Dataset JPG format\\\\MNIST - JPG - training\\\\0\\\\19171.jpg',\n",
       " 'D:\\\\MNIST Dataset JPG format\\\\MNIST - JPG - training\\\\0\\\\19179.jpg',\n",
       " 'D:\\\\MNIST Dataset JPG format\\\\MNIST - JPG - training\\\\0\\\\19180.jpg',\n",
       " 'D:\\\\MNIST Dataset JPG format\\\\MNIST - JPG - training\\\\0\\\\19189.jpg',\n",
       " 'D:\\\\MNIST Dataset JPG format\\\\MNIST - JPG - training\\\\0\\\\192.jpg',\n",
       " 'D:\\\\MNIST Dataset JPG format\\\\MNIST - JPG - training\\\\0\\\\19203.jpg',\n",
       " 'D:\\\\MNIST Dataset JPG format\\\\MNIST - JPG - training\\\\0\\\\19209.jpg',\n",
       " ...]"
      ]
     },
     "execution_count": 19,
     "metadata": {},
     "output_type": "execute_result"
    }
   ],
   "source": [
    "glob.glob(r\"D:\\MNIST Dataset JPG format\\MNIST - JPG - training\\0\\*.jpg\")"
   ]
  },
  {
   "cell_type": "code",
   "execution_count": 20,
   "metadata": {},
   "outputs": [],
   "source": [
    "folder_paths = glob.glob(\"D:\\MNIST Dataset JPG format\\MNIST - JPG - training\\*\")"
   ]
  },
  {
   "cell_type": "code",
   "execution_count": 21,
   "metadata": {
    "scrolled": false
   },
   "outputs": [
    {
     "data": {
      "text/plain": [
       "['D:\\\\MNIST Dataset JPG format\\\\MNIST - JPG - training\\\\0',\n",
       " 'D:\\\\MNIST Dataset JPG format\\\\MNIST - JPG - training\\\\1',\n",
       " 'D:\\\\MNIST Dataset JPG format\\\\MNIST - JPG - training\\\\2',\n",
       " 'D:\\\\MNIST Dataset JPG format\\\\MNIST - JPG - training\\\\3',\n",
       " 'D:\\\\MNIST Dataset JPG format\\\\MNIST - JPG - training\\\\4',\n",
       " 'D:\\\\MNIST Dataset JPG format\\\\MNIST - JPG - training\\\\5',\n",
       " 'D:\\\\MNIST Dataset JPG format\\\\MNIST - JPG - training\\\\6',\n",
       " 'D:\\\\MNIST Dataset JPG format\\\\MNIST - JPG - training\\\\7',\n",
       " 'D:\\\\MNIST Dataset JPG format\\\\MNIST - JPG - training\\\\8',\n",
       " 'D:\\\\MNIST Dataset JPG format\\\\MNIST - JPG - training\\\\9']"
      ]
     },
     "execution_count": 21,
     "metadata": {},
     "output_type": "execute_result"
    }
   ],
   "source": [
    "folder_paths"
   ]
  },
  {
   "cell_type": "code",
   "execution_count": 22,
   "metadata": {},
   "outputs": [],
   "source": [
    "#tqdm -- progress "
   ]
  },
  {
   "cell_type": "code",
   "execution_count": 23,
   "metadata": {},
   "outputs": [],
   "source": [
    "import tqdm"
   ]
  },
  {
   "cell_type": "code",
   "execution_count": 24,
   "metadata": {},
   "outputs": [
    {
     "data": {
      "text/plain": [
       "9"
      ]
     },
     "execution_count": 24,
     "metadata": {},
     "output_type": "execute_result"
    }
   ],
   "source": [
    "np.random.randint(1,10)"
   ]
  },
  {
   "cell_type": "code",
   "execution_count": 25,
   "metadata": {
    "scrolled": true
   },
   "outputs": [
    {
     "name": "stderr",
     "output_type": "stream",
     "text": [
      "100%|██████████████████████████████████████████████████████████████████████████████████| 10/10 [05:45<00:00, 34.53s/it]\n"
     ]
    }
   ],
   "source": [
    "#tqdm -- to show the progress\n",
    "\n",
    "#X = [Img_array1, Img_array2,Img_array3....Img_arrayn]\n",
    "#y = [\"2\",\"5\",\"3\",\"4\"]\n",
    "X =[] #Input or features -- pixels values\n",
    "y= [] #target -- labels\n",
    "\n",
    "#crawling to all the folders\n",
    "for each_folder in tqdm.tqdm(folder_paths):\n",
    "    # get the classname from folder_path\n",
    "    class_name = each_folder.split(\"\\\\\")[-1]\n",
    "    #crawling to all the image in the each_folder\n",
    "    for img_path in glob.glob(each_folder + \"\\*.jpg\"):\n",
    "        #print(img_path)\n",
    "        #Read the image from the path\n",
    "        img = Image.open(img_path)\n",
    "        img = img.convert(\"L\")\n",
    "        #20% of image will have different mage \n",
    "        if np.random.randint(1,10) <= 2:\n",
    "            thresh = 100\n",
    "            #point will help to apply a function on each and every pixel value\n",
    "            img = img.point(lambda p:0 if p > thresh else 255)\n",
    "        \n",
    "        #Convert to numpy array\n",
    "        img_array = np.array(img)\n",
    "        \n",
    "            \n",
    "        #flatten to covert 28,28 to 784 pixels to form a row\n",
    "        img_array = img_array.flatten()\n",
    "        #append the img in X\n",
    "        X.append(img_array)\n",
    "        #append the class_name\n",
    "        y.append(class_name)"
   ]
  },
  {
   "cell_type": "code",
   "execution_count": 26,
   "metadata": {},
   "outputs": [],
   "source": [
    "X = np.array(X)\n",
    "y = np.array(y)"
   ]
  },
  {
   "cell_type": "code",
   "execution_count": 27,
   "metadata": {},
   "outputs": [
    {
     "data": {
      "text/plain": [
       "array([[255, 255, 255, ..., 255, 255, 255],\n",
       "       [  0,   0,   0, ...,   0,   0,   0],\n",
       "       [  0,   0,   0, ...,   0,   0,   0],\n",
       "       ...,\n",
       "       [255, 255, 255, ..., 255, 255, 255],\n",
       "       [255, 255, 255, ..., 255, 255, 255],\n",
       "       [  0,   0,   0, ...,   0,   0,   0]], dtype=uint8)"
      ]
     },
     "execution_count": 27,
     "metadata": {},
     "output_type": "execute_result"
    }
   ],
   "source": [
    "X"
   ]
  },
  {
   "cell_type": "code",
   "execution_count": 28,
   "metadata": {},
   "outputs": [
    {
     "data": {
      "text/plain": [
       "(60000, 784)"
      ]
     },
     "execution_count": 28,
     "metadata": {},
     "output_type": "execute_result"
    }
   ],
   "source": [
    "X.shape"
   ]
  },
  {
   "cell_type": "code",
   "execution_count": 29,
   "metadata": {},
   "outputs": [
    {
     "data": {
      "text/plain": [
       "array(['0', '0', '0', ..., '9', '9', '9'], dtype='<U1')"
      ]
     },
     "execution_count": 29,
     "metadata": {},
     "output_type": "execute_result"
    }
   ],
   "source": [
    "y"
   ]
  },
  {
   "cell_type": "code",
   "execution_count": 30,
   "metadata": {},
   "outputs": [],
   "source": [
    "X = pd.DataFrame(X)"
   ]
  },
  {
   "cell_type": "code",
   "execution_count": 31,
   "metadata": {},
   "outputs": [
    {
     "data": {
      "text/html": [
       "<div>\n",
       "<style scoped>\n",
       "    .dataframe tbody tr th:only-of-type {\n",
       "        vertical-align: middle;\n",
       "    }\n",
       "\n",
       "    .dataframe tbody tr th {\n",
       "        vertical-align: top;\n",
       "    }\n",
       "\n",
       "    .dataframe thead th {\n",
       "        text-align: right;\n",
       "    }\n",
       "</style>\n",
       "<table border=\"1\" class=\"dataframe\">\n",
       "  <thead>\n",
       "    <tr style=\"text-align: right;\">\n",
       "      <th></th>\n",
       "      <th>0</th>\n",
       "      <th>1</th>\n",
       "      <th>2</th>\n",
       "      <th>3</th>\n",
       "      <th>4</th>\n",
       "      <th>5</th>\n",
       "      <th>6</th>\n",
       "      <th>7</th>\n",
       "      <th>8</th>\n",
       "      <th>9</th>\n",
       "      <th>...</th>\n",
       "      <th>774</th>\n",
       "      <th>775</th>\n",
       "      <th>776</th>\n",
       "      <th>777</th>\n",
       "      <th>778</th>\n",
       "      <th>779</th>\n",
       "      <th>780</th>\n",
       "      <th>781</th>\n",
       "      <th>782</th>\n",
       "      <th>783</th>\n",
       "    </tr>\n",
       "  </thead>\n",
       "  <tbody>\n",
       "    <tr>\n",
       "      <th>0</th>\n",
       "      <td>255</td>\n",
       "      <td>255</td>\n",
       "      <td>255</td>\n",
       "      <td>255</td>\n",
       "      <td>255</td>\n",
       "      <td>255</td>\n",
       "      <td>255</td>\n",
       "      <td>255</td>\n",
       "      <td>255</td>\n",
       "      <td>255</td>\n",
       "      <td>...</td>\n",
       "      <td>255</td>\n",
       "      <td>255</td>\n",
       "      <td>255</td>\n",
       "      <td>255</td>\n",
       "      <td>255</td>\n",
       "      <td>255</td>\n",
       "      <td>255</td>\n",
       "      <td>255</td>\n",
       "      <td>255</td>\n",
       "      <td>255</td>\n",
       "    </tr>\n",
       "    <tr>\n",
       "      <th>1</th>\n",
       "      <td>0</td>\n",
       "      <td>0</td>\n",
       "      <td>0</td>\n",
       "      <td>0</td>\n",
       "      <td>0</td>\n",
       "      <td>0</td>\n",
       "      <td>0</td>\n",
       "      <td>0</td>\n",
       "      <td>0</td>\n",
       "      <td>0</td>\n",
       "      <td>...</td>\n",
       "      <td>0</td>\n",
       "      <td>1</td>\n",
       "      <td>1</td>\n",
       "      <td>1</td>\n",
       "      <td>0</td>\n",
       "      <td>0</td>\n",
       "      <td>0</td>\n",
       "      <td>0</td>\n",
       "      <td>0</td>\n",
       "      <td>0</td>\n",
       "    </tr>\n",
       "    <tr>\n",
       "      <th>2</th>\n",
       "      <td>0</td>\n",
       "      <td>0</td>\n",
       "      <td>0</td>\n",
       "      <td>0</td>\n",
       "      <td>0</td>\n",
       "      <td>0</td>\n",
       "      <td>0</td>\n",
       "      <td>0</td>\n",
       "      <td>0</td>\n",
       "      <td>4</td>\n",
       "      <td>...</td>\n",
       "      <td>0</td>\n",
       "      <td>0</td>\n",
       "      <td>0</td>\n",
       "      <td>0</td>\n",
       "      <td>0</td>\n",
       "      <td>0</td>\n",
       "      <td>0</td>\n",
       "      <td>0</td>\n",
       "      <td>0</td>\n",
       "      <td>0</td>\n",
       "    </tr>\n",
       "    <tr>\n",
       "      <th>3</th>\n",
       "      <td>12</td>\n",
       "      <td>0</td>\n",
       "      <td>5</td>\n",
       "      <td>4</td>\n",
       "      <td>0</td>\n",
       "      <td>5</td>\n",
       "      <td>4</td>\n",
       "      <td>0</td>\n",
       "      <td>8</td>\n",
       "      <td>0</td>\n",
       "      <td>...</td>\n",
       "      <td>0</td>\n",
       "      <td>0</td>\n",
       "      <td>0</td>\n",
       "      <td>0</td>\n",
       "      <td>0</td>\n",
       "      <td>0</td>\n",
       "      <td>0</td>\n",
       "      <td>0</td>\n",
       "      <td>0</td>\n",
       "      <td>0</td>\n",
       "    </tr>\n",
       "    <tr>\n",
       "      <th>4</th>\n",
       "      <td>0</td>\n",
       "      <td>0</td>\n",
       "      <td>0</td>\n",
       "      <td>0</td>\n",
       "      <td>0</td>\n",
       "      <td>0</td>\n",
       "      <td>0</td>\n",
       "      <td>0</td>\n",
       "      <td>0</td>\n",
       "      <td>13</td>\n",
       "      <td>...</td>\n",
       "      <td>0</td>\n",
       "      <td>0</td>\n",
       "      <td>0</td>\n",
       "      <td>0</td>\n",
       "      <td>0</td>\n",
       "      <td>0</td>\n",
       "      <td>0</td>\n",
       "      <td>0</td>\n",
       "      <td>0</td>\n",
       "      <td>0</td>\n",
       "    </tr>\n",
       "    <tr>\n",
       "      <th>...</th>\n",
       "      <td>...</td>\n",
       "      <td>...</td>\n",
       "      <td>...</td>\n",
       "      <td>...</td>\n",
       "      <td>...</td>\n",
       "      <td>...</td>\n",
       "      <td>...</td>\n",
       "      <td>...</td>\n",
       "      <td>...</td>\n",
       "      <td>...</td>\n",
       "      <td>...</td>\n",
       "      <td>...</td>\n",
       "      <td>...</td>\n",
       "      <td>...</td>\n",
       "      <td>...</td>\n",
       "      <td>...</td>\n",
       "      <td>...</td>\n",
       "      <td>...</td>\n",
       "      <td>...</td>\n",
       "      <td>...</td>\n",
       "      <td>...</td>\n",
       "    </tr>\n",
       "    <tr>\n",
       "      <th>59995</th>\n",
       "      <td>0</td>\n",
       "      <td>0</td>\n",
       "      <td>0</td>\n",
       "      <td>0</td>\n",
       "      <td>0</td>\n",
       "      <td>0</td>\n",
       "      <td>0</td>\n",
       "      <td>0</td>\n",
       "      <td>0</td>\n",
       "      <td>0</td>\n",
       "      <td>...</td>\n",
       "      <td>0</td>\n",
       "      <td>0</td>\n",
       "      <td>0</td>\n",
       "      <td>0</td>\n",
       "      <td>0</td>\n",
       "      <td>0</td>\n",
       "      <td>0</td>\n",
       "      <td>0</td>\n",
       "      <td>0</td>\n",
       "      <td>0</td>\n",
       "    </tr>\n",
       "    <tr>\n",
       "      <th>59996</th>\n",
       "      <td>0</td>\n",
       "      <td>0</td>\n",
       "      <td>0</td>\n",
       "      <td>0</td>\n",
       "      <td>0</td>\n",
       "      <td>0</td>\n",
       "      <td>0</td>\n",
       "      <td>0</td>\n",
       "      <td>0</td>\n",
       "      <td>5</td>\n",
       "      <td>...</td>\n",
       "      <td>9</td>\n",
       "      <td>1</td>\n",
       "      <td>0</td>\n",
       "      <td>6</td>\n",
       "      <td>0</td>\n",
       "      <td>2</td>\n",
       "      <td>0</td>\n",
       "      <td>0</td>\n",
       "      <td>0</td>\n",
       "      <td>0</td>\n",
       "    </tr>\n",
       "    <tr>\n",
       "      <th>59997</th>\n",
       "      <td>255</td>\n",
       "      <td>255</td>\n",
       "      <td>255</td>\n",
       "      <td>255</td>\n",
       "      <td>255</td>\n",
       "      <td>255</td>\n",
       "      <td>255</td>\n",
       "      <td>255</td>\n",
       "      <td>255</td>\n",
       "      <td>255</td>\n",
       "      <td>...</td>\n",
       "      <td>255</td>\n",
       "      <td>255</td>\n",
       "      <td>255</td>\n",
       "      <td>255</td>\n",
       "      <td>255</td>\n",
       "      <td>255</td>\n",
       "      <td>255</td>\n",
       "      <td>255</td>\n",
       "      <td>255</td>\n",
       "      <td>255</td>\n",
       "    </tr>\n",
       "    <tr>\n",
       "      <th>59998</th>\n",
       "      <td>255</td>\n",
       "      <td>255</td>\n",
       "      <td>255</td>\n",
       "      <td>255</td>\n",
       "      <td>255</td>\n",
       "      <td>255</td>\n",
       "      <td>255</td>\n",
       "      <td>255</td>\n",
       "      <td>255</td>\n",
       "      <td>255</td>\n",
       "      <td>...</td>\n",
       "      <td>255</td>\n",
       "      <td>255</td>\n",
       "      <td>255</td>\n",
       "      <td>255</td>\n",
       "      <td>255</td>\n",
       "      <td>255</td>\n",
       "      <td>255</td>\n",
       "      <td>255</td>\n",
       "      <td>255</td>\n",
       "      <td>255</td>\n",
       "    </tr>\n",
       "    <tr>\n",
       "      <th>59999</th>\n",
       "      <td>0</td>\n",
       "      <td>0</td>\n",
       "      <td>0</td>\n",
       "      <td>0</td>\n",
       "      <td>0</td>\n",
       "      <td>0</td>\n",
       "      <td>0</td>\n",
       "      <td>0</td>\n",
       "      <td>7</td>\n",
       "      <td>0</td>\n",
       "      <td>...</td>\n",
       "      <td>4</td>\n",
       "      <td>0</td>\n",
       "      <td>0</td>\n",
       "      <td>0</td>\n",
       "      <td>3</td>\n",
       "      <td>3</td>\n",
       "      <td>0</td>\n",
       "      <td>0</td>\n",
       "      <td>0</td>\n",
       "      <td>0</td>\n",
       "    </tr>\n",
       "  </tbody>\n",
       "</table>\n",
       "<p>60000 rows × 784 columns</p>\n",
       "</div>"
      ],
      "text/plain": [
       "       0    1    2    3    4    5    6    7    8    9    ...  774  775  776  \\\n",
       "0      255  255  255  255  255  255  255  255  255  255  ...  255  255  255   \n",
       "1        0    0    0    0    0    0    0    0    0    0  ...    0    1    1   \n",
       "2        0    0    0    0    0    0    0    0    0    4  ...    0    0    0   \n",
       "3       12    0    5    4    0    5    4    0    8    0  ...    0    0    0   \n",
       "4        0    0    0    0    0    0    0    0    0   13  ...    0    0    0   \n",
       "...    ...  ...  ...  ...  ...  ...  ...  ...  ...  ...  ...  ...  ...  ...   \n",
       "59995    0    0    0    0    0    0    0    0    0    0  ...    0    0    0   \n",
       "59996    0    0    0    0    0    0    0    0    0    5  ...    9    1    0   \n",
       "59997  255  255  255  255  255  255  255  255  255  255  ...  255  255  255   \n",
       "59998  255  255  255  255  255  255  255  255  255  255  ...  255  255  255   \n",
       "59999    0    0    0    0    0    0    0    0    7    0  ...    4    0    0   \n",
       "\n",
       "       777  778  779  780  781  782  783  \n",
       "0      255  255  255  255  255  255  255  \n",
       "1        1    0    0    0    0    0    0  \n",
       "2        0    0    0    0    0    0    0  \n",
       "3        0    0    0    0    0    0    0  \n",
       "4        0    0    0    0    0    0    0  \n",
       "...    ...  ...  ...  ...  ...  ...  ...  \n",
       "59995    0    0    0    0    0    0    0  \n",
       "59996    6    0    2    0    0    0    0  \n",
       "59997  255  255  255  255  255  255  255  \n",
       "59998  255  255  255  255  255  255  255  \n",
       "59999    0    3    3    0    0    0    0  \n",
       "\n",
       "[60000 rows x 784 columns]"
      ]
     },
     "execution_count": 31,
     "metadata": {},
     "output_type": "execute_result"
    }
   ],
   "source": [
    "X"
   ]
  },
  {
   "cell_type": "code",
   "execution_count": 32,
   "metadata": {},
   "outputs": [
    {
     "data": {
      "text/plain": [
       "array(['0', '0', '0', ..., '9', '9', '9'], dtype='<U1')"
      ]
     },
     "execution_count": 32,
     "metadata": {},
     "output_type": "execute_result"
    }
   ],
   "source": [
    "y"
   ]
  },
  {
   "cell_type": "code",
   "execution_count": 33,
   "metadata": {},
   "outputs": [],
   "source": [
    "y = pd.Series(y)"
   ]
  },
  {
   "cell_type": "code",
   "execution_count": 34,
   "metadata": {},
   "outputs": [
    {
     "data": {
      "text/plain": [
       "0        0\n",
       "1        0\n",
       "2        0\n",
       "3        0\n",
       "4        0\n",
       "        ..\n",
       "59995    9\n",
       "59996    9\n",
       "59997    9\n",
       "59998    9\n",
       "59999    9\n",
       "Length: 60000, dtype: object"
      ]
     },
     "execution_count": 34,
     "metadata": {},
     "output_type": "execute_result"
    }
   ],
   "source": [
    "y"
   ]
  },
  {
   "cell_type": "code",
   "execution_count": 35,
   "metadata": {},
   "outputs": [
    {
     "data": {
      "text/plain": [
       "array(['0', '1', '2', '3', '4', '5', '6', '7', '8', '9'], dtype=object)"
      ]
     },
     "execution_count": 35,
     "metadata": {},
     "output_type": "execute_result"
    }
   ],
   "source": [
    "y.unique()"
   ]
  },
  {
   "cell_type": "code",
   "execution_count": 36,
   "metadata": {},
   "outputs": [
    {
     "data": {
      "text/plain": [
       "10"
      ]
     },
     "execution_count": 36,
     "metadata": {},
     "output_type": "execute_result"
    }
   ],
   "source": [
    "y.nunique()"
   ]
  },
  {
   "cell_type": "code",
   "execution_count": 37,
   "metadata": {},
   "outputs": [
    {
     "data": {
      "text/plain": [
       "1    6742\n",
       "7    6265\n",
       "3    6131\n",
       "2    5958\n",
       "9    5949\n",
       "0    5923\n",
       "6    5918\n",
       "8    5851\n",
       "4    5842\n",
       "5    5421\n",
       "dtype: int64"
      ]
     },
     "execution_count": 37,
     "metadata": {},
     "output_type": "execute_result"
    }
   ],
   "source": [
    "y.value_counts()"
   ]
  },
  {
   "cell_type": "code",
   "execution_count": 38,
   "metadata": {},
   "outputs": [
    {
     "name": "stderr",
     "output_type": "stream",
     "text": [
      "C:\\Users\\Abhishek\\AppData\\Roaming\\Python\\Python37\\site-packages\\seaborn\\_decorators.py:43: FutureWarning: Pass the following variable as a keyword arg: x. From version 0.12, the only valid positional argument will be `data`, and passing other arguments without an explicit keyword will result in an error or misinterpretation.\n",
      "  FutureWarning\n"
     ]
    },
    {
     "data": {
      "text/plain": [
       "<matplotlib.axes._subplots.AxesSubplot at 0x179a827d788>"
      ]
     },
     "execution_count": 38,
     "metadata": {},
     "output_type": "execute_result"
    },
    {
     "data": {
      "image/png": "[encoded data removed]",
      "text/plain": [
       "<Figure size 432x288 with 1 Axes>"
      ]
     },
     "metadata": {
      "needs_background": "light"
     },
     "output_type": "display_data"
    }
   ],
   "source": [
    "sns.countplot(y)"
   ]
  },
  {
   "cell_type": "markdown",
   "metadata": {},
   "source": [
    "### Split into train and test"
   ]
  },
  {
   "cell_type": "code",
   "execution_count": 39,
   "metadata": {},
   "outputs": [],
   "source": [
    "from sklearn.model_selection import train_test_split"
   ]
  },
  {
   "cell_type": "code",
   "execution_count": 40,
   "metadata": {},
   "outputs": [],
   "source": [
    "X_train, X_test, y_train, y_test = train_test_split(X, y, train_size = 0.8, random_state = 35)"
   ]
  },
  {
   "cell_type": "code",
   "execution_count": 41,
   "metadata": {},
   "outputs": [
    {
     "data": {
      "text/html": [
       "<div>\n",
       "<style scoped>\n",
       "    .dataframe tbody tr th:only-of-type {\n",
       "        vertical-align: middle;\n",
       "    }\n",
       "\n",
       "    .dataframe tbody tr th {\n",
       "        vertical-align: top;\n",
       "    }\n",
       "\n",
       "    .dataframe thead th {\n",
       "        text-align: right;\n",
       "    }\n",
       "</style>\n",
       "<table border=\"1\" class=\"dataframe\">\n",
       "  <thead>\n",
       "    <tr style=\"text-align: right;\">\n",
       "      <th></th>\n",
       "      <th>0</th>\n",
       "      <th>1</th>\n",
       "      <th>2</th>\n",
       "      <th>3</th>\n",
       "      <th>4</th>\n",
       "      <th>5</th>\n",
       "      <th>6</th>\n",
       "      <th>7</th>\n",
       "      <th>8</th>\n",
       "      <th>9</th>\n",
       "      <th>...</th>\n",
       "      <th>774</th>\n",
       "      <th>775</th>\n",
       "      <th>776</th>\n",
       "      <th>777</th>\n",
       "      <th>778</th>\n",
       "      <th>779</th>\n",
       "      <th>780</th>\n",
       "      <th>781</th>\n",
       "      <th>782</th>\n",
       "      <th>783</th>\n",
       "    </tr>\n",
       "  </thead>\n",
       "  <tbody>\n",
       "    <tr>\n",
       "      <th>14118</th>\n",
       "      <td>0</td>\n",
       "      <td>0</td>\n",
       "      <td>0</td>\n",
       "      <td>0</td>\n",
       "      <td>0</td>\n",
       "      <td>0</td>\n",
       "      <td>0</td>\n",
       "      <td>0</td>\n",
       "      <td>6</td>\n",
       "      <td>1</td>\n",
       "      <td>...</td>\n",
       "      <td>0</td>\n",
       "      <td>0</td>\n",
       "      <td>0</td>\n",
       "      <td>0</td>\n",
       "      <td>0</td>\n",
       "      <td>0</td>\n",
       "      <td>0</td>\n",
       "      <td>0</td>\n",
       "      <td>0</td>\n",
       "      <td>0</td>\n",
       "    </tr>\n",
       "    <tr>\n",
       "      <th>38404</th>\n",
       "      <td>0</td>\n",
       "      <td>0</td>\n",
       "      <td>0</td>\n",
       "      <td>0</td>\n",
       "      <td>0</td>\n",
       "      <td>0</td>\n",
       "      <td>0</td>\n",
       "      <td>0</td>\n",
       "      <td>0</td>\n",
       "      <td>0</td>\n",
       "      <td>...</td>\n",
       "      <td>0</td>\n",
       "      <td>0</td>\n",
       "      <td>0</td>\n",
       "      <td>0</td>\n",
       "      <td>0</td>\n",
       "      <td>0</td>\n",
       "      <td>0</td>\n",
       "      <td>0</td>\n",
       "      <td>0</td>\n",
       "      <td>0</td>\n",
       "    </tr>\n",
       "    <tr>\n",
       "      <th>41009</th>\n",
       "      <td>0</td>\n",
       "      <td>0</td>\n",
       "      <td>0</td>\n",
       "      <td>0</td>\n",
       "      <td>0</td>\n",
       "      <td>0</td>\n",
       "      <td>0</td>\n",
       "      <td>0</td>\n",
       "      <td>0</td>\n",
       "      <td>18</td>\n",
       "      <td>...</td>\n",
       "      <td>0</td>\n",
       "      <td>0</td>\n",
       "      <td>0</td>\n",
       "      <td>0</td>\n",
       "      <td>0</td>\n",
       "      <td>0</td>\n",
       "      <td>0</td>\n",
       "      <td>0</td>\n",
       "      <td>0</td>\n",
       "      <td>0</td>\n",
       "    </tr>\n",
       "    <tr>\n",
       "      <th>12290</th>\n",
       "      <td>0</td>\n",
       "      <td>0</td>\n",
       "      <td>0</td>\n",
       "      <td>0</td>\n",
       "      <td>0</td>\n",
       "      <td>0</td>\n",
       "      <td>0</td>\n",
       "      <td>0</td>\n",
       "      <td>5</td>\n",
       "      <td>0</td>\n",
       "      <td>...</td>\n",
       "      <td>0</td>\n",
       "      <td>0</td>\n",
       "      <td>0</td>\n",
       "      <td>0</td>\n",
       "      <td>0</td>\n",
       "      <td>0</td>\n",
       "      <td>0</td>\n",
       "      <td>0</td>\n",
       "      <td>0</td>\n",
       "      <td>0</td>\n",
       "    </tr>\n",
       "    <tr>\n",
       "      <th>45545</th>\n",
       "      <td>0</td>\n",
       "      <td>2</td>\n",
       "      <td>0</td>\n",
       "      <td>0</td>\n",
       "      <td>4</td>\n",
       "      <td>0</td>\n",
       "      <td>0</td>\n",
       "      <td>0</td>\n",
       "      <td>0</td>\n",
       "      <td>3</td>\n",
       "      <td>...</td>\n",
       "      <td>0</td>\n",
       "      <td>0</td>\n",
       "      <td>0</td>\n",
       "      <td>0</td>\n",
       "      <td>0</td>\n",
       "      <td>0</td>\n",
       "      <td>0</td>\n",
       "      <td>0</td>\n",
       "      <td>0</td>\n",
       "      <td>0</td>\n",
       "    </tr>\n",
       "    <tr>\n",
       "      <th>...</th>\n",
       "      <td>...</td>\n",
       "      <td>...</td>\n",
       "      <td>...</td>\n",
       "      <td>...</td>\n",
       "      <td>...</td>\n",
       "      <td>...</td>\n",
       "      <td>...</td>\n",
       "      <td>...</td>\n",
       "      <td>...</td>\n",
       "      <td>...</td>\n",
       "      <td>...</td>\n",
       "      <td>...</td>\n",
       "      <td>...</td>\n",
       "      <td>...</td>\n",
       "      <td>...</td>\n",
       "      <td>...</td>\n",
       "      <td>...</td>\n",
       "      <td>...</td>\n",
       "      <td>...</td>\n",
       "      <td>...</td>\n",
       "      <td>...</td>\n",
       "    </tr>\n",
       "    <tr>\n",
       "      <th>56300</th>\n",
       "      <td>0</td>\n",
       "      <td>0</td>\n",
       "      <td>0</td>\n",
       "      <td>0</td>\n",
       "      <td>0</td>\n",
       "      <td>0</td>\n",
       "      <td>0</td>\n",
       "      <td>0</td>\n",
       "      <td>6</td>\n",
       "      <td>0</td>\n",
       "      <td>...</td>\n",
       "      <td>0</td>\n",
       "      <td>0</td>\n",
       "      <td>0</td>\n",
       "      <td>0</td>\n",
       "      <td>0</td>\n",
       "      <td>0</td>\n",
       "      <td>0</td>\n",
       "      <td>0</td>\n",
       "      <td>0</td>\n",
       "      <td>0</td>\n",
       "    </tr>\n",
       "    <tr>\n",
       "      <th>48161</th>\n",
       "      <td>0</td>\n",
       "      <td>0</td>\n",
       "      <td>0</td>\n",
       "      <td>0</td>\n",
       "      <td>0</td>\n",
       "      <td>0</td>\n",
       "      <td>0</td>\n",
       "      <td>0</td>\n",
       "      <td>0</td>\n",
       "      <td>0</td>\n",
       "      <td>...</td>\n",
       "      <td>0</td>\n",
       "      <td>0</td>\n",
       "      <td>0</td>\n",
       "      <td>0</td>\n",
       "      <td>0</td>\n",
       "      <td>0</td>\n",
       "      <td>0</td>\n",
       "      <td>0</td>\n",
       "      <td>0</td>\n",
       "      <td>0</td>\n",
       "    </tr>\n",
       "    <tr>\n",
       "      <th>41911</th>\n",
       "      <td>0</td>\n",
       "      <td>0</td>\n",
       "      <td>0</td>\n",
       "      <td>0</td>\n",
       "      <td>0</td>\n",
       "      <td>0</td>\n",
       "      <td>0</td>\n",
       "      <td>0</td>\n",
       "      <td>0</td>\n",
       "      <td>6</td>\n",
       "      <td>...</td>\n",
       "      <td>0</td>\n",
       "      <td>0</td>\n",
       "      <td>0</td>\n",
       "      <td>0</td>\n",
       "      <td>0</td>\n",
       "      <td>0</td>\n",
       "      <td>0</td>\n",
       "      <td>0</td>\n",
       "      <td>0</td>\n",
       "      <td>0</td>\n",
       "    </tr>\n",
       "    <tr>\n",
       "      <th>50447</th>\n",
       "      <td>255</td>\n",
       "      <td>255</td>\n",
       "      <td>255</td>\n",
       "      <td>255</td>\n",
       "      <td>255</td>\n",
       "      <td>255</td>\n",
       "      <td>255</td>\n",
       "      <td>255</td>\n",
       "      <td>255</td>\n",
       "      <td>255</td>\n",
       "      <td>...</td>\n",
       "      <td>255</td>\n",
       "      <td>255</td>\n",
       "      <td>255</td>\n",
       "      <td>255</td>\n",
       "      <td>255</td>\n",
       "      <td>255</td>\n",
       "      <td>255</td>\n",
       "      <td>255</td>\n",
       "      <td>255</td>\n",
       "      <td>255</td>\n",
       "    </tr>\n",
       "    <tr>\n",
       "      <th>5833</th>\n",
       "      <td>0</td>\n",
       "      <td>0</td>\n",
       "      <td>0</td>\n",
       "      <td>0</td>\n",
       "      <td>0</td>\n",
       "      <td>0</td>\n",
       "      <td>0</td>\n",
       "      <td>0</td>\n",
       "      <td>6</td>\n",
       "      <td>0</td>\n",
       "      <td>...</td>\n",
       "      <td>0</td>\n",
       "      <td>0</td>\n",
       "      <td>0</td>\n",
       "      <td>0</td>\n",
       "      <td>0</td>\n",
       "      <td>0</td>\n",
       "      <td>0</td>\n",
       "      <td>0</td>\n",
       "      <td>0</td>\n",
       "      <td>0</td>\n",
       "    </tr>\n",
       "  </tbody>\n",
       "</table>\n",
       "<p>48000 rows × 784 columns</p>\n",
       "</div>"
      ],
      "text/plain": [
       "       0    1    2    3    4    5    6    7    8    9    ...  774  775  776  \\\n",
       "14118    0    0    0    0    0    0    0    0    6    1  ...    0    0    0   \n",
       "38404    0    0    0    0    0    0    0    0    0    0  ...    0    0    0   \n",
       "41009    0    0    0    0    0    0    0    0    0   18  ...    0    0    0   \n",
       "12290    0    0    0    0    0    0    0    0    5    0  ...    0    0    0   \n",
       "45545    0    2    0    0    4    0    0    0    0    3  ...    0    0    0   \n",
       "...    ...  ...  ...  ...  ...  ...  ...  ...  ...  ...  ...  ...  ...  ...   \n",
       "56300    0    0    0    0    0    0    0    0    6    0  ...    0    0    0   \n",
       "48161    0    0    0    0    0    0    0    0    0    0  ...    0    0    0   \n",
       "41911    0    0    0    0    0    0    0    0    0    6  ...    0    0    0   \n",
       "50447  255  255  255  255  255  255  255  255  255  255  ...  255  255  255   \n",
       "5833     0    0    0    0    0    0    0    0    6    0  ...    0    0    0   \n",
       "\n",
       "       777  778  779  780  781  782  783  \n",
       "14118    0    0    0    0    0    0    0  \n",
       "38404    0    0    0    0    0    0    0  \n",
       "41009    0    0    0    0    0    0    0  \n",
       "12290    0    0    0    0    0    0    0  \n",
       "45545    0    0    0    0    0    0    0  \n",
       "...    ...  ...  ...  ...  ...  ...  ...  \n",
       "56300    0    0    0    0    0    0    0  \n",
       "48161    0    0    0    0    0    0    0  \n",
       "41911    0    0    0    0    0    0    0  \n",
       "50447  255  255  255  255  255  255  255  \n",
       "5833     0    0    0    0    0    0    0  \n",
       "\n",
       "[48000 rows x 784 columns]"
      ]
     },
     "execution_count": 41,
     "metadata": {},
     "output_type": "execute_result"
    }
   ],
   "source": [
    "X_train"
   ]
  },
  {
   "cell_type": "code",
   "execution_count": 42,
   "metadata": {},
   "outputs": [
    {
     "data": {
      "text/html": [
       "<div>\n",
       "<style scoped>\n",
       "    .dataframe tbody tr th:only-of-type {\n",
       "        vertical-align: middle;\n",
       "    }\n",
       "\n",
       "    .dataframe tbody tr th {\n",
       "        vertical-align: top;\n",
       "    }\n",
       "\n",
       "    .dataframe thead th {\n",
       "        text-align: right;\n",
       "    }\n",
       "</style>\n",
       "<table border=\"1\" class=\"dataframe\">\n",
       "  <thead>\n",
       "    <tr style=\"text-align: right;\">\n",
       "      <th></th>\n",
       "      <th>0</th>\n",
       "      <th>1</th>\n",
       "      <th>2</th>\n",
       "      <th>3</th>\n",
       "      <th>4</th>\n",
       "      <th>5</th>\n",
       "      <th>6</th>\n",
       "      <th>7</th>\n",
       "      <th>8</th>\n",
       "      <th>9</th>\n",
       "      <th>...</th>\n",
       "      <th>774</th>\n",
       "      <th>775</th>\n",
       "      <th>776</th>\n",
       "      <th>777</th>\n",
       "      <th>778</th>\n",
       "      <th>779</th>\n",
       "      <th>780</th>\n",
       "      <th>781</th>\n",
       "      <th>782</th>\n",
       "      <th>783</th>\n",
       "    </tr>\n",
       "  </thead>\n",
       "  <tbody>\n",
       "    <tr>\n",
       "      <th>7953</th>\n",
       "      <td>0</td>\n",
       "      <td>0</td>\n",
       "      <td>0</td>\n",
       "      <td>0</td>\n",
       "      <td>0</td>\n",
       "      <td>0</td>\n",
       "      <td>0</td>\n",
       "      <td>0</td>\n",
       "      <td>0</td>\n",
       "      <td>0</td>\n",
       "      <td>...</td>\n",
       "      <td>1</td>\n",
       "      <td>5</td>\n",
       "      <td>2</td>\n",
       "      <td>0</td>\n",
       "      <td>0</td>\n",
       "      <td>5</td>\n",
       "      <td>0</td>\n",
       "      <td>0</td>\n",
       "      <td>0</td>\n",
       "      <td>0</td>\n",
       "    </tr>\n",
       "    <tr>\n",
       "      <th>40250</th>\n",
       "      <td>0</td>\n",
       "      <td>0</td>\n",
       "      <td>0</td>\n",
       "      <td>0</td>\n",
       "      <td>0</td>\n",
       "      <td>0</td>\n",
       "      <td>0</td>\n",
       "      <td>0</td>\n",
       "      <td>0</td>\n",
       "      <td>7</td>\n",
       "      <td>...</td>\n",
       "      <td>0</td>\n",
       "      <td>0</td>\n",
       "      <td>0</td>\n",
       "      <td>0</td>\n",
       "      <td>0</td>\n",
       "      <td>0</td>\n",
       "      <td>0</td>\n",
       "      <td>0</td>\n",
       "      <td>0</td>\n",
       "      <td>0</td>\n",
       "    </tr>\n",
       "    <tr>\n",
       "      <th>14271</th>\n",
       "      <td>0</td>\n",
       "      <td>0</td>\n",
       "      <td>0</td>\n",
       "      <td>0</td>\n",
       "      <td>0</td>\n",
       "      <td>0</td>\n",
       "      <td>0</td>\n",
       "      <td>0</td>\n",
       "      <td>5</td>\n",
       "      <td>2</td>\n",
       "      <td>...</td>\n",
       "      <td>0</td>\n",
       "      <td>0</td>\n",
       "      <td>0</td>\n",
       "      <td>0</td>\n",
       "      <td>0</td>\n",
       "      <td>0</td>\n",
       "      <td>0</td>\n",
       "      <td>0</td>\n",
       "      <td>0</td>\n",
       "      <td>0</td>\n",
       "    </tr>\n",
       "    <tr>\n",
       "      <th>36694</th>\n",
       "      <td>0</td>\n",
       "      <td>0</td>\n",
       "      <td>0</td>\n",
       "      <td>0</td>\n",
       "      <td>0</td>\n",
       "      <td>0</td>\n",
       "      <td>0</td>\n",
       "      <td>0</td>\n",
       "      <td>0</td>\n",
       "      <td>9</td>\n",
       "      <td>...</td>\n",
       "      <td>0</td>\n",
       "      <td>0</td>\n",
       "      <td>0</td>\n",
       "      <td>0</td>\n",
       "      <td>0</td>\n",
       "      <td>0</td>\n",
       "      <td>0</td>\n",
       "      <td>0</td>\n",
       "      <td>0</td>\n",
       "      <td>0</td>\n",
       "    </tr>\n",
       "    <tr>\n",
       "      <th>32817</th>\n",
       "      <td>0</td>\n",
       "      <td>0</td>\n",
       "      <td>0</td>\n",
       "      <td>0</td>\n",
       "      <td>0</td>\n",
       "      <td>0</td>\n",
       "      <td>0</td>\n",
       "      <td>0</td>\n",
       "      <td>3</td>\n",
       "      <td>0</td>\n",
       "      <td>...</td>\n",
       "      <td>0</td>\n",
       "      <td>0</td>\n",
       "      <td>0</td>\n",
       "      <td>0</td>\n",
       "      <td>0</td>\n",
       "      <td>0</td>\n",
       "      <td>0</td>\n",
       "      <td>0</td>\n",
       "      <td>0</td>\n",
       "      <td>0</td>\n",
       "    </tr>\n",
       "    <tr>\n",
       "      <th>...</th>\n",
       "      <td>...</td>\n",
       "      <td>...</td>\n",
       "      <td>...</td>\n",
       "      <td>...</td>\n",
       "      <td>...</td>\n",
       "      <td>...</td>\n",
       "      <td>...</td>\n",
       "      <td>...</td>\n",
       "      <td>...</td>\n",
       "      <td>...</td>\n",
       "      <td>...</td>\n",
       "      <td>...</td>\n",
       "      <td>...</td>\n",
       "      <td>...</td>\n",
       "      <td>...</td>\n",
       "      <td>...</td>\n",
       "      <td>...</td>\n",
       "      <td>...</td>\n",
       "      <td>...</td>\n",
       "      <td>...</td>\n",
       "      <td>...</td>\n",
       "    </tr>\n",
       "    <tr>\n",
       "      <th>49007</th>\n",
       "      <td>0</td>\n",
       "      <td>0</td>\n",
       "      <td>0</td>\n",
       "      <td>0</td>\n",
       "      <td>0</td>\n",
       "      <td>0</td>\n",
       "      <td>0</td>\n",
       "      <td>0</td>\n",
       "      <td>0</td>\n",
       "      <td>4</td>\n",
       "      <td>...</td>\n",
       "      <td>0</td>\n",
       "      <td>0</td>\n",
       "      <td>0</td>\n",
       "      <td>0</td>\n",
       "      <td>0</td>\n",
       "      <td>0</td>\n",
       "      <td>0</td>\n",
       "      <td>0</td>\n",
       "      <td>0</td>\n",
       "      <td>0</td>\n",
       "    </tr>\n",
       "    <tr>\n",
       "      <th>32706</th>\n",
       "      <td>0</td>\n",
       "      <td>0</td>\n",
       "      <td>0</td>\n",
       "      <td>0</td>\n",
       "      <td>0</td>\n",
       "      <td>0</td>\n",
       "      <td>0</td>\n",
       "      <td>0</td>\n",
       "      <td>0</td>\n",
       "      <td>16</td>\n",
       "      <td>...</td>\n",
       "      <td>3</td>\n",
       "      <td>0</td>\n",
       "      <td>4</td>\n",
       "      <td>0</td>\n",
       "      <td>0</td>\n",
       "      <td>0</td>\n",
       "      <td>0</td>\n",
       "      <td>0</td>\n",
       "      <td>0</td>\n",
       "      <td>0</td>\n",
       "    </tr>\n",
       "    <tr>\n",
       "      <th>53207</th>\n",
       "      <td>0</td>\n",
       "      <td>0</td>\n",
       "      <td>0</td>\n",
       "      <td>0</td>\n",
       "      <td>0</td>\n",
       "      <td>0</td>\n",
       "      <td>0</td>\n",
       "      <td>0</td>\n",
       "      <td>0</td>\n",
       "      <td>8</td>\n",
       "      <td>...</td>\n",
       "      <td>0</td>\n",
       "      <td>0</td>\n",
       "      <td>0</td>\n",
       "      <td>0</td>\n",
       "      <td>0</td>\n",
       "      <td>0</td>\n",
       "      <td>0</td>\n",
       "      <td>0</td>\n",
       "      <td>0</td>\n",
       "      <td>0</td>\n",
       "    </tr>\n",
       "    <tr>\n",
       "      <th>23103</th>\n",
       "      <td>255</td>\n",
       "      <td>255</td>\n",
       "      <td>255</td>\n",
       "      <td>255</td>\n",
       "      <td>255</td>\n",
       "      <td>255</td>\n",
       "      <td>255</td>\n",
       "      <td>255</td>\n",
       "      <td>255</td>\n",
       "      <td>255</td>\n",
       "      <td>...</td>\n",
       "      <td>255</td>\n",
       "      <td>255</td>\n",
       "      <td>255</td>\n",
       "      <td>255</td>\n",
       "      <td>255</td>\n",
       "      <td>255</td>\n",
       "      <td>255</td>\n",
       "      <td>255</td>\n",
       "      <td>255</td>\n",
       "      <td>255</td>\n",
       "    </tr>\n",
       "    <tr>\n",
       "      <th>4986</th>\n",
       "      <td>0</td>\n",
       "      <td>0</td>\n",
       "      <td>0</td>\n",
       "      <td>0</td>\n",
       "      <td>0</td>\n",
       "      <td>0</td>\n",
       "      <td>0</td>\n",
       "      <td>0</td>\n",
       "      <td>2</td>\n",
       "      <td>0</td>\n",
       "      <td>...</td>\n",
       "      <td>0</td>\n",
       "      <td>0</td>\n",
       "      <td>0</td>\n",
       "      <td>0</td>\n",
       "      <td>0</td>\n",
       "      <td>0</td>\n",
       "      <td>0</td>\n",
       "      <td>0</td>\n",
       "      <td>0</td>\n",
       "      <td>0</td>\n",
       "    </tr>\n",
       "  </tbody>\n",
       "</table>\n",
       "<p>12000 rows × 784 columns</p>\n",
       "</div>"
      ],
      "text/plain": [
       "       0    1    2    3    4    5    6    7    8    9    ...  774  775  776  \\\n",
       "7953     0    0    0    0    0    0    0    0    0    0  ...    1    5    2   \n",
       "40250    0    0    0    0    0    0    0    0    0    7  ...    0    0    0   \n",
       "14271    0    0    0    0    0    0    0    0    5    2  ...    0    0    0   \n",
       "36694    0    0    0    0    0    0    0    0    0    9  ...    0    0    0   \n",
       "32817    0    0    0    0    0    0    0    0    3    0  ...    0    0    0   \n",
       "...    ...  ...  ...  ...  ...  ...  ...  ...  ...  ...  ...  ...  ...  ...   \n",
       "49007    0    0    0    0    0    0    0    0    0    4  ...    0    0    0   \n",
       "32706    0    0    0    0    0    0    0    0    0   16  ...    3    0    4   \n",
       "53207    0    0    0    0    0    0    0    0    0    8  ...    0    0    0   \n",
       "23103  255  255  255  255  255  255  255  255  255  255  ...  255  255  255   \n",
       "4986     0    0    0    0    0    0    0    0    2    0  ...    0    0    0   \n",
       "\n",
       "       777  778  779  780  781  782  783  \n",
       "7953     0    0    5    0    0    0    0  \n",
       "40250    0    0    0    0    0    0    0  \n",
       "14271    0    0    0    0    0    0    0  \n",
       "36694    0    0    0    0    0    0    0  \n",
       "32817    0    0    0    0    0    0    0  \n",
       "...    ...  ...  ...  ...  ...  ...  ...  \n",
       "49007    0    0    0    0    0    0    0  \n",
       "32706    0    0    0    0    0    0    0  \n",
       "53207    0    0    0    0    0    0    0  \n",
       "23103  255  255  255  255  255  255  255  \n",
       "4986     0    0    0    0    0    0    0  \n",
       "\n",
       "[12000 rows x 784 columns]"
      ]
     },
     "execution_count": 42,
     "metadata": {},
     "output_type": "execute_result"
    }
   ],
   "source": [
    "X_test"
   ]
  },
  {
   "cell_type": "markdown",
   "metadata": {},
   "source": [
    "### Scaling"
   ]
  },
  {
   "cell_type": "code",
   "execution_count": 43,
   "metadata": {},
   "outputs": [],
   "source": [
    "from sklearn.preprocessing import MinMaxScaler"
   ]
  },
  {
   "cell_type": "code",
   "execution_count": 44,
   "metadata": {},
   "outputs": [],
   "source": [
    "sc = MinMaxScaler()"
   ]
  },
  {
   "cell_type": "code",
   "execution_count": 45,
   "metadata": {},
   "outputs": [],
   "source": [
    "X_train = sc.fit_transform(X_train)"
   ]
  },
  {
   "cell_type": "code",
   "execution_count": 46,
   "metadata": {},
   "outputs": [
    {
     "data": {
      "text/plain": [
       "array([[0., 0., 0., ..., 0., 0., 0.],\n",
       "       [0., 0., 0., ..., 0., 0., 0.],\n",
       "       [0., 0., 0., ..., 0., 0., 0.],\n",
       "       ...,\n",
       "       [0., 0., 0., ..., 0., 0., 0.],\n",
       "       [1., 1., 1., ..., 1., 1., 1.],\n",
       "       [0., 0., 0., ..., 0., 0., 0.]])"
      ]
     },
     "execution_count": 46,
     "metadata": {},
     "output_type": "execute_result"
    }
   ],
   "source": [
    "X_train"
   ]
  },
  {
   "cell_type": "code",
   "execution_count": 47,
   "metadata": {},
   "outputs": [],
   "source": [
    "X_test = sc.transform(X_test)"
   ]
  },
  {
   "cell_type": "markdown",
   "metadata": {},
   "source": [
    "### Build The model"
   ]
  },
  {
   "cell_type": "markdown",
   "metadata": {},
   "source": [
    "##### KNN Model"
   ]
  },
  {
   "cell_type": "code",
   "execution_count": 50,
   "metadata": {},
   "outputs": [],
   "source": [
    "import time"
   ]
  },
  {
   "cell_type": "code",
   "execution_count": 48,
   "metadata": {},
   "outputs": [],
   "source": [
    "# Import the required LIBRARY\n",
    "from sklearn.neighbors import KNeighborsClassifier"
   ]
  },
  {
   "cell_type": "code",
   "execution_count": 49,
   "metadata": {},
   "outputs": [],
   "source": [
    "knn_model = KNeighborsClassifier()"
   ]
  },
  {
   "cell_type": "code",
   "execution_count": 51,
   "metadata": {},
   "outputs": [
    {
     "name": "stdout",
     "output_type": "stream",
     "text": [
      "Time take knn_model Training :: 0.23413801193237305 Seconds\n"
     ]
    }
   ],
   "source": [
    "st = time.time()\n",
    "knn_model.fit(X_train, y_train)\n",
    "et = time.time()\n",
    "\n",
    "print(\"Time take knn_model Training ::\", et - st,\"Seconds\")"
   ]
  },
  {
   "cell_type": "code",
   "execution_count": 52,
   "metadata": {},
   "outputs": [],
   "source": [
    "#knn_model trained model"
   ]
  },
  {
   "cell_type": "markdown",
   "metadata": {},
   "source": [
    "#### Prediction"
   ]
  },
  {
   "cell_type": "code",
   "execution_count": 53,
   "metadata": {},
   "outputs": [
    {
     "name": "stdout",
     "output_type": "stream",
     "text": [
      "Time take knn_model Testing :: 21.005778789520264 Seconds\n"
     ]
    }
   ],
   "source": [
    "st = time.time()\n",
    "y_pred = knn_model.predict(X_test)\n",
    "et = time.time()\n",
    "\n",
    "print(\"Time take knn_model Testing ::\", et - st,\"Seconds\")"
   ]
  },
  {
   "cell_type": "code",
   "execution_count": 64,
   "metadata": {},
   "outputs": [
    {
     "data": {
      "text/plain": [
       "array(['1', '6', '2', ..., '8', '3', '0'], dtype=object)"
      ]
     },
     "execution_count": 64,
     "metadata": {},
     "output_type": "execute_result"
    }
   ],
   "source": [
    "y_pred"
   ]
  },
  {
   "cell_type": "code",
   "execution_count": 65,
   "metadata": {},
   "outputs": [
    {
     "data": {
      "text/plain": [
       "7953     1\n",
       "40250    6\n",
       "14271    2\n",
       "36694    6\n",
       "32817    5\n",
       "        ..\n",
       "49007    8\n",
       "32706    5\n",
       "53207    8\n",
       "23103    3\n",
       "4986     0\n",
       "Length: 12000, dtype: object"
      ]
     },
     "execution_count": 65,
     "metadata": {},
     "output_type": "execute_result"
    }
   ],
   "source": [
    "y_test"
   ]
  },
  {
   "cell_type": "code",
   "execution_count": 182,
   "metadata": {},
   "outputs": [],
   "source": [
    "test = y_pred == y_test.values"
   ]
  },
  {
   "cell_type": "code",
   "execution_count": 219,
   "metadata": {},
   "outputs": [
    {
     "data": {
      "text/plain": [
       "'7'"
      ]
     },
     "execution_count": 219,
     "metadata": {},
     "output_type": "execute_result"
    }
   ],
   "source": [
    "y_pred[61]"
   ]
  },
  {
   "cell_type": "code",
   "execution_count": 218,
   "metadata": {},
   "outputs": [
    {
     "data": {
      "text/plain": [
       "'5'"
      ]
     },
     "execution_count": 218,
     "metadata": {},
     "output_type": "execute_result"
    }
   ],
   "source": [
    "y_test.values[61]"
   ]
  },
  {
   "cell_type": "code",
   "execution_count": 185,
   "metadata": {},
   "outputs": [
    {
     "data": {
      "text/plain": [
       "array([ True,  True,  True, ...,  True,  True,  True])"
      ]
     },
     "execution_count": 185,
     "metadata": {},
     "output_type": "execute_result"
    }
   ],
   "source": [
    "test"
   ]
  },
  {
   "cell_type": "code",
   "execution_count": 220,
   "metadata": {
    "scrolled": true
   },
   "outputs": [
    {
     "data": {
      "text/plain": [
       "array([   17,    18,    29,    61,    64,    74,   116,   140,   141,\n",
       "         203,   209,   219,   357,   364,   441,   607,   609,   619,\n",
       "         621,   626,   637,   651,   683,   735,   749,   762,   794,\n",
       "         819,   824,   857,   963,  1039,  1058,  1061,  1062,  1092,\n",
       "        1133,  1141,  1199,  1202,  1213,  1250,  1252,  1264,  1275,\n",
       "        1292,  1366,  1461,  1537,  1623,  1678,  1683,  1685,  1716,\n",
       "        1783,  1809,  1846,  1855,  1856,  1914,  1921,  1981,  1984,\n",
       "        1996,  2006,  2056,  2059,  2167,  2210,  2242,  2306,  2340,\n",
       "        2343,  2353,  2508,  2701,  2741,  2818,  2873,  2963,  2986,\n",
       "        3001,  3187,  3218,  3220,  3224,  3253,  3270,  3297,  3333,\n",
       "        3347,  3370,  3377,  3384,  3435,  3461,  3507,  3512,  3581,\n",
       "        3620,  3644,  3685,  3727,  3747,  3753,  3827,  3861,  3891,\n",
       "        3942,  3962,  3968,  3997,  4029,  4045,  4086,  4120,  4237,\n",
       "        4293,  4318,  4331,  4417,  4427,  4471,  4474,  4520,  4542,\n",
       "        4554,  4591,  4596,  4609,  4645,  4662,  4666,  4677,  4794,\n",
       "        4797,  4799,  4845,  4855,  4925,  4952,  5057,  5076,  5117,\n",
       "        5147,  5313,  5371,  5457,  5483,  5508,  5517,  5521,  5545,\n",
       "        5556,  5589,  5618,  5660,  5663,  5707,  5848,  5866,  5920,\n",
       "        5940,  5969,  5994,  5997,  6020,  6060,  6085,  6118,  6119,\n",
       "        6158,  6188,  6201,  6238,  6259,  6300,  6328,  6354,  6378,\n",
       "        6391,  6404,  6429,  6442,  6514,  6516,  6517,  6637,  6650,\n",
       "        6653,  6783,  6785,  6800,  6826,  6886,  6905,  7015,  7060,\n",
       "        7079,  7105,  7141,  7184,  7214,  7233,  7241,  7359,  7404,\n",
       "        7436,  7449,  7453,  7499,  7529,  7554,  7629,  7648,  7682,\n",
       "        7707,  7750,  7821,  7862,  7910,  7926,  8021,  8096,  8146,\n",
       "        8156,  8195,  8242,  8320,  8434,  8466,  8484,  8526,  8529,\n",
       "        8609,  8616,  8666,  8716,  8723,  8734,  8781,  8806,  8812,\n",
       "        8857,  8945,  8969,  8976,  8981,  8994,  8997,  9015,  9048,\n",
       "        9072,  9099,  9110,  9118,  9324,  9383,  9416,  9436,  9441,\n",
       "        9494,  9500,  9521,  9575,  9637,  9669,  9689,  9725,  9727,\n",
       "        9738,  9784,  9860,  9882,  9908,  9928,  9950,  9966,  9970,\n",
       "        9993,  9995, 10008, 10058, 10068, 10097, 10173, 10193, 10275,\n",
       "       10356, 10385, 10427, 10431, 10435, 10455, 10479, 10559, 10563,\n",
       "       10598, 10657, 10660, 10663, 10677, 10681, 10689, 10693, 10721,\n",
       "       10723, 10820, 10878, 10963, 10987, 10993, 11006, 11017, 11059,\n",
       "       11072, 11082, 11083, 11139, 11149, 11195, 11204, 11326, 11394,\n",
       "       11444, 11472, 11527, 11548, 11581, 11592, 11667, 11688, 11776,\n",
       "       11908, 11940, 11975], dtype=int64)"
      ]
     },
     "execution_count": 220,
     "metadata": {},
     "output_type": "execute_result"
    }
   ],
   "source": [
    "np.where(test !=True)[0]"
   ]
  },
  {
   "cell_type": "code",
   "execution_count": null,
   "metadata": {},
   "outputs": [],
   "source": [
    "#inverse_transform -- convert back into original values"
   ]
  },
  {
   "cell_type": "code",
   "execution_count": 217,
   "metadata": {},
   "outputs": [
    {
     "data": {
      "text/plain": [
       "<matplotlib.image.AxesImage at 0x240c8773448>"
      ]
     },
     "execution_count": 217,
     "metadata": {},
     "output_type": "execute_result"
    },
    {
     "data": {
      "image/png": "[encoded data removed]",
      "text/plain": [
       "<Figure size 432x288 with 1 Axes>"
      ]
     },
     "metadata": {
      "needs_background": "light"
     },
     "output_type": "display_data"
    }
   ],
   "source": [
    "plt.imshow(sc.inverse_transform(X_test[61:62]).reshape(28,28) ,cmap =\"gray\")"
   ]
  },
  {
   "cell_type": "markdown",
   "metadata": {},
   "source": [
    "### Evaluation"
   ]
  },
  {
   "cell_type": "code",
   "execution_count": 66,
   "metadata": {},
   "outputs": [],
   "source": [
    "from sklearn.metrics import accuracy_score"
   ]
  },
  {
   "cell_type": "code",
   "execution_count": 67,
   "metadata": {},
   "outputs": [
    {
     "data": {
      "text/plain": [
       "0.972"
      ]
     },
     "execution_count": 67,
     "metadata": {},
     "output_type": "execute_result"
    }
   ],
   "source": [
    "accuracy_score(y_test, y_pred)"
   ]
  },
  {
   "cell_type": "code",
   "execution_count": 68,
   "metadata": {},
   "outputs": [
    {
     "name": "stdout",
     "output_type": "stream",
     "text": [
      "Test accuracy score :: 97.2 %\n"
     ]
    }
   ],
   "source": [
    "print(\"Test accuracy score ::\", accuracy_score(y_test, y_pred) * 100, \"%\")"
   ]
  },
  {
   "cell_type": "code",
   "execution_count": 70,
   "metadata": {},
   "outputs": [],
   "source": [
    "y_pred_train = knn_model.predict(X_train)"
   ]
  },
  {
   "cell_type": "code",
   "execution_count": 72,
   "metadata": {},
   "outputs": [
    {
     "name": "stdout",
     "output_type": "stream",
     "text": [
      "Train accuracy score :: 97.99375 %\n"
     ]
    }
   ],
   "source": [
    "print(\"Train accuracy score ::\", accuracy_score(y_train, y_pred_train) * 100, \"%\")"
   ]
  },
  {
   "cell_type": "markdown",
   "metadata": {},
   "source": [
    "### Real time prediction"
   ]
  },
  {
   "cell_type": "code",
   "execution_count": 155,
   "metadata": {},
   "outputs": [],
   "source": [
    "def predict_digit(img_path):\n",
    "    #Read the image\n",
    "    img = Image.open(img_path)\n",
    "    #Convert into grayscale\n",
    "    img = img.convert(\"L\")\n",
    "    \n",
    "#     thresh = 100\n",
    "#     #point will help to apply a function on each and every pixel value\n",
    "#     img = img.point(lambda p:0 if p > thresh else 255)\n",
    "    #resize the image to 28,28 \n",
    "    img = img.resize((28,28))\n",
    "    \n",
    "    \n",
    "    display(img)\n",
    "    #convert into numpy array\n",
    "    img = np.array(img)\n",
    "    #repshape 1 -- single image, 784 -- no pixles\n",
    "    img = img.reshape((1,784))\n",
    "    #apply scaling\n",
    "    img = sc.transform(img)\n",
    "    #feed the image to the model and get the prediction\n",
    "    prediction = knn_model.predict(img)\n",
    "    return prediction"
   ]
  },
  {
   "cell_type": "code",
   "execution_count": 156,
   "metadata": {},
   "outputs": [
    {
     "data": {
      "image/png": "[encoded data removed]",
      "text/plain": [
       "<PIL.Image.Image image mode=L size=28x28 at 0x240C6A931C8>"
      ]
     },
     "metadata": {},
     "output_type": "display_data"
    },
    {
     "data": {
      "text/plain": [
       "array(['6'], dtype=object)"
      ]
     },
     "execution_count": 156,
     "metadata": {},
     "output_type": "execute_result"
    }
   ],
   "source": [
    "predict_digit(r\"C:\\Users\\Abhishek\\Desktop\\Files-1\\My Files\\image.png\")"
   ]
  },
  {
   "cell_type": "code",
   "execution_count": 158,
   "metadata": {},
   "outputs": [
    {
     "data": {
      "image/png": "[encoded data removed]",
      "text/plain": [
       "<PIL.Image.Image image mode=L size=28x28 at 0x240C6FBBAC8>"
      ]
     },
     "metadata": {},
     "output_type": "display_data"
    },
    {
     "data": {
      "text/plain": [
       "array(['0'], dtype=object)"
      ]
     },
     "execution_count": 158,
     "metadata": {},
     "output_type": "execute_result"
    }
   ],
   "source": [
    "predict_digit(r\"D:\\MNIST Dataset JPG format\\MNIST - JPG - testing\\0\\597.jpg\")"
   ]
  },
  {
   "cell_type": "code",
   "execution_count": 157,
   "metadata": {},
   "outputs": [
    {
     "data": {
      "image/png": "[encoded data removed]",
      "text/plain": [
       "<PIL.Image.Image image mode=L size=28x28 at 0x240C6F0B408>"
      ]
     },
     "metadata": {},
     "output_type": "display_data"
    },
    {
     "data": {
      "text/plain": [
       "array(['4'], dtype=object)"
      ]
     },
     "execution_count": 157,
     "metadata": {},
     "output_type": "execute_result"
    }
   ],
   "source": [
    "predict_digit(r\"C:\\Users\\Abhishek\\Desktop\\Files-1\\My Files\\image.jpeg\")"
   ]
  },
  {
   "cell_type": "code",
   "execution_count": 130,
   "metadata": {},
   "outputs": [],
   "source": [
    "img = Image.open(r\"C:\\Users\\Abhishek\\Desktop\\Files-1\\My Files\\image.png\")"
   ]
  },
  {
   "cell_type": "code",
   "execution_count": 131,
   "metadata": {},
   "outputs": [],
   "source": [
    "img = img.convert(\"L\")"
   ]
  },
  {
   "cell_type": "code",
   "execution_count": 172,
   "metadata": {},
   "outputs": [],
   "source": [
    "def predict_digit(image_path_list):\n",
    "    \n",
    "    images = []\n",
    "    for each_path in image_path_list:\n",
    "        #Read the image\n",
    "        img = Image.open(each_path)\n",
    "        #Convert the img into grayscale\n",
    "        img = img.convert(\"L\")\n",
    "        #Resize the img into 28 * 28\n",
    "        img = img.resize((28, 28))\n",
    "        #Convert into numpy array\n",
    "        img = np.asarray(img)\n",
    "        images.append(img.flatten())\n",
    "\n",
    "    img = np.array(images) \n",
    "    print(img.shape)\n",
    "    # Scaling\n",
    "    img = sc.transform(img)\n",
    "    #Feed the image to the model\n",
    "    prediction = knn_model.predict(img)\n",
    "\n",
    "    return prediction"
   ]
  },
  {
   "cell_type": "code",
   "execution_count": 174,
   "metadata": {},
   "outputs": [
    {
     "name": "stdout",
     "output_type": "stream",
     "text": [
      "(4, 784)\n"
     ]
    },
    {
     "data": {
      "text/plain": [
       "array(['6', '0', '4', '8'], dtype=object)"
      ]
     },
     "execution_count": 174,
     "metadata": {},
     "output_type": "execute_result"
    }
   ],
   "source": [
    "predict_digit([r\"C:\\Users\\Abhishek\\Desktop\\Files-1\\My Files\\image.png\",\n",
    "              r\"D:\\MNIST Dataset JPG format\\MNIST - JPG - testing\\0\\597.jpg\",\n",
    "              r\"C:\\Users\\Abhishek\\Desktop\\Files-1\\My Files\\image.jpeg\",\n",
    "              r\"D:\\MNIST Dataset JPG format\\MNIST - JPG - testing\\8\\466.jpg\"])"
   ]
  },
  {
   "cell_type": "markdown",
   "metadata": {},
   "source": [
    "### Save the model"
   ]
  },
  {
   "cell_type": "code",
   "execution_count": 54,
   "metadata": {},
   "outputs": [],
   "source": [
    "import joblib"
   ]
  },
  {
   "cell_type": "code",
   "execution_count": 55,
   "metadata": {},
   "outputs": [],
   "source": [
    "knn_model.scaler = sc"
   ]
  },
  {
   "cell_type": "code",
   "execution_count": 56,
   "metadata": {},
   "outputs": [
    {
     "data": {
      "text/plain": [
       "['minst_model.pkl']"
      ]
     },
     "execution_count": 56,
     "metadata": {},
     "output_type": "execute_result"
    }
   ],
   "source": [
    "joblib.dump(knn_model, \"minst_model.pkl\")"
   ]
  },
  {
   "cell_type": "code",
   "execution_count": null,
   "metadata": {},
   "outputs": [],
   "source": []
  }
 ],
 "metadata": {
  "kernelspec": {
   "display_name": "Python 3",
   "language": "python",
   "name": "python3"
  },
  "language_info": {
   "codemirror_mode": {
    "name": "ipython",
    "version": 3
   },
   "file_extension": ".py",
   "mimetype": "text/x-python",
   "name": "python",
   "nbconvert_exporter": "python",
   "pygments_lexer": "ipython3",
   "version": "3.7.4"
  }
 },
 "nbformat": 4,
 "nbformat_minor": 4
}
