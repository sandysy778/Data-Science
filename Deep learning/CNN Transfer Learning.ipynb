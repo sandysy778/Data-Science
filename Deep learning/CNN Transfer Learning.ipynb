{
 "cells": [
  {
   "cell_type": "code",
   "execution_count": 1,
   "id": "b03e8060-8f19-42b4-a94a-92d103fe8edc",
   "metadata": {
    "tags": []
   },
   "outputs": [],
   "source": [
    "import os\n",
    "os.environ['KMP_DUPLICATE_LIB_OK']='True'"
   ]
  },
  {
   "cell_type": "code",
   "execution_count": 2,
   "id": "e91ad7e5-521a-4e1a-a79c-e29e8c18217e",
   "metadata": {
    "tags": []
   },
   "outputs": [],
   "source": [
    "import tensorflow as tf\n",
    "from tensorflow.keras import Sequential\n",
    "from tensorflow.keras.applications import VGG16\n",
    "from tensorflow.keras.layers import Conv2D, Flatten, Dense\n",
    "from keras.layers.convolutional import MaxPooling2D\n",
    "from tensorflow.keras.optimizers import Adam\n",
    "from tensorflow.keras.losses import BinaryCrossentropy\n",
    "from tensorflow.keras.preprocessing.image import ImageDataGenerator\n",
    "import random\n",
    "from tensorflow.keras.callbacks import ModelCheckpoint"
   ]
  },
  {
   "cell_type": "code",
   "execution_count": 5,
   "id": "12a1d2b0-6bb1-4a57-976b-63e8ab3e5cb9",
   "metadata": {
    "tags": []
   },
   "outputs": [
    {
     "data": {
      "text/plain": [
       "<keras.layers.reshaping.flatten.Flatten at 0x228f0e9e950>"
      ]
     },
     "execution_count": 5,
     "metadata": {},
     "output_type": "execute_result"
    }
   ],
   "source": [
    "tf.keras.layers.Flatten()"
   ]
  },
  {
   "cell_type": "code",
   "execution_count": 32,
   "id": "1fcc324b-e7e8-4f14-934d-ad6c82278f68",
   "metadata": {},
   "outputs": [],
   "source": [
    "vgg_model = VGG16(include_top = True, weights = None,\n",
    "                  classifier_activation = 'sigmoid')"
   ]
  },
  {
   "cell_type": "markdown",
   "id": "bb8f05c0-1cd0-409d-bb79-0e2dcd53bda8",
   "metadata": {},
   "source": [
    "Init VGG Model"
   ]
  },
  {
   "cell_type": "code",
   "execution_count": 33,
   "id": "f93e87fc-80c9-4879-a489-78f50c212ce2",
   "metadata": {},
   "outputs": [
    {
     "name": "stdout",
     "output_type": "stream",
     "text": [
      "Model: \"vgg16\"\n",
      "_________________________________________________________________\n",
      " Layer (type)                Output Shape              Param #   \n",
      "=================================================================\n",
      " input_4 (InputLayer)        [(None, 224, 224, 3)]     0         \n",
      "                                                                 \n",
      " block1_conv1 (Conv2D)       (None, 224, 224, 64)      1792      \n",
      "                                                                 \n",
      " block1_conv2 (Conv2D)       (None, 224, 224, 64)      36928     \n",
      "                                                                 \n",
      " block1_pool (MaxPooling2D)  (None, 112, 112, 64)      0         \n",
      "                                                                 \n",
      " block2_conv1 (Conv2D)       (None, 112, 112, 128)     73856     \n",
      "                                                                 \n",
      " block2_conv2 (Conv2D)       (None, 112, 112, 128)     147584    \n",
      "                                                                 \n",
      " block2_pool (MaxPooling2D)  (None, 56, 56, 128)       0         \n",
      "                                                                 \n",
      " block3_conv1 (Conv2D)       (None, 56, 56, 256)       295168    \n",
      "                                                                 \n",
      " block3_conv2 (Conv2D)       (None, 56, 56, 256)       590080    \n",
      "                                                                 \n",
      " block3_conv3 (Conv2D)       (None, 56, 56, 256)       590080    \n",
      "                                                                 \n",
      " block3_pool (MaxPooling2D)  (None, 28, 28, 256)       0         \n",
      "                                                                 \n",
      " block4_conv1 (Conv2D)       (None, 28, 28, 512)       1180160   \n",
      "                                                                 \n",
      " block4_conv2 (Conv2D)       (None, 28, 28, 512)       2359808   \n",
      "                                                                 \n",
      " block4_conv3 (Conv2D)       (None, 28, 28, 512)       2359808   \n",
      "                                                                 \n",
      " block4_pool (MaxPooling2D)  (None, 14, 14, 512)       0         \n",
      "                                                                 \n",
      " block5_conv1 (Conv2D)       (None, 14, 14, 512)       2359808   \n",
      "                                                                 \n",
      " block5_conv2 (Conv2D)       (None, 14, 14, 512)       2359808   \n",
      "                                                                 \n",
      " block5_conv3 (Conv2D)       (None, 14, 14, 512)       2359808   \n",
      "                                                                 \n",
      " block5_pool (MaxPooling2D)  (None, 7, 7, 512)         0         \n",
      "                                                                 \n",
      " flatten (Flatten)           (None, 25088)             0         \n",
      "                                                                 \n",
      " fc1 (Dense)                 (None, 4096)              102764544 \n",
      "                                                                 \n",
      " fc2 (Dense)                 (None, 4096)              16781312  \n",
      "                                                                 \n",
      " predictions (Dense)         (None, 1000)              4097000   \n",
      "                                                                 \n",
      "=================================================================\n",
      "Total params: 138,357,544\n",
      "Trainable params: 138,357,544\n",
      "Non-trainable params: 0\n",
      "_________________________________________________________________\n"
     ]
    }
   ],
   "source": [
    "vgg_model.summary()"
   ]
  },
  {
   "cell_type": "code",
   "execution_count": 34,
   "id": "4d06f060-bf4f-44e5-bcd4-fa7450625d8f",
   "metadata": {},
   "outputs": [
    {
     "data": {
      "text/plain": [
       "[<keras.engine.input_layer.InputLayer at 0x229c8ced450>,\n",
       " <keras.layers.convolutional.conv2d.Conv2D at 0x228fb8f8f40>,\n",
       " <keras.layers.convolutional.conv2d.Conv2D at 0x228fb8f8a60>,\n",
       " <keras.layers.pooling.max_pooling2d.MaxPooling2D at 0x229c8cec760>,\n",
       " <keras.layers.convolutional.conv2d.Conv2D at 0x229c9f4b250>,\n",
       " <keras.layers.convolutional.conv2d.Conv2D at 0x229c9f4b400>,\n",
       " <keras.layers.pooling.max_pooling2d.MaxPooling2D at 0x229c9f35150>,\n",
       " <keras.layers.convolutional.conv2d.Conv2D at 0x229c9f4b040>,\n",
       " <keras.layers.convolutional.conv2d.Conv2D at 0x229c9f316c0>,\n",
       " <keras.layers.convolutional.conv2d.Conv2D at 0x229c9f4eb00>,\n",
       " <keras.layers.pooling.max_pooling2d.MaxPooling2D at 0x229c9f771f0>,\n",
       " <keras.layers.convolutional.conv2d.Conv2D at 0x229c9f67010>,\n",
       " <keras.layers.convolutional.conv2d.Conv2D at 0x229ca01fc40>,\n",
       " <keras.layers.convolutional.conv2d.Conv2D at 0x229ca01ffa0>,\n",
       " <keras.layers.pooling.max_pooling2d.MaxPooling2D at 0x229ca6b57e0>,\n",
       " <keras.layers.convolutional.conv2d.Conv2D at 0x229ca237fd0>,\n",
       " <keras.layers.convolutional.conv2d.Conv2D at 0x229ca6b7910>,\n",
       " <keras.layers.convolutional.conv2d.Conv2D at 0x229ca6b7400>,\n",
       " <keras.layers.pooling.max_pooling2d.MaxPooling2D at 0x229ca6f3a30>,\n",
       " <keras.layers.reshaping.flatten.Flatten at 0x229ca6f2020>,\n",
       " <keras.layers.core.dense.Dense at 0x229ca6d2a40>,\n",
       " <keras.layers.core.dense.Dense at 0x229ca6d2f20>,\n",
       " <keras.layers.core.dense.Dense at 0x229ca6d0df0>]"
      ]
     },
     "execution_count": 34,
     "metadata": {},
     "output_type": "execute_result"
    }
   ],
   "source": [
    "vgg_model.layers"
   ]
  },
  {
   "cell_type": "markdown",
   "id": "9496f7d3-d73f-402b-89f2-8c081d6058f7",
   "metadata": {},
   "source": [
    "Compile The Model"
   ]
  },
  {
   "cell_type": "code",
   "execution_count": null,
   "id": "35c33bdf-7491-4d00-a304-9bbbd040140e",
   "metadata": {},
   "outputs": [],
   "source": []
  },
  {
   "cell_type": "code",
   "execution_count": 35,
   "id": "d31407cc-c2cf-41c1-a6ce-08e49b7a2872",
   "metadata": {},
   "outputs": [],
   "source": [
    "adam_o = Adam(learning_rate =0.001)"
   ]
  },
  {
   "cell_type": "code",
   "execution_count": 36,
   "id": "6b240259-0ea3-4aec-9680-e77d0591a35a",
   "metadata": {},
   "outputs": [],
   "source": [
    "#vgg_model.compile(loss = \"sparse_categorical_crossentropy\", optimizer = adam_o, metrics = [\"accuracy\"])\n",
    "vgg_model.compile(loss = \"binary_crossentropy\", optimizer = adam_o, metrics = [\"accuracy\"])"
   ]
  },
  {
   "cell_type": "markdown",
   "id": "5540ffb9-5b1e-4f71-9709-b7f164519379",
   "metadata": {},
   "source": [
    "Image Data Generator"
   ]
  },
  {
   "cell_type": "code",
   "execution_count": null,
   "id": "13da09a8-972a-4720-bc7f-cddd212d710b",
   "metadata": {},
   "outputs": [],
   "source": []
  },
  {
   "cell_type": "code",
   "execution_count": null,
   "id": "043f7f12-66c2-44ac-adeb-9fe6e7a07093",
   "metadata": {},
   "outputs": [],
   "source": []
  },
  {
   "cell_type": "code",
   "execution_count": 37,
   "id": "65c2f9ce-2828-4a64-b57f-617c0524eae3",
   "metadata": {},
   "outputs": [],
   "source": [
    "train_gen = ImageDataGenerator(rotation_range = random.randint(0, 30), \n",
    "                               shear_range = random.randint(0, 1000)/100,\n",
    "                               zoom_range = [0, 3],\n",
    "                               horizontal_flip = True,\n",
    "                               vertical_flip = True,\n",
    "                               rescale = 1.0/255)"
   ]
  },
  {
   "cell_type": "code",
   "execution_count": 38,
   "id": "45ee2ed6-ad21-496d-85fe-d598d028c5a0",
   "metadata": {},
   "outputs": [],
   "source": [
    "test_gen = ImageDataGenerator(rescale = 1.0/255)"
   ]
  },
  {
   "cell_type": "code",
   "execution_count": 49,
   "id": "0a66797b-8a5f-44b3-9a4b-ef3c3a090627",
   "metadata": {},
   "outputs": [
    {
     "name": "stdout",
     "output_type": "stream",
     "text": [
      "Found 8000 images belonging to 2 classes.\n"
     ]
    }
   ],
   "source": [
    "#path\n",
    "X_train = train_gen.flow_from_directory(r\"dataset/training_set\", target_size = (224, 224), color_mode = 'rgb',\n",
    "                             class_mode = \"binary\", batch_size = 32, shuffle = True,)"
   ]
  },
  {
   "cell_type": "code",
   "execution_count": 62,
   "id": "8977e631-a0f4-4f39-917a-68cfa274c2d1",
   "metadata": {},
   "outputs": [
    {
     "data": {
      "text/plain": [
       "<keras.preprocessing.image.DirectoryIterator at 0x229c8cc0640>"
      ]
     },
     "execution_count": 62,
     "metadata": {},
     "output_type": "execute_result"
    }
   ],
   "source": [
    "X_train"
   ]
  },
  {
   "cell_type": "code",
   "execution_count": 63,
   "id": "59c62e53-22ab-418c-8177-40fc66c631ce",
   "metadata": {},
   "outputs": [
    {
     "name": "stdout",
     "output_type": "stream",
     "text": [
      "Found 2000 images belonging to 2 classes.\n"
     ]
    }
   ],
   "source": [
    "X_test = test_gen.flow_from_directory(r\"dataset/test_set\", target_size = (224, 224), color_mode = 'rgb',\n",
    "                             class_mode = \"binary\", batch_size = 32, shuffle = False,)"
   ]
  },
  {
   "cell_type": "code",
   "execution_count": 64,
   "id": "bc9ef0de-9ac4-43cf-9818-649f43f2ae64",
   "metadata": {},
   "outputs": [],
   "source": [
    "ckpt = ModelCheckpoint(\"best_epoch_vgg.h5\", monitor = \"val_accuracy\", mode = 'max',\n",
    "                       save_best_only = True)"
   ]
  },
  {
   "cell_type": "code",
   "execution_count": 65,
   "id": "162c2971-80e5-488c-ad68-fdc8add206bc",
   "metadata": {},
   "outputs": [],
   "source": [
    "#model.add(Flatten())\n",
    "#model.add(GlobalAveragePooling2D())\n"
   ]
  },
  {
   "cell_type": "code",
   "execution_count": 66,
   "id": "507854e9-3b9a-4014-b8f8-8f6aba1f9e12",
   "metadata": {},
   "outputs": [
    {
     "name": "stdout",
     "output_type": "stream",
     "text": [
      "Epoch 1/30\n"
     ]
    },
    {
     "ename": "ValueError",
     "evalue": "in user code:\n\n    File \"D:\\ProgramFiles\\Anaconda\\envs\\learning\\lib\\site-packages\\keras\\engine\\training.py\", line 1160, in train_function  *\n        return step_function(self, iterator)\n    File \"D:\\ProgramFiles\\Anaconda\\envs\\learning\\lib\\site-packages\\keras\\engine\\training.py\", line 1146, in step_function  **\n        outputs = model.distribute_strategy.run(run_step, args=(data,))\n    File \"D:\\ProgramFiles\\Anaconda\\envs\\learning\\lib\\site-packages\\keras\\engine\\training.py\", line 1135, in run_step  **\n        outputs = model.train_step(data)\n    File \"D:\\ProgramFiles\\Anaconda\\envs\\learning\\lib\\site-packages\\keras\\engine\\training.py\", line 994, in train_step\n        loss = self.compute_loss(x, y, y_pred, sample_weight)\n    File \"D:\\ProgramFiles\\Anaconda\\envs\\learning\\lib\\site-packages\\keras\\engine\\training.py\", line 1052, in compute_loss\n        return self.compiled_loss(\n    File \"D:\\ProgramFiles\\Anaconda\\envs\\learning\\lib\\site-packages\\keras\\engine\\compile_utils.py\", line 265, in __call__\n        loss_value = loss_obj(y_t, y_p, sample_weight=sw)\n    File \"D:\\ProgramFiles\\Anaconda\\envs\\learning\\lib\\site-packages\\keras\\losses.py\", line 152, in __call__\n        losses = call_fn(y_true, y_pred)\n    File \"D:\\ProgramFiles\\Anaconda\\envs\\learning\\lib\\site-packages\\keras\\losses.py\", line 272, in call  **\n        return ag_fn(y_true, y_pred, **self._fn_kwargs)\n    File \"D:\\ProgramFiles\\Anaconda\\envs\\learning\\lib\\site-packages\\keras\\losses.py\", line 2162, in binary_crossentropy\n        backend.binary_crossentropy(y_true, y_pred, from_logits=from_logits),\n    File \"D:\\ProgramFiles\\Anaconda\\envs\\learning\\lib\\site-packages\\keras\\backend.py\", line 5677, in binary_crossentropy\n        return tf.nn.sigmoid_cross_entropy_with_logits(\n\n    ValueError: `logits` and `labels` must have the same shape, received ((None, 1000) vs (None, 1)).\n",
     "output_type": "error",
     "traceback": [
      "\u001b[1;31m---------------------------------------------------------------------------\u001b[0m",
      "\u001b[1;31mValueError\u001b[0m                                Traceback (most recent call last)",
      "Cell \u001b[1;32mIn[66], line 1\u001b[0m\n\u001b[1;32m----> 1\u001b[0m \u001b[43mvgg_model\u001b[49m\u001b[38;5;241;43m.\u001b[39;49m\u001b[43mfit\u001b[49m\u001b[43m(\u001b[49m\u001b[43mX_train\u001b[49m\u001b[43m,\u001b[49m\u001b[43m \u001b[49m\u001b[43mepochs\u001b[49m\u001b[43m \u001b[49m\u001b[38;5;241;43m=\u001b[39;49m\u001b[43m \u001b[49m\u001b[38;5;241;43m30\u001b[39;49m\u001b[43m,\u001b[49m\u001b[43mvalidation_data\u001b[49m\u001b[43m \u001b[49m\u001b[38;5;241;43m=\u001b[39;49m\u001b[43m \u001b[49m\u001b[43mX_test\u001b[49m\u001b[43m,\u001b[49m\u001b[43m \u001b[49m\u001b[43mcallbacks\u001b[49m\u001b[43m \u001b[49m\u001b[38;5;241;43m=\u001b[39;49m\u001b[43m \u001b[49m\u001b[43m[\u001b[49m\u001b[43mckpt\u001b[49m\u001b[43m]\u001b[49m\u001b[43m)\u001b[49m\n",
      "File \u001b[1;32mD:\\ProgramFiles\\Anaconda\\envs\\learning\\lib\\site-packages\\keras\\utils\\traceback_utils.py:70\u001b[0m, in \u001b[0;36mfilter_traceback.<locals>.error_handler\u001b[1;34m(*args, **kwargs)\u001b[0m\n\u001b[0;32m     67\u001b[0m     filtered_tb \u001b[38;5;241m=\u001b[39m _process_traceback_frames(e\u001b[38;5;241m.\u001b[39m__traceback__)\n\u001b[0;32m     68\u001b[0m     \u001b[38;5;66;03m# To get the full stack trace, call:\u001b[39;00m\n\u001b[0;32m     69\u001b[0m     \u001b[38;5;66;03m# `tf.debugging.disable_traceback_filtering()`\u001b[39;00m\n\u001b[1;32m---> 70\u001b[0m     \u001b[38;5;28;01mraise\u001b[39;00m e\u001b[38;5;241m.\u001b[39mwith_traceback(filtered_tb) \u001b[38;5;28;01mfrom\u001b[39;00m \u001b[38;5;28;01mNone\u001b[39;00m\n\u001b[0;32m     71\u001b[0m \u001b[38;5;28;01mfinally\u001b[39;00m:\n\u001b[0;32m     72\u001b[0m     \u001b[38;5;28;01mdel\u001b[39;00m filtered_tb\n",
      "File \u001b[1;32m~\\AppData\\Local\\Temp\\__autograph_generated_file2gdfmlap.py:15\u001b[0m, in \u001b[0;36mouter_factory.<locals>.inner_factory.<locals>.tf__train_function\u001b[1;34m(iterator)\u001b[0m\n\u001b[0;32m     13\u001b[0m \u001b[38;5;28;01mtry\u001b[39;00m:\n\u001b[0;32m     14\u001b[0m     do_return \u001b[38;5;241m=\u001b[39m \u001b[38;5;28;01mTrue\u001b[39;00m\n\u001b[1;32m---> 15\u001b[0m     retval_ \u001b[38;5;241m=\u001b[39m ag__\u001b[38;5;241m.\u001b[39mconverted_call(ag__\u001b[38;5;241m.\u001b[39mld(step_function), (ag__\u001b[38;5;241m.\u001b[39mld(\u001b[38;5;28mself\u001b[39m), ag__\u001b[38;5;241m.\u001b[39mld(iterator)), \u001b[38;5;28;01mNone\u001b[39;00m, fscope)\n\u001b[0;32m     16\u001b[0m \u001b[38;5;28;01mexcept\u001b[39;00m:\n\u001b[0;32m     17\u001b[0m     do_return \u001b[38;5;241m=\u001b[39m \u001b[38;5;28;01mFalse\u001b[39;00m\n",
      "\u001b[1;31mValueError\u001b[0m: in user code:\n\n    File \"D:\\ProgramFiles\\Anaconda\\envs\\learning\\lib\\site-packages\\keras\\engine\\training.py\", line 1160, in train_function  *\n        return step_function(self, iterator)\n    File \"D:\\ProgramFiles\\Anaconda\\envs\\learning\\lib\\site-packages\\keras\\engine\\training.py\", line 1146, in step_function  **\n        outputs = model.distribute_strategy.run(run_step, args=(data,))\n    File \"D:\\ProgramFiles\\Anaconda\\envs\\learning\\lib\\site-packages\\keras\\engine\\training.py\", line 1135, in run_step  **\n        outputs = model.train_step(data)\n    File \"D:\\ProgramFiles\\Anaconda\\envs\\learning\\lib\\site-packages\\keras\\engine\\training.py\", line 994, in train_step\n        loss = self.compute_loss(x, y, y_pred, sample_weight)\n    File \"D:\\ProgramFiles\\Anaconda\\envs\\learning\\lib\\site-packages\\keras\\engine\\training.py\", line 1052, in compute_loss\n        return self.compiled_loss(\n    File \"D:\\ProgramFiles\\Anaconda\\envs\\learning\\lib\\site-packages\\keras\\engine\\compile_utils.py\", line 265, in __call__\n        loss_value = loss_obj(y_t, y_p, sample_weight=sw)\n    File \"D:\\ProgramFiles\\Anaconda\\envs\\learning\\lib\\site-packages\\keras\\losses.py\", line 152, in __call__\n        losses = call_fn(y_true, y_pred)\n    File \"D:\\ProgramFiles\\Anaconda\\envs\\learning\\lib\\site-packages\\keras\\losses.py\", line 272, in call  **\n        return ag_fn(y_true, y_pred, **self._fn_kwargs)\n    File \"D:\\ProgramFiles\\Anaconda\\envs\\learning\\lib\\site-packages\\keras\\losses.py\", line 2162, in binary_crossentropy\n        backend.binary_crossentropy(y_true, y_pred, from_logits=from_logits),\n    File \"D:\\ProgramFiles\\Anaconda\\envs\\learning\\lib\\site-packages\\keras\\backend.py\", line 5677, in binary_crossentropy\n        return tf.nn.sigmoid_cross_entropy_with_logits(\n\n    ValueError: `logits` and `labels` must have the same shape, received ((None, 1000) vs (None, 1)).\n"
     ]
    }
   ],
   "source": [
    "vgg_model.fit(X_train, epochs = 30,validation_data = X_test, callbacks = [ckpt])"
   ]
  },
  {
   "cell_type": "code",
   "execution_count": null,
   "id": "f974a0ff-9771-45ce-b0e8-484ee901f943",
   "metadata": {},
   "outputs": [],
   "source": []
  }
 ],
 "metadata": {
  "kernelspec": {
   "display_name": "Python 3 (ipykernel)",
   "language": "python",
   "name": "python3"
  },
  "language_info": {
   "codemirror_mode": {
    "name": "ipython",
    "version": 3
   },
   "file_extension": ".py",
   "mimetype": "text/x-python",
   "name": "python",
   "nbconvert_exporter": "python",
   "pygments_lexer": "ipython3",
   "version": "3.11.5"
  }
 },
 "nbformat": 4,
 "nbformat_minor": 5
}
