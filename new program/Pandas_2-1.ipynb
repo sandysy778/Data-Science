{
  "nbformat": 4,
  "nbformat_minor": 0,
  "metadata": {
    "colab": {
      "provenance": []
    },
    "kernelspec": {
      "name": "python3",
      "display_name": "Python 3"
    },
    "language_info": {
      "name": "python"
    }
  },
  "cells": [
    {
      "cell_type": "markdown",
      "source": [
        "## Data Cleaning\n",
        "\n",
        "dataset- [click here](https://drive.google.com/file/d/1NX14X_cV6wQJXnG3JlAmO1KN7s9Vm9vW/view?usp=sharing)"
      ],
      "metadata": {
        "id": "LTHEmYNPkIT0"
      }
    },
    {
      "cell_type": "markdown",
      "source": [
        "1. Perform datatype cleaning for all features."
      ],
      "metadata": {
        "id": "afPqVTC7khbM"
      }
    },
    {
      "cell_type": "code",
      "execution_count": 1,
      "metadata": {
        "id": "mZi2JaeBhJa-"
      },
      "outputs": [],
      "source": [
        "#solution"
      ]
    },
    {
      "cell_type": "code",
      "source": [],
      "metadata": {
        "id": "M31Ql8rdrU1m"
      },
      "execution_count": null,
      "outputs": []
    },
    {
      "cell_type": "markdown",
      "source": [
        "2. Fill missing values in color feature."
      ],
      "metadata": {
        "id": "To1wz0wSnxy6"
      }
    },
    {
      "cell_type": "code",
      "source": [
        "#solution"
      ],
      "metadata": {
        "id": "r9HvRmQdoIV0"
      },
      "execution_count": 7,
      "outputs": []
    },
    {
      "cell_type": "markdown",
      "source": [
        "3. perform data cleaning on color feature."
      ],
      "metadata": {
        "id": "ERrVVuGFoK2p"
      }
    },
    {
      "cell_type": "code",
      "source": [
        "#solution"
      ],
      "metadata": {
        "id": "d-q7Q7UhoTVG"
      },
      "execution_count": 8,
      "outputs": []
    },
    {
      "cell_type": "markdown",
      "source": [
        "4. Fill missing values in battery feature."
      ],
      "metadata": {
        "id": "_pTFxMKkoWjF"
      }
    },
    {
      "cell_type": "code",
      "source": [
        "#solution"
      ],
      "metadata": {
        "id": "AT627u7Xof4h"
      },
      "execution_count": null,
      "outputs": []
    },
    {
      "cell_type": "markdown",
      "source": [
        "5.  Covert both `cm` and `mm` value scaling into single scaling."
      ],
      "metadata": {
        "id": "kPHuzrqlkHRv"
      }
    },
    {
      "cell_type": "code",
      "source": [
        "import pandas as pd\n",
        "\n",
        "measurement_values = ['10 cm', '100 mm', '20 cm', '200 mm', '30 cm', '300 mm', '40 cm', '400 mm', '50 cm', '500 mm']\n",
        "\n",
        "\n",
        "df = pd.DataFrame({'Measurement_values (cm/mm)': measurement_values})\n",
        "\n",
        "print(df)\n"
      ],
      "metadata": {
        "colab": {
          "base_uri": "https://localhost:8080/"
        },
        "id": "S6H1BPY0kFpZ",
        "outputId": "1d8abfc9-cd25-4992-8687-256d47b88535"
      },
      "execution_count": 3,
      "outputs": [
        {
          "output_type": "stream",
          "name": "stdout",
          "text": [
            "  Measurement_values (cm/mm)\n",
            "0                      10 cm\n",
            "1                     100 mm\n",
            "2                      20 cm\n",
            "3                     200 mm\n",
            "4                      30 cm\n",
            "5                     300 mm\n",
            "6                      40 cm\n",
            "7                     400 mm\n",
            "8                      50 cm\n",
            "9                     500 mm\n"
          ]
        }
      ]
    },
    {
      "cell_type": "code",
      "source": [
        "#Solution"
      ],
      "metadata": {
        "id": "lUvYutFKnonP"
      },
      "execution_count": null,
      "outputs": []
    },
    {
      "cell_type": "markdown",
      "source": [
        "6. Treat outliers in Battery feature."
      ],
      "metadata": {
        "id": "ulM1TSpkkF4E"
      }
    },
    {
      "cell_type": "code",
      "source": [
        "#solution"
      ],
      "metadata": {
        "id": "lL0pUboSrLq-"
      },
      "execution_count": 9,
      "outputs": []
    },
    {
      "cell_type": "code",
      "source": [],
      "metadata": {
        "id": "3FZPPfiOrMwh"
      },
      "execution_count": null,
      "outputs": []
    }
  ]
}