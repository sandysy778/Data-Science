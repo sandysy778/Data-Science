{
 "cells": [
  {
   "cell_type": "code",
   "execution_count": 31,
   "id": "7b4838a5",
   "metadata": {},
   "outputs": [
    {
     "name": "stdout",
     "output_type": "stream",
     "text": [
      "<class 'type'>\n"
     ]
    }
   ],
   "source": [
    "class Student:\n",
    "    pass  \n",
    "print(type(Student))\n"
   ]
  },
  {
   "cell_type": "code",
   "execution_count": 32,
   "id": "d8499ca9",
   "metadata": {},
   "outputs": [],
   "source": [
    "class Dog:\n",
    "    # A simple class \n",
    "    # attribute\n",
    "    \n",
    "    attr1 = \"This ia a Variable1\"\n",
    "    attr1 = \"I'm from function This is Variable1\"\n",
    "    def fun(self):\n",
    "        print(self.attr1)\n",
    "        print(self.attr2)\n",
    "        \n",
    "        Rodger = Dog()\n",
    "        \n",
    "        print(Rodger.attr1)\n",
    "        Rodger.fun()"
   ]
  },
  {
   "cell_type": "code",
   "execution_count": 33,
   "id": "cac07f4d",
   "metadata": {},
   "outputs": [
    {
     "name": "stdout",
     "output_type": "stream",
     "text": [
      "mammal\n",
      "I'm a mammal\n",
      "I'm a dog\n"
     ]
    }
   ],
   "source": [
    "# Python3 program to\n",
    "# demonstrate instantiating\n",
    "# a class\n",
    " \n",
    " \n",
    "class Dog:\n",
    " \n",
    "    # A simple class\n",
    "    # attribute\n",
    "    attr1 = \"mammal\"\n",
    "    attr2 = \"dog\"\n",
    " \n",
    "    # A sample method\n",
    "    def fun(self):\n",
    "        print(\"I'm a\", self.attr1)\n",
    "        print(\"I'm a\", self.attr2)\n",
    " \n",
    " \n",
    "# Driver code\n",
    "# Object instantiation\n",
    "Rodger = Dog()\n",
    " \n",
    "# Accessing class attributes\n",
    "# and method through objects\n",
    "print(Rodger.attr1)\n",
    "Rodger.fun()"
   ]
  },
  {
   "cell_type": "code",
   "execution_count": 34,
   "id": "a2c09f16",
   "metadata": {},
   "outputs": [
    {
     "name": "stdout",
     "output_type": "stream",
     "text": [
      "mammal\n"
     ]
    }
   ],
   "source": [
    "# Python3 program to\n",
    "# demonstrate instantiating\n",
    "# a class\n",
    " \n",
    " \n",
    "class Dog:\n",
    " \n",
    "    # A simple class\n",
    "    # attribute\n",
    "    attr1 = \"mammal\"\n",
    "    attr2 = \"dog\"\n",
    " \n",
    "    # A sample method\n",
    "    def fun(self):\n",
    "        print(\"I'm a\", self.attr1)\n",
    "        print(\"I'm a\", self.attr2)\n",
    " \n",
    " \n",
    "# Driver code\n",
    "# Object instantiation\n",
    "Rodger = Dog()\n",
    " \n",
    "# Accessing class attributes\n",
    "# and method through objects\n",
    "print(Rodger.attr1)\n"
   ]
  },
  {
   "cell_type": "markdown",
   "id": "f4e2734a",
   "metadata": {},
   "source": [
    "Create a class with one static variable and two instace variables¶\n",
    "\n"
   ]
  },
  {
   "cell_type": "code",
   "execution_count": 35,
   "id": "8ee001f0",
   "metadata": {},
   "outputs": [],
   "source": [
    "# A Sample class with init method\n",
    "\n",
    "class student:\n",
    "    \n",
    "    def __init__(self, test_name, test_salary):\n",
    "        self.name = test_name\n",
    "        self.age = test_salary\n",
    "        \n",
    "    def get_detials(self):\n",
    "        \n",
    "        print('i am inside the get_detials method')\n",
    "        print(f'Detials of student are{self.name}, {self.age}')"
   ]
  },
  {
   "cell_type": "code",
   "execution_count": 36,
   "id": "b93ea4f2",
   "metadata": {},
   "outputs": [
    {
     "ename": "NameError",
     "evalue": "name 'person' is not defined",
     "output_type": "error",
     "traceback": [
      "\u001b[1;31m---------------------------------------------------------------------------\u001b[0m",
      "\u001b[1;31mNameError\u001b[0m                                 Traceback (most recent call last)",
      "\u001b[1;32m~\\AppData\\Local\\Temp\\ipykernel_5876\\491670443.py\u001b[0m in \u001b[0;36m<module>\u001b[1;34m\u001b[0m\n\u001b[1;32m----> 1\u001b[1;33m \u001b[1;32mclass\u001b[0m \u001b[0mstudent\u001b[0m\u001b[1;33m(\u001b[0m\u001b[0mperson\u001b[0m\u001b[1;33m)\u001b[0m\u001b[1;33m:\u001b[0m\u001b[1;33m\u001b[0m\u001b[1;33m\u001b[0m\u001b[0m\n\u001b[0m\u001b[0;32m      2\u001b[0m \u001b[1;33m\u001b[0m\u001b[0m\n\u001b[0;32m      3\u001b[0m     \u001b[1;32mdef\u001b[0m \u001b[0m__init__\u001b[0m\u001b[1;33m(\u001b[0m\u001b[0mself\u001b[0m\u001b[1;33m,\u001b[0m \u001b[0mName\u001b[0m\u001b[1;33m,\u001b[0m \u001b[0mAge\u001b[0m\u001b[1;33m,\u001b[0m \u001b[0mRollno\u001b[0m\u001b[1;33m)\u001b[0m\u001b[1;33m:\u001b[0m\u001b[1;33m\u001b[0m\u001b[1;33m\u001b[0m\u001b[0m\n\u001b[0;32m      4\u001b[0m         \u001b[0msuper\u001b[0m\u001b[1;33m(\u001b[0m\u001b[1;33m)\u001b[0m\u001b[1;33m.\u001b[0m\u001b[0m__init__\u001b[0m\u001b[1;33m(\u001b[0m\u001b[0mName\u001b[0m\u001b[1;33m,\u001b[0m \u001b[0mAge\u001b[0m\u001b[1;33m)\u001b[0m\u001b[1;33m\u001b[0m\u001b[1;33m\u001b[0m\u001b[0m\n\u001b[0;32m      5\u001b[0m \u001b[1;33m\u001b[0m\u001b[0m\n",
      "\u001b[1;31mNameError\u001b[0m: name 'person' is not defined"
     ]
    }
   ],
   "source": [
    "class student(person):\n",
    "    \n",
    "    def __init__(self, Name, Age, Rollno):\n",
    "        super().__init__(Name, Age)\n",
    "        \n",
    "        self.rno = Rollno\n",
    "        \n",
    "    def attending_lecture(self):\n",
    "        print(f'{self.name} is attending alecture')\n",
    "    def speak(self):\n",
    "        print(f'{self.name} is student and he is speaking')\n",
    "       \n",
    "        \n",
    "    "
   ]
  },
  {
   "cell_type": "code",
   "execution_count": null,
   "id": "4548d1b5",
   "metadata": {},
   "outputs": [],
   "source": [
    "class empy():\n",
    "    def __init__(self, name, salary):\n",
    "        self.name = name\n",
    "         \n",
    "        self.salary = salary\n",
    "    def earn(self):\n",
    "        pass\n",
    "class childempy1(empy):\n",
    "    def__init__(self, name, salary):\n",
    "        self.name = name\n",
    "\n",
    "        self.salary = salary\n",
    "        class empy2(empy):\n",
    "            def__init__(self, name, salary):\n",
    "                self.name = name\n",
    "                \n",
    "                self.salary = salary\n",
    "                \n",
    "    emp1 = empy1('Zara', 2000),\n",
    "    emp2 = empy2('manni', 3000)"
   ]
  },
  {
   "cell_type": "code",
   "execution_count": 42,
   "id": "1378425c",
   "metadata": {},
   "outputs": [],
   "source": [
    "class empy1():\n",
    "    def __init__(self, name, salary):\n",
    "        self.name = name\n",
    "        \n",
    "        self.salary = salary\n",
    "        \n",
    "class empy2(empy1):\n",
    "    def __init__(self, name, salary):\n",
    "        \n",
    "        self.name = name\n",
    "        \n",
    "        self.salary = salary\n",
    "class empy3(empy2):\n",
    "    def __init__(self, name, salary):\n",
    "        \n",
    "        self.name = name\n",
    "        \n",
    "        self.salary = salary\n",
    "     "
   ]
  },
  {
   "cell_type": "code",
   "execution_count": 59,
   "id": "74418457",
   "metadata": {},
   "outputs": [],
   "source": [
    "emp1 = empy1('neha', 3000)\n",
    "emp2 = empy2('neh', 2000)\n",
    "total  = 2"
   ]
  },
  {
   "cell_type": "code",
   "execution_count": 57,
   "id": "b340fe7e",
   "metadata": {},
   "outputs": [
    {
     "data": {
      "text/plain": [
       "3000"
      ]
     },
     "execution_count": 57,
     "metadata": {},
     "output_type": "execute_result"
    }
   ],
   "source": [
    "emp1.salary\n"
   ]
  },
  {
   "cell_type": "code",
   "execution_count": 54,
   "id": "75020720",
   "metadata": {},
   "outputs": [
    {
     "data": {
      "text/plain": [
       "2000"
      ]
     },
     "execution_count": 54,
     "metadata": {},
     "output_type": "execute_result"
    }
   ],
   "source": [
    "emp2.salary"
   ]
  },
  {
   "cell_type": "code",
   "execution_count": 58,
   "id": "b0b41813",
   "metadata": {},
   "outputs": [
    {
     "data": {
      "text/plain": [
       "2"
      ]
     },
     "execution_count": 58,
     "metadata": {},
     "output_type": "execute_result"
    }
   ],
   "source": [
    "total"
   ]
  },
  {
   "cell_type": "code",
   "execution_count": 60,
   "id": "4c08e332",
   "metadata": {},
   "outputs": [],
   "source": [
    "class Vehicle:\n",
    "\n",
    "    def __init__(self, name, max_speed, mileage):\n",
    "        self.name = name\n",
    "        self.max_speed = max_speed\n",
    "        self.mileage = mileage"
   ]
  },
  {
   "cell_type": "code",
   "execution_count": 63,
   "id": "83aca2ac",
   "metadata": {},
   "outputs": [
    {
     "name": "stdout",
     "output_type": "stream",
     "text": [
      "Vehicle Name: School Volvo Speed: 180 Mileage: 12\n"
     ]
    }
   ],
   "source": [
    "class Vehicle:\n",
    "\n",
    "    def __init__(self, name, max_speed, mileage):\n",
    "        self.name = name\n",
    "        self.max_speed = max_speed\n",
    "        self.mileage = mileage\n",
    "\n",
    "class Bus(Vehicle):\n",
    "    pass\n",
    "\n",
    "School_bus = Bus(\"School Volvo\", 180, 12)\n",
    "print(\"Vehicle Name:\", School_bus.name, \"Speed:\", School_bus.max_speed, \"Mileage:\", School_bus.mileage)\n",
    "\n",
    "\n"
   ]
  },
  {
   "cell_type": "code",
   "execution_count": null,
   "id": "23084f2a",
   "metadata": {},
   "outputs": [],
   "source": []
  }
 ],
 "metadata": {
  "kernelspec": {
   "display_name": "Python 3 (ipykernel)",
   "language": "python",
   "name": "python3"
  },
  "language_info": {
   "codemirror_mode": {
    "name": "ipython",
    "version": 3
   },
   "file_extension": ".py",
   "mimetype": "text/x-python",
   "name": "python",
   "nbconvert_exporter": "python",
   "pygments_lexer": "ipython3",
   "version": "3.9.13"
  }
 },
 "nbformat": 4,
 "nbformat_minor": 5
}
