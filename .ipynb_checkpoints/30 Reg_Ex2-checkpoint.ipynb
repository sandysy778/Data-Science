{
 "cells": [
  {
   "cell_type": "code",
   "execution_count": 51,
   "id": "24c193da",
   "metadata": {},
   "outputs": [],
   "source": [
    "import re"
   ]
  },
  {
   "cell_type": "code",
   "execution_count": 52,
   "id": "2a5cd6cf",
   "metadata": {},
   "outputs": [
    {
     "data": {
      "text/plain": [
       "['alias']"
      ]
     },
     "execution_count": 52,
     "metadata": {},
     "output_type": "execute_result"
    }
   ],
   "source": [
    "re.findall('^alias$', 'alias')"
   ]
  },
  {
   "cell_type": "code",
   "execution_count": 53,
   "id": "dba8bea1",
   "metadata": {},
   "outputs": [
    {
     "data": {
      "text/plain": [
       "[]"
      ]
     },
     "execution_count": 53,
     "metadata": {},
     "output_type": "execute_result"
    }
   ],
   "source": [
    "re.findall('^alias$', 'alias, alias')"
   ]
  },
  {
   "cell_type": "code",
   "execution_count": 54,
   "id": "ad8bde13",
   "metadata": {},
   "outputs": [
    {
     "data": {
      "text/plain": [
       "[]"
      ]
     },
     "execution_count": 54,
     "metadata": {},
     "output_type": "execute_result"
    }
   ],
   "source": [
    "re.findall('^i...a$', 'alias')"
   ]
  },
  {
   "cell_type": "code",
   "execution_count": 55,
   "id": "0946a135",
   "metadata": {},
   "outputs": [
    {
     "data": {
      "text/plain": [
       "['india']"
      ]
     },
     "execution_count": 55,
     "metadata": {},
     "output_type": "execute_result"
    }
   ],
   "source": [
    "re.findall('^i...a$', 'india')"
   ]
  },
  {
   "cell_type": "code",
   "execution_count": 56,
   "id": "1fb91ea9",
   "metadata": {},
   "outputs": [
    {
     "data": {
      "text/plain": [
       "[]"
      ]
     },
     "execution_count": 56,
     "metadata": {},
     "output_type": "execute_result"
    }
   ],
   "source": [
    "re.findall('^i...a$', 'aliaaias')"
   ]
  },
  {
   "cell_type": "code",
   "execution_count": 57,
   "id": "f26f8208",
   "metadata": {},
   "outputs": [
    {
     "data": {
      "text/plain": [
       "['isfga']"
      ]
     },
     "execution_count": 57,
     "metadata": {},
     "output_type": "execute_result"
    }
   ],
   "source": [
    "re.findall('^i...a$', 'isfga')"
   ]
  },
  {
   "cell_type": "code",
   "execution_count": 58,
   "id": "504e7752",
   "metadata": {},
   "outputs": [
    {
     "data": {
      "text/plain": [
       "['a']"
      ]
     },
     "execution_count": 58,
     "metadata": {},
     "output_type": "execute_result"
    }
   ],
   "source": [
    "re.findall('[abc]', 'a')"
   ]
  },
  {
   "cell_type": "code",
   "execution_count": 59,
   "id": "e480a0d3",
   "metadata": {},
   "outputs": [
    {
     "data": {
      "text/plain": [
       "['a', 'c']"
      ]
     },
     "execution_count": 59,
     "metadata": {},
     "output_type": "execute_result"
    }
   ],
   "source": [
    "re.findall('[abc]', 'ac')"
   ]
  },
  {
   "cell_type": "code",
   "execution_count": 60,
   "id": "fc4072b4",
   "metadata": {},
   "outputs": [
    {
     "data": {
      "text/plain": [
       "[]"
      ]
     },
     "execution_count": 60,
     "metadata": {},
     "output_type": "execute_result"
    }
   ],
   "source": [
    "re.findall('[abc]', 'hi, Hello')"
   ]
  },
  {
   "cell_type": "code",
   "execution_count": 61,
   "id": "86e8c237",
   "metadata": {},
   "outputs": [
    {
     "data": {
      "text/plain": [
       "['a', 'b', 'c', 'b', 'c']"
      ]
     },
     "execution_count": 61,
     "metadata": {},
     "output_type": "execute_result"
    }
   ],
   "source": [
    "re.findall('[abc]', 'abc frgdh b c')"
   ]
  },
  {
   "cell_type": "code",
   "execution_count": 62,
   "id": "04c39f68",
   "metadata": {},
   "outputs": [
    {
     "data": {
      "text/plain": [
       "['a', 'c']"
      ]
     },
     "execution_count": 62,
     "metadata": {},
     "output_type": "execute_result"
    }
   ],
   "source": [
    "re.findall('[abc]', 'ac')"
   ]
  },
  {
   "cell_type": "code",
   "execution_count": 63,
   "id": "d02ca708",
   "metadata": {},
   "outputs": [
    {
     "data": {
      "text/plain": [
       "[]"
      ]
     },
     "execution_count": 63,
     "metadata": {},
     "output_type": "execute_result"
    }
   ],
   "source": [
    "re.findall('[abc]', 'hi, Hello 99')"
   ]
  },
  {
   "cell_type": "code",
   "execution_count": 64,
   "id": "665b0248",
   "metadata": {},
   "outputs": [
    {
     "data": {
      "text/plain": [
       "[]"
      ]
     },
     "execution_count": 64,
     "metadata": {},
     "output_type": "execute_result"
    }
   ],
   "source": [
    "re.findall('[abc0-9]', 'hi, Hello')"
   ]
  },
  {
   "cell_type": "code",
   "execution_count": 65,
   "id": "b0b25180",
   "metadata": {},
   "outputs": [
    {
     "data": {
      "text/plain": [
       "['9', '9']"
      ]
     },
     "execution_count": 65,
     "metadata": {},
     "output_type": "execute_result"
    }
   ],
   "source": [
    "re.findall('[0-59]', 'hi, Hello 99 7 8')"
   ]
  },
  {
   "cell_type": "code",
   "execution_count": 66,
   "id": "671a670c",
   "metadata": {},
   "outputs": [
    {
     "data": {
      "text/plain": [
       "['H', 'i', ',', ' ', 'H', 'e', 'l', 'l', 'o']"
      ]
     },
     "execution_count": 66,
     "metadata": {},
     "output_type": "execute_result"
    }
   ],
   "source": [
    "re.findall('[^abc]', 'Hi, Hello')"
   ]
  },
  {
   "cell_type": "code",
   "execution_count": 67,
   "id": "41b6d5b8",
   "metadata": {},
   "outputs": [
    {
     "data": {
      "text/plain": [
       "['hello']"
      ]
     },
     "execution_count": 67,
     "metadata": {},
     "output_type": "execute_result"
    }
   ],
   "source": [
    "re.findall('he.*o', 'hello')"
   ]
  },
  {
   "cell_type": "code",
   "execution_count": 68,
   "id": "1bba389c",
   "metadata": {},
   "outputs": [
    {
     "data": {
      "text/plain": [
       "['heo']"
      ]
     },
     "execution_count": 68,
     "metadata": {},
     "output_type": "execute_result"
    }
   ],
   "source": [
    "re.findall('he.*o', 'heo')"
   ]
  },
  {
   "cell_type": "code",
   "execution_count": 69,
   "id": "dc6e0e2b",
   "metadata": {},
   "outputs": [
    {
     "data": {
      "text/plain": [
       "['9', '9', '1', '3', '4']"
      ]
     },
     "execution_count": 69,
     "metadata": {},
     "output_type": "execute_result"
    }
   ],
   "source": [
    "re.findall('[0-59]', 'hi, Hello 99 7 8 13 4')"
   ]
  },
  {
   "cell_type": "code",
   "execution_count": 70,
   "id": "49e92282",
   "metadata": {},
   "outputs": [
    {
     "data": {
      "text/plain": [
       "['hello']"
      ]
     },
     "execution_count": 70,
     "metadata": {},
     "output_type": "execute_result"
    }
   ],
   "source": [
    "re.findall('he.+o', 'hello')"
   ]
  },
  {
   "cell_type": "code",
   "execution_count": 71,
   "id": "5591e87c",
   "metadata": {},
   "outputs": [
    {
     "data": {
      "text/plain": [
       "['hello']"
      ]
     },
     "execution_count": 71,
     "metadata": {},
     "output_type": "execute_result"
    }
   ],
   "source": [
    "re.findall('he.+o', 'hello')"
   ]
  },
  {
   "cell_type": "code",
   "execution_count": 72,
   "id": "39389705",
   "metadata": {},
   "outputs": [
    {
     "data": {
      "text/plain": [
       "[]"
      ]
     },
     "execution_count": 72,
     "metadata": {},
     "output_type": "execute_result"
    }
   ],
   "source": [
    "re.findall('he.+o', 'heo')"
   ]
  },
  {
   "cell_type": "code",
   "execution_count": 73,
   "id": "80e5c917",
   "metadata": {},
   "outputs": [
    {
     "data": {
      "text/plain": [
       "[]"
      ]
     },
     "execution_count": 73,
     "metadata": {},
     "output_type": "execute_result"
    }
   ],
   "source": [
    "re.findall('he.?o', 'hello')"
   ]
  },
  {
   "cell_type": "code",
   "execution_count": 74,
   "id": "4327b8a7",
   "metadata": {},
   "outputs": [
    {
     "data": {
      "text/plain": [
       "['hello']"
      ]
     },
     "execution_count": 74,
     "metadata": {},
     "output_type": "execute_result"
    }
   ],
   "source": [
    "re.findall('he.{2}o', 'hello')"
   ]
  },
  {
   "cell_type": "code",
   "execution_count": 75,
   "id": "be5a2631",
   "metadata": {},
   "outputs": [
    {
     "data": {
      "text/plain": [
       "['H', 'i', ',', ' ', 'H', 'e', 'l', 'l', 'o', ' ', ' ', 'f', 'g', 'e', 'r']"
      ]
     },
     "execution_count": 75,
     "metadata": {},
     "output_type": "execute_result"
    }
   ],
   "source": [
    "re.findall('[^abc]', 'Hi, Hello abc fger')"
   ]
  },
  {
   "cell_type": "code",
   "execution_count": 76,
   "id": "2a3e6f7f",
   "metadata": {},
   "outputs": [
    {
     "data": {
      "text/plain": [
       "['H', 'i', ',', ' ', 'H', 'e', 'l', 'l', 'o', ' ', ' ', 'f', 'g', 'e', 'r']"
      ]
     },
     "execution_count": 76,
     "metadata": {},
     "output_type": "execute_result"
    }
   ],
   "source": [
    "re.findall('[^abc]', 'Hi, Hello abc fger')"
   ]
  },
  {
   "cell_type": "code",
   "execution_count": 77,
   "id": "49ed97c8",
   "metadata": {},
   "outputs": [
    {
     "data": {
      "text/plain": [
       "['H',\n",
       " 'i',\n",
       " ' ',\n",
       " ',',\n",
       " ' ',\n",
       " 'H',\n",
       " 'e',\n",
       " 'l',\n",
       " 'l',\n",
       " 'o',\n",
       " ' ',\n",
       " ' ',\n",
       " 'f',\n",
       " 'g',\n",
       " 'e',\n",
       " 'r']"
      ]
     },
     "execution_count": 77,
     "metadata": {},
     "output_type": "execute_result"
    }
   ],
   "source": [
    "re.findall('[^abc0-9]', 'Hi , Hello abc fger')"
   ]
  },
  {
   "cell_type": "code",
   "execution_count": 78,
   "id": "913ed0d2",
   "metadata": {},
   "outputs": [
    {
     "data": {
      "text/plain": [
       "[]"
      ]
     },
     "execution_count": 78,
     "metadata": {},
     "output_type": "execute_result"
    }
   ],
   "source": [
    "re.findall('he.*o', 'Hi, Hello abc fger')"
   ]
  },
  {
   "cell_type": "code",
   "execution_count": 79,
   "id": "3eccfa3f",
   "metadata": {},
   "outputs": [
    {
     "data": {
      "text/plain": [
       "['hello', 'hello', 'hello', 'hello', 'hello', 'hello']"
      ]
     },
     "execution_count": 79,
     "metadata": {},
     "output_type": "execute_result"
    }
   ],
   "source": [
    "re.findall('he.{2,5}o', 'hello hello hello hello hello hello')"
   ]
  },
  {
   "cell_type": "code",
   "execution_count": 80,
   "id": "3574057c",
   "metadata": {},
   "outputs": [
    {
     "data": {
      "text/plain": [
       "['hello hello hello hellllo helllllo helllllo']"
      ]
     },
     "execution_count": 80,
     "metadata": {},
     "output_type": "execute_result"
    }
   ],
   "source": [
    "re.findall('he.{2,}o', 'hello hello hello hellllo helllllo helllllo')"
   ]
  },
  {
   "cell_type": "code",
   "execution_count": 81,
   "id": "cb170050",
   "metadata": {},
   "outputs": [
    {
     "data": {
      "text/plain": [
       "['a', 'b']"
      ]
     },
     "execution_count": 81,
     "metadata": {},
     "output_type": "execute_result"
    }
   ],
   "source": [
    "re.findall('[a|b]', 'abc')"
   ]
  },
  {
   "cell_type": "code",
   "execution_count": 82,
   "id": "8d840bc1",
   "metadata": {},
   "outputs": [
    {
     "data": {
      "text/plain": [
       "['a', 'b']"
      ]
     },
     "execution_count": 82,
     "metadata": {},
     "output_type": "execute_result"
    }
   ],
   "source": [
    "re.findall('a|b', 'abc')"
   ]
  },
  {
   "cell_type": "code",
   "execution_count": 83,
   "id": "a3921c97",
   "metadata": {},
   "outputs": [
    {
     "data": {
      "text/plain": [
       "['hello', 'world']"
      ]
     },
     "execution_count": 83,
     "metadata": {},
     "output_type": "execute_result"
    }
   ],
   "source": [
    "re.findall('hello|world', 'hello world, how are you')"
   ]
  },
  {
   "cell_type": "code",
   "execution_count": 84,
   "id": "28098d15",
   "metadata": {},
   "outputs": [
    {
     "data": {
      "text/plain": [
       "['axz', 'bxz']"
      ]
     },
     "execution_count": 84,
     "metadata": {},
     "output_type": "execute_result"
    }
   ],
   "source": [
    "re.findall('(?:a|b)xz', 'abcaxz bxz dxz')"
   ]
  },
  {
   "cell_type": "code",
   "execution_count": 85,
   "id": "97c8ea7e",
   "metadata": {},
   "outputs": [
    {
     "data": {
      "text/plain": [
       "['hello.py']"
      ]
     },
     "execution_count": 85,
     "metadata": {},
     "output_type": "execute_result"
    }
   ],
   "source": [
    "re.findall('hello.py', 'hello.py')"
   ]
  },
  {
   "cell_type": "code",
   "execution_count": 86,
   "id": "36e341a2",
   "metadata": {},
   "outputs": [
    {
     "data": {
      "text/plain": [
       "['hello@py']"
      ]
     },
     "execution_count": 86,
     "metadata": {},
     "output_type": "execute_result"
    }
   ],
   "source": [
    "re.findall('hello.py', 'hello@py')"
   ]
  },
  {
   "cell_type": "code",
   "execution_count": 87,
   "id": "1344b086",
   "metadata": {},
   "outputs": [
    {
     "data": {
      "text/plain": [
       "['hello.py']"
      ]
     },
     "execution_count": 87,
     "metadata": {},
     "output_type": "execute_result"
    }
   ],
   "source": [
    "re.findall('hello\\.py', 'hello.py')"
   ]
  },
  {
   "cell_type": "code",
   "execution_count": 88,
   "id": "251b2306",
   "metadata": {},
   "outputs": [
    {
     "data": {
      "text/plain": [
       "[]"
      ]
     },
     "execution_count": 88,
     "metadata": {},
     "output_type": "execute_result"
    }
   ],
   "source": [
    "re.findall('hello\\.py', 'hello@py')"
   ]
  },
  {
   "cell_type": "code",
   "execution_count": 89,
   "id": "4992f522",
   "metadata": {},
   "outputs": [
    {
     "data": {
      "text/plain": [
       "['alias']"
      ]
     },
     "execution_count": 89,
     "metadata": {},
     "output_type": "execute_result"
    }
   ],
   "source": [
    "re.findall('alias$', 'alias')"
   ]
  },
  {
   "cell_type": "code",
   "execution_count": 90,
   "id": "942f4fd4",
   "metadata": {},
   "outputs": [
    {
     "data": {
      "text/plain": [
       "[]"
      ]
     },
     "execution_count": 90,
     "metadata": {},
     "output_type": "execute_result"
    }
   ],
   "source": [
    "re.findall('s$', 'asd s$')"
   ]
  },
  {
   "cell_type": "code",
   "execution_count": 91,
   "id": "539cfb0f",
   "metadata": {},
   "outputs": [
    {
     "data": {
      "text/plain": [
       "['s$']"
      ]
     },
     "execution_count": 91,
     "metadata": {},
     "output_type": "execute_result"
    }
   ],
   "source": [
    "re.findall('s\\$', 'asd s$')"
   ]
  },
  {
   "cell_type": "code",
   "execution_count": null,
   "id": "a17e07d2",
   "metadata": {},
   "outputs": [],
   "source": []
  },
  {
   "cell_type": "markdown",
   "id": "9140d20d",
   "metadata": {},
   "source": [
    "# Predefined Character Classes"
   ]
  },
  {
   "cell_type": "markdown",
   "id": "43b04b85",
   "metadata": {},
   "source": [
    "\\A- Matches if the specified character at the being of the string"
   ]
  },
  {
   "cell_type": "code",
   "execution_count": 92,
   "id": "b6c665ce",
   "metadata": {},
   "outputs": [
    {
     "data": {
      "text/plain": [
       "['the']"
      ]
     },
     "execution_count": 92,
     "metadata": {},
     "output_type": "execute_result"
    }
   ],
   "source": [
    "re.findall('\\Athe', 'the sun rise in the set')"
   ]
  },
  {
   "cell_type": "code",
   "execution_count": 93,
   "id": "3d8fa054",
   "metadata": {},
   "outputs": [
    {
     "data": {
      "text/plain": [
       "['the']"
      ]
     },
     "execution_count": 93,
     "metadata": {},
     "output_type": "execute_result"
    }
   ],
   "source": [
    "re.findall('^the', 'the sun rise in the set')"
   ]
  },
  {
   "cell_type": "code",
   "execution_count": 94,
   "id": "68b110eb",
   "metadata": {},
   "outputs": [
    {
     "data": {
      "text/plain": [
       "[]"
      ]
     },
     "execution_count": 94,
     "metadata": {},
     "output_type": "execute_result"
    }
   ],
   "source": [
    "re.findall('\\Athe', 'athe sun rise in the set')"
   ]
  },
  {
   "cell_type": "markdown",
   "id": "3bfaf1ed",
   "metadata": {},
   "source": [
    "\\b-Matches if the specified character at the begining or end of a word"
   ]
  },
  {
   "cell_type": "code",
   "execution_count": 95,
   "id": "429cce71",
   "metadata": {},
   "outputs": [
    {
     "data": {
      "text/plain": [
       "['basket', 'basket']"
      ]
     },
     "execution_count": 95,
     "metadata": {},
     "output_type": "execute_result"
    }
   ],
   "source": [
    "re.findall(r'\\bbasket', 'basketball is a game, I bought a fruit basket')"
   ]
  },
  {
   "cell_type": "code",
   "execution_count": 96,
   "id": "a7e61196",
   "metadata": {},
   "outputs": [
    {
     "data": {
      "text/plain": [
       "[]"
      ]
     },
     "execution_count": 96,
     "metadata": {},
     "output_type": "execute_result"
    }
   ],
   "source": [
    "re.findall(r'\\bbasket', 'dbdbasketball is a game, I bought a fruit dgfbasket')"
   ]
  },
  {
   "cell_type": "code",
   "execution_count": 97,
   "id": "3a4462c9",
   "metadata": {},
   "outputs": [
    {
     "ename": "SyntaxError",
     "evalue": "invalid syntax (2942221455.py, line 1)",
     "output_type": "error",
     "traceback": [
      "\u001b[1;36m  File \u001b[1;32m\"C:\\Users\\Yuvaraj\\AppData\\Local\\Temp\\ipykernel_7928\\2942221455.py\"\u001b[1;36m, line \u001b[1;32m1\u001b[0m\n\u001b[1;33m    r stand for - raw string\u001b[0m\n\u001b[1;37m      ^\u001b[0m\n\u001b[1;31mSyntaxError\u001b[0m\u001b[1;31m:\u001b[0m invalid syntax\n"
     ]
    }
   ],
   "source": [
    "r stand for - raw string"
   ]
  },
  {
   "cell_type": "code",
   "execution_count": 104,
   "id": "15cf3bda",
   "metadata": {},
   "outputs": [
    {
     "name": "stdout",
     "output_type": "stream",
     "text": [
      "\\AThe\n"
     ]
    }
   ],
   "source": [
    "print('\\AThe')"
   ]
  },
  {
   "cell_type": "code",
   "execution_count": 105,
   "id": "4c908316",
   "metadata": {},
   "outputs": [
    {
     "name": "stdout",
     "output_type": "stream",
     "text": [
      "\bThe\n"
     ]
    }
   ],
   "source": [
    "print('\\bThe')"
   ]
  },
  {
   "cell_type": "code",
   "execution_count": 106,
   "id": "ea7cde3d",
   "metadata": {},
   "outputs": [
    {
     "data": {
      "text/plain": [
       "['basket']"
      ]
     },
     "execution_count": 106,
     "metadata": {},
     "output_type": "execute_result"
    }
   ],
   "source": [
    "re.findall(r'\\bbasket', 'basketball is an omline grocery store') "
   ]
  },
  {
   "cell_type": "code",
   "execution_count": 107,
   "id": "e3d822bc",
   "metadata": {},
   "outputs": [
    {
     "data": {
      "text/plain": [
       "['basket', 'basket']"
      ]
     },
     "execution_count": 107,
     "metadata": {},
     "output_type": "execute_result"
    }
   ],
   "source": [
    "re.findall(r'\\bbasket', 'basketball is an omline grocery store basketball ballbasket') "
   ]
  },
  {
   "cell_type": "markdown",
   "id": "0e65f4a0",
   "metadata": {},
   "source": [
    "\\B - Matches if the specified character at the begining or end of a word"
   ]
  },
  {
   "cell_type": "code",
   "execution_count": 102,
   "id": "e843e46e",
   "metadata": {},
   "outputs": [
    {
     "data": {
      "text/plain": [
       "['ain', 'ain']"
      ]
     },
     "execution_count": 102,
     "metadata": {},
     "output_type": "execute_result"
    }
   ],
   "source": [
    "txt = 'The rain in spain'\n",
    "re.findall(r'\\Bain', txt)"
   ]
  },
  {
   "cell_type": "code",
   "execution_count": 103,
   "id": "9e216b3b",
   "metadata": {},
   "outputs": [
    {
     "data": {
      "text/plain": [
       "[]"
      ]
     },
     "execution_count": 103,
     "metadata": {},
     "output_type": "execute_result"
    }
   ],
   "source": [
    "txt = 'The rain in spian'\n",
    "re.findall(r'ain\\B', txt)"
   ]
  },
  {
   "cell_type": "code",
   "execution_count": 101,
   "id": "18019e75",
   "metadata": {},
   "outputs": [
    {
     "data": {
      "text/plain": [
       "['ball']"
      ]
     },
     "execution_count": 101,
     "metadata": {},
     "output_type": "execute_result"
    }
   ],
   "source": [
    "re.findall(r'\\Bball', 'basketball is a ball game')"
   ]
  },
  {
   "cell_type": "code",
   "execution_count": null,
   "id": "f022db05",
   "metadata": {},
   "outputs": [],
   "source": []
  },
  {
   "cell_type": "code",
   "execution_count": null,
   "id": "64a71c85",
   "metadata": {},
   "outputs": [],
   "source": []
  },
  {
   "cell_type": "markdown",
   "id": "1f88bd70",
   "metadata": {},
   "source": [
    "\\d - Matches any decimal digit==[0-9]"
   ]
  },
  {
   "cell_type": "code",
   "execution_count": 99,
   "id": "2a582943",
   "metadata": {},
   "outputs": [
    {
     "data": {
      "text/plain": [
       "['1', '2', '3']"
      ]
     },
     "execution_count": 99,
     "metadata": {},
     "output_type": "execute_result"
    }
   ],
   "source": [
    "re.findall('\\d', '12abc3')"
   ]
  },
  {
   "cell_type": "code",
   "execution_count": 100,
   "id": "79308bf9",
   "metadata": {},
   "outputs": [
    {
     "data": {
      "text/plain": [
       "['1', '2', '3']"
      ]
     },
     "execution_count": 100,
     "metadata": {},
     "output_type": "execute_result"
    }
   ],
   "source": [
    "re.findall('[0-9]', '12abc3 hi hello jhgtyhf bhvnf')"
   ]
  },
  {
   "cell_type": "code",
   "execution_count": null,
   "id": "674f87d1",
   "metadata": {},
   "outputs": [],
   "source": []
  },
  {
   "cell_type": "code",
   "execution_count": null,
   "id": "937554a5",
   "metadata": {},
   "outputs": [],
   "source": []
  },
  {
   "cell_type": "markdown",
   "id": "a9e9359c",
   "metadata": {},
   "source": [
    "\\D- Matches any non-decimal digit==[^0-9]"
   ]
  },
  {
   "cell_type": "code",
   "execution_count": 98,
   "id": "a938a5c3",
   "metadata": {},
   "outputs": [
    {
     "data": {
      "text/plain": [
       "['a',\n",
       " 'b',\n",
       " 'c',\n",
       " ' ',\n",
       " 'h',\n",
       " 'i',\n",
       " ' ',\n",
       " 'h',\n",
       " 'e',\n",
       " 'l',\n",
       " 'l',\n",
       " 'o',\n",
       " ' ',\n",
       " 'j',\n",
       " 'h',\n",
       " 'g',\n",
       " 't',\n",
       " 'y',\n",
       " 'h',\n",
       " 'f',\n",
       " ' ',\n",
       " 'b',\n",
       " 'h',\n",
       " 'v',\n",
       " 'n',\n",
       " 'f']"
      ]
     },
     "execution_count": 98,
     "metadata": {},
     "output_type": "execute_result"
    }
   ],
   "source": [
    "re.findall('[^0-9]', '12abc3 hi hello jhgtyhf bhvnf')"
   ]
  },
  {
   "cell_type": "code",
   "execution_count": null,
   "id": "8811638e",
   "metadata": {},
   "outputs": [],
   "source": [
    "re.findall('[^0-9]', '12abc3 hi hello jhgtyhf bhvnf')"
   ]
  },
  {
   "cell_type": "code",
   "execution_count": null,
   "id": "307196ae",
   "metadata": {},
   "outputs": [],
   "source": []
  },
  {
   "cell_type": "markdown",
   "id": "52649578",
   "metadata": {},
   "source": [
    "\\D- Matches where a string contains any whiitespace==[\\t\\n]"
   ]
  },
  {
   "cell_type": "code",
   "execution_count": 108,
   "id": "0d96f920",
   "metadata": {},
   "outputs": [
    {
     "data": {
      "text/plain": [
       "[' ']"
      ]
     },
     "execution_count": 108,
     "metadata": {},
     "output_type": "execute_result"
    }
   ],
   "source": [
    "re.findall('\\s', 'Data Science')"
   ]
  },
  {
   "cell_type": "code",
   "execution_count": 109,
   "id": "f12b1e81",
   "metadata": {},
   "outputs": [
    {
     "data": {
      "text/plain": [
       "[' ']"
      ]
     },
     "execution_count": 109,
     "metadata": {},
     "output_type": "execute_result"
    }
   ],
   "source": [
    "re.findall('[ ]', 'Data Science')"
   ]
  },
  {
   "cell_type": "code",
   "execution_count": 110,
   "id": "46b07267",
   "metadata": {},
   "outputs": [
    {
     "data": {
      "text/plain": [
       "[' ']"
      ]
     },
     "execution_count": 110,
     "metadata": {},
     "output_type": "execute_result"
    }
   ],
   "source": [
    "re.findall('\\s', 'Data science')"
   ]
  },
  {
   "cell_type": "code",
   "execution_count": 112,
   "id": "367b3666",
   "metadata": {},
   "outputs": [
    {
     "data": {
      "text/plain": [
       "[]"
      ]
     },
     "execution_count": 112,
     "metadata": {},
     "output_type": "execute_result"
    }
   ],
   "source": [
    "re.findall('[\\n\\t]', 'Data Science\\\n",
    "           ')"
   ]
  },
  {
   "cell_type": "code",
   "execution_count": 117,
   "id": "93dcc8c3",
   "metadata": {},
   "outputs": [
    {
     "data": {
      "text/plain": [
       "[' ',\n",
       " ' ',\n",
       " ' ',\n",
       " ' ',\n",
       " ' ',\n",
       " ' ',\n",
       " ' ',\n",
       " ' ',\n",
       " ' ',\n",
       " ' ',\n",
       " ' ',\n",
       " ' ',\n",
       " ' ',\n",
       " ' ',\n",
       " ' ',\n",
       " ' ',\n",
       " ' ']"
      ]
     },
     "execution_count": 117,
     "metadata": {},
     "output_type": "execute_result"
    }
   ],
   "source": [
    "re.findall('[ \\n\\t]', 'Data     Science \\\n",
    "           ')"
   ]
  },
  {
   "cell_type": "code",
   "execution_count": 115,
   "id": "90877385",
   "metadata": {},
   "outputs": [
    {
     "data": {
      "text/plain": [
       "[' ', ' ', ' ', ' ', ' ', ' ', ' ', ' ', ' ', ' ', ' ', ' ', ' ']"
      ]
     },
     "execution_count": 115,
     "metadata": {},
     "output_type": "execute_result"
    }
   ],
   "source": [
    "re.findall('[ \\n\\t]', 'Data  Science\\\n",
    "           ')"
   ]
  },
  {
   "cell_type": "markdown",
   "id": "059b737b",
   "metadata": {},
   "source": [
    "\\S- Matches where a string non contains any whiitespace==[^\\t\\n]"
   ]
  },
  {
   "cell_type": "code",
   "execution_count": 118,
   "id": "92a3df50",
   "metadata": {},
   "outputs": [
    {
     "data": {
      "text/plain": [
       "['D', 'a', 't', 'a', 'S', 'c', 'i', 'e', 'n', 'c', 'e']"
      ]
     },
     "execution_count": 118,
     "metadata": {},
     "output_type": "execute_result"
    }
   ],
   "source": [
    "re.findall('\\S', 'Data Science')"
   ]
  },
  {
   "cell_type": "code",
   "execution_count": 119,
   "id": "558a94c8",
   "metadata": {},
   "outputs": [
    {
     "data": {
      "text/plain": [
       "['D', 'a', 't', 'a', 'S', 'c', 'i', 'e', 'n', 'c', 'e']"
      ]
     },
     "execution_count": 119,
     "metadata": {},
     "output_type": "execute_result"
    }
   ],
   "source": [
    "re.findall('\\S', 'Data Science')"
   ]
  },
  {
   "cell_type": "code",
   "execution_count": 120,
   "id": "ec4f292a",
   "metadata": {},
   "outputs": [
    {
     "data": {
      "text/plain": [
       "[' ']"
      ]
     },
     "execution_count": 120,
     "metadata": {},
     "output_type": "execute_result"
    }
   ],
   "source": [
    "re.findall('[ \\n\\t ]', 'Data Science')"
   ]
  },
  {
   "cell_type": "code",
   "execution_count": 122,
   "id": "1c0ab770",
   "metadata": {},
   "outputs": [
    {
     "data": {
      "text/plain": [
       "['D', 'a', 't', 'a', 'S', 'c', 'i', 'e', 'n', 'c', 'e']"
      ]
     },
     "execution_count": 122,
     "metadata": {},
     "output_type": "execute_result"
    }
   ],
   "source": [
    "re.findall('[^\\n\\t ]', 'Data Science')"
   ]
  },
  {
   "cell_type": "markdown",
   "id": "1893ee2c",
   "metadata": {},
   "source": [
    "\\W- Matches where a string non contains any whiitespace==[a-zA-Z0-9]"
   ]
  },
  {
   "cell_type": "code",
   "execution_count": 123,
   "id": "d2834f3e",
   "metadata": {},
   "outputs": [
    {
     "data": {
      "text/plain": [
       "['D',\n",
       " 'a',\n",
       " 't',\n",
       " 'a',\n",
       " 'S',\n",
       " 'c',\n",
       " 'i',\n",
       " 'e',\n",
       " 'n',\n",
       " 'c',\n",
       " 'e',\n",
       " '1',\n",
       " '9',\n",
       " '9',\n",
       " 'b',\n",
       " 'a',\n",
       " 't',\n",
       " 'c',\n",
       " 'h']"
      ]
     },
     "execution_count": 123,
     "metadata": {},
     "output_type": "execute_result"
    }
   ],
   "source": [
    "re.findall('\\w', 'Data Science 199 batch')"
   ]
  },
  {
   "cell_type": "code",
   "execution_count": 124,
   "id": "62f19e23",
   "metadata": {},
   "outputs": [
    {
     "data": {
      "text/plain": [
       "['D', 'a', 't', 'a', 'S', 'c', 'i', 'e', 'n', 'c', 'e']"
      ]
     },
     "execution_count": 124,
     "metadata": {},
     "output_type": "execute_result"
    }
   ],
   "source": [
    "re.findall('[0-9a-zA-Z]', 'Data Science')"
   ]
  },
  {
   "cell_type": "code",
   "execution_count": 126,
   "id": "b5c35c58",
   "metadata": {},
   "outputs": [
    {
     "data": {
      "text/plain": [
       "[' ']"
      ]
     },
     "execution_count": 126,
     "metadata": {},
     "output_type": "execute_result"
    }
   ],
   "source": [
    "re.findall('[^0-9a-zA-Z]', 'Data Science')"
   ]
  },
  {
   "cell_type": "code",
   "execution_count": 127,
   "id": "fbe9c776",
   "metadata": {},
   "outputs": [
    {
     "data": {
      "text/plain": [
       "[' ', ' ', ' ', ' ', '&', ' ', '=', ' ', '(', ')', ' ', '@', ' ', '|']"
      ]
     },
     "execution_count": 127,
     "metadata": {},
     "output_type": "execute_result"
    }
   ],
   "source": [
    "re.findall('[^0-9a-zA-Z]', 'Data Science 199 batch & = () @ |')"
   ]
  },
  {
   "cell_type": "markdown",
   "id": "7bf8004a",
   "metadata": {},
   "source": [
    "\\Z- Matches if the specified characters at the end of the string"
   ]
  },
  {
   "cell_type": "code",
   "execution_count": 128,
   "id": "add2ff69",
   "metadata": {},
   "outputs": [
    {
     "data": {
      "text/plain": [
       "['the']"
      ]
     },
     "execution_count": 128,
     "metadata": {},
     "output_type": "execute_result"
    }
   ],
   "source": [
    "re.findall('\\Athe', 'the sun rise in the east')"
   ]
  },
  {
   "cell_type": "code",
   "execution_count": 131,
   "id": "55aa3fb2",
   "metadata": {},
   "outputs": [
    {
     "data": {
      "text/plain": [
       "['east']"
      ]
     },
     "execution_count": 131,
     "metadata": {},
     "output_type": "execute_result"
    }
   ],
   "source": [
    "re.findall('east\\Z', 'the sun rise in the east')"
   ]
  },
  {
   "cell_type": "code",
   "execution_count": 133,
   "id": "0aa5e5b3",
   "metadata": {},
   "outputs": [
    {
     "data": {
      "text/plain": [
       "[]"
      ]
     },
     "execution_count": 133,
     "metadata": {},
     "output_type": "execute_result"
    }
   ],
   "source": [
    "re.findall('east$', 'the sun rise in the west')"
   ]
  },
  {
   "cell_type": "code",
   "execution_count": 134,
   "id": "a3625968",
   "metadata": {},
   "outputs": [
    {
     "data": {
      "text/plain": [
       "['east']"
      ]
     },
     "execution_count": 134,
     "metadata": {},
     "output_type": "execute_result"
    }
   ],
   "source": [
    "re.findall('east\\Z', 'the sun rise in the east')"
   ]
  },
  {
   "cell_type": "markdown",
   "id": "8ba07e3a",
   "metadata": {},
   "source": [
    "# Major funnction that are avaialble in re"
   ]
  },
  {
   "cell_type": "markdown",
   "id": "da628c3b",
   "metadata": {},
   "source": [
    "match()"
   ]
  },
  {
   "cell_type": "code",
   "execution_count": 135,
   "id": "68486dd4",
   "metadata": {},
   "outputs": [
    {
     "data": {
      "text/plain": [
       "'I like ipl. the match in ipl are fun '"
      ]
     },
     "execution_count": 135,
     "metadata": {},
     "output_type": "execute_result"
    }
   ],
   "source": [
    "tweet1 = \"I like ipl. the match in ipl are fun \"\n",
    "tweet1"
   ]
  },
  {
   "cell_type": "code",
   "execution_count": 139,
   "id": "7866eb36",
   "metadata": {},
   "outputs": [],
   "source": [
    "b= re.match(\"ipl\", tweet1)\n",
    "b"
   ]
  },
  {
   "cell_type": "code",
   "execution_count": 140,
   "id": "cd2fd00d",
   "metadata": {},
   "outputs": [
    {
     "data": {
      "text/plain": [
       "'ipl is fun. the match in ipl are fun'"
      ]
     },
     "execution_count": 140,
     "metadata": {},
     "output_type": "execute_result"
    }
   ],
   "source": [
    "tweet2 = \"ipl is fun. the match in ipl are fun\"\n",
    "tweet2"
   ]
  },
  {
   "cell_type": "code",
   "execution_count": 141,
   "id": "ce782b35",
   "metadata": {},
   "outputs": [],
   "source": [
    "b = re.match(\"ipl\", tweet2)"
   ]
  },
  {
   "cell_type": "code",
   "execution_count": 142,
   "id": "80a222c3",
   "metadata": {},
   "outputs": [
    {
     "data": {
      "text/plain": [
       "<re.Match object; span=(0, 3), match='ipl'>"
      ]
     },
     "execution_count": 142,
     "metadata": {},
     "output_type": "execute_result"
    }
   ],
   "source": [
    "b"
   ]
  },
  {
   "cell_type": "code",
   "execution_count": 143,
   "id": "55594966",
   "metadata": {},
   "outputs": [
    {
     "data": {
      "text/plain": [
       "re.Match"
      ]
     },
     "execution_count": 143,
     "metadata": {},
     "output_type": "execute_result"
    }
   ],
   "source": [
    "type(b)"
   ]
  },
  {
   "cell_type": "code",
   "execution_count": 144,
   "id": "5a249496",
   "metadata": {},
   "outputs": [
    {
     "data": {
      "text/plain": [
       "(0, 3)"
      ]
     },
     "execution_count": 144,
     "metadata": {},
     "output_type": "execute_result"
    }
   ],
   "source": [
    "b.span()"
   ]
  },
  {
   "cell_type": "code",
   "execution_count": 145,
   "id": "0d7bf756",
   "metadata": {},
   "outputs": [
    {
     "data": {
      "text/plain": [
       "'ipl'"
      ]
     },
     "execution_count": 145,
     "metadata": {},
     "output_type": "execute_result"
    }
   ],
   "source": [
    "tweet2[0:3]"
   ]
  },
  {
   "cell_type": "code",
   "execution_count": 146,
   "id": "87cf3433",
   "metadata": {},
   "outputs": [
    {
     "data": {
      "text/plain": [
       "(0, 3)"
      ]
     },
     "execution_count": 146,
     "metadata": {},
     "output_type": "execute_result"
    }
   ],
   "source": [
    "b.start(), b.end()"
   ]
  },
  {
   "cell_type": "code",
   "execution_count": 147,
   "id": "915973e2",
   "metadata": {},
   "outputs": [
    {
     "data": {
      "text/plain": [
       "'ipl'"
      ]
     },
     "execution_count": 147,
     "metadata": {},
     "output_type": "execute_result"
    }
   ],
   "source": [
    "b.group()"
   ]
  },
  {
   "cell_type": "markdown",
   "id": "70dbef07",
   "metadata": {},
   "source": [
    "search()"
   ]
  },
  {
   "cell_type": "code",
   "execution_count": 148,
   "id": "00f44a52",
   "metadata": {},
   "outputs": [
    {
     "data": {
      "text/plain": [
       "'I like ipl. the match in ipl are fun '"
      ]
     },
     "execution_count": 148,
     "metadata": {},
     "output_type": "execute_result"
    }
   ],
   "source": [
    "tweet1"
   ]
  },
  {
   "cell_type": "code",
   "execution_count": 149,
   "id": "d1787de6",
   "metadata": {},
   "outputs": [
    {
     "data": {
      "text/plain": [
       "<re.Match object; span=(7, 10), match='ipl'>"
      ]
     },
     "execution_count": 149,
     "metadata": {},
     "output_type": "execute_result"
    }
   ],
   "source": [
    "b= re.search(\"ipl\", tweet1)\n",
    "b"
   ]
  },
  {
   "cell_type": "code",
   "execution_count": 150,
   "id": "08923e92",
   "metadata": {},
   "outputs": [
    {
     "data": {
      "text/plain": [
       "(7, 10)"
      ]
     },
     "execution_count": 150,
     "metadata": {},
     "output_type": "execute_result"
    }
   ],
   "source": [
    "b.start(), b.end()"
   ]
  },
  {
   "cell_type": "code",
   "execution_count": 151,
   "id": "2fcdd7ef",
   "metadata": {},
   "outputs": [
    {
     "data": {
      "text/plain": [
       "'ipl'"
      ]
     },
     "execution_count": 151,
     "metadata": {},
     "output_type": "execute_result"
    }
   ],
   "source": [
    "b.group()"
   ]
  },
  {
   "cell_type": "code",
   "execution_count": null,
   "id": "abfc6e0e",
   "metadata": {},
   "outputs": [],
   "source": []
  },
  {
   "cell_type": "code",
   "execution_count": null,
   "id": "fca754f5",
   "metadata": {},
   "outputs": [],
   "source": []
  },
  {
   "cell_type": "markdown",
   "id": "a6ee71a8",
   "metadata": {},
   "source": [
    "findall()"
   ]
  },
  {
   "cell_type": "code",
   "execution_count": 152,
   "id": "606ebfff",
   "metadata": {},
   "outputs": [
    {
     "data": {
      "text/plain": [
       "'India scored 200 in the last match and lost 3 wickets'"
      ]
     },
     "execution_count": 152,
     "metadata": {},
     "output_type": "execute_result"
    }
   ],
   "source": [
    "text = \"India scored 200 in the last match and lost 3 wickets\"\n",
    "text"
   ]
  },
  {
   "cell_type": "code",
   "execution_count": 153,
   "id": "4c42d39a",
   "metadata": {},
   "outputs": [
    {
     "data": {
      "text/plain": [
       "['2', '0', '0', '3']"
      ]
     },
     "execution_count": 153,
     "metadata": {},
     "output_type": "execute_result"
    }
   ],
   "source": [
    "re.findall('\\d', text)"
   ]
  },
  {
   "cell_type": "code",
   "execution_count": 154,
   "id": "7f3c53d3",
   "metadata": {},
   "outputs": [
    {
     "data": {
      "text/plain": [
       "['2', '0', '0', '3']"
      ]
     },
     "execution_count": 154,
     "metadata": {},
     "output_type": "execute_result"
    }
   ],
   "source": [
    "re.findall('[0-9]', text)"
   ]
  },
  {
   "cell_type": "code",
   "execution_count": 155,
   "id": "8b51b227",
   "metadata": {},
   "outputs": [
    {
     "data": {
      "text/plain": [
       "['200', '3']"
      ]
     },
     "execution_count": 155,
     "metadata": {},
     "output_type": "execute_result"
    }
   ],
   "source": [
    "re.findall('\\d+', text)"
   ]
  },
  {
   "cell_type": "code",
   "execution_count": 156,
   "id": "442b6d18",
   "metadata": {},
   "outputs": [
    {
     "data": {
      "text/plain": [
       "'I like ipl. the match in ipl are fun '"
      ]
     },
     "execution_count": 156,
     "metadata": {},
     "output_type": "execute_result"
    }
   ],
   "source": [
    "tweet1"
   ]
  },
  {
   "cell_type": "code",
   "execution_count": 157,
   "id": "c3480373",
   "metadata": {},
   "outputs": [],
   "source": [
    "b= re.findall(\"ipl\", tweet1)"
   ]
  },
  {
   "cell_type": "code",
   "execution_count": 158,
   "id": "f8cf538a",
   "metadata": {},
   "outputs": [
    {
     "data": {
      "text/plain": [
       "['ipl', 'ipl']"
      ]
     },
     "execution_count": 158,
     "metadata": {},
     "output_type": "execute_result"
    }
   ],
   "source": [
    "b"
   ]
  },
  {
   "cell_type": "markdown",
   "id": "b036cc1a",
   "metadata": {},
   "source": [
    "split()"
   ]
  },
  {
   "cell_type": "code",
   "execution_count": 159,
   "id": "967ed3d6",
   "metadata": {},
   "outputs": [
    {
     "data": {
      "text/plain": [
       "['a', 'b', 'c']"
      ]
     },
     "execution_count": 159,
     "metadata": {},
     "output_type": "execute_result"
    }
   ],
   "source": [
    "s = 'a,b,c'\n",
    "s.split(',')"
   ]
  },
  {
   "cell_type": "code",
   "execution_count": 160,
   "id": "b4d4db99",
   "metadata": {},
   "outputs": [
    {
     "data": {
      "text/plain": [
       "'India scored 200 in the last match and lost 3 wickets'"
      ]
     },
     "execution_count": 160,
     "metadata": {},
     "output_type": "execute_result"
    }
   ],
   "source": [
    "text = \"India scored 200 in the last match and lost 3 wickets\"\n",
    "text"
   ]
  },
  {
   "cell_type": "code",
   "execution_count": 161,
   "id": "9af0fb7d",
   "metadata": {},
   "outputs": [
    {
     "data": {
      "text/plain": [
       "['India scored ', ' in the last match and lost ', ' wickets']"
      ]
     },
     "execution_count": 161,
     "metadata": {},
     "output_type": "execute_result"
    }
   ],
   "source": [
    "re.split('\\d+', text)"
   ]
  },
  {
   "cell_type": "code",
   "execution_count": 162,
   "id": "553a3e25",
   "metadata": {},
   "outputs": [
    {
     "data": {
      "text/plain": [
       "['200', '3']"
      ]
     },
     "execution_count": 162,
     "metadata": {},
     "output_type": "execute_result"
    }
   ],
   "source": [
    "re.findall('\\d+', text)"
   ]
  },
  {
   "cell_type": "code",
   "execution_count": 163,
   "id": "98fccbc6",
   "metadata": {},
   "outputs": [
    {
     "data": {
      "text/plain": [
       "['India scored ', ' in the last match and lost 3 wickets']"
      ]
     },
     "execution_count": 163,
     "metadata": {},
     "output_type": "execute_result"
    }
   ],
   "source": [
    "re.split('\\d+', text, 1)"
   ]
  },
  {
   "cell_type": "code",
   "execution_count": null,
   "id": "0c206f4e",
   "metadata": {},
   "outputs": [],
   "source": []
  },
  {
   "cell_type": "raw",
   "id": "dbf27bd9",
   "metadata": {},
   "source": []
  }
 ],
 "metadata": {
  "kernelspec": {
   "display_name": "Python 3 (ipykernel)",
   "language": "python",
   "name": "python3"
  },
  "language_info": {
   "codemirror_mode": {
    "name": "ipython",
    "version": 3
   },
   "file_extension": ".py",
   "mimetype": "text/x-python",
   "name": "python",
   "nbconvert_exporter": "python",
   "pygments_lexer": "ipython3",
   "version": "3.9.13"
  }
 },
 "nbformat": 4,
 "nbformat_minor": 5
}
