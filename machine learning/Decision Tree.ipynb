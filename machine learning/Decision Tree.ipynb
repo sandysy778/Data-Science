{
 "cells": [
  {
   "cell_type": "code",
   "execution_count": 2,
   "id": "7fc4f20e-7942-4fb1-aa1c-e30ce7e41555",
   "metadata": {},
   "outputs": [],
   "source": [
    "import math "
   ]
  },
  {
   "cell_type": "code",
   "execution_count": 6,
   "id": "17416939-f104-4b58-a809-27acedb074b6",
   "metadata": {},
   "outputs": [],
   "source": [
    "E = -((3/5)*math.log2(3/5) + ((2/5) * math.log2(2/5)))"
   ]
  },
  {
   "cell_type": "code",
   "execution_count": 7,
   "id": "abbf74a6-6fd8-48a6-8131-a0f91835b373",
   "metadata": {},
   "outputs": [
    {
     "data": {
      "text/plain": [
       "0.9709505944546686"
      ]
     },
     "execution_count": 7,
     "metadata": {},
     "output_type": "execute_result"
    }
   ],
   "source": [
    "E"
   ]
  },
  {
   "cell_type": "code",
   "execution_count": 9,
   "id": "81dc3e15-7c94-407d-be14-d19e2e1c39e3",
   "metadata": {},
   "outputs": [],
   "source": [
    "E = -((0.5)*math.log2(0.5) + ((0.5) * math.log2(0.5)))"
   ]
  },
  {
   "cell_type": "code",
   "execution_count": 10,
   "id": "f5425da5-7428-4ca6-9116-6a1875677de2",
   "metadata": {},
   "outputs": [
    {
     "data": {
      "text/plain": [
       "1.0"
      ]
     },
     "execution_count": 10,
     "metadata": {},
     "output_type": "execute_result"
    }
   ],
   "source": [
    "E"
   ]
  },
  {
   "cell_type": "code",
   "execution_count": 15,
   "id": "3123cbfb-f0d8-4049-a2af-c83285502720",
   "metadata": {},
   "outputs": [],
   "source": [
    "E = -((1/4)*math.log2(1/4) + ((3/4) * math.log2(3/4)))"
   ]
  },
  {
   "cell_type": "code",
   "execution_count": 16,
   "id": "f3c3c863-d121-4376-a69e-8f1dc7899a6c",
   "metadata": {},
   "outputs": [
    {
     "data": {
      "text/plain": [
       "0.8112781244591328"
      ]
     },
     "execution_count": 16,
     "metadata": {},
     "output_type": "execute_result"
    }
   ],
   "source": [
    "E"
   ]
  },
  {
   "cell_type": "code",
   "execution_count": 19,
   "id": "509ae73b-a671-449f-9386-07141a18f74e",
   "metadata": {},
   "outputs": [],
   "source": [
    "E = -((2/5)*math.log2(2/5) + ((2/5) * math.log2(2/5)) + ((1/5)*math.log2(1/5)))"
   ]
  },
  {
   "cell_type": "code",
   "execution_count": 21,
   "id": "55d5d963-1ae8-40cb-ae45-6284a3b1ac18",
   "metadata": {},
   "outputs": [],
   "source": [
    "E = -((2/6)*math.log2(2/6) + ((2/6) * math.log2(2/6)) + ((2/6)*math.log2(2/6)))"
   ]
  },
  {
   "cell_type": "code",
   "execution_count": 22,
   "id": "17505bb2-f9f5-4e67-99be-e127ec51f151",
   "metadata": {},
   "outputs": [
    {
     "data": {
      "text/plain": [
       "1.584962500721156"
      ]
     },
     "execution_count": 22,
     "metadata": {},
     "output_type": "execute_result"
    }
   ],
   "source": [
    "E"
   ]
  },
  {
   "cell_type": "code",
   "execution_count": null,
   "id": "6f3b667d-0f07-4eab-9d4c-c36fce0f00c2",
   "metadata": {},
   "outputs": [],
   "source": [
    "\n"
   ]
  }
 ],
 "metadata": {
  "kernelspec": {
   "display_name": "Python 3 (ipykernel)",
   "language": "python",
   "name": "python3"
  },
  "language_info": {
   "codemirror_mode": {
    "name": "ipython",
    "version": 3
   },
   "file_extension": ".py",
   "mimetype": "text/x-python",
   "name": "python",
   "nbconvert_exporter": "python",
   "pygments_lexer": "ipython3",
   "version": "3.10.9"
  }
 },
 "nbformat": 4,
 "nbformat_minor": 5
}
