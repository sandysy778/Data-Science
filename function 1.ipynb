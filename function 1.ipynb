{
 "cells": [
  {
   "cell_type": "code",
   "execution_count": 2,
   "id": "29d95e6e",
   "metadata": {},
   "outputs": [
    {
     "data": {
      "text/plain": [
       "{'ragu': 80, 'saran': 90, 'keerthi': 70}"
      ]
     },
     "execution_count": 2,
     "metadata": {},
     "output_type": "execute_result"
    }
   ],
   "source": [
    "d = {'ragu':80, 'saran':90, 'keerthi':70}\n",
    "d"
   ]
  },
  {
   "cell_type": "code",
   "execution_count": 5,
   "id": "30a84060",
   "metadata": {},
   "outputs": [
    {
     "data": {
      "text/plain": [
       "dict_items([('ragu', 80), ('saran', 90), ('keerthi', 70)])"
      ]
     },
     "execution_count": 5,
     "metadata": {},
     "output_type": "execute_result"
    }
   ],
   "source": [
    "d.items()"
   ]
  },
  {
   "cell_type": "code",
   "execution_count": 6,
   "id": "4c97eedd",
   "metadata": {},
   "outputs": [
    {
     "data": {
      "text/plain": [
       "{'ragu': 'pass', 'saran': 'pass', 'keerthi': 'pass'}"
      ]
     },
     "execution_count": 6,
     "metadata": {},
     "output_type": "execute_result"
    }
   ],
   "source": [
    "res = {}\n",
    "for name, marks in d.items():\n",
    "    if(marks>=50):\n",
    "        res[name]='pass'\n",
    "    else:\n",
    "        res[name]='Fail'\n",
    "res"
   ]
  },
  {
   "cell_type": "code",
   "execution_count": 7,
   "id": "efdac1fc",
   "metadata": {},
   "outputs": [
    {
     "data": {
      "text/plain": [
       "{'ragu': 80, 'saran': 90, 'keerthi': 70}"
      ]
     },
     "execution_count": 7,
     "metadata": {},
     "output_type": "execute_result"
    }
   ],
   "source": [
    "d = {'ragu':80, 'saran':90, 'keerthi':70}\n",
    "d"
   ]
  },
  {
   "cell_type": "code",
   "execution_count": 8,
   "id": "838f3090",
   "metadata": {},
   "outputs": [
    {
     "data": {
      "text/plain": [
       "{'ragu': 'pass', 'saran': 'pass', 'keerthi': 'pass'}"
      ]
     },
     "execution_count": 8,
     "metadata": {},
     "output_type": "execute_result"
    }
   ],
   "source": [
    "res = {name:'pass' if(marks >=50) else 'fail' for name,marks in d.items()}\n",
    "res"
   ]
  },
  {
   "cell_type": "code",
   "execution_count": 14,
   "id": "119fef24",
   "metadata": {},
   "outputs": [
    {
     "data": {
      "text/plain": [
       "{'keerthi': 10}"
      ]
     },
     "execution_count": 14,
     "metadata": {},
     "output_type": "execute_result"
    }
   ],
   "source": [
    "res = {name:10}\n",
    "res"
   ]
  },
  {
   "cell_type": "code",
   "execution_count": null,
   "id": "09582c46",
   "metadata": {},
   "outputs": [],
   "source": []
  },
  {
   "cell_type": "code",
   "execution_count": 10,
   "id": "da0f4e9a",
   "metadata": {},
   "outputs": [
    {
     "name": "stdout",
     "output_type": "stream",
     "text": [
      "[2, 4, 6, 8, 10]\n",
      "[1, 3, 5, 7, 9]\n"
     ]
    }
   ],
   "source": [
    "numbers = [1,2,3,4,5,6,7,8,9,10]\n",
    "\n",
    "even = []\n",
    "odd = []\n",
    "\n",
    "even = [n for n in numbers if n%2==0]\n",
    "odd = [n for n in numbers if n%2 !=0]\n",
    "\n",
    "print(even)\n",
    "print(odd)"
   ]
  },
  {
   "cell_type": "code",
   "execution_count": 12,
   "id": "97ea21c5",
   "metadata": {},
   "outputs": [
    {
     "data": {
      "text/plain": [
       "[2, 4, 6, 8, 10]"
      ]
     },
     "execution_count": 12,
     "metadata": {},
     "output_type": "execute_result"
    }
   ],
   "source": [
    "even = [n for n in numbers if n%2==0]\n",
    "even"
   ]
  },
  {
   "cell_type": "code",
   "execution_count": 13,
   "id": "94ae0744",
   "metadata": {},
   "outputs": [
    {
     "name": "stdout",
     "output_type": "stream",
     "text": [
      "[2, 4, 6, 8, 10]\n",
      "[1, 3, 5, 7, 9]\n"
     ]
    }
   ],
   "source": [
    "print(even)\n",
    "print(odd)"
   ]
  },
  {
   "cell_type": "code",
   "execution_count": null,
   "id": "d692797a",
   "metadata": {},
   "outputs": [],
   "source": []
  },
  {
   "cell_type": "code",
   "execution_count": null,
   "id": "875b762f",
   "metadata": {},
   "outputs": [],
   "source": []
  },
  {
   "cell_type": "code",
   "execution_count": null,
   "id": "fa400760",
   "metadata": {},
   "outputs": [],
   "source": []
  },
  {
   "cell_type": "markdown",
   "id": "05bcae9d",
   "metadata": {},
   "source": [
    "# Program to find the squares numbres"
   ]
  },
  {
   "cell_type": "code",
   "execution_count": null,
   "id": "6cc66621",
   "metadata": {},
   "outputs": [],
   "source": []
  },
  {
   "cell_type": "code",
   "execution_count": null,
   "id": "88a32c10",
   "metadata": {},
   "outputs": [],
   "source": []
  },
  {
   "cell_type": "code",
   "execution_count": null,
   "id": "ebd1277d",
   "metadata": {},
   "outputs": [],
   "source": []
  },
  {
   "cell_type": "code",
   "execution_count": null,
   "id": "1a4c1e89",
   "metadata": {},
   "outputs": [],
   "source": []
  },
  {
   "cell_type": "code",
   "execution_count": null,
   "id": "bff15106",
   "metadata": {},
   "outputs": [],
   "source": []
  },
  {
   "cell_type": "code",
   "execution_count": 16,
   "id": "ce495d63",
   "metadata": {},
   "outputs": [
    {
     "name": "stdout",
     "output_type": "stream",
     "text": [
      "20\n"
     ]
    }
   ],
   "source": [
    "num1 = 10 \n",
    "num2 = 20\n",
    "\n",
    "if(num1<=num2):\n",
    "    print(num2)\n",
    "else:\n",
    "    print(num1)\n"
   ]
  },
  {
   "cell_type": "code",
   "execution_count": 17,
   "id": "34e113b7",
   "metadata": {},
   "outputs": [],
   "source": [
    "def max(num1, num2):\n",
    "    \n",
    "    if(num1<num2):\n",
    "        print(num2)\n",
    "    else:\n",
    "        print(num1)\n",
    "    \n",
    "    \n",
    "    "
   ]
  },
  {
   "cell_type": "code",
   "execution_count": 19,
   "id": "6ec66da2",
   "metadata": {},
   "outputs": [
    {
     "name": "stdout",
     "output_type": "stream",
     "text": [
      "20\n"
     ]
    }
   ],
   "source": [
    "num1 = 10\n",
    "num2 = 20\n",
    "max(num1, num2)"
   ]
  },
  {
   "cell_type": "code",
   "execution_count": 20,
   "id": "d48b7285",
   "metadata": {},
   "outputs": [
    {
     "name": "stdout",
     "output_type": "stream",
     "text": [
      "20\n"
     ]
    }
   ],
   "source": [
    "n1 = 10\n",
    "n2 = 20\n",
    "max(n1,n2)\n",
    "    "
   ]
  },
  {
   "cell_type": "code",
   "execution_count": 22,
   "id": "fdf6d126",
   "metadata": {},
   "outputs": [
    {
     "name": "stdout",
     "output_type": "stream",
     "text": [
      "20\n"
     ]
    }
   ],
   "source": [
    "max(n1,n2)"
   ]
  },
  {
   "cell_type": "code",
   "execution_count": 25,
   "id": "ace29910",
   "metadata": {},
   "outputs": [],
   "source": [
    "def max_new(num1, num2):\n",
    "    \n",
    "    if(num1<num2):\n",
    "        print(num2)\n",
    "    else:\n",
    "        print(num1)\n",
    "    "
   ]
  },
  {
   "cell_type": "code",
   "execution_count": 26,
   "id": "869a2754",
   "metadata": {},
   "outputs": [
    {
     "name": "stdout",
     "output_type": "stream",
     "text": [
      "2000\n"
     ]
    }
   ],
   "source": [
    "res  = max_new(1000,2000)\n",
    "res"
   ]
  },
  {
   "cell_type": "code",
   "execution_count": 29,
   "id": "9edfaee8",
   "metadata": {},
   "outputs": [],
   "source": [
    "res"
   ]
  },
  {
   "cell_type": "code",
   "execution_count": 30,
   "id": "0f629e3e",
   "metadata": {},
   "outputs": [
    {
     "name": "stdout",
     "output_type": "stream",
     "text": [
      "2000\n"
     ]
    }
   ],
   "source": [
    "res = max(1000,2000)"
   ]
  },
  {
   "cell_type": "code",
   "execution_count": 31,
   "id": "6b9e0929",
   "metadata": {},
   "outputs": [],
   "source": [
    "res"
   ]
  },
  {
   "cell_type": "markdown",
   "id": "b31e8048",
   "metadata": {},
   "source": [
    "#Positional Argument"
   ]
  },
  {
   "cell_type": "code",
   "execution_count": 32,
   "id": "0c2f5841",
   "metadata": {},
   "outputs": [],
   "source": [
    "def dummy_fun(msg, num):\n",
    "    \n",
    "    for i in range(num):\n",
    "        print(msg)"
   ]
  },
  {
   "cell_type": "code",
   "execution_count": 34,
   "id": "7a2ed54f",
   "metadata": {},
   "outputs": [
    {
     "name": "stdout",
     "output_type": "stream",
     "text": [
      "hello\n",
      "hello\n",
      "hello\n"
     ]
    }
   ],
   "source": [
    "dummy_fun('hello', 3)"
   ]
  },
  {
   "cell_type": "code",
   "execution_count": 35,
   "id": "f19e4980",
   "metadata": {},
   "outputs": [
    {
     "ename": "TypeError",
     "evalue": "'str' object cannot be interpreted as an integer",
     "output_type": "error",
     "traceback": [
      "\u001b[1;31m---------------------------------------------------------------------------\u001b[0m",
      "\u001b[1;31mTypeError\u001b[0m                                 Traceback (most recent call last)",
      "\u001b[1;32m~\\AppData\\Local\\Temp\\ipykernel_14228\\1556385854.py\u001b[0m in \u001b[0;36m<module>\u001b[1;34m\u001b[0m\n\u001b[1;32m----> 1\u001b[1;33m \u001b[0mdummy_fun\u001b[0m\u001b[1;33m(\u001b[0m\u001b[1;36m3\u001b[0m\u001b[1;33m,\u001b[0m \u001b[1;34m'hello'\u001b[0m\u001b[1;33m)\u001b[0m\u001b[1;33m\u001b[0m\u001b[1;33m\u001b[0m\u001b[0m\n\u001b[0m",
      "\u001b[1;32m~\\AppData\\Local\\Temp\\ipykernel_14228\\3198469426.py\u001b[0m in \u001b[0;36mdummy_fun\u001b[1;34m(msg, num)\u001b[0m\n\u001b[0;32m      1\u001b[0m \u001b[1;32mdef\u001b[0m \u001b[0mdummy_fun\u001b[0m\u001b[1;33m(\u001b[0m\u001b[0mmsg\u001b[0m\u001b[1;33m,\u001b[0m \u001b[0mnum\u001b[0m\u001b[1;33m)\u001b[0m\u001b[1;33m:\u001b[0m\u001b[1;33m\u001b[0m\u001b[1;33m\u001b[0m\u001b[0m\n\u001b[0;32m      2\u001b[0m \u001b[1;33m\u001b[0m\u001b[0m\n\u001b[1;32m----> 3\u001b[1;33m     \u001b[1;32mfor\u001b[0m \u001b[0mi\u001b[0m \u001b[1;32min\u001b[0m \u001b[0mrange\u001b[0m\u001b[1;33m(\u001b[0m\u001b[0mnum\u001b[0m\u001b[1;33m)\u001b[0m\u001b[1;33m:\u001b[0m\u001b[1;33m\u001b[0m\u001b[1;33m\u001b[0m\u001b[0m\n\u001b[0m\u001b[0;32m      4\u001b[0m         \u001b[0mprint\u001b[0m\u001b[1;33m(\u001b[0m\u001b[0mmsg\u001b[0m\u001b[1;33m)\u001b[0m\u001b[1;33m\u001b[0m\u001b[1;33m\u001b[0m\u001b[0m\n",
      "\u001b[1;31mTypeError\u001b[0m: 'str' object cannot be interpreted as an integer"
     ]
    }
   ],
   "source": [
    "dummy_fun(3, 'hello')"
   ]
  },
  {
   "cell_type": "code",
   "execution_count": 39,
   "id": "f8c8ed73",
   "metadata": {},
   "outputs": [
    {
     "ename": "TypeError",
     "evalue": "dummy_fun() takes 2 positional arguments but 3 were given",
     "output_type": "error",
     "traceback": [
      "\u001b[1;31m---------------------------------------------------------------------------\u001b[0m",
      "\u001b[1;31mTypeError\u001b[0m                                 Traceback (most recent call last)",
      "\u001b[1;32m~\\AppData\\Local\\Temp\\ipykernel_14228\\3968016625.py\u001b[0m in \u001b[0;36m<module>\u001b[1;34m\u001b[0m\n\u001b[1;32m----> 1\u001b[1;33m \u001b[0mdummy_fun\u001b[0m\u001b[1;33m(\u001b[0m\u001b[1;34m'hello'\u001b[0m\u001b[1;33m,\u001b[0m \u001b[1;36m3\u001b[0m\u001b[1;33m,\u001b[0m\u001b[1;36m6\u001b[0m\u001b[1;33m)\u001b[0m\u001b[1;33m\u001b[0m\u001b[1;33m\u001b[0m\u001b[0m\n\u001b[0m",
      "\u001b[1;31mTypeError\u001b[0m: dummy_fun() takes 2 positional arguments but 3 were given"
     ]
    }
   ],
   "source": [
    "dummy_fun('hello', 3,6)"
   ]
  },
  {
   "cell_type": "code",
   "execution_count": 36,
   "id": "8fb2c5b9",
   "metadata": {},
   "outputs": [],
   "source": [
    "def dummy_fun(num, msg):\n",
    "    \n",
    "    for i in range(num):\n",
    "        print(msg)"
   ]
  },
  {
   "cell_type": "code",
   "execution_count": 38,
   "id": "b1915284",
   "metadata": {},
   "outputs": [
    {
     "name": "stdout",
     "output_type": "stream",
     "text": [
      "hello\n",
      "hello\n",
      "hello\n"
     ]
    }
   ],
   "source": [
    "dummy_fun(3, 'hello')"
   ]
  },
  {
   "cell_type": "code",
   "execution_count": 40,
   "id": "bc03c866",
   "metadata": {},
   "outputs": [],
   "source": [
    "def dummy_fun(msg, num1,num2):\n",
    "    \n",
    "    for i in range(num1, num2):\n",
    "        print(msg)"
   ]
  },
  {
   "cell_type": "markdown",
   "id": "624e247b",
   "metadata": {},
   "source": []
  },
  {
   "cell_type": "code",
   "execution_count": 46,
   "id": "2c6ffc3c",
   "metadata": {},
   "outputs": [
    {
     "name": "stdout",
     "output_type": "stream",
     "text": [
      "hello\n",
      "hello\n",
      "hello\n"
     ]
    }
   ],
   "source": [
    "dummy_fun('hello', 3,6)"
   ]
  },
  {
   "cell_type": "markdown",
   "id": "8557fc41",
   "metadata": {},
   "source": [
    "Assigning a function to variable"
   ]
  },
  {
   "cell_type": "code",
   "execution_count": 49,
   "id": "93b0030d",
   "metadata": {},
   "outputs": [],
   "source": [
    "def find_cube(x):\n",
    "    return x**3"
   ]
  },
  {
   "cell_type": "code",
   "execution_count": 50,
   "id": "b5849e59",
   "metadata": {},
   "outputs": [
    {
     "data": {
      "text/plain": [
       "8"
      ]
     },
     "execution_count": 50,
     "metadata": {},
     "output_type": "execute_result"
    }
   ],
   "source": [
    "find_cube(2)"
   ]
  },
  {
   "cell_type": "code",
   "execution_count": 51,
   "id": "92b5444e",
   "metadata": {},
   "outputs": [
    {
     "data": {
      "text/plain": [
       "8"
      ]
     },
     "execution_count": 51,
     "metadata": {},
     "output_type": "execute_result"
    }
   ],
   "source": [
    "8"
   ]
  },
  {
   "cell_type": "code",
   "execution_count": 52,
   "id": "44e59778",
   "metadata": {},
   "outputs": [
    {
     "data": {
      "text/plain": [
       "<function __main__.find_cube(x)>"
      ]
     },
     "execution_count": 52,
     "metadata": {},
     "output_type": "execute_result"
    }
   ],
   "source": [
    "k = find_cube\n",
    "k"
   ]
  },
  {
   "cell_type": "code",
   "execution_count": 53,
   "id": "d3ae7ea5",
   "metadata": {},
   "outputs": [
    {
     "data": {
      "text/plain": [
       "8"
      ]
     },
     "execution_count": 53,
     "metadata": {},
     "output_type": "execute_result"
    }
   ],
   "source": [
    "k(2)"
   ]
  },
  {
   "cell_type": "code",
   "execution_count": 54,
   "id": "9eb4ab70",
   "metadata": {},
   "outputs": [
    {
     "data": {
      "text/plain": [
       "27"
      ]
     },
     "execution_count": 54,
     "metadata": {},
     "output_type": "execute_result"
    }
   ],
   "source": [
    "k(3)"
   ]
  },
  {
   "cell_type": "code",
   "execution_count": 55,
   "id": "fda942c8",
   "metadata": {},
   "outputs": [],
   "source": [
    "def test_fun(n1,n2):\n",
    "    print(n1)\n",
    "    print(n2)"
   ]
  },
  {
   "cell_type": "code",
   "execution_count": 56,
   "id": "d879c5d7",
   "metadata": {},
   "outputs": [
    {
     "name": "stdout",
     "output_type": "stream",
     "text": [
      "4\n",
      "5\n"
     ]
    }
   ],
   "source": [
    "test_fun(4,5)"
   ]
  },
  {
   "cell_type": "code",
   "execution_count": 57,
   "id": "56a9c9ff",
   "metadata": {},
   "outputs": [],
   "source": [
    "def test_fun(n1,n2,n3):\n",
    "    print(n1)\n",
    "    print(n2)\n",
    "    print(n3)"
   ]
  },
  {
   "cell_type": "code",
   "execution_count": 58,
   "id": "674cb752",
   "metadata": {},
   "outputs": [
    {
     "name": "stdout",
     "output_type": "stream",
     "text": [
      "4\n",
      "5\n",
      "6\n"
     ]
    }
   ],
   "source": [
    "test_fun(4,5,6)"
   ]
  },
  {
   "cell_type": "code",
   "execution_count": 59,
   "id": "92c7bd9d",
   "metadata": {},
   "outputs": [],
   "source": [
    "def test_fun(n1,n2):\n",
    "    print(n1)\n",
    "    print(n2)"
   ]
  },
  {
   "cell_type": "code",
   "execution_count": 60,
   "id": "a8c1f335",
   "metadata": {},
   "outputs": [
    {
     "ename": "TypeError",
     "evalue": "test_fun() takes 2 positional arguments but 3 were given",
     "output_type": "error",
     "traceback": [
      "\u001b[1;31m---------------------------------------------------------------------------\u001b[0m",
      "\u001b[1;31mTypeError\u001b[0m                                 Traceback (most recent call last)",
      "\u001b[1;32m~\\AppData\\Local\\Temp\\ipykernel_14228\\2128131263.py\u001b[0m in \u001b[0;36m<module>\u001b[1;34m\u001b[0m\n\u001b[1;32m----> 1\u001b[1;33m \u001b[0mtest_fun\u001b[0m\u001b[1;33m(\u001b[0m\u001b[1;36m4\u001b[0m\u001b[1;33m,\u001b[0m\u001b[1;36m5\u001b[0m\u001b[1;33m,\u001b[0m\u001b[1;36m6\u001b[0m\u001b[1;33m)\u001b[0m\u001b[1;33m\u001b[0m\u001b[1;33m\u001b[0m\u001b[0m\n\u001b[0m",
      "\u001b[1;31mTypeError\u001b[0m: test_fun() takes 2 positional arguments but 3 were given"
     ]
    }
   ],
   "source": [
    "test_fun(4,5,6)"
   ]
  },
  {
   "cell_type": "code",
   "execution_count": 61,
   "id": "bb111491",
   "metadata": {},
   "outputs": [],
   "source": [
    "def test_fun(*args):\n",
    "    print(type(args))\n",
    "    \n",
    "    for i in args:\n",
    "        print(i)\n",
    "\n",
    "  "
   ]
  },
  {
   "cell_type": "code",
   "execution_count": 62,
   "id": "5e426d52",
   "metadata": {},
   "outputs": [],
   "source": [
    "def test_fun1(*n):\n",
    "    print(type(n))\n",
    "    \n",
    "    for i in n:\n",
    "        print(i)\n",
    "\n",
    "  "
   ]
  },
  {
   "cell_type": "code",
   "execution_count": 63,
   "id": "22c35d92",
   "metadata": {},
   "outputs": [
    {
     "name": "stdout",
     "output_type": "stream",
     "text": [
      "<class 'tuple'>\n",
      "4\n",
      "5\n",
      "6\n"
     ]
    }
   ],
   "source": [
    "test_fun(4,5,6)"
   ]
  },
  {
   "cell_type": "code",
   "execution_count": 64,
   "id": "7acc78e7",
   "metadata": {},
   "outputs": [
    {
     "name": "stdout",
     "output_type": "stream",
     "text": [
      "<class 'tuple'>\n",
      "4\n",
      "5\n"
     ]
    }
   ],
   "source": [
    "test_fun1(4,5)"
   ]
  },
  {
   "cell_type": "code",
   "execution_count": null,
   "id": "f965c4d1",
   "metadata": {},
   "outputs": [],
   "source": []
  },
  {
   "cell_type": "code",
   "execution_count": 70,
   "id": "3c1b4271",
   "metadata": {},
   "outputs": [],
   "source": [
    "def test_fun(**kwargs):\n",
    "    print(type(kwargs))\n",
    "    print(kwargs)\n",
    "\n",
    "  "
   ]
  },
  {
   "cell_type": "markdown",
   "id": "e85c4efa",
   "metadata": {},
   "source": [
    "def test_fun2(x,z,s,t,r):\n",
    "    print(x,z,s,t)"
   ]
  },
  {
   "cell_type": "code",
   "execution_count": 69,
   "id": "bebfe584",
   "metadata": {},
   "outputs": [
    {
     "name": "stdout",
     "output_type": "stream",
     "text": [
      "10 20 40 30\n"
     ]
    }
   ],
   "source": [
    "test_fun2(x=10, z=20, t=30, s=40, r=80)"
   ]
  },
  {
   "cell_type": "markdown",
   "id": "7f6e6ce8",
   "metadata": {},
   "source": [
    "Scope\n",
    "\n",
    "local scope\n",
    "global scope"
   ]
  },
  {
   "cell_type": "code",
   "execution_count": 71,
   "id": "4e7748c4",
   "metadata": {},
   "outputs": [],
   "source": [
    "def fun():\n",
    "    a=15\n",
    "    print(\"a =\",a)"
   ]
  },
  {
   "cell_type": "code",
   "execution_count": 72,
   "id": "6a58f090",
   "metadata": {},
   "outputs": [
    {
     "name": "stdout",
     "output_type": "stream",
     "text": [
      "a = 15\n"
     ]
    }
   ],
   "source": [
    "fun()"
   ]
  },
  {
   "cell_type": "code",
   "execution_count": null,
   "id": "58eeb7b1",
   "metadata": {},
   "outputs": [],
   "source": [
    "def fun2():\n",
    "    "
   ]
  },
  {
   "cell_type": "code",
   "execution_count": null,
   "id": "a59802d2",
   "metadata": {},
   "outputs": [],
   "source": []
  },
  {
   "cell_type": "code",
   "execution_count": null,
   "id": "c324a9d3",
   "metadata": {},
   "outputs": [],
   "source": []
  },
  {
   "cell_type": "code",
   "execution_count": null,
   "id": "ae770558",
   "metadata": {},
   "outputs": [],
   "source": []
  }
 ],
 "metadata": {
  "kernelspec": {
   "display_name": "Python 3 (ipykernel)",
   "language": "python",
   "name": "python3"
  },
  "language_info": {
   "codemirror_mode": {
    "name": "ipython",
    "version": 3
   },
   "file_extension": ".py",
   "mimetype": "text/x-python",
   "name": "python",
   "nbconvert_exporter": "python",
   "pygments_lexer": "ipython3",
   "version": "3.9.13"
  }
 },
 "nbformat": 4,
 "nbformat_minor": 5
}
