{
 "cells": [
  {
   "cell_type": "code",
   "execution_count": 1,
   "id": "33b7da18",
   "metadata": {},
   "outputs": [],
   "source": [
    "import re"
   ]
  },
  {
   "cell_type": "code",
   "execution_count": 2,
   "id": "ff66d424",
   "metadata": {},
   "outputs": [
    {
     "data": {
      "text/plain": [
       "'The rain in spain'"
      ]
     },
     "execution_count": 2,
     "metadata": {},
     "output_type": "execute_result"
    }
   ],
   "source": [
    "text = 'The rain in spain'\n",
    "text"
   ]
  },
  {
   "cell_type": "code",
   "execution_count": 3,
   "id": "3ece1747",
   "metadata": {},
   "outputs": [
    {
     "data": {
      "text/plain": [
       "[]"
      ]
     },
     "execution_count": 3,
     "metadata": {},
     "output_type": "execute_result"
    }
   ],
   "source": [
    "re.findall('Regular', text)"
   ]
  },
  {
   "cell_type": "code",
   "execution_count": 4,
   "id": "7e40f6e8",
   "metadata": {},
   "outputs": [
    {
     "data": {
      "text/plain": [
       "['rain']"
      ]
     },
     "execution_count": 4,
     "metadata": {},
     "output_type": "execute_result"
    }
   ],
   "source": [
    "re.findall('rain', text)"
   ]
  },
  {
   "cell_type": "code",
   "execution_count": 5,
   "id": "f74c4d07",
   "metadata": {},
   "outputs": [
    {
     "data": {
      "text/plain": [
       "[]"
      ]
     },
     "execution_count": 5,
     "metadata": {},
     "output_type": "execute_result"
    }
   ],
   "source": [
    "re.findall('rain/spain', text)"
   ]
  },
  {
   "cell_type": "code",
   "execution_count": 6,
   "id": "638baa56",
   "metadata": {},
   "outputs": [
    {
     "data": {
      "text/plain": [
       "'#KGF2 IS A NEW INDUSTRY HIT AT KA BO..\\n\\nWeek 1- 225cr\\nFri - 5cr\\nSat - 9cr\\nSun -12cr\\nTotal 11 Days Gross 150cr 1334cr 567cr'"
      ]
     },
     "execution_count": 6,
     "metadata": {},
     "output_type": "execute_result"
    }
   ],
   "source": [
    "tweet = \"\"\"#KGF2 IS A NEW INDUSTRY HIT AT KA BO..\n",
    "\n",
    "Week 1- 225cr\n",
    "Fri - 5cr\n",
    "Sat - 9cr\n",
    "Sun -12cr\n",
    "Total 11 Days Gross 150cr 1334cr 567cr\"\"\"\n",
    "\n",
    "tweet"
   ]
  },
  {
   "cell_type": "code",
   "execution_count": 7,
   "id": "21a71ed6",
   "metadata": {},
   "outputs": [
    {
     "data": {
      "text/plain": [
       "['5cr', '5cr', '9cr', '12cr']"
      ]
     },
     "execution_count": 7,
     "metadata": {},
     "output_type": "execute_result"
    }
   ],
   "source": [
    "re.findall(\"125cr|5cr|9cr|12cr\", tweet)"
   ]
  },
  {
   "cell_type": "code",
   "execution_count": 8,
   "id": "17e383ea",
   "metadata": {},
   "outputs": [
    {
     "data": {
      "text/plain": [
       "['225cr', '5cr', '9cr', '12cr', '150cr', '1334cr', '567cr']"
      ]
     },
     "execution_count": 8,
     "metadata": {},
     "output_type": "execute_result"
    }
   ],
   "source": [
    "re.findall(\"[0-9]+cr\",tweet)"
   ]
  },
  {
   "cell_type": "code",
   "execution_count": 9,
   "id": "1232ecb7",
   "metadata": {},
   "outputs": [
    {
     "data": {
      "text/plain": [
       "'The wait for IPL is over. '"
      ]
     },
     "execution_count": 9,
     "metadata": {},
     "output_type": "execute_result"
    }
   ],
   "source": [
    "text = \"The wait for IPL is over. \"\n",
    "text"
   ]
  },
  {
   "cell_type": "code",
   "execution_count": 10,
   "id": "eaa597a0",
   "metadata": {},
   "outputs": [
    {
     "data": {
      "text/plain": [
       "['IPL']"
      ]
     },
     "execution_count": 10,
     "metadata": {},
     "output_type": "execute_result"
    }
   ],
   "source": [
    "re.findall(\"IPL\", text)"
   ]
  },
  {
   "cell_type": "code",
   "execution_count": null,
   "id": "d69d8dfd",
   "metadata": {},
   "outputs": [],
   "source": [
    "# ? - 0 or 1 occurence"
   ]
  },
  {
   "cell_type": "code",
   "execution_count": 11,
   "id": "056704d9",
   "metadata": {},
   "outputs": [
    {
     "data": {
      "text/plain": [
       "['alias', 'alias']"
      ]
     },
     "execution_count": 11,
     "metadata": {},
     "output_type": "execute_result"
    }
   ],
   "source": [
    "re.findall('alias', 'alias is alias')"
   ]
  },
  {
   "cell_type": "markdown",
   "id": "0aa42884",
   "metadata": {},
   "source": [
    "# metacharacter(., ^, $)"
   ]
  },
  {
   "cell_type": "code",
   "execution_count": 12,
   "id": "041da98d",
   "metadata": {},
   "outputs": [
    {
     "data": {
      "text/plain": [
       "['a',\n",
       " 'v',\n",
       " 'b',\n",
       " 's',\n",
       " 's',\n",
       " ' ',\n",
       " 'h',\n",
       " 'i',\n",
       " ' ',\n",
       " 'h',\n",
       " 'e',\n",
       " 'l',\n",
       " 'l',\n",
       " 'o',\n",
       " ' ',\n",
       " 'h',\n",
       " 'o',\n",
       " 'w',\n",
       " ' ',\n",
       " 'a',\n",
       " 'r',\n",
       " 'e',\n",
       " ' ',\n",
       " 'y',\n",
       " 'o',\n",
       " 'u',\n",
       " ' ',\n",
       " 'b',\n",
       " 'o',\n",
       " 'r',\n",
       " 't',\n",
       " 'h']"
      ]
     },
     "execution_count": 12,
     "metadata": {},
     "output_type": "execute_result"
    }
   ],
   "source": [
    "re.findall('.','avbss hi hello how are you borth')"
   ]
  },
  {
   "cell_type": "code",
   "execution_count": 13,
   "id": "d58fa24d",
   "metadata": {},
   "outputs": [
    {
     "data": {
      "text/plain": [
       "['a', 'a', 'a']"
      ]
     },
     "execution_count": 13,
     "metadata": {},
     "output_type": "execute_result"
    }
   ],
   "source": [
    "re.findall('a', 'avbss hi hello how are you suman')"
   ]
  },
  {
   "cell_type": "code",
   "execution_count": 14,
   "id": "a03a1797",
   "metadata": {},
   "outputs": [
    {
     "data": {
      "text/plain": [
       "['b', 'b']"
      ]
     },
     "execution_count": 14,
     "metadata": {},
     "output_type": "execute_result"
    }
   ],
   "source": [
    "re.findall('b','avbss hi hello how are you borth')"
   ]
  },
  {
   "cell_type": "code",
   "execution_count": 15,
   "id": "95f55a6d",
   "metadata": {},
   "outputs": [
    {
     "data": {
      "text/plain": [
       "[]"
      ]
     },
     "execution_count": 15,
     "metadata": {},
     "output_type": "execute_result"
    }
   ],
   "source": [
    "re.findall('1','avbss hi hello how are you suman')"
   ]
  },
  {
   "cell_type": "code",
   "execution_count": 16,
   "id": "77ec08ac",
   "metadata": {},
   "outputs": [
    {
     "data": {
      "text/plain": [
       "['1']"
      ]
     },
     "execution_count": 16,
     "metadata": {},
     "output_type": "execute_result"
    }
   ],
   "source": [
    "re.findall('1', 'avbss hi hello how are you suman1234')"
   ]
  },
  {
   "cell_type": "code",
   "execution_count": 17,
   "id": "9bdef832",
   "metadata": {},
   "outputs": [
    {
     "data": {
      "text/plain": [
       "['a', ' ', '1', '2', '3', '4', ' ', 'A', 'Z', ' ', '@', ' ', '\\\\', ' ', '&']"
      ]
     },
     "execution_count": 17,
     "metadata": {},
     "output_type": "execute_result"
    }
   ],
   "source": [
    "re.findall('.', 'a 1234 AZ @ \\ &')"
   ]
  },
  {
   "cell_type": "code",
   "execution_count": 18,
   "id": "8493ffe2",
   "metadata": {},
   "outputs": [
    {
     "data": {
      "text/plain": [
       "['avbss', ' hi h', 'ello ', 'how a', 're yo', 'u sum']"
      ]
     },
     "execution_count": 18,
     "metadata": {},
     "output_type": "execute_result"
    }
   ],
   "source": [
    "re.findall('.....','avbss hi hello how are you suman')"
   ]
  },
  {
   "cell_type": "code",
   "execution_count": 19,
   "id": "eabca8c8",
   "metadata": {},
   "outputs": [
    {
     "data": {
      "text/plain": [
       "['IPL']"
      ]
     },
     "execution_count": 19,
     "metadata": {},
     "output_type": "execute_result"
    }
   ],
   "source": [
    "re.findall(\"IPL\", text)"
   ]
  },
  {
   "cell_type": "code",
   "execution_count": 21,
   "id": "f9c9543e",
   "metadata": {},
   "outputs": [
    {
     "data": {
      "text/plain": [
       "['a', 'b', 'a', 'a']"
      ]
     },
     "execution_count": 21,
     "metadata": {},
     "output_type": "execute_result"
    }
   ],
   "source": [
    "re.findall('[abc]', 'avbss hi hello how are you suman' )"
   ]
  },
  {
   "cell_type": "code",
   "execution_count": 22,
   "id": "c3fb094f",
   "metadata": {},
   "outputs": [
    {
     "data": {
      "text/plain": [
       "['a', 'b', 'a', 'a', 'a', 'b', 'c']"
      ]
     },
     "execution_count": 22,
     "metadata": {},
     "output_type": "execute_result"
    }
   ],
   "source": [
    "re.findall('[abc]', 'avbss hi hello how are you suman abc' )"
   ]
  },
  {
   "cell_type": "code",
   "execution_count": 23,
   "id": "ed39f2db",
   "metadata": {},
   "outputs": [
    {
     "data": {
      "text/plain": [
       "['a', 'b', 'a', 'a', 'a', 'b', 'c']"
      ]
     },
     "execution_count": 23,
     "metadata": {},
     "output_type": "execute_result"
    }
   ],
   "source": [
    "re.findall('a|b|c', 'avbss hi hello how are you suman abc' )"
   ]
  },
  {
   "cell_type": "code",
   "execution_count": 24,
   "id": "5331d3ea",
   "metadata": {},
   "outputs": [
    {
     "data": {
      "text/plain": [
       "[]"
      ]
     },
     "execution_count": 24,
     "metadata": {},
     "output_type": "execute_result"
    }
   ],
   "source": [
    "re.findall('abc', '[abcdefghijklmnopqrstuvwxyz]' )"
   ]
  },
  {
   "cell_type": "code",
   "execution_count": 25,
   "id": "eeece725",
   "metadata": {},
   "outputs": [
    {
     "data": {
      "text/plain": [
       "['a', 'b', 'a', 'a', 'a', 'b', 'c']"
      ]
     },
     "execution_count": 25,
     "metadata": {},
     "output_type": "execute_result"
    }
   ],
   "source": [
    "re.findall('[abc]', 'avbss hi hello how are you suman abc')"
   ]
  },
  {
   "cell_type": "code",
   "execution_count": 27,
   "id": "19a95779",
   "metadata": {},
   "outputs": [
    {
     "data": {
      "text/plain": [
       "['bc']"
      ]
     },
     "execution_count": 27,
     "metadata": {},
     "output_type": "execute_result"
    }
   ],
   "source": [
    "re.findall('[ab][cd]', 'avbss hi hello how are you suman abc' )"
   ]
  },
  {
   "cell_type": "code",
   "execution_count": 30,
   "id": "47d8c353",
   "metadata": {},
   "outputs": [
    {
     "data": {
      "text/plain": [
       "['avbss', 'hello', 'suman']"
      ]
     },
     "execution_count": 30,
     "metadata": {},
     "output_type": "execute_result"
    }
   ],
   "source": [
    "re.findall('[a-z][a-z][a-z][a-z][a-z]', 'avbss hi hello how are you suman' )"
   ]
  },
  {
   "cell_type": "code",
   "execution_count": 31,
   "id": "fd8c54d1",
   "metadata": {},
   "outputs": [
    {
     "data": {
      "text/plain": [
       "['avbss', 'hello', 'suman', 'Apple']"
      ]
     },
     "execution_count": 31,
     "metadata": {},
     "output_type": "execute_result"
    }
   ],
   "source": [
    "re.findall('[a-zA-Z0-9][a-z][a-z][a-z][a-z]', 'avbss hi hello how are you suman abc bdg Apple' )"
   ]
  },
  {
   "cell_type": "code",
   "execution_count": 32,
   "id": "4b01471e",
   "metadata": {},
   "outputs": [
    {
     "data": {
      "text/plain": [
       "['a', 'b', 'c', 'b']"
      ]
     },
     "execution_count": 32,
     "metadata": {},
     "output_type": "execute_result"
    }
   ],
   "source": [
    "re.findall('[abc]', 'abc dfg vgh bgh')\n"
   ]
  },
  {
   "cell_type": "code",
   "execution_count": 33,
   "id": "a364fc15",
   "metadata": {},
   "outputs": [
    {
     "data": {
      "text/plain": [
       "[' ', 'd', 'f', 'g', ' ', 'v', 'g', 'h', ' ', 'g', 'h']"
      ]
     },
     "execution_count": 33,
     "metadata": {},
     "output_type": "execute_result"
    }
   ],
   "source": [
    "re.findall('[^abc]', 'abc dfg vgh bgh')\n"
   ]
  },
  {
   "cell_type": "code",
   "execution_count": 34,
   "id": "ef359cb6",
   "metadata": {},
   "outputs": [
    {
     "data": {
      "text/plain": [
       "['a', 'b', 'c', 'b']"
      ]
     },
     "execution_count": 34,
     "metadata": {},
     "output_type": "execute_result"
    }
   ],
   "source": [
    "re.findall('[*abc]', 'abc dfg vgh bgh')\n"
   ]
  },
  {
   "cell_type": "code",
   "execution_count": 38,
   "id": "9bab8102",
   "metadata": {},
   "outputs": [
    {
     "data": {
      "text/plain": [
       "['alias', 'alias']"
      ]
     },
     "execution_count": 38,
     "metadata": {},
     "output_type": "execute_result"
    }
   ],
   "source": [
    "re.findall('a...s', 'alias is alias')"
   ]
  },
  {
   "cell_type": "code",
   "execution_count": 39,
   "id": "22718290",
   "metadata": {},
   "outputs": [
    {
     "data": {
      "text/plain": [
       "['alias']"
      ]
     },
     "execution_count": 39,
     "metadata": {},
     "output_type": "execute_result"
    }
   ],
   "source": [
    "re.findall('^alias', 'alias is alias')"
   ]
  },
  {
   "cell_type": "code",
   "execution_count": 40,
   "id": "2f3b8aab",
   "metadata": {},
   "outputs": [
    {
     "data": {
      "text/plain": [
       "[]"
      ]
     },
     "execution_count": 40,
     "metadata": {},
     "output_type": "execute_result"
    }
   ],
   "source": [
    "re.findall('^alias', 'India is my country')"
   ]
  },
  {
   "cell_type": "code",
   "execution_count": 44,
   "id": "4a6c379d",
   "metadata": {},
   "outputs": [
    {
     "data": {
      "text/plain": [
       "['alias']"
      ]
     },
     "execution_count": 44,
     "metadata": {},
     "output_type": "execute_result"
    }
   ],
   "source": [
    "re.findall('alias$', 'India is my country and alias')"
   ]
  },
  {
   "cell_type": "code",
   "execution_count": 45,
   "id": "2123def9",
   "metadata": {},
   "outputs": [
    {
     "data": {
      "text/plain": [
       "[]"
      ]
     },
     "execution_count": 45,
     "metadata": {},
     "output_type": "execute_result"
    }
   ],
   "source": [
    "re.findall('$alias', 'India is my country')"
   ]
  },
  {
   "cell_type": "code",
   "execution_count": 46,
   "id": "afbf9cfb",
   "metadata": {},
   "outputs": [
    {
     "data": {
      "text/plain": [
       "[]"
      ]
     },
     "execution_count": 46,
     "metadata": {},
     "output_type": "execute_result"
    }
   ],
   "source": [
    "re.findall('alias$', 'India is my country')"
   ]
  },
  {
   "cell_type": "code",
   "execution_count": 47,
   "id": "fe377895",
   "metadata": {},
   "outputs": [
    {
     "data": {
      "text/plain": [
       "['alias']"
      ]
     },
     "execution_count": 47,
     "metadata": {},
     "output_type": "execute_result"
    }
   ],
   "source": [
    "re.findall('^alias$', 'alias')"
   ]
  },
  {
   "cell_type": "code",
   "execution_count": 48,
   "id": "7c89da9e",
   "metadata": {},
   "outputs": [
    {
     "data": {
      "text/plain": [
       "['alias']"
      ]
     },
     "execution_count": 48,
     "metadata": {},
     "output_type": "execute_result"
    }
   ],
   "source": [
    "re.findall('^alias', 'alias')"
   ]
  },
  {
   "cell_type": "code",
   "execution_count": 49,
   "id": "15dc7984",
   "metadata": {},
   "outputs": [
    {
     "data": {
      "text/plain": [
       "[]"
      ]
     },
     "execution_count": 49,
     "metadata": {},
     "output_type": "execute_result"
    }
   ],
   "source": [
    "re.findall('^alias | alias$', 'alias')"
   ]
  },
  {
   "cell_type": "code",
   "execution_count": 50,
   "id": "ab4d2d6c",
   "metadata": {},
   "outputs": [
    {
     "data": {
      "text/plain": [
       "['alias']"
      ]
     },
     "execution_count": 50,
     "metadata": {},
     "output_type": "execute_result"
    }
   ],
   "source": [
    "re.findall('^alias$', 'alias')"
   ]
  },
  {
   "cell_type": "markdown",
   "id": "35412bf2",
   "metadata": {},
   "source": [
    "# metacharcter as quantifier(*,+,{},?)"
   ]
  },
  {
   "cell_type": "code",
   "execution_count": 53,
   "id": "9d1fbd9d",
   "metadata": {},
   "outputs": [
    {
     "data": {
      "text/plain": [
       "['avbs', 'hell', 'suma']"
      ]
     },
     "execution_count": 53,
     "metadata": {},
     "output_type": "execute_result"
    }
   ],
   "source": [
    "re.findall('[a-z][a-z][a-z][a-z]', 'avbss hi hello how are you suman abc')"
   ]
  },
  {
   "cell_type": "code",
   "execution_count": 54,
   "id": "6292b3b7",
   "metadata": {},
   "outputs": [
    {
     "data": {
      "text/plain": [
       "['avbs', 'hell', 'suma', 'abcd', 'efgh']"
      ]
     },
     "execution_count": 54,
     "metadata": {},
     "output_type": "execute_result"
    }
   ],
   "source": [
    "re.findall('[a-z][a-z][a-z][a-z]', 'avbss hi hello how are you suman abc bdg abcdefghjkk')"
   ]
  },
  {
   "cell_type": "code",
   "execution_count": 55,
   "id": "3cb18529",
   "metadata": {},
   "outputs": [
    {
     "data": {
      "text/plain": [
       "['avbs', 'hell', 'suma', 'abcd', 'efgh']"
      ]
     },
     "execution_count": 55,
     "metadata": {},
     "output_type": "execute_result"
    }
   ],
   "source": [
    "re.findall('[a-z][a-z][a-z][a-z]', 'avbss hi hello how are you suman abc bdg abcdefghjkk')"
   ]
  },
  {
   "cell_type": "code",
   "execution_count": 56,
   "id": "9e10fd4c",
   "metadata": {},
   "outputs": [
    {
     "data": {
      "text/plain": [
       "['a', 'a', 'a', 'a', 'a']"
      ]
     },
     "execution_count": 56,
     "metadata": {},
     "output_type": "execute_result"
    }
   ],
   "source": [
    "re.findall('a', 'aaaa abcde')"
   ]
  },
  {
   "cell_type": "code",
   "execution_count": 57,
   "id": "0c88a62b",
   "metadata": {},
   "outputs": [
    {
     "data": {
      "text/plain": [
       "['aaaa', 'a']"
      ]
     },
     "execution_count": 57,
     "metadata": {},
     "output_type": "execute_result"
    }
   ],
   "source": [
    "re.findall('a+', 'aaaa abcde')"
   ]
  },
  {
   "cell_type": "code",
   "execution_count": 58,
   "id": "c24457b7",
   "metadata": {},
   "outputs": [
    {
     "data": {
      "text/plain": [
       "['aaaa']"
      ]
     },
     "execution_count": 58,
     "metadata": {},
     "output_type": "execute_result"
    }
   ],
   "source": [
    "re.findall('a{4}', 'aaaa abcde')"
   ]
  },
  {
   "cell_type": "code",
   "execution_count": 59,
   "id": "0a8acd5f",
   "metadata": {},
   "outputs": [
    {
     "data": {
      "text/plain": [
       "['aaa']"
      ]
     },
     "execution_count": 59,
     "metadata": {},
     "output_type": "execute_result"
    }
   ],
   "source": [
    "re.findall('a{3}', 'aaaa abcde')"
   ]
  },
  {
   "cell_type": "code",
   "execution_count": 60,
   "id": "5992fe18",
   "metadata": {},
   "outputs": [
    {
     "data": {
      "text/plain": [
       "['aaaa', '', 'a', '', '', '', '', '']"
      ]
     },
     "execution_count": 60,
     "metadata": {},
     "output_type": "execute_result"
    }
   ],
   "source": [
    "re.findall('a*', 'aaaa abcde')"
   ]
  },
  {
   "cell_type": "code",
   "execution_count": 62,
   "id": "3c1da40b",
   "metadata": {},
   "outputs": [
    {
     "data": {
      "text/plain": [
       "['aaaa', '', 'a', '', '', '', '', '']"
      ]
     },
     "execution_count": 62,
     "metadata": {},
     "output_type": "execute_result"
    }
   ],
   "source": [
    "re.findall('a*', 'aaaa abcde')"
   ]
  },
  {
   "cell_type": "code",
   "execution_count": 64,
   "id": "182d3f7c",
   "metadata": {},
   "outputs": [
    {
     "data": {
      "text/plain": [
       "['a', 'a', 'a', 'a', '', 'a', '', '', '', '', '']"
      ]
     },
     "execution_count": 64,
     "metadata": {},
     "output_type": "execute_result"
    }
   ],
   "source": [
    "re.findall('a?', 'aaaa abcde')"
   ]
  },
  {
   "cell_type": "code",
   "execution_count": 65,
   "id": "45efc45b",
   "metadata": {},
   "outputs": [
    {
     "data": {
      "text/plain": [
       "['a', 'a', 'a', 'a', '', 'a', '', '', '', '', '']"
      ]
     },
     "execution_count": 65,
     "metadata": {},
     "output_type": "execute_result"
    }
   ],
   "source": [
    "re.findall('a|', 'aaaa abcde')"
   ]
  },
  {
   "cell_type": "code",
   "execution_count": 66,
   "id": "b04a9af9",
   "metadata": {},
   "outputs": [
    {
     "data": {
      "text/plain": [
       "['aaaaaaa', '', 'aaaaa', '']"
      ]
     },
     "execution_count": 66,
     "metadata": {},
     "output_type": "execute_result"
    }
   ],
   "source": [
    "re.findall('a*', 'aaaaaaa aaaaa')"
   ]
  },
  {
   "cell_type": "code",
   "execution_count": 67,
   "id": "ca793596",
   "metadata": {},
   "outputs": [
    {
     "data": {
      "text/plain": [
       "['a', 'a', 'a', 'a', '', 'a', '', '', '', '', '']"
      ]
     },
     "execution_count": 67,
     "metadata": {},
     "output_type": "execute_result"
    }
   ],
   "source": [
    "re.findall('a|', 'aaaa abcde')"
   ]
  },
  {
   "cell_type": "code",
   "execution_count": 68,
   "id": "36bc5218",
   "metadata": {},
   "outputs": [
    {
     "data": {
      "text/plain": [
       "['aaaaaaaaa', '', 'aaaaa', '', 'aaa', '']"
      ]
     },
     "execution_count": 68,
     "metadata": {},
     "output_type": "execute_result"
    }
   ],
   "source": [
    "re.findall('a*', 'aaaaaaaaa aaaaa aaa')"
   ]
  },
  {
   "cell_type": "code",
   "execution_count": 69,
   "id": "0a5bf206",
   "metadata": {},
   "outputs": [
    {
     "data": {
      "text/plain": [
       "['aaaaaaaaa', 'aaaaa', 'aaa']"
      ]
     },
     "execution_count": 69,
     "metadata": {},
     "output_type": "execute_result"
    }
   ],
   "source": [
    "re.findall('a+', 'aaaaaaaaa aaaaa aaa')"
   ]
  },
  {
   "cell_type": "code",
   "execution_count": 70,
   "id": "01519602",
   "metadata": {},
   "outputs": [
    {
     "data": {
      "text/plain": [
       "['a',\n",
       " 'a',\n",
       " 'a',\n",
       " 'a',\n",
       " 'a',\n",
       " 'a',\n",
       " 'a',\n",
       " 'a',\n",
       " 'a',\n",
       " 'a',\n",
       " 'a',\n",
       " 'a',\n",
       " 'a',\n",
       " 'a',\n",
       " 'a',\n",
       " 'a',\n",
       " 'a']"
      ]
     },
     "execution_count": 70,
     "metadata": {},
     "output_type": "execute_result"
    }
   ],
   "source": [
    "re.findall('a', 'aaaaaaaaa aaaaa aaa')"
   ]
  },
  {
   "cell_type": "code",
   "execution_count": 71,
   "id": "62f539d6",
   "metadata": {},
   "outputs": [
    {
     "data": {
      "text/plain": [
       "['1', '2', '1', '2', '3', '1', '2', '3', '4', '1', '2', '3', '4', '5', '6']"
      ]
     },
     "execution_count": 71,
     "metadata": {},
     "output_type": "execute_result"
    }
   ],
   "source": [
    "re.findall('[0-9]', '12,123,1234, 123456')"
   ]
  },
  {
   "cell_type": "code",
   "execution_count": 72,
   "id": "4639f012",
   "metadata": {},
   "outputs": [
    {
     "data": {
      "text/plain": [
       "['12', '12', '12', '34', '12', '34', '56']"
      ]
     },
     "execution_count": 72,
     "metadata": {},
     "output_type": "execute_result"
    }
   ],
   "source": [
    "re.findall('[0-9][0-9]', '12,123,1234, 123456')"
   ]
  },
  {
   "cell_type": "code",
   "execution_count": 73,
   "id": "6d15821e",
   "metadata": {},
   "outputs": [
    {
     "data": {
      "text/plain": [
       "['123', '123', '123', '456']"
      ]
     },
     "execution_count": 73,
     "metadata": {},
     "output_type": "execute_result"
    }
   ],
   "source": [
    "re.findall('[0-9][0-9][0-9]', '12,123,1234, 123456')"
   ]
  },
  {
   "cell_type": "code",
   "execution_count": 74,
   "id": "44523e43",
   "metadata": {},
   "outputs": [
    {
     "data": {
      "text/plain": [
       "['12', '123', '123', '123', '456']"
      ]
     },
     "execution_count": 74,
     "metadata": {},
     "output_type": "execute_result"
    }
   ],
   "source": [
    "re.findall('[0-9]{2,3}', '12,123,1234, 123456')"
   ]
  },
  {
   "cell_type": "code",
   "execution_count": 75,
   "id": "b606246d",
   "metadata": {},
   "outputs": [
    {
     "data": {
      "text/plain": [
       "['123', '123', '123', '456']"
      ]
     },
     "execution_count": 75,
     "metadata": {},
     "output_type": "execute_result"
    }
   ],
   "source": [
    "re.findall('[0-9]{3}', '12,123,1234, 123456')"
   ]
  },
  {
   "cell_type": "code",
   "execution_count": 76,
   "id": "99d8a419",
   "metadata": {},
   "outputs": [
    {
     "data": {
      "text/plain": [
       "['12345']"
      ]
     },
     "execution_count": 76,
     "metadata": {},
     "output_type": "execute_result"
    }
   ],
   "source": [
    "re.findall('[0-9]{5}', '12,123,1234, 123456')"
   ]
  },
  {
   "cell_type": "code",
   "execution_count": 77,
   "id": "21291dbe",
   "metadata": {},
   "outputs": [
    {
     "data": {
      "text/plain": [
       "['12', '12', '12', '34', '12', '34', '56']"
      ]
     },
     "execution_count": 77,
     "metadata": {},
     "output_type": "execute_result"
    }
   ],
   "source": [
    "re.findall('[0-9]{2}', '12,123,1234, 123456')"
   ]
  },
  {
   "cell_type": "code",
   "execution_count": 78,
   "id": "60900386",
   "metadata": {},
   "outputs": [
    {
     "data": {
      "text/plain": [
       "['12', '', '123', '', '123', '4', '', '', '123', '456', '']"
      ]
     },
     "execution_count": 78,
     "metadata": {},
     "output_type": "execute_result"
    }
   ],
   "source": [
    "re.findall('[0-9]{0,3}', '12,123,1234, 123456')"
   ]
  },
  {
   "cell_type": "code",
   "execution_count": 80,
   "id": "5c3d2b74",
   "metadata": {},
   "outputs": [
    {
     "data": {
      "text/plain": [
       "['',\n",
       " '',\n",
       " '',\n",
       " '',\n",
       " '',\n",
       " '',\n",
       " '',\n",
       " '',\n",
       " '',\n",
       " '',\n",
       " '',\n",
       " '',\n",
       " '',\n",
       " '',\n",
       " '',\n",
       " '',\n",
       " '',\n",
       " '',\n",
       " '',\n",
       " '']"
      ]
     },
     "execution_count": 80,
     "metadata": {},
     "output_type": "execute_result"
    }
   ],
   "source": [
    "re.findall('[0-9]{0,0}', '12,123,1234, 123456')"
   ]
  },
  {
   "cell_type": "code",
   "execution_count": 81,
   "id": "64e07296",
   "metadata": {},
   "outputs": [
    {
     "data": {
      "text/plain": [
       "['12', '123', '1234', '123456']"
      ]
     },
     "execution_count": 81,
     "metadata": {},
     "output_type": "execute_result"
    }
   ],
   "source": [
    "re.findall('[0-9]+', '12,123,1234, 123456')"
   ]
  },
  {
   "cell_type": "code",
   "execution_count": 82,
   "id": "c492eb79",
   "metadata": {},
   "outputs": [
    {
     "data": {
      "text/plain": [
       "['12', '', '123', '', '1234', '', '', '123456', '']"
      ]
     },
     "execution_count": 82,
     "metadata": {},
     "output_type": "execute_result"
    }
   ],
   "source": [
    "re.findall('[0-9]*', '12,123,1234, 123456')"
   ]
  },
  {
   "cell_type": "code",
   "execution_count": 84,
   "id": "c3357dec",
   "metadata": {},
   "outputs": [
    {
     "data": {
      "text/plain": [
       "['1', '2', '1', '2', '3', '1', '2', '3', '4', '1', '2', '3', '4', '5', '6']"
      ]
     },
     "execution_count": 84,
     "metadata": {},
     "output_type": "execute_result"
    }
   ],
   "source": [
    "re.findall('[0-9]', '12,123,1234, 123456')"
   ]
  },
  {
   "cell_type": "markdown",
   "id": "f3b3d57f",
   "metadata": {},
   "source": [
    "# metacharater parenthses()"
   ]
  },
  {
   "cell_type": "code",
   "execution_count": 87,
   "id": "c170811e",
   "metadata": {},
   "outputs": [
    {
     "data": {
      "text/plain": [
       "['a', 'b', 'd']"
      ]
     },
     "execution_count": 87,
     "metadata": {},
     "output_type": "execute_result"
    }
   ],
   "source": [
    "re.findall(\"(a|b|d)xz\", 'axz bxz dxz drgh')"
   ]
  },
  {
   "cell_type": "code",
   "execution_count": 88,
   "id": "a042dc01",
   "metadata": {},
   "outputs": [
    {
     "data": {
      "text/plain": [
       "['a', 'b', 'd']"
      ]
     },
     "execution_count": 88,
     "metadata": {},
     "output_type": "execute_result"
    }
   ],
   "source": [
    "re.findall(\"(a|b|d)xz\", 'axz bxz dxz drgh')"
   ]
  },
  {
   "cell_type": "markdown",
   "id": "af9d1a81",
   "metadata": {},
   "source": [
    "# metacharater(.)"
   ]
  },
  {
   "cell_type": "code",
   "execution_count": 89,
   "id": "6a166ff1",
   "metadata": {},
   "outputs": [
    {
     "data": {
      "text/plain": [
       "'Mr. Mrs Mri abcdefg'"
      ]
     },
     "execution_count": 89,
     "metadata": {},
     "output_type": "execute_result"
    }
   ],
   "source": [
    "text = \"Mr. Mrs Mri abcdefg\"\n",
    "text"
   ]
  },
  {
   "cell_type": "code",
   "execution_count": 91,
   "id": "694db955",
   "metadata": {},
   "outputs": [
    {
     "data": {
      "text/plain": [
       "['Mr.', 'Mrs', 'Mri']"
      ]
     },
     "execution_count": 91,
     "metadata": {},
     "output_type": "execute_result"
    }
   ],
   "source": [
    "re.findall('Mr.', text)"
   ]
  },
  {
   "cell_type": "code",
   "execution_count": 92,
   "id": "0df8fe62",
   "metadata": {},
   "outputs": [
    {
     "data": {
      "text/plain": [
       "['Mr.']"
      ]
     },
     "execution_count": 92,
     "metadata": {},
     "output_type": "execute_result"
    }
   ],
   "source": [
    "re.findall('Mr\\.', text)"
   ]
  },
  {
   "cell_type": "code",
   "execution_count": null,
   "id": "c2041916",
   "metadata": {},
   "outputs": [],
   "source": []
  }
 ],
 "metadata": {
  "kernelspec": {
   "display_name": "Python 3 (ipykernel)",
   "language": "python",
   "name": "python3"
  },
  "language_info": {
   "codemirror_mode": {
    "name": "ipython",
    "version": 3
   },
   "file_extension": ".py",
   "mimetype": "text/x-python",
   "name": "python",
   "nbconvert_exporter": "python",
   "pygments_lexer": "ipython3",
   "version": "3.10.9"
  }
 },
 "nbformat": 4,
 "nbformat_minor": 5
}
