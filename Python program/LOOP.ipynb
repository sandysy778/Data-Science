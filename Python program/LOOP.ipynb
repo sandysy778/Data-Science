{
 "cells": [
  {
   "cell_type": "code",
   "execution_count": 1,
   "id": "a331ed5c",
   "metadata": {},
   "outputs": [
    {
     "name": "stdout",
     "output_type": "stream",
     "text": [
      "out of while block\n"
     ]
    }
   ],
   "source": [
    "i = 0\n",
    "\n",
    "while (i < 10):\n",
    "    \n",
    "    i = i + 1\n",
    "    \n",
    "    if (i ==4):\n",
    "        continue\n",
    "        \n",
    "        print(i)\n",
    "        \n",
    "print('out of while block')"
   ]
  },
  {
   "cell_type": "code",
   "execution_count": null,
   "id": "f70f6148",
   "metadata": {},
   "outputs": [],
   "source": []
  },
  {
   "cell_type": "markdown",
   "id": "dae460d3",
   "metadata": {},
   "source": [
    "continue"
   ]
  },
  {
   "cell_type": "code",
   "execution_count": 2,
   "id": "0a00b61b",
   "metadata": {},
   "outputs": [
    {
     "name": "stdout",
     "output_type": "stream",
     "text": [
      "out of while block\n"
     ]
    }
   ],
   "source": [
    "i = 0\n",
    "\n",
    "while (i < 10):\n",
    "    \n",
    "    i = i + 1\n",
    "    \n",
    "    if (i ==4):\n",
    "        continue\n",
    "        \n",
    "        print(i)\n",
    "        \n",
    "print('out of while block')"
   ]
  },
  {
   "cell_type": "code",
   "execution_count": 3,
   "id": "6a684a8f",
   "metadata": {},
   "outputs": [
    {
     "name": "stdout",
     "output_type": "stream",
     "text": [
      "0\n",
      "2\n",
      "4\n",
      "6\n",
      "8\n",
      "10\n",
      "12\n",
      "14\n",
      "16\n",
      "18\n",
      "20\n"
     ]
    }
   ],
   "source": [
    "n = 0\n",
    "\n",
    "end = 20\n",
    "while(n<=end):\n",
    "    \n",
    "    if(n%2 ==0):\n",
    "        print(n)\n",
    "    n = n+1   "
   ]
  },
  {
   "cell_type": "code",
   "execution_count": 4,
   "id": "30818e1a",
   "metadata": {},
   "outputs": [
    {
     "name": "stdout",
     "output_type": "stream",
     "text": [
      "10\n",
      "20\n",
      "30\n"
     ]
    }
   ],
   "source": [
    "a = [10,20,30]\n",
    "\n",
    "print(a[0])\n",
    "print(a[1])\n",
    "print(a[2])"
   ]
  },
  {
   "cell_type": "code",
   "execution_count": 5,
   "id": "c0f9aa1b",
   "metadata": {},
   "outputs": [
    {
     "name": "stdout",
     "output_type": "stream",
     "text": [
      "current iteration started\n",
      "10\n",
      "current iteration completed\n",
      "-----------------------------\n",
      "The End\n",
      "current iteration started\n",
      "20\n",
      "current iteration completed\n",
      "-----------------------------\n",
      "The End\n",
      "current iteration started\n",
      "30\n",
      "current iteration completed\n",
      "-----------------------------\n",
      "The End\n"
     ]
    }
   ],
   "source": [
    "for i in a:\n",
    "    print('current iteration started')\n",
    "    print(i)\n",
    "    print('current iteration completed')\n",
    "    print('-----------------------------')\n",
    "    \n",
    "    print('The End')"
   ]
  },
  {
   "cell_type": "markdown",
   "id": "a3bc8f8a",
   "metadata": {},
   "source": [
    "LOOP"
   ]
  },
  {
   "cell_type": "code",
   "execution_count": 6,
   "id": "a161f20e",
   "metadata": {},
   "outputs": [
    {
     "name": "stdout",
     "output_type": "stream",
     "text": [
      "1\n",
      "2\n",
      "3\n"
     ]
    }
   ],
   "source": [
    "t = (1,2,3)\n",
    "\n",
    "for ele in t:\n",
    "    print(ele)"
   ]
  },
  {
   "cell_type": "code",
   "execution_count": 7,
   "id": "06ff1235",
   "metadata": {},
   "outputs": [
    {
     "data": {
      "text/plain": [
       "range(0, 5)"
      ]
     },
     "execution_count": 7,
     "metadata": {},
     "output_type": "execute_result"
    }
   ],
   "source": [
    "range(5)"
   ]
  },
  {
   "cell_type": "code",
   "execution_count": 8,
   "id": "f163ba00",
   "metadata": {},
   "outputs": [
    {
     "data": {
      "text/plain": [
       "[0, 1, 2, 3, 4]"
      ]
     },
     "execution_count": 8,
     "metadata": {},
     "output_type": "execute_result"
    }
   ],
   "source": [
    "list(range(5))"
   ]
  },
  {
   "cell_type": "code",
   "execution_count": 9,
   "id": "9e2c5fb7",
   "metadata": {},
   "outputs": [
    {
     "data": {
      "text/plain": [
       "[0, 1, 2, 3, 4, 5, 6, 7, 8, 9, 10]"
      ]
     },
     "execution_count": 9,
     "metadata": {},
     "output_type": "execute_result"
    }
   ],
   "source": [
    "list(range(11))"
   ]
  },
  {
   "cell_type": "code",
   "execution_count": 10,
   "id": "3f0e94a8",
   "metadata": {},
   "outputs": [
    {
     "data": {
      "text/plain": [
       "[1, 3, 5, 7, 9]"
      ]
     },
     "execution_count": 10,
     "metadata": {},
     "output_type": "execute_result"
    }
   ],
   "source": [
    "list(range(1,11,2))"
   ]
  },
  {
   "cell_type": "code",
   "execution_count": 11,
   "id": "c6b1c867",
   "metadata": {},
   "outputs": [
    {
     "name": "stdout",
     "output_type": "stream",
     "text": [
      "1\n",
      "2\n",
      "3\n",
      "4\n",
      "5\n",
      "6\n",
      "7\n",
      "8\n",
      "9\n",
      "10\n"
     ]
    }
   ],
   "source": [
    "for i in range(1,11):\n",
    "    print(i)"
   ]
  },
  {
   "cell_type": "code",
   "execution_count": 12,
   "id": "9178b53d",
   "metadata": {},
   "outputs": [
    {
     "name": "stdout",
     "output_type": "stream",
     "text": [
      "10\n",
      "20\n",
      "30\n"
     ]
    }
   ],
   "source": [
    "a = [10,20,30]\n",
    "for i in a:\n",
    "    print(i)"
   ]
  },
  {
   "cell_type": "code",
   "execution_count": 13,
   "id": "f4e8a783",
   "metadata": {},
   "outputs": [
    {
     "name": "stdout",
     "output_type": "stream",
     "text": [
      "i= 0\n",
      "10\n",
      "i= 1\n",
      "20\n",
      "i= 2\n",
      "30\n"
     ]
    }
   ],
   "source": [
    "for i in range(3):\n",
    "    print(\"i=\", i)\n",
    "    print(a[i])"
   ]
  },
  {
   "cell_type": "code",
   "execution_count": 14,
   "id": "ab994bb6",
   "metadata": {},
   "outputs": [
    {
     "name": "stdout",
     "output_type": "stream",
     "text": [
      "10\n",
      "20\n",
      "30\n"
     ]
    }
   ],
   "source": [
    "for i in range(len(a)):\n",
    "    #print(\"i=\", i)\n",
    "    print(a[i])"
   ]
  },
  {
   "cell_type": "code",
   "execution_count": 15,
   "id": "2dc7e442",
   "metadata": {},
   "outputs": [
    {
     "name": "stdout",
     "output_type": "stream",
     "text": [
      "10\n",
      "20\n",
      "30\n"
     ]
    }
   ],
   "source": [
    "for i in range(len(a)):\n",
    "    print(a[i])"
   ]
  },
  {
   "cell_type": "code",
   "execution_count": 16,
   "id": "230acaa1",
   "metadata": {},
   "outputs": [
    {
     "ename": "NameError",
     "evalue": "name 'numbers' is not defined",
     "output_type": "error",
     "traceback": [
      "\u001b[1;31m---------------------------------------------------------------------------\u001b[0m",
      "\u001b[1;31mNameError\u001b[0m                                 Traceback (most recent call last)",
      "Cell \u001b[1;32mIn[16], line 6\u001b[0m\n\u001b[0;32m      3\u001b[0m even \u001b[38;5;241m=\u001b[39m []\n\u001b[0;32m      4\u001b[0m odd \u001b[38;5;241m=\u001b[39m []\n\u001b[1;32m----> 6\u001b[0m \u001b[38;5;28;01mfor\u001b[39;00m n \u001b[38;5;129;01min\u001b[39;00m \u001b[43mnumbers\u001b[49m:\n\u001b[0;32m      7\u001b[0m     \u001b[38;5;28;01mif\u001b[39;00m(n\u001b[38;5;241m%\u001b[39m\u001b[38;5;241m2\u001b[39m \u001b[38;5;241m==\u001b[39m \u001b[38;5;241m0\u001b[39m):\n\u001b[0;32m      8\u001b[0m         even\u001b[38;5;241m.\u001b[39mappend(n)\n",
      "\u001b[1;31mNameError\u001b[0m: name 'numbers' is not defined"
     ]
    }
   ],
   "source": [
    "number = [1,2,3,4,5,6,7,8,9,10]\n",
    "\n",
    "even = []\n",
    "odd = []\n",
    "\n",
    "for n in numbers:\n",
    "    if(n%2 == 0):\n",
    "        even.append(n)\n",
    "    else:\n",
    "        odd.append(n)"
   ]
  },
  {
   "cell_type": "code",
   "execution_count": null,
   "id": "65fef073",
   "metadata": {},
   "outputs": [],
   "source": [
    "number = [1,2,3,4,5,6,7,8,9,10]\n",
    "\n",
    "even = []\n",
    "odd = []\n",
    " \n",
    "for n in numbers:\n",
    "    if(n%2 ==0):\n",
    "        even.append(n)\n",
    "     else:\n",
    "            odd.append(n)"
   ]
  },
  {
   "cell_type": "code",
   "execution_count": null,
   "id": "08e11f66",
   "metadata": {},
   "outputs": [],
   "source": [
    "print(even)\n",
    "print(odd)"
   ]
  },
  {
   "cell_type": "code",
   "execution_count": null,
   "id": "9148f630",
   "metadata": {},
   "outputs": [],
   "source": [
    "numbers = [1,2,3,4,5,6,7,8]\n",
    "\n",
    "squares = []\n",
    "\n",
    "for n in numbers:\n",
    "    print(n**2)\n",
    "    squares.append(n**2)\n",
    "    \n",
    "print(squares)"
   ]
  },
  {
   "cell_type": "markdown",
   "id": "b9d4201b",
   "metadata": {},
   "source": [
    "# list com"
   ]
  },
  {
   "cell_type": "code",
   "execution_count": null,
   "id": "001c5d89",
   "metadata": {},
   "outputs": [],
   "source": [
    "numbers = [1,2,3,4,5]\n",
    "squares = [n**2 for n in numbers]\n",
    "\n",
    "print(squares)"
   ]
  },
  {
   "cell_type": "raw",
   "id": "07e8d18e",
   "metadata": {},
   "source": [
    "res = [ i for i in range(11)]\n",
    "res"
   ]
  },
  {
   "cell_type": "code",
   "execution_count": null,
   "id": "808f5d49",
   "metadata": {},
   "outputs": [],
   "source": [
    "res = [i for i in range(11)]\n",
    "res"
   ]
  },
  {
   "cell_type": "code",
   "execution_count": null,
   "id": "51bd80d1",
   "metadata": {},
   "outputs": [],
   "source": [
    "marks = [50,80,15,78,98]\n",
    "\n",
    "cutoff = 50\n",
    "\n",
    "grades = []\n",
    "\n",
    "for m in marks:\n",
    "    if(m>=cutoff):\n",
    "        grades.append('pass')\n",
    "    else:\n",
    "        grades.append('fail')\n",
    "        \n",
    "grades"
   ]
  },
  {
   "cell_type": "code",
   "execution_count": null,
   "id": "040ff6f5",
   "metadata": {},
   "outputs": [],
   "source": [
    "grades.append('pass') if(m>=cutoff) else grades.append('fail')"
   ]
  },
  {
   "cell_type": "code",
   "execution_count": null,
   "id": "3ba5d1d5",
   "metadata": {},
   "outputs": [],
   "source": [
    "marks = [50,80,15,78,98]\n",
    "\n",
    "cutoff = 50\n",
    "\n",
    "grades = ['pass' if(m>=cutoff) else 'fail' for m in marks]\n",
    "\n",
    "grades"
   ]
  },
  {
   "cell_type": "markdown",
   "id": "ce3c523f-a504-4cbb-a2ca-7f100b9bff17",
   "metadata": {},
   "source": [
    "code H"
   ]
  },
  {
   "cell_type": "code",
   "execution_count": 19,
   "id": "63512c96",
   "metadata": {},
   "outputs": [
    {
     "name": "stdout",
     "output_type": "stream",
     "text": [
      "S\n",
      "a\n",
      "This is something special\n",
      "n\n",
      "d\n",
      "h\n",
      "y\n",
      "a\n",
      "This is something special\n"
     ]
    }
   ],
   "source": [
    "name = 'Sandhya'\n",
    "for i in name:\n",
    "    print(i)\n",
    "    if(i==\"a\"):\n",
    "        print(\"This is something special\")"
   ]
  },
  {
   "cell_type": "code",
   "execution_count": 23,
   "id": "c01f1bff",
   "metadata": {},
   "outputs": [
    {
     "name": "stdout",
     "output_type": "stream",
     "text": [
      "1\n",
      "2\n",
      "3\n",
      "4\n",
      "5\n"
     ]
    }
   ],
   "source": [
    "for k in range(5):\n",
    "    print(k+1)"
   ]
  },
  {
   "cell_type": "code",
   "execution_count": 24,
   "id": "e5b74bf3-01fd-49e6-8d05-97e313576f0e",
   "metadata": {},
   "outputs": [
    {
     "name": "stdout",
     "output_type": "stream",
     "text": [
      "1\n",
      "2\n",
      "3\n",
      "4\n",
      "5\n",
      "6\n",
      "7\n",
      "8\n"
     ]
    }
   ],
   "source": [
    "for k in range(1, 9):\n",
    "    print(k)\n"
   ]
  },
  {
   "cell_type": "code",
   "execution_count": 25,
   "id": "04df5340-f78e-4c85-b1b8-bf971ee7af00",
   "metadata": {},
   "outputs": [
    {
     "name": "stdout",
     "output_type": "stream",
     "text": [
      "1\n",
      "4\n",
      "7\n",
      "10\n"
     ]
    }
   ],
   "source": [
    "for k in range(1, 12, 3):\n",
    "    print(k)\n"
   ]
  },
  {
   "cell_type": "code",
   "execution_count": null,
   "id": "81689fe5-2ae1-4aa9-b166-5d95366e8d01",
   "metadata": {},
   "outputs": [],
   "source": []
  }
 ],
 "metadata": {
  "kernelspec": {
   "display_name": "Python 3 (ipykernel)",
   "language": "python",
   "name": "python3"
  },
  "language_info": {
   "codemirror_mode": {
    "name": "ipython",
    "version": 3
   },
   "file_extension": ".py",
   "mimetype": "text/x-python",
   "name": "python",
   "nbconvert_exporter": "python",
   "pygments_lexer": "ipython3",
   "version": "3.10.9"
  }
 },
 "nbformat": 4,
 "nbformat_minor": 5
}
